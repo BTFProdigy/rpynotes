{
 "cells": [
  {
   "cell_type": "code",
   "execution_count": 2,
   "metadata": {
    "collapsed": false
   },
   "outputs": [],
   "source": [
    "import test"
   ]
  },
  {
   "cell_type": "code",
   "execution_count": 3,
   "metadata": {
    "collapsed": true
   },
   "outputs": [],
   "source": [
    "from glob import glob\n",
    "from string import ascii_lowercase\n",
    "from collections import defaultdict\n",
    "import pickle\n",
    "import numpy as np\n",
    "from prefix_beam_search import prefix_beam_search"
   ]
  },
  {
   "cell_type": "code",
   "execution_count": 4,
   "metadata": {
    "collapsed": false
   },
   "outputs": [
    {
     "name": "stdout",
     "output_type": "stream",
     "text": [
      "\n",
      "examples\\example_1518.p\n",
      "\n",
      "BEFORE:\n",
      "mister qualter as the apostle of the middle classes and we re glad twelcomed his gospe\n",
      "\n",
      "AFTER:\n",
      "mister quilter is the apostle of the middle classes and we are glad to welcome his gospel\n",
      "\n",
      "examples\\example_2002.p\n",
      "\n",
      "BEFORE:\n",
      "alloud laugh followed at chunkeys expencs\n",
      "\n",
      "AFTER:\n",
      "a loud laugh followed at chunkys expense\n",
      "\n",
      "examples\\example_99.p\n",
      "\n",
      "BEFORE:\n",
      "but no ghoes tor anything else appeared upon the angient wall\n",
      "\n",
      "AFTER:\n",
      "but no ghost or anything else appeared upon the ancient walls\n"
     ]
    }
   ],
   "source": [
    "lm = test.LanguageModel('language_model.p')\n",
    "for example_file in glob('examples/*.p'):\n",
    "    example = pickle.load(open(example_file, 'rb'))\n",
    "    before_lm = test.greedy_decoder(example)\n",
    "    after_lm = prefix_beam_search(example, lm=lm)\n",
    "    print('\\n{}'.format(example_file))\n",
    "    print('\\nBEFORE:\\n{}'.format(before_lm))\n",
    "    print('\\nAFTER:\\n{}'.format(after_lm))"
   ]
  },
  {
   "cell_type": "code",
   "execution_count": null,
   "metadata": {
    "collapsed": true
   },
   "outputs": [],
   "source": []
  }
 ],
 "metadata": {
  "anaconda-cloud": {},
  "kernelspec": {
   "display_name": "Python [conda env:Anaconda3]",
   "language": "python",
   "name": "conda-env-Anaconda3-py"
  },
  "language_info": {
   "codemirror_mode": {
    "name": "ipython",
    "version": 3
   },
   "file_extension": ".py",
   "mimetype": "text/x-python",
   "name": "python",
   "nbconvert_exporter": "python",
   "pygments_lexer": "ipython3",
   "version": "3.5.2"
  }
 },
 "nbformat": 4,
 "nbformat_minor": 1
}
