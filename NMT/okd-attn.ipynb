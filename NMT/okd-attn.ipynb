{
 "cells": [
  {
   "cell_type": "code",
   "execution_count": 95,
   "metadata": {
    "collapsed": true,
    "jupyter": {
     "outputs_hidden": true
    }
   },
   "outputs": [],
   "source": [
    "import pandas as pd\n",
    "import numpy as np\n",
    "data=pd.read_csv(\"testdata.csv\")"
   ]
  },
  {
   "cell_type": "code",
   "execution_count": 96,
   "metadata": {
    "collapsed": false,
    "jupyter": {
     "outputs_hidden": false
    }
   },
   "outputs": [
    {
     "data": {
      "text/html": [
       "<div>\n",
       "<table border=\"1\" class=\"dataframe\">\n",
       "  <thead>\n",
       "    <tr style=\"text-align: right;\">\n",
       "      <th></th>\n",
       "      <th>CorpusId</th>\n",
       "      <th>Audio</th>\n",
       "      <th>BookStatsId</th>\n",
       "      <th>CText</th>\n",
       "      <th>Chapt</th>\n",
       "      <th>Verse</th>\n",
       "      <th>PText</th>\n",
       "      <th>ReadersId</th>\n",
       "      <th>UText</th>\n",
       "      <th>Image</th>\n",
       "      <th>Image2</th>\n",
       "      <th>Verified</th>\n",
       "    </tr>\n",
       "  </thead>\n",
       "  <tbody>\n",
       "    <tr>\n",
       "      <th>0</th>\n",
       "      <td>1</td>\n",
       "      <td>NaN</td>\n",
       "      <td>40</td>\n",
       "      <td>nyo koruapu ma igbiki mi oki se ini duko ini p...</td>\n",
       "      <td>28</td>\n",
       "      <td>15</td>\n",
       "      <td>nyọ koruapụ ma igbiki mị ọkị se ini ḍuko ini p...</td>\n",
       "      <td>1</td>\n",
       "      <td>NaN</td>\n",
       "      <td>matt28_15-20.PNG</td>\n",
       "      <td>NaN</td>\n",
       "      <td>NaN</td>\n",
       "    </tr>\n",
       "    <tr>\n",
       "      <th>1</th>\n",
       "      <td>2</td>\n",
       "      <td>NaN</td>\n",
       "      <td>40</td>\n",
       "      <td>ọḅụḍuko oyighọrịapụ fịnjị ma Galili chịngị mi ...</td>\n",
       "      <td>28</td>\n",
       "      <td>16</td>\n",
       "      <td>ọḅụḍuko oyighọrịapụ fịnjị ma Galili chịngị mi ...</td>\n",
       "      <td>1</td>\n",
       "      <td>NaN</td>\n",
       "      <td>matt28_15-20.PNG</td>\n",
       "      <td>NaN</td>\n",
       "      <td>NaN</td>\n",
       "    </tr>\n",
       "    <tr>\n",
       "      <th>2</th>\n",
       "      <td>3</td>\n",
       "      <td>NaN</td>\n",
       "      <td>40</td>\n",
       "      <td>Ini ori ori siki ini kpereki o tekeme, inia bi...</td>\n",
       "      <td>28</td>\n",
       "      <td>17</td>\n",
       "      <td>Ini ori ọrị sịkị ini kpẹrẹkị ọ tẹkẹmẹ inia ḅie...</td>\n",
       "      <td>1</td>\n",
       "      <td>NaN</td>\n",
       "      <td>matt28_15-20.PNG</td>\n",
       "      <td>NaN</td>\n",
       "      <td>NaN</td>\n",
       "    </tr>\n",
       "    <tr>\n",
       "      <th>3</th>\n",
       "      <td>4</td>\n",
       "      <td>NaN</td>\n",
       "      <td>40</td>\n",
       "      <td>jizọs Be kpekima mun se nwose ini ḅẹme “Ini Ku...</td>\n",
       "      <td>28</td>\n",
       "      <td>18</td>\n",
       "      <td>jizọs ḅe kpekima mun se nwọse ini ḅẹmẹ “Ini kụ...</td>\n",
       "      <td>1</td>\n",
       "      <td>NaN</td>\n",
       "      <td>matt28_15-20.PNG</td>\n",
       "      <td>NaN</td>\n",
       "      <td>NaN</td>\n",
       "    </tr>\n",
       "    <tr>\n",
       "      <th>4</th>\n",
       "      <td>75</td>\n",
       "      <td>NaN</td>\n",
       "      <td>40</td>\n",
       "      <td>Min Jizos Kraist be pakabo furo mi simeoku-e, ...</td>\n",
       "      <td>1</td>\n",
       "      <td>1</td>\n",
       "      <td>mịn jizọs kraịst ḅe pakaḅo furo mị simeọkụ-ẹ D...</td>\n",
       "      <td>1</td>\n",
       "      <td>NaN</td>\n",
       "      <td>matt01_01-03.png</td>\n",
       "      <td>matt01_03-21.png</td>\n",
       "      <td>0.0</td>\n",
       "    </tr>\n",
       "  </tbody>\n",
       "</table>\n",
       "</div>"
      ],
      "text/plain": [
       "   CorpusId  Audio  BookStatsId  \\\n",
       "0         1    NaN           40   \n",
       "1         2    NaN           40   \n",
       "2         3    NaN           40   \n",
       "3         4    NaN           40   \n",
       "4        75    NaN           40   \n",
       "\n",
       "                                               CText  Chapt  Verse  \\\n",
       "0  nyo koruapu ma igbiki mi oki se ini duko ini p...     28     15   \n",
       "1  ọḅụḍuko oyighọrịapụ fịnjị ma Galili chịngị mi ...     28     16   \n",
       "2  Ini ori ori siki ini kpereki o tekeme, inia bi...     28     17   \n",
       "3  jizọs Be kpekima mun se nwose ini ḅẹme “Ini Ku...     28     18   \n",
       "4  Min Jizos Kraist be pakabo furo mi simeoku-e, ...      1      1   \n",
       "\n",
       "                                               PText  ReadersId  UText  \\\n",
       "0  nyọ koruapụ ma igbiki mị ọkị se ini ḍuko ini p...          1    NaN   \n",
       "1  ọḅụḍuko oyighọrịapụ fịnjị ma Galili chịngị mi ...          1    NaN   \n",
       "2  Ini ori ọrị sịkị ini kpẹrẹkị ọ tẹkẹmẹ inia ḅie...          1    NaN   \n",
       "3  jizọs ḅe kpekima mun se nwọse ini ḅẹmẹ “Ini kụ...          1    NaN   \n",
       "4  mịn jizọs kraịst ḅe pakaḅo furo mị simeọkụ-ẹ D...          1    NaN   \n",
       "\n",
       "              Image            Image2  Verified  \n",
       "0  matt28_15-20.PNG               NaN       NaN  \n",
       "1  matt28_15-20.PNG               NaN       NaN  \n",
       "2  matt28_15-20.PNG               NaN       NaN  \n",
       "3  matt28_15-20.PNG               NaN       NaN  \n",
       "4  matt01_01-03.png  matt01_03-21.png       0.0  "
      ]
     },
     "execution_count": 96,
     "metadata": {},
     "output_type": "execute_result"
    }
   ],
   "source": [
    "data.head()"
   ]
  },
  {
   "cell_type": "code",
   "execution_count": 97,
   "metadata": {
    "collapsed": true,
    "jupyter": {
     "outputs_hidden": true
    }
   },
   "outputs": [],
   "source": [
    "src = data[\"CText\"].copy()\n",
    "dst = data[\"PText\"].copy()"
   ]
  },
  {
   "cell_type": "code",
   "execution_count": 98,
   "metadata": {
    "collapsed": false,
    "jupyter": {
     "outputs_hidden": false
    }
   },
   "outputs": [
    {
     "data": {
      "text/plain": [
       "0    nyo koruapu ma igbiki mi oki se ini duko ini p...\n",
       "1    ọḅụḍuko oyighọrịapụ fịnjị ma Galili chịngị mi ...\n",
       "2    Ini ori ori siki ini kpereki o tekeme, inia bi...\n",
       "3    jizọs Be kpekima mun se nwose ini ḅẹme “Ini Ku...\n",
       "4    Min Jizos Kraist be pakabo furo mi simeoku-e, ...\n",
       "Name: CText, dtype: object"
      ]
     },
     "execution_count": 98,
     "metadata": {},
     "output_type": "execute_result"
    }
   ],
   "source": [
    "src.head()"
   ]
  },
  {
   "cell_type": "markdown",
   "metadata": {},
   "source": [
    "Let's remove punctuation symbols\n",
    "Punctuation Rules in English\n",
    "1. the period (or full stop in British English)\n",
    "2. the comma.\n",
    "3. the exclamation mark.\n",
    "4. the question mark.\n",
    "5. the colon.\n",
    "6. the semicolon.\n",
    "7. the quotation mark.\n",
    "8. the apostrophe."
   ]
  },
  {
   "cell_type": "code",
   "execution_count": 99,
   "metadata": {
    "collapsed": true,
    "jupyter": {
     "outputs_hidden": true
    }
   },
   "outputs": [],
   "source": [
    "src1=[txt.lower().replace(\".\",\"\").replace(\",\",\"\").replace(\"ẹ\",\"e\")\n",
    "      .replace(\"!\",\"\").replace(\"?\",\"\").replace(\"“\",\"\").replace(\"ḍ\",\"d\")\n",
    "      .replace(\":\",\"\").replace(\";\",\"\").replace(\"ị\",\"i\").replace(\"ḅ\",\"b\")\n",
    "      .replace(\"'\",\"\").replace(\"”\",\"\").replace(\"ọ\",\"o\")\n",
    "      .replace(\"'\",\"\").replace(\"”\",\"\").replace(\"ụ\",\"u\")\n",
    "      .replace('\"',\"\") for txt in src]"
   ]
  },
  {
   "cell_type": "code",
   "execution_count": 100,
   "metadata": {
    "collapsed": true,
    "jupyter": {
     "outputs_hidden": true
    }
   },
   "outputs": [],
   "source": [
    "dst1=[txt.lower().replace(\".\",\"\").replace(\",\",\"\")\n",
    "      .replace(\"!\",\"\").replace(\"?\",\"\").replace(\"“\",\"\")\n",
    "      .replace(\":\",\"\").replace(\";\",\"\")\n",
    "      .replace(\"'\",\"\").replace(\"”\",\"\")\n",
    "      .replace('\"',\"\") for txt in dst]"
   ]
  },
  {
   "cell_type": "code",
   "execution_count": 101,
   "metadata": {
    "collapsed": false,
    "jupyter": {
     "outputs_hidden": false
    }
   },
   "outputs": [
    {
     "data": {
      "text/plain": [
       "True"
      ]
     },
     "execution_count": 101,
     "metadata": {},
     "output_type": "execute_result"
    }
   ],
   "source": [
    "len(dst1)==len(src1)"
   ]
  },
  {
   "cell_type": "code",
   "execution_count": 102,
   "metadata": {
    "collapsed": false,
    "jupyter": {
     "outputs_hidden": false
    }
   },
   "outputs": [
    {
     "data": {
      "text/plain": [
       "[True,\n",
       " True,\n",
       " True,\n",
       " False,\n",
       " True,\n",
       " False,\n",
       " True,\n",
       " True,\n",
       " True,\n",
       " True,\n",
       " True,\n",
       " True,\n",
       " True,\n",
       " True,\n",
       " True,\n",
       " True,\n",
       " True,\n",
       " True,\n",
       " True,\n",
       " True,\n",
       " True,\n",
       " True,\n",
       " True,\n",
       " True,\n",
       " True,\n",
       " True,\n",
       " True,\n",
       " True,\n",
       " True,\n",
       " True,\n",
       " True,\n",
       " True,\n",
       " True,\n",
       " True,\n",
       " True,\n",
       " True,\n",
       " True,\n",
       " True,\n",
       " True,\n",
       " False,\n",
       " True,\n",
       " True,\n",
       " True,\n",
       " True,\n",
       " True,\n",
       " False,\n",
       " True,\n",
       " True,\n",
       " True,\n",
       " True,\n",
       " True,\n",
       " True,\n",
       " True,\n",
       " True,\n",
       " True,\n",
       " True,\n",
       " False,\n",
       " True,\n",
       " True,\n",
       " True,\n",
       " True,\n",
       " True,\n",
       " True,\n",
       " True,\n",
       " False,\n",
       " True,\n",
       " True,\n",
       " True,\n",
       " True,\n",
       " True,\n",
       " True]"
      ]
     },
     "execution_count": 102,
     "metadata": {},
     "output_type": "execute_result"
    }
   ],
   "source": [
    "[len(src1[i].split())==len(dst1[i].split()) for i in range(len(src1))]"
   ]
  },
  {
   "cell_type": "code",
   "execution_count": 103,
   "metadata": {
    "collapsed": false,
    "jupyter": {
     "outputs_hidden": false
    }
   },
   "outputs": [
    {
     "data": {
      "text/plain": [
       "[(40, 40),\n",
       " (16, 16),\n",
       " (16, 16),\n",
       " (19, 18),\n",
       " (22, 22),\n",
       " (20, 18),\n",
       " (25, 25),\n",
       " (15, 15),\n",
       " (21, 21),\n",
       " (18, 18),\n",
       " (15, 15),\n",
       " (15, 15),\n",
       " (15, 15),\n",
       " (15, 15),\n",
       " (21, 21),\n",
       " (19, 19),\n",
       " (15, 15),\n",
       " (15, 15),\n",
       " (15, 15),\n",
       " (18, 18),\n",
       " (50, 50),\n",
       " (37, 37),\n",
       " (24, 24),\n",
       " (42, 42),\n",
       " (19, 19),\n",
       " (34, 34),\n",
       " (34, 34),\n",
       " (24, 24),\n",
       " (22, 22),\n",
       " (15, 15),\n",
       " (29, 29),\n",
       " (28, 28),\n",
       " (32, 32),\n",
       " (38, 38),\n",
       " (15, 15),\n",
       " (21, 21),\n",
       " (19, 19),\n",
       " (28, 28),\n",
       " (21, 21),\n",
       " (43, 41),\n",
       " (30, 30),\n",
       " (53, 53),\n",
       " (18, 18),\n",
       " (45, 45),\n",
       " (63, 63),\n",
       " (14, 13),\n",
       " (34, 34),\n",
       " (16, 16),\n",
       " (41, 41),\n",
       " (16, 16),\n",
       " (43, 43),\n",
       " (39, 39),\n",
       " (18, 18),\n",
       " (15, 15),\n",
       " (31, 31),\n",
       " (27, 27),\n",
       " (21, 19),\n",
       " (14, 14),\n",
       " (36, 36),\n",
       " (12, 12),\n",
       " (37, 37),\n",
       " (27, 27),\n",
       " (41, 41),\n",
       " (40, 40),\n",
       " (20, 18),\n",
       " (28, 28),\n",
       " (32, 32),\n",
       " (39, 39),\n",
       " (21, 21),\n",
       " (15, 15),\n",
       " (16, 16)]"
      ]
     },
     "execution_count": 103,
     "metadata": {},
     "output_type": "execute_result"
    }
   ],
   "source": [
    "[(len(src1[i].split()),len(dst1[i].split())) for i in range(len(src1))]"
   ]
  },
  {
   "cell_type": "code",
   "execution_count": 104,
   "metadata": {
    "collapsed": true,
    "jupyter": {
     "outputs_hidden": true
    }
   },
   "outputs": [],
   "source": [
    "f=[len(src1[i].split())==len(dst1[i].split()) for i in range(len(src1))]"
   ]
  },
  {
   "cell_type": "code",
   "execution_count": 105,
   "metadata": {
    "collapsed": false,
    "jupyter": {
     "outputs_hidden": false
    }
   },
   "outputs": [
    {
     "data": {
      "text/plain": [
       "71"
      ]
     },
     "execution_count": 105,
     "metadata": {},
     "output_type": "execute_result"
    }
   ],
   "source": [
    "len(f)"
   ]
  },
  {
   "cell_type": "code",
   "execution_count": 106,
   "metadata": {
    "collapsed": true,
    "jupyter": {
     "outputs_hidden": true
    }
   },
   "outputs": [],
   "source": [
    "src=[i for indx,i in enumerate(src1) if f[indx] == True]\n",
    "dst=[i for indx,i in enumerate(dst1) if f[indx] == True]\n",
    "src0=[i for indx,i in enumerate(src1) if f[indx] == False]\n",
    "dst0=[i for indx,i in enumerate(dst1) if f[indx] == False]"
   ]
  },
  {
   "cell_type": "code",
   "execution_count": 107,
   "metadata": {
    "collapsed": false,
    "jupyter": {
     "outputs_hidden": false
    }
   },
   "outputs": [
    {
     "data": {
      "text/html": [
       "<div>\n",
       "<table border=\"1\" class=\"dataframe\">\n",
       "  <thead>\n",
       "    <tr style=\"text-align: right;\">\n",
       "      <th></th>\n",
       "      <th>dst</th>\n",
       "      <th>src</th>\n",
       "    </tr>\n",
       "  </thead>\n",
       "  <tbody>\n",
       "    <tr>\n",
       "      <th>0</th>\n",
       "      <td>nyọ koruapụ ma igbiki mị ọkị se ini ḍuko ini p...</td>\n",
       "      <td>nyo koruapu ma igbiki mi oki se ini duko ini p...</td>\n",
       "    </tr>\n",
       "    <tr>\n",
       "      <th>1</th>\n",
       "      <td>ọḅụḍuko oyighọrịapụ fịnjị ma galili chịngị mi ...</td>\n",
       "      <td>obuduko oyighoriapu finji ma galili chingi mi ...</td>\n",
       "    </tr>\n",
       "    <tr>\n",
       "      <th>2</th>\n",
       "      <td>ini ori ọrị sịkị ini kpẹrẹkị ọ tẹkẹmẹ inia ḅie...</td>\n",
       "      <td>ini ori ori siki ini kpereki o tekeme inia bie...</td>\n",
       "    </tr>\n",
       "    <tr>\n",
       "      <th>3</th>\n",
       "      <td>mịn jizọs kraịst ḅe pakaḅo furo mị simeọkụ-ẹ d...</td>\n",
       "      <td>min jizos kraist be pakabo furo mi simeoku-e d...</td>\n",
       "    </tr>\n",
       "    <tr>\n",
       "      <th>4</th>\n",
       "      <td>juda ḅe pẹrẹz ḅe na zẹra ḅe na yimẹ (inia nyen...</td>\n",
       "      <td>juda be perez be na zera be na yime (inia nyen...</td>\n",
       "    </tr>\n",
       "    <tr>\n",
       "      <th>5</th>\n",
       "      <td>ram ḅe amịnadab ḅe yimẹ amịnadab ḅe nasọn ḅe y...</td>\n",
       "      <td>ram be aminadab be yime aminadab be nason be y...</td>\n",
       "    </tr>\n",
       "    <tr>\n",
       "      <th>6</th>\n",
       "      <td>salmọn ḅe boaz bẹ yimẹ (rehab ma nyọngọrọ-ẹ) b...</td>\n",
       "      <td>salmon be boaz be yime (rehab ma nyongoro-e) b...</td>\n",
       "    </tr>\n",
       "    <tr>\n",
       "      <th>7</th>\n",
       "      <td>jẹsi ḅe amanyana devid ḅe ḅe yimẹ devid ḅe sol...</td>\n",
       "      <td>jesi be amanyana devid be be yime devid be sol...</td>\n",
       "    </tr>\n",
       "    <tr>\n",
       "      <th>8</th>\n",
       "      <td>solomọn ḅe rẹhobuam ḅe yimẹ rẹhobuam ḅe abaịja...</td>\n",
       "      <td>solomon be rehobuam be yime rehobuam be abaija...</td>\n",
       "    </tr>\n",
       "    <tr>\n",
       "      <th>9</th>\n",
       "      <td>asa ḅe jehosịafat ḅe yimẹ jehosịafat ḅe joram ...</td>\n",
       "      <td>asa be jehosiafat be yime jehosiafat be joram ...</td>\n",
       "    </tr>\n",
       "    <tr>\n",
       "      <th>10</th>\n",
       "      <td>ozaya ḅe jotam ḅe yimẹ jotam ḅe ehaz ḅe yimẹ e...</td>\n",
       "      <td>ozaya be jotam be yime jotam be ehaz be yime e...</td>\n",
       "    </tr>\n",
       "    <tr>\n",
       "      <th>11</th>\n",
       "      <td>hẹzịkaya ḅe manasị ḅe yimẹ manasị ḅe amọn ḅe y...</td>\n",
       "      <td>hezikaya be manasi be yime manasi be amon be y...</td>\n",
       "    </tr>\n",
       "    <tr>\n",
       "      <th>12</th>\n",
       "      <td>josaya ḅe jekọnaya ḅe na oria owuapụmịnapụ ma ...</td>\n",
       "      <td>josaya be jekonaya be na oria owuapuminapu ma ...</td>\n",
       "    </tr>\n",
       "    <tr>\n",
       "      <th>13</th>\n",
       "      <td>ini tomoni ma kun babilọn mun ḅọrọ so sịkị jek...</td>\n",
       "      <td>ini tomoni ma kun babilon mun boro so siki jek...</td>\n",
       "    </tr>\n",
       "    <tr>\n",
       "      <th>14</th>\n",
       "      <td>zerubabẹl ḅe abiud ḅe yimẹ abiud ḅe elịakịm ḅe...</td>\n",
       "      <td>zerubabel be abiud be yime abiud be eliakim be...</td>\n",
       "    </tr>\n",
       "    <tr>\n",
       "      <th>15</th>\n",
       "      <td>azọ ḅe zadọk ḅe yimẹ zadọk ḅe akịm ḅe yimẹ akị...</td>\n",
       "      <td>azo be zadok be yime zadok be akim be yime aki...</td>\n",
       "    </tr>\n",
       "    <tr>\n",
       "      <th>16</th>\n",
       "      <td>eliud ḅe elieza ḅe yimẹ elieza ḅe matan ḅe yim...</td>\n",
       "      <td>eliud be elieza be yime elieza be matan be yim...</td>\n",
       "    </tr>\n",
       "    <tr>\n",
       "      <th>17</th>\n",
       "      <td>jekọb ḅe josẹf ḅe yimẹ meri ma de ḅe jizọs nye...</td>\n",
       "      <td>jekob be josef be yime meri ma de be jizos nye...</td>\n",
       "    </tr>\n",
       "    <tr>\n",
       "      <th>18</th>\n",
       "      <td>ebraham ḅe ḅụ sakị mun devid ḅe la oyi inein-a...</td>\n",
       "      <td>ebraham be bu saki mun devid be la oyi inein-a...</td>\n",
       "    </tr>\n",
       "    <tr>\n",
       "      <th>19</th>\n",
       "      <td>mịn ini wẹrị jizọs kraịst ḅe yi ọkụ mị-ẹ josẹf...</td>\n",
       "      <td>min ini weri jizos kraist be yi oku mi-e josef...</td>\n",
       "    </tr>\n",
       "    <tr>\n",
       "      <th>20</th>\n",
       "      <td>josẹf ḅe sịkị mamgba karakaraye mịẹmịẹḅọ-ẹ anị...</td>\n",
       "      <td>josef be siki mamgba karakaraye miemiebo-e ani...</td>\n",
       "    </tr>\n",
       "    <tr>\n",
       "      <th>21</th>\n",
       "      <td>ọ̀ mịn mị nwọ koromarị ogbo nyanaḅọ ḅe enjẹlḅọ...</td>\n",
       "      <td>o min mi nwo koromari ogbo nyanabo be enjelbo ...</td>\n",
       "    </tr>\n",
       "    <tr>\n",
       "      <th>22</th>\n",
       "      <td>arị owutọkụ yiḅịa jizọs ị́ nwọse ọ chịnḅịa - a...</td>\n",
       "      <td>ari owutoku yibia jizos i nwose o chinbia - an...</td>\n",
       "    </tr>\n",
       "    <tr>\n",
       "      <th>23</th>\n",
       "      <td>bẹtlihẹm ama mị ḅie ini jizọs ḅe yimẹ judia sẹ...</td>\n",
       "      <td>betlihem ama mi bie ini jizos be yime judia se...</td>\n",
       "    </tr>\n",
       "    <tr>\n",
       "      <th>24</th>\n",
       "      <td>se gbelamẹ nde ini yi juapụ amanyanaḅọ sọḅịa t...</td>\n",
       "      <td>se gbelame nde ini yi juapu amanyanabo sobia t...</td>\n",
       "    </tr>\n",
       "    <tr>\n",
       "      <th>25</th>\n",
       "      <td>amanyana hẹrọd ḅe mịn ḅẹrẹ mị na sịkị anị opu ...</td>\n",
       "      <td>amanyana herod be min bere mi na siki ani opu ...</td>\n",
       "    </tr>\n",
       "    <tr>\n",
       "      <th>26</th>\n",
       "      <td>ọ̀ tịḅịnị agbamịẹapụ ma na oloko ḍieapụ mamgba...</td>\n",
       "      <td>o tibini agbamieapu ma na oloko dieapu mamgba ...</td>\n",
       "    </tr>\n",
       "    <tr>\n",
       "      <th>27</th>\n",
       "      <td>ini nwọ pẹkẹrẹmẹ bẹtlihẹm ama judia sẹ mị ḅie ...</td>\n",
       "      <td>ini nwo pekereme betlihem ama judia se mi bie ...</td>\n",
       "    </tr>\n",
       "    <tr>\n",
       "      <th>28</th>\n",
       "      <td>bẹtlihẹm judia sẹ mị ḅie ị́rị ngịsị ḅokatẹịnkẹ...</td>\n",
       "      <td>betlihem judia se mi bie iri ngisi bokateinke ...</td>\n",
       "    </tr>\n",
       "    <tr>\n",
       "      <th>29</th>\n",
       "      <td>anị hẹrọd ḅe ḅọịma ịrụapakapaka nyọ ḅụ wẹrị ḅo...</td>\n",
       "      <td>ani herod be boima iruapakapaka nyo bu weri bo...</td>\n",
       "    </tr>\n",
       "    <tr>\n",
       "      <th>...</th>\n",
       "      <td>...</td>\n",
       "      <td>...</td>\n",
       "    </tr>\n",
       "    <tr>\n",
       "      <th>35</th>\n",
       "      <td>josẹf ḅe mọnọ ḅụ sịsẹ sịkị nyanaḅọ ḅe enjẹlḅọ ...</td>\n",
       "      <td>josef be mono bu sise siki nyanabo be enjelbo ...</td>\n",
       "    </tr>\n",
       "    <tr>\n",
       "      <th>36</th>\n",
       "      <td>ọkụma ori árị na gbolomakẹ ọkịmun arịa tarị o...</td>\n",
       "      <td>okuma ori ari na gbolomake okimun aria tari ow...</td>\n",
       "    </tr>\n",
       "    <tr>\n",
       "      <th>37</th>\n",
       "      <td>tamụnọ ḅe ḍawọ ḅụ wẹrị inia ḅerijinemẹ na ini ...</td>\n",
       "      <td>tamuno be dawo bu weri inia berijineme na ini ...</td>\n",
       "    </tr>\n",
       "    <tr>\n",
       "      <th>38</th>\n",
       "      <td>ini so bọrọ sịkị nyanaḅọ ḅe enjẹlḅọ ọ̀ḅụ se ḍa...</td>\n",
       "      <td>ini so boro siki nyanabo be enjelbo obu se daw...</td>\n",
       "    </tr>\n",
       "    <tr>\n",
       "      <th>39</th>\n",
       "      <td>josẹf ḅe sịsẹ se tọkụ ḅe na nyọngọrọ ma na dek...</td>\n",
       "      <td>josef be sise se toku be na nyongoro ma na dek...</td>\n",
       "    </tr>\n",
       "    <tr>\n",
       "      <th>40</th>\n",
       "      <td>anịanga ò sime mun hẹrọd ḅe fị sịkị nwọ lamẹ ...</td>\n",
       "      <td>anianga o sime mun herod be fi siki nwo lame m...</td>\n",
       "    </tr>\n",
       "    <tr>\n",
       "      <th>41</th>\n",
       "      <td>hẹrọd ḅe ḅo nemi na ịrụa pakapaka nyọ ḅụ wẹrị ...</td>\n",
       "      <td>herod be bo nemi na irua pakapaka nyo bu weri ...</td>\n",
       "    </tr>\n",
       "    <tr>\n",
       "      <th>42</th>\n",
       "      <td>rema ḅie ini owutịḅị ḅie naamẹ akụ owu ḅe nyọ ...</td>\n",
       "      <td>rema bie ini owutibi bie naame aku owu be nyo ...</td>\n",
       "    </tr>\n",
       "    <tr>\n",
       "      <th>43</th>\n",
       "      <td>hẹrọd ḅe fị bọrọ sịkị nyanaḅọ ḅe enjẹlḅọ ḍawọj...</td>\n",
       "      <td>herod be fi boro siki nyanabo be enjelbo dawoj...</td>\n",
       "    </tr>\n",
       "    <tr>\n",
       "      <th>44</th>\n",
       "      <td>se nwọ ḅẹmẹ sịsẹ se tọkụ ḅe na nyọngọrọ ma na ...</td>\n",
       "      <td>se nwo beme sise se toku be na nyongoro ma na ...</td>\n",
       "    </tr>\n",
       "    <tr>\n",
       "      <th>45</th>\n",
       "      <td>ànị josẹf ḅe sịsẹ se tọkụ ḅe na nyọngọrọ ma n...</td>\n",
       "      <td>ani josef be sise se toku be na nyongoro ma na...</td>\n",
       "    </tr>\n",
       "    <tr>\n",
       "      <th>46</th>\n",
       "      <td>josẹf ḅe ḅo naa na akịlọs ḅe ḍawu hẹrọd amanya...</td>\n",
       "      <td>josef be bo naa na akilos be dawu herod amanya...</td>\n",
       "    </tr>\n",
       "    <tr>\n",
       "      <th>47</th>\n",
       "      <td>se mun nazarẹt nwọ chịn ama mị se oria anga ny...</td>\n",
       "      <td>se mun nazaret nwo chin ama mi se oria anga ny...</td>\n",
       "    </tr>\n",
       "    <tr>\n",
       "      <th>48</th>\n",
       "      <td>anịsịkị mị ḅụ jọn mengisaraḅọ ḅe judia onwu el...</td>\n",
       "      <td>anisiki mi bu jon mengisarabo be judia onwu el...</td>\n",
       "    </tr>\n",
       "    <tr>\n",
       "      <th>49</th>\n",
       "      <td>ọ̀ nwọ ḅẹmẹ omine ominea si ma ḅụ vinpịkị anịa...</td>\n",
       "      <td>o nwo beme omine ominea si ma bu vinpiki aniat...</td>\n",
       "    </tr>\n",
       "    <tr>\n",
       "      <th>50</th>\n",
       "      <td>aịzaya ịkịankoroḅọ ḅe jọn ḅe ḅụ ḅẹrẹ ḍukoarị s...</td>\n",
       "      <td>aizaya ikiankorobo be jon be bu bere dukoari s...</td>\n",
       "    </tr>\n",
       "    <tr>\n",
       "      <th>51</th>\n",
       "      <td>ikeasụn namaichuka ini nwọse ḅụchụaye mịẹ jọn ...</td>\n",
       "      <td>ikeasun namaichuka ini nwose buchuaye mie jon ...</td>\n",
       "    </tr>\n",
       "    <tr>\n",
       "      <th>52</th>\n",
       "      <td>ini inia sima ḍuko pakụmamẹ se ọ̀ jọdan mị ḅie...</td>\n",
       "      <td>ini inia sima duko pakumame se o jodan mi bie ...</td>\n",
       "    </tr>\n",
       "    <tr>\n",
       "      <th>53</th>\n",
       "      <td>jọn ḅe iọn-a farisiapụ na sadusiapụ na mengisa...</td>\n",
       "      <td>jon be ion-a farisiapu na sadusiapu na mengisa...</td>\n",
       "    </tr>\n",
       "    <tr>\n",
       "      <th>54</th>\n",
       "      <td>ominea si ma ḅụ ọ́ ḅarasinsam nwọ ḅẹ ye ọ́ nwọ...</td>\n",
       "      <td>ominea si ma bu o barasinsam nwo be ye o nwo m...</td>\n",
       "    </tr>\n",
       "    <tr>\n",
       "      <th>55</th>\n",
       "      <td>se ó koroma ma na omine ineda ịganị mị ḅụ man...</td>\n",
       "      <td>se o koroma ma na omine ineda igani mi bu mang...</td>\n",
       "    </tr>\n",
       "    <tr>\n",
       "      <th>56</th>\n",
       "      <td>apala mị ini anị karakaramasam kunoma ḅụ wẹrị ...</td>\n",
       "      <td>apala mi ini ani karakaramasam kunoma bu weri ...</td>\n",
       "    </tr>\n",
       "    <tr>\n",
       "      <th>57</th>\n",
       "      <td>à mengi seni ọ́ saramẹ se ḍiepakụma na ó siḅ...</td>\n",
       "      <td>a mengi seni o sarame se diepakuma na o sibupi...</td>\n",
       "    </tr>\n",
       "    <tr>\n",
       "      <th>58</th>\n",
       "      <td>oria yesẹlẹ ogu ori na omi-ẹ ò se ịpịamgba ma...</td>\n",
       "      <td>oria yesele ogu ori na omi-e o se ipiamgba mag...</td>\n",
       "    </tr>\n",
       "    <tr>\n",
       "      <th>59</th>\n",
       "      <td>ọkụma jọn ḅe ḅụkụrọma ḍọkịmẹ jizọs ḅe ò kuḅie...</td>\n",
       "      <td>okuma jon be bukuroma dokime jizos be o kubie ...</td>\n",
       "    </tr>\n",
       "    <tr>\n",
       "      <th>60</th>\n",
       "      <td>ọkụma jizọs ḅe nwọse ò pẹkẹrẹmẹ ye anị pa mịọ...</td>\n",
       "      <td>okuma jizos be nwose o pekereme ye ani pa miok...</td>\n",
       "    </tr>\n",
       "    <tr>\n",
       "      <th>61</th>\n",
       "      <td>ò mengi mị se jizọs ḅe sara so kirikiri jizọs...</td>\n",
       "      <td>o mengi mi se jizos be sara so kirikiri jizos ...</td>\n",
       "    </tr>\n",
       "    <tr>\n",
       "      <th>62</th>\n",
       "      <td>anị pụkọ soḅie nwọ ḅẹ ye-ẹ ḅe anị ị̀ḅụ yela tọ...</td>\n",
       "      <td>ani puko sobie nwo be ye-e be ani ibu yela tok...</td>\n",
       "    </tr>\n",
       "    <tr>\n",
       "      <th>63</th>\n",
       "      <td>anịsịkị tẹmẹ ḅe jizọs ḅe nwọ ḅọrọma onwuele og...</td>\n",
       "      <td>anisiki teme be jizos be nwo boroma onwuele og...</td>\n",
       "    </tr>\n",
       "    <tr>\n",
       "      <th>64</th>\n",
       "      <td>jizọs ḅe ḅuru ọ̀ tarị̀mẹ enekaka-a mesi na ḍin...</td>\n",
       "      <td>jizos be buru o tarime enekaka-a mesi na din-a...</td>\n",
       "    </tr>\n",
       "  </tbody>\n",
       "</table>\n",
       "<p>65 rows × 2 columns</p>\n",
       "</div>"
      ],
      "text/plain": [
       "                                                  dst  \\\n",
       "0   nyọ koruapụ ma igbiki mị ọkị se ini ḍuko ini p...   \n",
       "1   ọḅụḍuko oyighọrịapụ fịnjị ma galili chịngị mi ...   \n",
       "2   ini ori ọrị sịkị ini kpẹrẹkị ọ tẹkẹmẹ inia ḅie...   \n",
       "3   mịn jizọs kraịst ḅe pakaḅo furo mị simeọkụ-ẹ d...   \n",
       "4   juda ḅe pẹrẹz ḅe na zẹra ḅe na yimẹ (inia nyen...   \n",
       "5   ram ḅe amịnadab ḅe yimẹ amịnadab ḅe nasọn ḅe y...   \n",
       "6   salmọn ḅe boaz bẹ yimẹ (rehab ma nyọngọrọ-ẹ) b...   \n",
       "7   jẹsi ḅe amanyana devid ḅe ḅe yimẹ devid ḅe sol...   \n",
       "8   solomọn ḅe rẹhobuam ḅe yimẹ rẹhobuam ḅe abaịja...   \n",
       "9   asa ḅe jehosịafat ḅe yimẹ jehosịafat ḅe joram ...   \n",
       "10  ozaya ḅe jotam ḅe yimẹ jotam ḅe ehaz ḅe yimẹ e...   \n",
       "11  hẹzịkaya ḅe manasị ḅe yimẹ manasị ḅe amọn ḅe y...   \n",
       "12  josaya ḅe jekọnaya ḅe na oria owuapụmịnapụ ma ...   \n",
       "13  ini tomoni ma kun babilọn mun ḅọrọ so sịkị jek...   \n",
       "14  zerubabẹl ḅe abiud ḅe yimẹ abiud ḅe elịakịm ḅe...   \n",
       "15  azọ ḅe zadọk ḅe yimẹ zadọk ḅe akịm ḅe yimẹ akị...   \n",
       "16  eliud ḅe elieza ḅe yimẹ elieza ḅe matan ḅe yim...   \n",
       "17  jekọb ḅe josẹf ḅe yimẹ meri ma de ḅe jizọs nye...   \n",
       "18  ebraham ḅe ḅụ sakị mun devid ḅe la oyi inein-a...   \n",
       "19  mịn ini wẹrị jizọs kraịst ḅe yi ọkụ mị-ẹ josẹf...   \n",
       "20  josẹf ḅe sịkị mamgba karakaraye mịẹmịẹḅọ-ẹ anị...   \n",
       "21  ọ̀ mịn mị nwọ koromarị ogbo nyanaḅọ ḅe enjẹlḅọ...   \n",
       "22  arị owutọkụ yiḅịa jizọs ị́ nwọse ọ chịnḅịa - a...   \n",
       "23  bẹtlihẹm ama mị ḅie ini jizọs ḅe yimẹ judia sẹ...   \n",
       "24  se gbelamẹ nde ini yi juapụ amanyanaḅọ sọḅịa t...   \n",
       "25  amanyana hẹrọd ḅe mịn ḅẹrẹ mị na sịkị anị opu ...   \n",
       "26  ọ̀ tịḅịnị agbamịẹapụ ma na oloko ḍieapụ mamgba...   \n",
       "27  ini nwọ pẹkẹrẹmẹ bẹtlihẹm ama judia sẹ mị ḅie ...   \n",
       "28  bẹtlihẹm judia sẹ mị ḅie ị́rị ngịsị ḅokatẹịnkẹ...   \n",
       "29  anị hẹrọd ḅe ḅọịma ịrụapakapaka nyọ ḅụ wẹrị ḅo...   \n",
       "..                                                ...   \n",
       "35  josẹf ḅe mọnọ ḅụ sịsẹ sịkị nyanaḅọ ḅe enjẹlḅọ ...   \n",
       "36  ọkụma ori árị na gbolomakẹ ọkịmun arịa tarị o...   \n",
       "37  tamụnọ ḅe ḍawọ ḅụ wẹrị inia ḅerijinemẹ na ini ...   \n",
       "38  ini so bọrọ sịkị nyanaḅọ ḅe enjẹlḅọ ọ̀ḅụ se ḍa...   \n",
       "39  josẹf ḅe sịsẹ se tọkụ ḅe na nyọngọrọ ma na dek...   \n",
       "40  anịanga ò sime mun hẹrọd ḅe fị sịkị nwọ lamẹ ...   \n",
       "41  hẹrọd ḅe ḅo nemi na ịrụa pakapaka nyọ ḅụ wẹrị ...   \n",
       "42  rema ḅie ini owutịḅị ḅie naamẹ akụ owu ḅe nyọ ...   \n",
       "43  hẹrọd ḅe fị bọrọ sịkị nyanaḅọ ḅe enjẹlḅọ ḍawọj...   \n",
       "44  se nwọ ḅẹmẹ sịsẹ se tọkụ ḅe na nyọngọrọ ma na ...   \n",
       "45  ànị josẹf ḅe sịsẹ se tọkụ ḅe na nyọngọrọ ma n...   \n",
       "46  josẹf ḅe ḅo naa na akịlọs ḅe ḍawu hẹrọd amanya...   \n",
       "47  se mun nazarẹt nwọ chịn ama mị se oria anga ny...   \n",
       "48  anịsịkị mị ḅụ jọn mengisaraḅọ ḅe judia onwu el...   \n",
       "49  ọ̀ nwọ ḅẹmẹ omine ominea si ma ḅụ vinpịkị anịa...   \n",
       "50  aịzaya ịkịankoroḅọ ḅe jọn ḅe ḅụ ḅẹrẹ ḍukoarị s...   \n",
       "51  ikeasụn namaichuka ini nwọse ḅụchụaye mịẹ jọn ...   \n",
       "52  ini inia sima ḍuko pakụmamẹ se ọ̀ jọdan mị ḅie...   \n",
       "53  jọn ḅe iọn-a farisiapụ na sadusiapụ na mengisa...   \n",
       "54  ominea si ma ḅụ ọ́ ḅarasinsam nwọ ḅẹ ye ọ́ nwọ...   \n",
       "55  se ó koroma ma na omine ineda ịganị mị ḅụ man...   \n",
       "56  apala mị ini anị karakaramasam kunoma ḅụ wẹrị ...   \n",
       "57  à mengi seni ọ́ saramẹ se ḍiepakụma na ó siḅ...   \n",
       "58  oria yesẹlẹ ogu ori na omi-ẹ ò se ịpịamgba ma...   \n",
       "59  ọkụma jọn ḅe ḅụkụrọma ḍọkịmẹ jizọs ḅe ò kuḅie...   \n",
       "60  ọkụma jizọs ḅe nwọse ò pẹkẹrẹmẹ ye anị pa mịọ...   \n",
       "61  ò mengi mị se jizọs ḅe sara so kirikiri jizọs...   \n",
       "62  anị pụkọ soḅie nwọ ḅẹ ye-ẹ ḅe anị ị̀ḅụ yela tọ...   \n",
       "63  anịsịkị tẹmẹ ḅe jizọs ḅe nwọ ḅọrọma onwuele og...   \n",
       "64  jizọs ḅe ḅuru ọ̀ tarị̀mẹ enekaka-a mesi na ḍin...   \n",
       "\n",
       "                                                  src  \n",
       "0   nyo koruapu ma igbiki mi oki se ini duko ini p...  \n",
       "1   obuduko oyighoriapu finji ma galili chingi mi ...  \n",
       "2   ini ori ori siki ini kpereki o tekeme inia bie...  \n",
       "3   min jizos kraist be pakabo furo mi simeoku-e d...  \n",
       "4   juda be perez be na zera be na yime (inia nyen...  \n",
       "5   ram be aminadab be yime aminadab be nason be y...  \n",
       "6   salmon be boaz be yime (rehab ma nyongoro-e) b...  \n",
       "7   jesi be amanyana devid be be yime devid be sol...  \n",
       "8   solomon be rehobuam be yime rehobuam be abaija...  \n",
       "9   asa be jehosiafat be yime jehosiafat be joram ...  \n",
       "10  ozaya be jotam be yime jotam be ehaz be yime e...  \n",
       "11  hezikaya be manasi be yime manasi be amon be y...  \n",
       "12  josaya be jekonaya be na oria owuapuminapu ma ...  \n",
       "13  ini tomoni ma kun babilon mun boro so siki jek...  \n",
       "14  zerubabel be abiud be yime abiud be eliakim be...  \n",
       "15  azo be zadok be yime zadok be akim be yime aki...  \n",
       "16  eliud be elieza be yime elieza be matan be yim...  \n",
       "17  jekob be josef be yime meri ma de be jizos nye...  \n",
       "18  ebraham be bu saki mun devid be la oyi inein-a...  \n",
       "19  min ini weri jizos kraist be yi oku mi-e josef...  \n",
       "20  josef be siki mamgba karakaraye miemiebo-e ani...  \n",
       "21  o min mi nwo koromari ogbo nyanabo be enjelbo ...  \n",
       "22  ari owutoku yibia jizos i nwose o chinbia - an...  \n",
       "23  betlihem ama mi bie ini jizos be yime judia se...  \n",
       "24  se gbelame nde ini yi juapu amanyanabo sobia t...  \n",
       "25  amanyana herod be min bere mi na siki ani opu ...  \n",
       "26  o tibini agbamieapu ma na oloko dieapu mamgba ...  \n",
       "27  ini nwo pekereme betlihem ama judia se mi bie ...  \n",
       "28  betlihem judia se mi bie iri ngisi bokateinke ...  \n",
       "29  ani herod be boima iruapakapaka nyo bu weri bo...  \n",
       "..                                                ...  \n",
       "35  josef be mono bu sise siki nyanabo be enjelbo ...  \n",
       "36  okuma ori ari na gbolomake okimun aria tari ow...  \n",
       "37  tamuno be dawo bu weri inia berijineme na ini ...  \n",
       "38  ini so boro siki nyanabo be enjelbo obu se daw...  \n",
       "39  josef be sise se toku be na nyongoro ma na dek...  \n",
       "40  anianga o sime mun herod be fi siki nwo lame m...  \n",
       "41  herod be bo nemi na irua pakapaka nyo bu weri ...  \n",
       "42  rema bie ini owutibi bie naame aku owu be nyo ...  \n",
       "43  herod be fi boro siki nyanabo be enjelbo dawoj...  \n",
       "44  se nwo beme sise se toku be na nyongoro ma na ...  \n",
       "45  ani josef be sise se toku be na nyongoro ma na...  \n",
       "46  josef be bo naa na akilos be dawu herod amanya...  \n",
       "47  se mun nazaret nwo chin ama mi se oria anga ny...  \n",
       "48  anisiki mi bu jon mengisarabo be judia onwu el...  \n",
       "49  o nwo beme omine ominea si ma bu vinpiki aniat...  \n",
       "50  aizaya ikiankorobo be jon be bu bere dukoari s...  \n",
       "51  ikeasun namaichuka ini nwose buchuaye mie jon ...  \n",
       "52  ini inia sima duko pakumame se o jodan mi bie ...  \n",
       "53  jon be ion-a farisiapu na sadusiapu na mengisa...  \n",
       "54  ominea si ma bu o barasinsam nwo be ye o nwo m...  \n",
       "55  se o koroma ma na omine ineda igani mi bu mang...  \n",
       "56  apala mi ini ani karakaramasam kunoma bu weri ...  \n",
       "57  a mengi seni o sarame se diepakuma na o sibupi...  \n",
       "58  oria yesele ogu ori na omi-e o se ipiamgba mag...  \n",
       "59  okuma jon be bukuroma dokime jizos be o kubie ...  \n",
       "60  okuma jizos be nwose o pekereme ye ani pa miok...  \n",
       "61  o mengi mi se jizos be sara so kirikiri jizos ...  \n",
       "62  ani puko sobie nwo be ye-e be ani ibu yela tok...  \n",
       "63  anisiki teme be jizos be nwo boroma onwuele og...  \n",
       "64  jizos be buru o tarime enekaka-a mesi na din-a...  \n",
       "\n",
       "[65 rows x 2 columns]"
      ]
     },
     "execution_count": 107,
     "metadata": {},
     "output_type": "execute_result"
    }
   ],
   "source": [
    "ds=pd.DataFrame({'src':src, 'dst':dst})\n",
    "ds\n"
   ]
  },
  {
   "cell_type": "code",
   "execution_count": 171,
   "metadata": {
    "collapsed": false,
    "jupyter": {
     "outputs_hidden": false
    },
    "scrolled": true
   },
   "outputs": [],
   "source": [
    "x=[];y=[]\n",
    "[x.extend(i) for i in dst]\n",
    "[y.extend(i) for i in src]\n",
    "cy=set(x)\n",
    "cx=set(y)\n",
    "cx.add('*')\n",
    "cy.add('*')\n",
    "# print((cx),(cy))\n",
    "cx2ix = { ch:i for i,ch in enumerate(cx) }\n",
    "ix2cx = { i:ch for i,ch in enumerate(cx) }\n",
    "cy2ix = { ch:i for i,ch in enumerate(cy) }\n",
    "ix2cy = { i:ch for i,ch in enumerate(cy) }\n",
    "cyi=np.array([i for i,_ in enumerate(cy)])\n",
    "#cyi=np.append(cyi,[-1],axis=0)"
   ]
  },
  {
   "cell_type": "code",
   "execution_count": 109,
   "metadata": {
    "collapsed": false,
    "jupyter": {
     "outputs_hidden": false
    }
   },
   "outputs": [
    {
     "name": "stdout",
     "output_type": "stream",
     "text": [
      "1715 1715\n"
     ]
    }
   ],
   "source": [
    "X=[]\n",
    "for x in src:\n",
    "    X.extend(x.split())\n",
    "Y=[]\n",
    "[Y.extend(x.split()) for x in dst]\n",
    "print(len(X),len(Y))"
   ]
  },
  {
   "cell_type": "code",
   "execution_count": 110,
   "metadata": {
    "collapsed": false,
    "jupyter": {
     "outputs_hidden": false
    }
   },
   "outputs": [
    {
     "data": {
      "text/plain": [
       "1715"
      ]
     },
     "execution_count": 110,
     "metadata": {},
     "output_type": "execute_result"
    }
   ],
   "source": [
    "import numpy as np\n",
    "\n",
    "inpX = [list(data) for data in X]\n",
    "iX=[]\n",
    "for data in inpX:\n",
    "    subl=[]\n",
    "    for ch in data:\n",
    "        subl.append(cx2ix[ch])\n",
    "    iX.append(subl)\n",
    "len(iX)\n",
    "#iX=np.array(iX)"
   ]
  },
  {
   "cell_type": "code",
   "execution_count": 111,
   "metadata": {
    "collapsed": true,
    "jupyter": {
     "outputs_hidden": true
    }
   },
   "outputs": [],
   "source": [
    "tgtY=[list(data) for data in Y]\n",
    "tY=[]\n",
    "#tY=[cy2ix[ch] for subl in tgtY for ch in data]\n",
    "for data in tgtY:\n",
    "    subl=[]\n",
    "    for ch in data:\n",
    "        subl.append(cy2ix[ch])\n",
    "    tY.append(subl)\n",
    "#tY=np.array(tY)"
   ]
  },
  {
   "cell_type": "code",
   "execution_count": 112,
   "metadata": {
    "collapsed": true,
    "jupyter": {
     "outputs_hidden": true
    }
   },
   "outputs": [],
   "source": [
    "def reset_graph(seed=42):\n",
    "    tf.reset_default_graph()\n",
    "    tf.set_random_seed(seed)\n",
    "    np.random.seed(seed)\n",
    "\n",
    "# To plot pretty figures\n",
    "%matplotlib inline\n",
    "import matplotlib\n",
    "import matplotlib.pyplot as plt\n",
    "plt.rcParams['axes.labelsize'] = 14\n",
    "plt.rcParams['xtick.labelsize'] = 12\n",
    "plt.rcParams['ytick.labelsize'] = 12\n",
    "\n",
    "# Where to save the figures\n",
    "PROJECT_ROOT_DIR = \".\"\n",
    "CHAPTER_ID = \"rnn\"\n",
    "\n",
    "def save_fig(fig_id, tight_layout=True):\n",
    "    path = os.path.join(PROJECT_ROOT_DIR, \"images\", CHAPTER_ID, fig_id + \".png\")\n",
    "    print(\"Saving figure\", fig_id)\n",
    "    if tight_layout:\n",
    "        plt.tight_layout()\n",
    "    plt.savefig(path, format='png', dpi=300)"
   ]
  },
  {
   "cell_type": "code",
   "execution_count": 113,
   "metadata": {
    "collapsed": false,
    "jupyter": {
     "outputs_hidden": false
    }
   },
   "outputs": [
    {
     "name": "stdout",
     "output_type": "stream",
     "text": [
      "[[ 2 18 34 ..., 32 32 32]\n",
      " [25  5 13 ..., 32 32 32]\n",
      " [39 14 32 ..., 32 32 32]\n",
      " ..., \n",
      " [ 5 27 23 ..., 32 32 32]\n",
      " [12 42 39 ..., 32 32 32]\n",
      " [37 21 32 ..., 32 32 32]] [[ 1 12  3 ..., 24 24 24]\n",
      " [18  3  9 ..., 24 24 24]\n",
      " [28 10 24 ..., 24 24 24]\n",
      " ..., \n",
      " [ 3 20 16 ..., 24 24 24]\n",
      " [ 8 30 28 ..., 24 24 24]\n",
      " [16  4 24 ..., 24 24 24]]\n"
     ]
    }
   ],
   "source": [
    "sx=[len(x) for x in iX]\n",
    "sy=[len(x) for x in tY]\n",
    "\n",
    "def seqpad(seq,seql):\n",
    "    arr=[]\n",
    "    m=max(seql)\n",
    "    for i in seq:\n",
    "        n=m-len(i)\n",
    "        for j in range(n):\n",
    "            i.append(-1)\n",
    "        arr.append(i)\n",
    "    return arr\n",
    "\n",
    "def seqpad2(seq,m,ix):\n",
    "    arr=[]\n",
    "    for i in seq:\n",
    "        n=m-len(i)\n",
    "        for j in range(n):\n",
    "            i.append(ix)\n",
    "        arr.append(i)\n",
    "    return arr\n",
    "\n",
    "iX=np.array(seqpad2(iX,50,cx2ix['*']))\n",
    "tY=np.array(seqpad2(tY,50,cy2ix['*']))\n",
    "print(tY,iX)"
   ]
  },
  {
   "cell_type": "code",
   "execution_count": 114,
   "metadata": {
    "collapsed": false,
    "jupyter": {
     "outputs_hidden": false
    }
   },
   "outputs": [
    {
     "data": {
      "text/plain": [
       "array([[1, 2],\n",
       "       [3, 4],\n",
       "       [5, 6]])"
      ]
     },
     "execution_count": 114,
     "metadata": {},
     "output_type": "execute_result"
    }
   ],
   "source": [
    "np.arange(1,7).reshape(3,2)"
   ]
  },
  {
   "cell_type": "code",
   "execution_count": 118,
   "metadata": {
    "collapsed": false,
    "jupyter": {
     "outputs_hidden": false
    }
   },
   "outputs": [
    {
     "name": "stdout",
     "output_type": "stream",
     "text": [
      "1098 274\n"
     ]
    }
   ],
   "source": [
    "np.random.seed(42)\n",
    "def split_train_test(x,y, test_ratio):\n",
    "    shuffled_indices=np.random.permutation(len(x))\n",
    "    test_set_size=int(len(x)*test_ratio)\n",
    "    test_indices=shuffled_indices[:test_set_size]\n",
    "    train_indices=shuffled_indices[test_set_size:]\n",
    "    return x.iloc[train_indices],x.iloc[test_indices],y.iloc[train_indices],y.iloc[test_indices]\n",
    "\n",
    "xtr, xts,ytr,yts = split_train_test(pd.DataFrame(iX),pd.DataFrame(tY), 0.2)\n",
    "iX = xtr.values\n",
    "tY = ytr.values\n",
    "print(len(tY),len(yts.values))"
   ]
  },
  {
   "cell_type": "code",
   "execution_count": 139,
   "metadata": {
    "collapsed": false,
    "jupyter": {
     "outputs_hidden": false
    }
   },
   "outputs": [],
   "source": [
    "import tensorflow as tf\n",
    "reset_graph()\n",
    "\n",
    "n_steps = 50\n",
    "n_neurons = 200\n",
    "n_layers = 3\n",
    "num_encoder_symbols = len(cx) #20000\n",
    "num_decoder_symbols = len(cy) #20000\n",
    "embedding_size = 1\n",
    "learning_rate = 0.01\n",
    "\n",
    "X = tf.placeholder(tf.int32, [None, n_steps]) # English sentences\n",
    "Y = tf.placeholder(tf.int32, [None, n_steps]) # French translations\n",
    "#y = tf.placeholder(tf.int32,[None])\n",
    "w = np.ones( (len(iX), n_steps - 1, 1), dtype=np.float32 )\n",
    "W = tf.Variable(w,name='W')\n",
    "\n",
    "Y_input = Y[:, :-1]\n",
    "Y_target = Y[:, 1:]\n",
    "\n",
    "encoder_inputs = tf.unstack(tf.transpose(X)) # list of 1D tensors\n",
    "decoder_inputs = tf.unstack(tf.transpose(Y_input)) # list of 1D tensors\n",
    "\n",
    "lstm_cells = [tf.contrib.rnn.BasicLSTMCell(num_units=n_neurons)\n",
    "              for layer in range(n_layers)]\n",
    "cell = tf.contrib.rnn.MultiRNNCell(lstm_cells)\n",
    "\n",
    "output_seqs, states = tf.contrib.legacy_seq2seq.embedding_rnn_seq2seq(\n",
    "#output_seqs, states = tf.contrib.legacy_seq2seq.basic_rnn_seq2seq(\n",
    "    # X, \n",
    "    encoder_inputs,\n",
    "    # Y_input, \n",
    "    decoder_inputs,\n",
    "    cell,\n",
    "    num_encoder_symbols,num_decoder_symbols,embedding_size\n",
    "    )\n",
    "# encoder_outputs: [max_time, batch_size, num_units]\n",
    "logits = tf.transpose(tf.unstack(output_seqs), perm=[1, 0, 2])\n",
    "\n",
    "logits_flat = tf.reshape(logits, [-1, num_decoder_symbols])\n",
    "\n",
    "#logits_flat = tf.layers.dense(states,num_decoder_symbols)\n",
    "Y_target_flat = tf.reshape(Y_target, [-1])\n",
    "W_flat = tf.reshape(W, [-1])\n",
    "xentropy = W_flat * tf.nn.sparse_softmax_cross_entropy_with_logits(labels=Y_target_flat, logits=logits_flat)\n",
    "loss = tf.reduce_mean(xentropy)\n",
    "optimizer = tf.train.AdamOptimizer(learning_rate=learning_rate)\n",
    "training_op = optimizer.minimize(loss)\n",
    "\n",
    "correct = tf.nn.in_top_k(logits_flat, Y_target_flat, 1)\n",
    "accuracy = tf.reduce_mean(tf.cast(correct, tf.float32))\n",
    "\n",
    "init = tf.global_variables_initializer()"
   ]
  },
  {
   "cell_type": "code",
   "execution_count": 140,
   "metadata": {
    "collapsed": false,
    "jupyter": {
     "outputs_hidden": false
    }
   },
   "outputs": [
    {
     "name": "stdout",
     "output_type": "stream",
     "text": [
      "0 Train accuracy: 0.939184 Test accuracy: 0.94034\n",
      "1 Train accuracy: 0.939184 Test accuracy: 0.94034\n",
      "2 Train accuracy: 0.939184 Test accuracy: 0.94034\n",
      "3 Train accuracy: 0.937679 Test accuracy: 0.937137\n",
      "4 Train accuracy: 0.937177 Test accuracy: 0.936318\n",
      "5 Train accuracy: 0.937177 Test accuracy: 0.93304\n",
      "6 Train accuracy: 0.930635 Test accuracy: 0.927976\n",
      "7 Train accuracy: 0.931824 Test accuracy: 0.929391\n",
      "8 Train accuracy: 0.935207 Test accuracy: 0.935051\n",
      "9 Train accuracy: 0.941322 Test accuracy: 0.942276\n",
      "10 Train accuracy: 0.941378 Test accuracy: 0.942351\n",
      "11 Train accuracy: 0.94134 Test accuracy: 0.942276\n",
      "12 Train accuracy: 0.942734 Test accuracy: 0.94384\n",
      "13 Train accuracy: 0.942883 Test accuracy: 0.943542\n",
      "14 Train accuracy: 0.942902 Test accuracy: 0.943766\n"
     ]
    }
   ],
   "source": [
    "n_epochs = 25\n",
    "batch_size = 150\n",
    "saver = tf.train.Saver()\n",
    "with tf.Session() as sess:\n",
    "    init.run()\n",
    "    for epoch in range(n_epochs):\n",
    "        #for iteration in range(mnist.train.num_examples // batch_size):\n",
    "        #    X_batch, y_batch = mnist.train.next_batch(batch_size)\n",
    "        #    X_batch = X_batch.reshape((-1, n_steps, n_inputs))\n",
    "        sess.run(training_op, feed_dict={X: iX, Y: tY})\n",
    "        acc_train = accuracy.eval(feed_dict={X: iX, Y: tY})\n",
    "        acc_test = accuracy.eval(feed_dict={X: xts.values, Y:yts.values})\n",
    "        print(epoch, \"Train accuracy:\", acc_train, \"Test accuracy:\", acc_test)\n",
    "    saver.save(sess,\"./okd_model.mdl\")"
   ]
  },
  {
   "cell_type": "code",
   "execution_count": 141,
   "metadata": {
    "collapsed": false,
    "jupyter": {
     "outputs_hidden": false
    }
   },
   "outputs": [],
   "source": [
    "def predict(x):\n",
    "    return np.ravel(seqpad2([[cx2ix[ch] for ch in x]],50,cx2ix['*']))\n",
    "b=predict('jizos') "
   ]
  },
  {
   "cell_type": "code",
   "execution_count": 142,
   "metadata": {
    "collapsed": false,
    "jupyter": {
     "outputs_hidden": false
    }
   },
   "outputs": [],
   "source": [
    "def xlate(x):\n",
    "    return np.ravel([ix2cx[c] for c in x])\n",
    "def ylate(x):\n",
    "    return np.ravel([ix2cy[c] for c in x])\n",
    "#xlate(b)"
   ]
  },
  {
   "cell_type": "code",
   "execution_count": 158,
   "metadata": {
    "collapsed": false,
    "jupyter": {
     "outputs_hidden": false
    }
   },
   "outputs": [
    {
     "name": "stdout",
     "output_type": "stream",
     "text": [
      "INFO:tensorflow:Restoring parameters from ./okd_model.mdl\n"
     ]
    }
   ],
   "source": [
    "with tf.Session() as sess:                          # not shown in the book\n",
    "    saver.restore(sess, \"./okd_model.mdl\")   # not shown\n",
    "\n",
    "    X_new = np.array([b])\n",
    "    ypad = np.array([np.ravel(seqpad2([[cy2ix['*']]],50,cy2ix['*']))])\n",
    "    y_pred = sess.run(logits_flat, feed_dict={X: X_new, Y:ypad })"
   ]
  },
  {
   "cell_type": "code",
   "execution_count": 184,
   "metadata": {
    "collapsed": false,
    "jupyter": {
     "outputs_hidden": false
    }
   },
   "outputs": [
    {
     "ename": "AttributeError",
     "evalue": "'numpy.ndarray' object has no attribute 'indices'",
     "output_type": "error",
     "traceback": [
      "\u001b[0;31m---------------------------------------------------------------------------\u001b[0m",
      "\u001b[0;31mAttributeError\u001b[0m                            Traceback (most recent call last)",
      "\u001b[0;32m<ipython-input-184-568bb88910d8>\u001b[0m in \u001b[0;36m<module>\u001b[0;34m()\u001b[0m\n\u001b[0;32m----> 1\u001b[0;31m \u001b[0msmp\u001b[0m\u001b[1;33m=\u001b[0m\u001b[0mW_flat\u001b[0m \u001b[1;33m*\u001b[0m \u001b[0mtf\u001b[0m\u001b[1;33m.\u001b[0m\u001b[0msparse_softmax\u001b[0m\u001b[1;33m(\u001b[0m\u001b[0my_pred\u001b[0m\u001b[1;33m)\u001b[0m\u001b[1;33m\u001b[0m\u001b[0m\n\u001b[0m",
      "\u001b[0;32mC:\\Users\\u1273400\\AppData\\Local\\Continuum\\Anaconda3\\lib\\site-packages\\tensorflow\\python\\ops\\sparse_ops.py\u001b[0m in \u001b[0;36msparse_softmax\u001b[0;34m(sp_input, name)\u001b[0m\n\u001b[1;32m   1655\u001b[0m   \"\"\"\n\u001b[1;32m   1656\u001b[0m   with ops.name_scope(name, \"SparseSoftmax\",\n\u001b[0;32m-> 1657\u001b[0;31m                       [sp_input.indices, sp_input.values]) as name:\n\u001b[0m\u001b[1;32m   1658\u001b[0m     out_vals = gen_sparse_ops.sparse_softmax(sp_input.indices, sp_input.values,\n\u001b[1;32m   1659\u001b[0m                                              sp_input.dense_shape)\n",
      "\u001b[0;31mAttributeError\u001b[0m: 'numpy.ndarray' object has no attribute 'indices'"
     ]
    }
   ],
   "source": [
    "smp=W_flat * tf.sparse_softmax(y_pred)\n"
   ]
  },
  {
   "cell_type": "code",
   "execution_count": 183,
   "metadata": {
    "collapsed": false,
    "jupyter": {
     "outputs_hidden": false
    }
   },
   "outputs": [
    {
     "ename": "TypeError",
     "evalue": "sparse_softmax() got an unexpected keyword argument 'logits'",
     "output_type": "error",
     "traceback": [
      "\u001b[0;31m---------------------------------------------------------------------------\u001b[0m",
      "\u001b[0;31mTypeError\u001b[0m                                 Traceback (most recent call last)",
      "\u001b[0;32m<ipython-input-183-23c418e649fc>\u001b[0m in \u001b[0;36m<module>\u001b[0;34m()\u001b[0m\n\u001b[1;32m      1\u001b[0m \u001b[1;32mfor\u001b[0m \u001b[0mpred\u001b[0m \u001b[1;32min\u001b[0m \u001b[0my_pred\u001b[0m\u001b[1;33m:\u001b[0m\u001b[1;33m\u001b[0m\u001b[0m\n\u001b[0;32m----> 2\u001b[0;31m     \u001b[0msmp\u001b[0m\u001b[1;33m=\u001b[0m\u001b[0mW_flat\u001b[0m \u001b[1;33m*\u001b[0m \u001b[0mtf\u001b[0m\u001b[1;33m.\u001b[0m\u001b[0msparse_softmax\u001b[0m\u001b[1;33m(\u001b[0m\u001b[0mlogits\u001b[0m\u001b[1;33m=\u001b[0m\u001b[0mpred\u001b[0m\u001b[1;33m)\u001b[0m\u001b[1;33m\u001b[0m\u001b[0m\n\u001b[0m\u001b[1;32m      3\u001b[0m     \u001b[0mprint\u001b[0m\u001b[1;33m(\u001b[0m\u001b[0msmp\u001b[0m\u001b[1;33m)\u001b[0m\u001b[1;33m\u001b[0m\u001b[0m\n",
      "\u001b[0;31mTypeError\u001b[0m: sparse_softmax() got an unexpected keyword argument 'logits'"
     ]
    }
   ],
   "source": [
    "for pred in y_pred:\n",
    "    smp=W_flat * tf.nn.sparse_softmax_cross_entropy_with_logits(labels=cyi, logits=pred)\n",
    "    print(smp)"
   ]
  },
  {
   "cell_type": "code",
   "execution_count": null,
   "metadata": {
    "collapsed": true,
    "jupyter": {
     "outputs_hidden": true
    }
   },
   "outputs": [],
   "source": []
  }
 ],
 "metadata": {
  "anaconda-cloud": {},
  "kernelspec": {
   "display_name": "Python 3",
   "language": "python",
   "name": "python3"
  },
  "language_info": {
   "codemirror_mode": {
    "name": "ipython",
    "version": 3
   },
   "file_extension": ".py",
   "mimetype": "text/x-python",
   "name": "python",
   "nbconvert_exporter": "python",
   "pygments_lexer": "ipython3",
   "version": "3.7.3"
  }
 },
 "nbformat": 4,
 "nbformat_minor": 4
}
