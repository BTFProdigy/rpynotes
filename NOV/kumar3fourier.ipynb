{
 "cells": [
  {
   "cell_type": "markdown",
   "metadata": {},
   "source": [
    "## The Fourier Transform\n",
    "\n",
    "In order to specify practical properties of discrete time systems, such as low pass filtering or high pass filtering, it is necessary to transform the complex z-plane to the real-frequency axis,$\\omega$.  Specifically, the region of the complex z-plane that is used in the transformation is the unit circle, specified by the rgion $z=e^{j\\omega}$. The resulting transform is the Discrete-Time Fourier Transform (DTFT).\n",
    "\n",
    "However, due to the need for more applicable easily computable transform, the Discrete Fourier Transform (DFT) is introduced, which is very homogeneous in both forward (time to frequency), and inverse (frequency to time) formulations.  The crowning moment in the evolution of DSP came when the Fast Fourier (FFT) was discovered by Cooley and Tukey in 1965, which is essentially a fast algorithm to compute the DFT, makes it possible to achieve real-time audio and video processing."
   ]
  },
  {
   "cell_type": "markdown",
   "metadata": {},
   "source": [
    "### Discrete-Time Fourier Transform (DTFT)\n",
    "The frequency response of a system is very important to define practical property of the system, such as low pass or high-pass filtering. It can be obtained by considering the system function H(z) on the unit circle.  Similarly for a discrete-time sequence x(n), we can define the z-tranform X(z) on the unit circle as follows:\n",
    "$$X(e^{j\\omega})=X(z)|_{z=e^{j\\omega}}=\\sum_{n=-\\infty}^\\infty x(n)e^{-j\\omega n} - - - -\\dots(1)$$"
   ]
  },
  {
   "cell_type": "markdown",
   "metadata": {},
   "source": [
    "The function $X(e^{j\\omega})$ or $X(\\omega)$ is also called the Discrete Time Fourier Transform (DTFT) of the discrete-time signal x(n). The inverse DTFT is defined by the following integral:\n",
    "$$x(n)=\\frac{1}{2\\pi}\\int_{-\\pi}^pi X(\\omega)e^{j\\omega n}d\\omega - - - -\\dots(2)$$\n",
    "\n",
    "For all values of n.  The significance of the integration operation in equation (2) will be clear after discussing the periodicity property of the DTFT in the next section."
   ]
  },
  {
   "cell_type": "markdown",
   "metadata": {},
   "source": [
    "#### Properties of the Discrete Time Fourier Transform (DTFT)\n",
    "A concise list of DTFT traform properties are given in table 1 below\n",
    "<style type=\"text/css\">\n",
    ".tg  {border-collapse:collapse;border-spacing:0;}\n",
    ".tg td{font-family:Arial, sans-serif;font-size:14px;padding:10px 5px;border-style:solid;border-width:1px;overflow:hidden;word-break:normal;}\n",
    ".tg th{font-family:Arial, sans-serif;font-size:14px;font-weight:normal;padding:10px 5px;border-style:solid;border-width:1px;overflow:hidden;word-break:normal;}\n",
    ".tg .tg-yw4l{vertical-align:top}\n",
    "</style>\n",
    "<table class=\"tg\">\n",
    "  <tr>\n",
    "    <th class=\"tg-yw4l\"></th>\n",
    "    <th class=\"tg-yw4l\">Property</th>\n",
    "    <th class=\"tg-yw4l\">f(n)</th>\n",
    "    <th class=\"tg-yw4l\">F(z)</th>\n",
    "  </tr>\n",
    "  <tr>\n",
    "    <td class=\"tg-yw4l\">1</td>\n",
    "    <td class=\"tg-yw4l\">Periodicity</td>\n",
    "    <td class=\"tg-yw4l\">x(n)</td>\n",
    "    <td class=\"tg-yw4l\">$X(\\omega)=X(\\omega+2m\\pi)$, for integer m</td>\n",
    "  </tr>\n",
    "  <tr>\n",
    "    <td class=\"tg-yw4l\">2</td>\n",
    "    <td class=\"tg-yw4l\">Convolution</td>\n",
    "    <td class=\"tg-yw4l\">$x(n)\\ast h(n)$</td>\n",
    "    <td class=\"tg-yw4l\">$X(\\omega)H(\\omega)$</td>\n",
    "  </tr>\n",
    "  <tr>\n",
    "    <td class=\"tg-yw4l\">3</td>\n",
    "    <td class=\"tg-yw4l\">Time shift</td>\n",
    "    <td class=\"tg-yw4l\">$x(n-n_0)$</td>\n",
    "    <td class=\"tg-yw4l\">$X(\\omega)e^{-j\\omega n_0}$</td>\n",
    "  </tr>\n",
    "  <tr>\n",
    "    <td class=\"tg-yw4l\">4</td>\n",
    "    <td class=\"tg-yw4l\">Frequency Scaling</td>\n",
    "    <td class=\"tg-yw4l\">$e^{j\\omega_0n}x(n)$</td>\n",
    "    <td class=\"tg-yw4l\">$X(\\omega-\\omega_0)$</td>\n",
    "  </tr>\n",
    "  <tr>\n",
    "    <td class=\"tg-yw4l\">5.</td>\n",
    "    <td class=\"tg-yw4l\">Time reversal</td>\n",
    "    <td class=\"tg-yw4l\"><br>$x(-n)$<br></td>\n",
    "    <td class=\"tg-yw4l\">$X(-\\omega)$</td>\n",
    "  </tr>\n",
    "</table>"
   ]
  },
  {
   "cell_type": "markdown",
   "metadata": {},
   "source": [
    "#### Example\n",
    "Determine the Discrete-Time Fourier Transform (DTFT) of the following time functions\n",
    "\n",
    "1. $x(n)=\\sum_{k=0}^4\\delta(n-k)$\n",
    "2. $x(n)=(0.5)^{|n|}$\n",
    "\n"
   ]
  },
  {
   "cell_type": "markdown",
   "metadata": {},
   "source": [
    "#### Solution\n",
    "1. From equation (1)\n",
    "    $$\\begin{aligned}X(e^{j\\omega})&=X(z)|_{z=e^{j\\omega}}=\\sum_{n=-\\infty}^\\infty x(n)e^{-j\\omega n} \\\\\n",
    "    &=\\sum_{n=-\\infty}^\\infty [\\delta(n)+\\delta(n-1)+\\delta(n-3)+\\delta(n-4)]e^{-j\\omega n} \\\\\n",
    "    &=1+e^{-j\\omega}+e^{-j2\\omega}+e^{-j3\\omega}+e^{-j4\\omega} \\\\\n",
    "    &=\\frac{e^{-j5\\omega}-1}{e^{-j\\omega}-1}\\text{, using finite Geometric series formula}\n",
    "    \\end{aligned} $$\n",
    "2. Similrarly:\n",
    "    $$\\begin{aligned}X(e^{j\\omega})&=X(z)|_{z=e^{j\\omega}}=\\sum_{n=-\\infty}^\\infty x(n)e^{-j\\omega n} \\\\\n",
    "    &=\\sum_{n=-\\infty}^-1 0.5^{|n|}e^{-j\\omega n} \\\\\n",
    "    &=\\sum_{n=0}^\\infty 0.5^{n}e^{-j\\omega n} +\\sum_{n=-\\infty}^{-1} 0.5^{-n}e^{-j\\omega n} \\\\\n",
    "    &=\\sum_{n=0}^\\infty \\left(0.5e^{-j\\omega}\\right)^{n} +\\sum_{n=1}^\\infty \\left(0.5e^{j\\omega}\\right)^{n} \\\\\n",
    "     &=\\frac{1}{1-0.5e^{-j\\omega}}+\\frac{0.5e^{j\\omega}}{1-0.5e^{j\\omega}}\n",
    "    \\end{aligned} $$\n"
   ]
  },
  {
   "cell_type": "markdown",
   "metadata": {},
   "source": [
    "#### Example\n",
    "Determine the inverse Fourier Transform,x(n) of the function $X(e^{j\\omega}), whose magnitude and phase are described as follows:\n",
    "\n",
    "Magnitude\n",
    "$$\\left|X(e^{j\\omega}\n",
    "\n",
    "1. $x(n)=\\sum_{k=0}^4\\delta(n-k)$\n",
    "2. $x(n)=(0.5)^{|n|}$\n",
    "\n"
   ]
  },
  {
   "cell_type": "markdown",
   "metadata": {},
   "source": [
    "#### Solution\n",
    "1. From equation (1)\n",
    "    $$\\begin{aligned}X(e^{j\\omega})&=X(z)|_{z=e^{j\\omega}}=\\sum_{n=-\\infty}^\\infty x(n)e^{-j\\omega n} \\\\\n",
    "    &=\\sum_{n=-\\infty}^\\infty [\\delta(n)+\\delta(n-1)+\\delta(n-3)+\\delta(n-4)]e^{-j\\omega n} \\\\\n",
    "    &=1+e^{-j\\omega}+e^{-j2\\omega}+e^{-j3\\omega}+e^{-j4\\omega} \\\\\n",
    "    &=\\frac{e^{-j5\\omega}-1}{e^{-j\\omega}-1}\\text{, using finite Geometric series formula}\n",
    "    \\end{aligned} $$\n",
    "2. Similrarly:\n",
    "    $$\\begin{aligned}X(e^{j\\omega})&=X(z)|_{z=e^{j\\omega}}=\\sum_{n=-\\infty}^\\infty x(n)e^{-j\\omega n} \\\\\n",
    "    &=\\sum_{n=-\\infty}^-1 0.5^{|n|}e^{-j\\omega n} \\\\\n",
    "    &=\\sum_{n=0}^\\infty 0.5^{n}e^{-j\\omega n} +\\sum_{n=-\\infty}^{-1} 0.5^{-n}e^{-j\\omega n} \\\\\n",
    "    &=\\sum_{n=0}^\\infty \\left(0.5e^{-j\\omega}\\right)^{n} +\\sum_{n=1}^\\infty \\left(0.5e^{j\\omega}\\right)^{n} \\\\\n",
    "     &=\\frac{1}{1-0.5e^{-j\\omega}}+\\frac{0.5e^{j\\omega}}{1-0.5e^{j\\omega}}\n",
    "    \\end{aligned} $$\n"
   ]
  },
  {
   "cell_type": "markdown",
   "metadata": {
    "collapsed": true
   },
   "source": [
    "#### Analog Frequency and Digital Frequency\n",
    "\n",
    "The fundamental relation between the analog frequency, $\\Omega$, and the digital frequency, $\\omega$, is given by the following relation:\n",
    "$$\\omega=\\Omega T - - - -\\dots(3a)$$\n",
    "or alternatively\n",
    "$$\\omega=\\Omega/f_s - - - -\\dots(3b)$$\n",
    "\n",
    "where T is the sampling period, in sec., and $f_s=1/T$ is the sampling frequency in Hz.\n",
    "\n",
    "In this important transformation however, one should note the folloing points.\n",
    "\n",
    "1. The unit $\\Omega$ is radian/sec., whereas, the unit $\\omega$ is just radians.\n",
    "2. The analog frequency, $\\Omega$, represents the actual physical frequency of the basic analog signal, for example, an audio signal (0 to 4 kHz) or a video signal (0 to 4 MHz).  The digital frequency, $\\omega$, is the transformed frequency from equation 3 and can be considered as a mathematical frequenc, corresponding to a digital signal.\n"
   ]
  }
 ],
 "metadata": {
  "kernelspec": {
   "display_name": "R",
   "language": "R",
   "name": "ir"
  },
  "language_info": {
   "codemirror_mode": "r",
   "file_extension": ".r",
   "mimetype": "text/x-r-source",
   "name": "R",
   "pygments_lexer": "r",
   "version": "3.2.2"
  }
 },
 "nbformat": 4,
 "nbformat_minor": 0
}
