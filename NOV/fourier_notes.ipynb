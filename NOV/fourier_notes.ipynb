{
 "cells": [
  {
   "cell_type": "markdown",
   "metadata": {},
   "source": [
    "\n",
    "### Fourier Formulae\n",
    "![Fourier Formulae](https://selene.hud.ac.uk/u1273400/images/seg_media/fourier.PNG)"
   ]
  },
  {
   "cell_type": "markdown",
   "metadata": {},
   "source": [
    "## Practical Considerations\n",
    "\n",
    "### Spectral Leakage\n",
    "### Side Lobes and window function"
   ]
  },
  {
   "cell_type": "markdown",
   "metadata": {},
   "source": [
    "## Applications of the DFT\n",
    "### Filtering\n",
    "Fourier based filtering function can be seen by observing how the Parseval's theorem operates.  We emphasise that in this context, filtering could mean amplifying as well as attenuating a group of group of frequencies.  To filter a signal en masse with this technique is simple enough; for a band pass filter for example.   First, we take the DFT of the signal. Next, we multiply the selected band (whose loer and upper limits are denoted by k_1 and k_h, respectively) by the desired gain factor a, bering in mind that this must be applied to both the real and imaginary terms.\n",
    "\n",
    "### Spectral and time domain interpolation\n",
    "### Fourier Domain-based convolution\n",
    "### Long duration signal processing"
   ]
  }
 ],
 "metadata": {
  "anaconda-cloud": {},
  "kernelspec": {
   "display_name": "Python [conda root]",
   "language": "python",
   "name": "conda-root-py"
  },
  "language_info": {
   "codemirror_mode": {
    "name": "ipython",
    "version": 3
   },
   "file_extension": ".py",
   "mimetype": "text/x-python",
   "name": "python",
   "nbconvert_exporter": "python",
   "pygments_lexer": "ipython3",
   "version": "3.5.2"
  }
 },
 "nbformat": 4,
 "nbformat_minor": 0
}
