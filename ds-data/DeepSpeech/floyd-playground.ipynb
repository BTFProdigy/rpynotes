{
 "cells": [
  {
   "cell_type": "code",
   "execution_count": 5,
   "metadata": {},
   "outputs": [
    {
     "data": {
      "text/plain": [
       "['DeepSpeech']"
      ]
     },
     "execution_count": 5,
     "metadata": {},
     "output_type": "execute_result"
    }
   ],
   "source": [
    "import os\n",
    "os.listdir(\"/output\") # returns list\n"
   ]
  },
  {
   "cell_type": "code",
   "execution_count": 6,
   "metadata": {},
   "outputs": [
    {
     "data": {
      "text/plain": [
       "['usr',\n",
       " 'floydlocaldata',\n",
       " 'output',\n",
       " 'root',\n",
       " 'code',\n",
       " '.dockerenv',\n",
       " 'dev',\n",
       " 'etc',\n",
       " 'tmp',\n",
       " 'lib',\n",
       " 'var',\n",
       " 'tensorflow',\n",
       " 'run_jupyter.sh',\n",
       " 'sbin',\n",
       " 'bin',\n",
       " 'run',\n",
       " 'home',\n",
       " 'mnt',\n",
       " 'sys',\n",
       " 'proc',\n",
       " 'lib64',\n",
       " 'media',\n",
       " 'opt',\n",
       " 'boot',\n",
       " 'srv']"
      ]
     },
     "execution_count": 6,
     "metadata": {},
     "output_type": "execute_result"
    }
   ],
   "source": [
    "os.listdir(\"/\") # returns list\n"
   ]
  },
  {
   "cell_type": "code",
   "execution_count": 6,
   "metadata": {},
   "outputs": [
    {
     "data": {
      "text/plain": [
       "['usr',\n",
       " 'floydlocaldata',\n",
       " 'output',\n",
       " 'root',\n",
       " 'code',\n",
       " '.dockerenv',\n",
       " 'dev',\n",
       " 'etc',\n",
       " 'tmp',\n",
       " 'lib',\n",
       " 'var',\n",
       " 'tensorflow',\n",
       " 'run_jupyter.sh',\n",
       " 'sbin',\n",
       " 'bin',\n",
       " 'run',\n",
       " 'home',\n",
       " 'mnt',\n",
       " 'sys',\n",
       " 'proc',\n",
       " 'lib64',\n",
       " 'media',\n",
       " 'opt',\n",
       " 'boot',\n",
       " 'srv']"
      ]
     },
     "execution_count": 6,
     "metadata": {},
     "output_type": "execute_result"
    }
   ],
   "source": [
    "os.listdir(\"/\") # returns list\n"
   ]
  },
  {
   "cell_type": "code",
   "execution_count": 10,
   "metadata": {},
   "outputs": [
    {
     "data": {
      "text/plain": [
       "['ds180205_1600.log',\n",
       " 'DeepSpeech.py',\n",
       " 'README.md',\n",
       " 'bin',\n",
       " 'pdev.csv',\n",
       " 'test_pidgin.ipynb',\n",
       " '.gitattributes',\n",
       " 'tc-train-tests.sh',\n",
       " 'native_client',\n",
       " 'doc',\n",
       " 'DeepSpeech.ipynb',\n",
       " 'tc-benchmark-tests.sh',\n",
       " 'ptrn.csv',\n",
       " '.taskcluster.yml',\n",
       " 'ds180205_0650.log',\n",
       " 'bazel.patch',\n",
       " 'images',\n",
       " 'runme.ipynb',\n",
       " 'README.website.md',\n",
       " 'requirements.txt',\n",
       " 'floyd-playground.ipynb',\n",
       " 'egobeta.wav',\n",
       " 'tc-python-tests-prod.sh',\n",
       " 'tc-python-tests.sh',\n",
       " 'resources',\n",
       " '.compute',\n",
       " 'index.htm',\n",
       " 'tc-brew-tests.sh',\n",
       " 'taskcluster',\n",
       " 'util',\n",
       " 'my_run.py',\n",
       " 'tc-node-tests-prod.sh',\n",
       " 'tc-cpp-ds-tests.sh',\n",
       " 'tc-schedule.sh',\n",
       " '.ipynb_checkpoints',\n",
       " 'tc-cpp-ds-tests-prod.sh',\n",
       " '.gitignore',\n",
       " 'ds180205_1630.log',\n",
       " 'tc-node-tests.sh',\n",
       " 'LICENSE',\n",
       " 'ptst.csv',\n",
       " 'pidgin.csv',\n",
       " 'ISSUE_TEMPLATE.md',\n",
       " 'ds180207_0730.log',\n",
       " 'tc-tests-utils.sh',\n",
       " 'ds180206_1630.log',\n",
       " 'data']"
      ]
     },
     "execution_count": 10,
     "metadata": {},
     "output_type": "execute_result"
    }
   ],
   "source": [
    "os.listdir(\"/floydlocaldata/expt_qnqtbEZA8ntTzNYnEwry86/CUcMnKjGkA8LNje2qa8zEG/DeepSpeech\")"
   ]
  },
  {
   "cell_type": "code",
   "execution_count": 14,
   "metadata": {},
   "outputs": [
    {
     "data": {
      "text/plain": [
       "[]"
      ]
     },
     "execution_count": 14,
     "metadata": {},
     "output_type": "execute_result"
    }
   ],
   "source": [
    "os.listdir(\"/media\")"
   ]
  },
  {
   "cell_type": "code",
   "execution_count": null,
   "metadata": {},
   "outputs": [],
   "source": []
  }
 ],
 "metadata": {
  "kernelspec": {
   "display_name": "Python 3",
   "language": "python",
   "name": "python3"
  },
  "language_info": {
   "codemirror_mode": {
    "name": "ipython",
    "version": 3
   },
   "file_extension": ".py",
   "mimetype": "text/x-python",
   "name": "python",
   "nbconvert_exporter": "python",
   "pygments_lexer": "ipython3",
   "version": "3.6.2"
  }
 },
 "nbformat": 4,
 "nbformat_minor": 2
}
