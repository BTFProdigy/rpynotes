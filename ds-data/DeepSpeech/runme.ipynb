{
 "cells": [
  {
   "cell_type": "code",
   "execution_count": null,
   "metadata": {},
   "outputs": [],
   "source": [
    "import os\n",
    "\n",
    "os.system(\"python -u DeepSpeech.py \\\n",
    "  --train_files '/deepspeech-test/ldc93s1/ldc93s1.csv' --train_batch_size 1 \\\n",
    "  --dev_files '/deepspeech-test/ldc93s1/ldc93s1.csv' --dev_batch_size 1 \\\n",
    "  --test_files '/deepspeech-test/ldc93s1/ldc93s1.csv' --test_batch_size 1 \\\n",
    "  --n_hidden 494 --epoch 75 --random_seed 4567 --default_stddev 0.046875 \\\n",
    "  --max_to_keep 1 --checkpoint_dir './tmp/ckpt' --checkpoint_secs 0 \\\n",
    "  --learning_rate 0.001 --dropout_rate 0.05  --export_dir './tmp/train' \\\n",
    "  --use_seq_length False --decoder_library_path './tmp/ds/libctc_decoder_with_kenlm.so'\")\n",
    "\n",
    "print(\"Done?\")"
   ]
  }
 ],
 "metadata": {
  "kernelspec": {
   "display_name": "Python 3",
   "language": "python",
   "name": "python3"
  },
  "language_info": {
   "codemirror_mode": {
    "name": "ipython",
    "version": 3
   },
   "file_extension": ".py",
   "mimetype": "text/x-python",
   "name": "python",
   "nbconvert_exporter": "python",
   "pygments_lexer": "ipython3",
   "version": "3.6.2"
  }
 },
 "nbformat": 4,
 "nbformat_minor": 2
}
