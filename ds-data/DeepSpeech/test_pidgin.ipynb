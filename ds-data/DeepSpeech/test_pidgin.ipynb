{
 "cells": [
  {
   "cell_type": "code",
   "execution_count": 3,
   "metadata": {
    "collapsed": false
   },
   "outputs": [
    {
     "name": "stdout",
     "output_type": "stream",
     "text": [
      "Tokenization took: 0.00 ms\n",
      "Type conversion took: 1.00 ms\n",
      "Parser memory cleanup took: 0.00 ms\n"
     ]
    },
    {
     "data": {
      "text/html": [
       "<div>\n",
       "<table border=\"1\" class=\"dataframe\">\n",
       "  <thead>\n",
       "    <tr style=\"text-align: right;\">\n",
       "      <th></th>\n",
       "      <th>wav_filename</th>\n",
       "      <th>transcript</th>\n",
       "      <th>wav_filesize</th>\n",
       "    </tr>\n",
       "  </thead>\n",
       "  <tbody>\n",
       "    <tr>\n",
       "      <th>0</th>\n",
       "      <td>data/pidgin/wav/B01___01_Matthew_____PCMTSCN2D...</td>\n",
       "      <td>jisos kraist wey dem born for david and abraha...</td>\n",
       "      <td>NaN</td>\n",
       "    </tr>\n",
       "    <tr>\n",
       "      <th>1</th>\n",
       "      <td>data/pidgin/wav/B01___02_Matthew_____PCMTSCN2D...</td>\n",
       "      <td>afta dem born jisos kraist for betlehem wey de...</td>\n",
       "      <td>NaN</td>\n",
       "    </tr>\n",
       "    <tr>\n",
       "      <th>2</th>\n",
       "      <td>data/pidgin/wav/B01___03_Matthew_____PCMTSCN2D...</td>\n",
       "      <td>for dat taim jon di baptist dey prish insaid d...</td>\n",
       "      <td>NaN</td>\n",
       "    </tr>\n",
       "    <tr>\n",
       "      <th>3</th>\n",
       "      <td>data/pidgin/wav/B01___04_Matthew_____PCMTSCN2D...</td>\n",
       "      <td>di holi spirit tak jisos go insaid desert mak ...</td>\n",
       "      <td>NaN</td>\n",
       "    </tr>\n",
       "    <tr>\n",
       "      <th>4</th>\n",
       "      <td>data/pidgin/wav/B01___05_Matthew_____PCMTSCN2D...</td>\n",
       "      <td>wen jisos si di pipol e kon klimb go di mounti...</td>\n",
       "      <td>NaN</td>\n",
       "    </tr>\n",
       "  </tbody>\n",
       "</table>\n",
       "</div>"
      ],
      "text/plain": [
       "                                        wav_filename  \\\n",
       "0  data/pidgin/wav/B01___01_Matthew_____PCMTSCN2D...   \n",
       "1  data/pidgin/wav/B01___02_Matthew_____PCMTSCN2D...   \n",
       "2  data/pidgin/wav/B01___03_Matthew_____PCMTSCN2D...   \n",
       "3  data/pidgin/wav/B01___04_Matthew_____PCMTSCN2D...   \n",
       "4  data/pidgin/wav/B01___05_Matthew_____PCMTSCN2D...   \n",
       "\n",
       "                                          transcript  wav_filesize  \n",
       "0  jisos kraist wey dem born for david and abraha...           NaN  \n",
       "1  afta dem born jisos kraist for betlehem wey de...           NaN  \n",
       "2  for dat taim jon di baptist dey prish insaid d...           NaN  \n",
       "3  di holi spirit tak jisos go insaid desert mak ...           NaN  \n",
       "4  wen jisos si di pipol e kon klimb go di mounti...           NaN  "
      ]
     },
     "execution_count": 3,
     "metadata": {},
     "output_type": "execute_result"
    }
   ],
   "source": [
    "import pandas as pd\n",
    "import matplotlib as plt\n",
    "import numpy as np\n",
    "\n",
    "data=pd.read_csv(\"pidgin.csv\",encoding='latin_1', verbose=True)\n",
    "data.head()"
   ]
  },
  {
   "cell_type": "code",
   "execution_count": 4,
   "metadata": {
    "collapsed": false
   },
   "outputs": [
    {
     "name": "stdout",
     "output_type": "stream",
     "text": [
      "19945976\n"
     ]
    }
   ],
   "source": [
    "# sklearn.__all__\n",
    "import os\n",
    "for i in range(len(data)):\n",
    "    print(os.path.getsize(data['wav_filename'][i]))\n",
    "    break"
   ]
  },
  {
   "cell_type": "code",
   "execution_count": 6,
   "metadata": {
    "collapsed": false,
    "scrolled": true
   },
   "outputs": [
    {
     "name": "stderr",
     "output_type": "stream",
     "text": [
      "C:\\Users\\u1273400\\AppData\\Local\\Continuum\\Anaconda3\\lib\\site-packages\\ipykernel\\__main__.py:4: SettingWithCopyWarning: \n",
      "A value is trying to be set on a copy of a slice from a DataFrame\n",
      "\n",
      "See the caveats in the documentation: http://pandas.pydata.org/pandas-docs/stable/indexing.html#indexing-view-versus-copy\n"
     ]
    },
    {
     "data": {
      "text/html": [
       "<div>\n",
       "<table border=\"1\" class=\"dataframe\">\n",
       "  <thead>\n",
       "    <tr style=\"text-align: right;\">\n",
       "      <th></th>\n",
       "      <th>wav_filename</th>\n",
       "      <th>transcript</th>\n",
       "      <th>wav_filesize</th>\n",
       "    </tr>\n",
       "  </thead>\n",
       "  <tbody>\n",
       "    <tr>\n",
       "      <th>0</th>\n",
       "      <td>data/pidgin/wav/B01___01_Matthew_____PCMTSCN2D...</td>\n",
       "      <td>jisos kraist wey dem born for david and abraha...</td>\n",
       "      <td>19945976.0</td>\n",
       "    </tr>\n",
       "  </tbody>\n",
       "</table>\n",
       "</div>"
      ],
      "text/plain": [
       "                                        wav_filename  \\\n",
       "0  data/pidgin/wav/B01___01_Matthew_____PCMTSCN2D...   \n",
       "\n",
       "                                          transcript  wav_filesize  \n",
       "0  jisos kraist wey dem born for david and abraha...    19945976.0  "
      ]
     },
     "execution_count": 6,
     "metadata": {},
     "output_type": "execute_result"
    }
   ],
   "source": [
    "# sklearn.__all__\n",
    "import os\n",
    "for i in range(len(data)):\n",
    "    data['wav_filesize'][i]=os.path.getsize(data['wav_filename'][i])\n",
    "    #data['wav_filesize'][i]=os.path.getsize(data['wav_filename'][i])\n",
    "    #break\n",
    "data.head(1)"
   ]
  },
  {
   "cell_type": "code",
   "execution_count": 7,
   "metadata": {
    "collapsed": false
   },
   "outputs": [],
   "source": [
    "# data['wav_filename'][0]"
   ]
  },
  {
   "cell_type": "code",
   "execution_count": 8,
   "metadata": {
    "collapsed": false
   },
   "outputs": [
    {
     "name": "stdout",
     "output_type": "stream",
     "text": [
      "23 6\n"
     ]
    },
    {
     "name": "stderr",
     "output_type": "stream",
     "text": [
      "C:\\Users\\u1273400\\AppData\\Local\\Continuum\\Anaconda3\\lib\\site-packages\\sklearn\\cross_validation.py:41: DeprecationWarning: This module was deprecated in version 0.18 in favor of the model_selection module into which all the refactored classes and functions are moved. Also note that the interface of the new CV iterators are different from that of this module. This module will be removed in 0.20.\n",
      "  \"This module will be removed in 0.20.\", DeprecationWarning)\n"
     ]
    }
   ],
   "source": [
    "# In[14]:\n",
    "#from sklearn.model_selection import StratifiedShuffleSplit\n",
    "#from sklearn.cross_validation import StratifiedShuffleSplit\n",
    "from sklearn.cross_validation import ShuffleSplit\n",
    "split = ShuffleSplit(len(data), n_iter=1, test_size=0.2, random_state=42)\n",
    "for train_index, test_index in split: #.split(data):\n",
    "    v = data.loc[train_index]\n",
    "    te = data.loc[test_index]\n",
    "\n",
    "print(len(v),len(te))\n"
   ]
  },
  {
   "cell_type": "code",
   "execution_count": 9,
   "metadata": {
    "collapsed": false
   },
   "outputs": [
    {
     "name": "stdout",
     "output_type": "stream",
     "text": [
      "17 6\n"
     ]
    }
   ],
   "source": [
    "# In[14]:\n",
    "#from sklearn.model_selection import StratifiedShuffleSplit\n",
    "#from sklearn.cross_validation import StratifiedShuffleSplit\n",
    "from sklearn.cross_validation import ShuffleSplit\n",
    "split = ShuffleSplit(len(v), n_iter=1, test_size=0.25, random_state=42)\n",
    "for train_index, test_index in split: #.split(data):\n",
    "    tr = v.loc[train_index]\n",
    "    de = v.loc[test_index]\n",
    "\n",
    "print(len(tr),len(de))\n"
   ]
  },
  {
   "cell_type": "code",
   "execution_count": 10,
   "metadata": {
    "collapsed": false
   },
   "outputs": [],
   "source": [
    "de.to_csv('pdev.csv',encoding='latin_1')\n",
    "tr.to_csv('ptrn.csv',encoding='latin_1')\n",
    "te.to_csv('ptst.csv',encoding='latin_1')"
   ]
  },
  {
   "cell_type": "raw",
   "metadata": {
    "collapsed": true
   },
   "source": [
    "# use pandas export\n",
    "import csv\n",
    "\n",
    "with open('train_sents.csv', 'w') as f:  # Just use 'w' mode in 3.x\n",
    "    w = csv.DictWriter(f, l[0].keys())\n",
    "    w.writeheader()\n",
    "    [w.writerow(my_dict) for my_dict in l]"
   ]
  }
 ],
 "metadata": {
  "anaconda-cloud": {},
  "kernelspec": {
   "display_name": "Python [default]",
   "language": "python",
   "name": "python3"
  },
  "language_info": {
   "codemirror_mode": {
    "name": "ipython",
    "version": 3
   },
   "file_extension": ".py",
   "mimetype": "text/x-python",
   "name": "python",
   "nbconvert_exporter": "python",
   "pygments_lexer": "ipython3",
   "version": "3.5.2"
  }
 },
 "nbformat": 4,
 "nbformat_minor": 1
}
