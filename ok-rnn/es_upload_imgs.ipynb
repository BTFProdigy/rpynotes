{
 "cells": [
  {
   "cell_type": "code",
   "execution_count": 31,
   "metadata": {
    "collapsed": true
   },
   "outputs": [],
   "source": [
    "m=[]\n",
    "inF=open(\"images.txt\",\"r\")\n",
    "for line in inF:\n",
    "    m.append(line.split(\"=\"))"
   ]
  },
  {
   "cell_type": "code",
   "execution_count": 32,
   "metadata": {
    "collapsed": false
   },
   "outputs": [],
   "source": [
    "def six(v):\n",
    "    #print( \"for six.\\n\")\n",
    "    return {'sc':v[1],'ssv':v[2],'sev':v[3],'ec':v[4],'esv':v[5],'eev':v[6]}\n",
    "\n",
    "def five(v):\n",
    "    print( \"five params\",v)\n",
    "    return {'sc':v[1],'ssv':v[2],'sev':v[3],'ec':v[4],'esv':1,'eev':v[5]}\n",
    "\n",
    "def four(v):\n",
    "    print( \"four here.\\n sc=\",v[1])\n",
    "    return {'sc':v[1],'ssv':v[2],'sev':None,'ec':v[3],'esv':None,'eev':v[4]}\n",
    "\n",
    "def three(v):\n",
    "    #print( \"for three.\\n\")\n",
    "    return {'sc':v[1],'ssv':v[2],'sev':v[3],'ec':None,'esv':None,'eev':None}\n",
    "\n",
    "# map the inputs to the function blocks\n",
    "\n",
    "options = {3 : three,\n",
    "           4 : four,\n",
    "           5 : five,\n",
    "           6 : six,\n",
    "}\n",
    "#options[3]([1,2,3])"
   ]
  },
  {
   "cell_type": "code",
   "execution_count": 37,
   "metadata": {
    "collapsed": false
   },
   "outputs": [
    {
     "name": "stdout",
     "output_type": "stream",
     "text": [
      "five params ['matt', '01', '21', '25', '02', '10']\n",
      "five params ['matt', '02', '22', '23', '03', '12']\n",
      "five params ['matt', '03', '12', '17', '04', '08']\n",
      "five params ['matt', '04', '23', '25', '05', '10']\n",
      "five params ['matt', '05', '47', '48', '06', '13']\n",
      "five params ['matt', '06', '25', '34', '07', '05']\n",
      "five params ['matt', '07', '20', '29', '08', '03']\n",
      "five params ['matt', '08', '25', '34', '09', '03']\n",
      "five params ['matt', '09', '29', '38', '10', '04']\n",
      "five params ['Matt', '10', '34', '42', '11', '03']\n",
      "five params ['Matt', '11', '20', '30', '12', '01']\n",
      "five params ['Matt', '12', '42', '50', '13', '04']\n",
      "five params ['Matt', '13', '55', '58', '14', '12']\n",
      "five params ['Matt', '14', '22', '36', '15', '02']\n",
      "five params ['Matt', '15', '31', '39', '16', '04']\n",
      "five params ['Matt', '16', '18', '28', '17', '02']\n",
      "five params ['Matt', '17', '19', '27', '18', '03']\n",
      "five params ['Matt', '18', '28', '35', '19', '3']\n",
      "five params ['Matt', '20', '29', '34', '21', '9']\n",
      "five params ['Matt', '21', '44', '45', '22', '13']\n"
     ]
    },
    {
     "data": {
      "text/plain": [
       "'matt'"
      ]
     },
     "execution_count": 37,
     "metadata": {},
     "output_type": "execute_result"
    }
   ],
   "source": [
    "imgs=[];map=[];book=''\n",
    "for n in m:\n",
    "    if(not n[0].lower().strip().endswith('png')):\n",
    "        n[0]=n[0].lower().strip()+'.png'\n",
    "    imgs.append(n[0].lower().strip().replace(' ','-'))\n",
    "    arr=n[1].split()\n",
    "    #print(n[0].lower().strip().replace(' ','-'),len(arr))\n",
    "    map.append(options[len(arr)-1](arr))\n",
    "book=m[0][1].split()[0].lower().strip()\n",
    "book"
   ]
  },
  {
   "cell_type": "code",
   "execution_count": 34,
   "metadata": {
    "collapsed": false
   },
   "outputs": [
    {
     "data": {
      "text/plain": [
       "{'acknowledged': True, 'index': 'bchap_map', 'shards_acknowledged': True}"
      ]
     },
     "execution_count": 34,
     "metadata": {},
     "output_type": "execute_result"
    }
   ],
   "source": [
    "#create index for chapters on elasticsearch\n",
    "\n",
    "import elasticsearch\n",
    "index_name = \"bchap_map\"\n",
    "index_type = \"es_verse_img\"\n",
    "elastic_host = \"gaia.hud.ac.uk\"\n",
    "elastic_port = \"9200\"\n",
    "# Connect to ElasticSearch\n",
    "es = elasticsearch.Elasticsearch(elastic_host, port=elastic_port)\n",
    "# Delete & Create index\n",
    "es.indices.delete(index=index_name, ignore=[400, 404])\n",
    "es.indices.create(index=index_name, ignore=400)"
   ]
  },
  {
   "cell_type": "code",
   "execution_count": 35,
   "metadata": {
    "collapsed": false,
    "scrolled": true
   },
   "outputs": [
    {
     "name": "stdout",
     "output_type": "stream",
     "text": [
      "matt_01_01_03 ..created!\n",
      "matt_01_03_21 ..created!\n",
      "matt_01_21_10 ..created!\n",
      "matt_02_10_21 ..created!\n",
      "matt_02_22_12 ..created!\n",
      "matt_03_12_08 ..created!\n",
      "matt_04_09_22 ..created!\n",
      "matt_04_23_10 ..created!\n",
      "matt_05_11_21 ..created!\n",
      "matt_05_22_32 ..created!\n",
      "matt_05_33_47 ..created!\n",
      "matt_05_47_13 ..created!\n",
      "matt_28_15_20 ..created!\n",
      "matt_06_14_24 ..created!\n",
      "matt_06_25_05 ..created!\n",
      "matt_07_06_19 ..created!\n",
      "matt_07_20_03 ..created!\n",
      "matt_08_04_17 ..created!\n",
      "matt_08_18_23 ..created!\n",
      "matt_08_25_03 ..created!\n",
      "matt_09_04_16 ..created!\n",
      "matt_09_17_28 ..created!\n",
      "matt_09_29_04 ..created!\n",
      "matt_10_05_19 ..created!\n",
      "matt_10_20_33 ..created!\n",
      "matt_10_34_03 ..created!\n",
      "matt_11_04_19 ..created!\n",
      "matt_11_20_01 ..created!\n",
      "matt_12_02_16 ..created!\n",
      "matt_12_16_29 ..created!\n",
      "matt_12_30_42 ..created!\n",
      "matt_12_42_04 ..created!\n",
      "matt_13_04_17 ..created!\n",
      "matt_13_18_31 ..created!\n",
      "matt_13_31_43 ..created!\n",
      "matt_13_44_55 ..created!\n",
      "matt_13_55_12 ..created!\n",
      "matt_14_22_02 ..created!\n",
      "matt_15_02_18 ..created!\n",
      "matt_15_18_31 ..created!\n",
      "matt_15_31_04 ..created!\n",
      "matt_16_04_17 ..created!\n",
      "matt_16_18_02 ..created!\n",
      "matt_17_02_18 ..created!\n",
      "matt_17_19_03 ..created!\n",
      "matt_18_03_14 ..created!\n",
      "matt_18_15_27 ..created!\n",
      "matt_18_28_03 ..created!\n",
      "matt_19_04_16 ..created!\n",
      "matt_19_17_30 ..created!\n",
      "matt_20_01_16 ..created!\n",
      "matt_20_17_28 ..created!\n",
      "matt_20_29_09 ..created!\n",
      "matt_21_09_20 ..created!\n",
      "matt_21_21_32 ..created!\n",
      "matt_22_32_43 ..created!\n",
      "matt_21_44_13 ..created!\n",
      "matt_22_14_27 ..created!\n",
      "matt_22_28_44 ..created!\n",
      "matt_22_45_14 ..created!\n",
      "matt_23_15_26 ..created!\n",
      "matt_23_27_38 ..created!\n",
      "matt_23_38_14 ..created!\n",
      "matt_24_15_30 ..created!\n",
      "matt_24_31_45 ..created!\n",
      "matt_24_46_13 ..created!\n",
      "matt_25_14_27 ..created!\n",
      "matt_25_28_43 ..created!\n",
      "matt_25_44_13 ..created!\n",
      "matt_26_14_26 ..created!\n",
      "matt_26_27_36 ..created!\n",
      "matt_26_37_52 ..created!\n",
      "matt_26_53_65 ..created!\n",
      "matt_26_66_03 ..created!\n",
      "matt_27_04_18 ..created!\n",
      "matt_27_19_31 ..created!\n",
      "matt_27_32_48 ..created!\n",
      "matt_27_49_64 ..created!\n",
      "matt_27_65_14 ..created!\n",
      "matt_28_15_20 ..created!\n"
     ]
    }
   ],
   "source": [
    "import json\n",
    "chn=[]\n",
    "for i in range(len(map)):\n",
    "    js={\n",
    "        \"book\":book, \n",
    "        \"img1\":imgs[i],\n",
    "        \"img2\":imgs[i+1] if i<len(map)-1 else None,\n",
    "        \"sc\":int(map[i]['sc']),\n",
    "        \"ec\":int(map[i]['ec']) if not map[i]['ec']==None else int(map[i]['sc']),\n",
    "        \"ssv\":int(map[i]['ssv']),\n",
    "        \"sev\":int(map[i]['sev']) if not map[i]['sev']==None else None,\n",
    "        \"eev\":int(map[i]['eev']) if not map[i]['eev']==None else None,\n",
    "        \"esv\":int(map[i]['esv']) if not map[i]['esv']==None else None,\n",
    "        \"sno\":i+1\n",
    "    }\n",
    "    data=json.dumps(js)\n",
    "    id=map[i]['eev'] if not map[i]['eev']==None else map[i]['sev']\n",
    "    id=book+'_'+map[i]['sc'].zfill(2)+'_'+map[i]['ssv'].zfill(2)+'_'+id.zfill(2)\n",
    "    #print(data)\n",
    "    #POST TO ElasticSearch\n",
    "    res = es.index(index=index_name, doc_type=index_type, id=id, body=data)\n",
    "    #print(res)\n",
    "    print(id, \"..created!\" if res['_shards']['successful']>0 else \"failed\")\n",
    "    #time.sleep(1.0)"
   ]
  },
  {
   "cell_type": "raw",
   "metadata": {
    "collapsed": false
   },
   "source": [
    "#es.get(index='bchaps', doc_type='bible_chapters', id='matt_20')['_source']\n",
    "es.get(index='bchap_map', doc_type='bible chapters map', id='matt_01_01_03')['_source']"
   ]
  },
  {
   "cell_type": "raw",
   "metadata": {
    "collapsed": false
   },
   "source": [
    "es.search(index=\"bchaps\", body={\"query\": {\"match\": {'book':'matt','sc':1}}})"
   ]
  },
  {
   "cell_type": "raw",
   "metadata": {
    "collapsed": false
   },
   "source": [
    "es.search(index=\"bchap_map\", body={\"from\":0,\"size\":200,\"query\":{\"bool\":{\"filter\":[{\"bool\":{\"must\":[{\"match_phrase\":{\"sno\":{\"query\":1,\"slop\":0,\"boost\":1.0}}}],\"adjust_pure_negative\":True,\"boost\":1.0}}],\"adjust_pure_negative\":True,\"boost\":1.0}}})"
   ]
  }
 ],
 "metadata": {
  "anaconda-cloud": {},
  "kernelspec": {
   "display_name": "Python [conda root]",
   "language": "python",
   "name": "conda-root-py"
  },
  "language_info": {
   "codemirror_mode": {
    "name": "ipython",
    "version": 3
   },
   "file_extension": ".py",
   "mimetype": "text/x-python",
   "name": "python",
   "nbconvert_exporter": "python",
   "pygments_lexer": "ipython3",
   "version": "3.5.2"
  }
 },
 "nbformat": 4,
 "nbformat_minor": 1
}
