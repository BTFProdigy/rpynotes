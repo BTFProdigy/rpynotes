{
 "cells": [
  {
   "cell_type": "code",
   "execution_count": 1,
   "metadata": {
    "collapsed": true
   },
   "outputs": [],
   "source": [
    "import bs4\n",
    "from urllib.request import urlopen as ureq\n",
    "from bs4 import BeautifulSoup as soup"
   ]
  },
  {
   "cell_type": "code",
   "execution_count": 2,
   "metadata": {
    "collapsed": true
   },
   "outputs": [],
   "source": [
    "# opening connection and grabbing page\n",
    "my_url='http://listen.bible.is/PCMTSC/Mark/3'\n",
    "uClient=ureq(my_url)\n",
    "page=uClient.read()\n",
    "uClient.close()"
   ]
  },
  {
   "cell_type": "code",
   "execution_count": 6,
   "metadata": {
    "collapsed": false
   },
   "outputs": [
    {
     "name": "stderr",
     "output_type": "stream",
     "text": [
      "/home/john/anaconda3/lib/python3.5/site-packages/bs4/__init__.py:181: UserWarning: No parser was explicitly specified, so I'm using the best available HTML parser for this system (\"lxml\"). This usually isn't a problem, but if you run this code on another system, or in a different virtual environment, it may use a different parser and behave differently.\n",
      "\n",
      "The code that caused this warning is on line 184 of the file /home/john/anaconda3/lib/python3.5/runpy.py. To get rid of this warning, change code that looks like this:\n",
      "\n",
      " BeautifulSoup([your markup])\n",
      "\n",
      "to this:\n",
      "\n",
      " BeautifulSoup([your markup], \"lxml\")\n",
      "\n",
      "  markup_type=markup_type))\n"
     ]
    }
   ],
   "source": [
    "page_soup=soup(page,\"html\")"
   ]
  },
  {
   "cell_type": "code",
   "execution_count": 7,
   "metadata": {
    "collapsed": true
   },
   "outputs": [],
   "source": [
    "page_soup.h1"
   ]
  },
  {
   "cell_type": "code",
   "execution_count": 8,
   "metadata": {
    "collapsed": false
   },
   "outputs": [
    {
     "data": {
      "text/plain": [
       "<p id=\"mobile-account-menu-footer-terms\">\n",
       "<a class=\"first\" href=\"/about\">About</a>\n",
       "<a href=\"/terms\">Terms &amp; Conditions</a>\n",
       "<a href=\"/privacy\">Privacy Policy</a>\n",
       "</p>"
      ]
     },
     "execution_count": 8,
     "metadata": {},
     "output_type": "execute_result"
    }
   ],
   "source": [
    "page_soup.p"
   ]
  },
  {
   "cell_type": "code",
   "execution_count": 11,
   "metadata": {
    "collapsed": false
   },
   "outputs": [
    {
     "name": "stdout",
     "output_type": "stream",
     "text": [
      "#\n",
      "/bible\n",
      "/radio\n",
      "/download/audio\n",
      "/apps\n",
      "/share\n",
      "/donate\n",
      "/login\n",
      "/signup\n",
      "/about\n",
      "/terms\n",
      "/privacy\n",
      "http://www.faithcomesbyhearing.com\n",
      "https://www.facebook.com/Bibleis\n",
      "/\n",
      "/login?redirect=%2Fbible\n",
      "/signup?redirect=%2Fbible\n",
      "#\n",
      "#\n",
      "#\n",
      "#\n",
      "http://listen.bible.is/PCMTSC/Mark/2\n",
      "javascript:;\n",
      "javascript:;\n",
      "javascript:;\n",
      "http://listen.bible.is/PCMTSC/Mark/4\n",
      "http://listen.bible.is/PCMTSC/Mark/2\n",
      "http://listen.bible.is/PCMTSC/Mark/4\n",
      "/bible/info?damId=PCMTSC\n",
      "/PCMTSC/Mark/4\n",
      "#\n",
      "/about\n",
      "/terms\n",
      "/privacy\n",
      "//support.bible.is/contact\n",
      "http://www.faithcomesbyhearing.com/\n",
      "https://www.facebook.com/Bibleis\n"
     ]
    }
   ],
   "source": [
    "for link in page_soup.find_all('a'):\n",
    "    print(link.get('href'))"
   ]
  },
  {
   "cell_type": "code",
   "execution_count": 26,
   "metadata": {
    "collapsed": false
   },
   "outputs": [
    {
     "data": {
      "text/plain": [
       "[<div class=\"content-text\"><span class=\"chapter-title\">Mark 3</span><p></p><p><span class=\"verse-container\" data-verse=\"1\" id=\"verse-container1\"><span class=\"annotation-container\" id=\"annotation-container1\"><span class=\"verse-content\" id=\"verse-content-1\"><span class=\"verse-marker\">1</span><span class=\"bookmarkNoteIcon\" id=\"bookmarkNoteIcon1\"></span><span class=\"verse-text\">Wen Jisos enta di sinagog again, won man wey en hand die, dey der. </span></span></span></span><span class=\"verse-container\" data-verse=\"2\" id=\"verse-container2\"><span class=\"annotation-container\" id=\"annotation-container2\"><span class=\"verse-content\" id=\"verse-content-2\"><span class=\"verse-marker\">2</span><span class=\"bookmarkNoteIcon\" id=\"bookmarkNoteIcon2\"></span><span class=\"verse-text\">Di Farisi pipol kon dey luk Jisos wit kona eye weda e go heal di man for Sabat Day, so dat dem go si wetin dem go tak akuiz am. </span></span></span></span><span class=\"verse-container\" data-verse=\"3\" id=\"verse-container3\"><span class=\"annotation-container\" id=\"annotation-container3\"><span class=\"verse-content\" id=\"verse-content-3\"><span class=\"verse-marker\">3</span><span class=\"bookmarkNoteIcon\" id=\"bookmarkNoteIcon3\"></span><span class=\"verse-text\">So Jisos tel di man, \"Mak yu stand for senta mak evribodi si yu.\" </span></span></span></span><span class=\"verse-container\" data-verse=\"4\" id=\"verse-container4\"><span class=\"annotation-container\" id=\"annotation-container4\"><span class=\"verse-content\" id=\"verse-content-4\"><span class=\"verse-marker\">4</span><span class=\"bookmarkNoteIcon\" id=\"bookmarkNoteIcon4\"></span><span class=\"verse-text\">Jisos kon ask, \"E gud mak wi du gud or bad tin for Sabat Day? Mak wi save or distroi pesin?\" Bot dem nor ansa. </span></span></span></span><span class=\"verse-container\" data-verse=\"5\" id=\"verse-container5\"><span class=\"annotation-container\" id=\"annotation-container5\"><span class=\"verse-content\" id=\"verse-content-5\"><span class=\"verse-marker\">5</span><span class=\"bookmarkNoteIcon\" id=\"bookmarkNoteIcon5\"></span><span class=\"verse-text\">So Jisos ves kon luk dem roun, bikos dia heart strong wel-wel, den e tel di man, \"Stresh yor hand.\" So di man stresh en hand and di hand kon wel again. </span></span></span></span><span class=\"verse-container\" data-verse=\"6\" id=\"verse-container6\"><span class=\"annotation-container\" id=\"annotation-container6\"><span class=\"verse-content\" id=\"verse-content-6\"><span class=\"verse-marker\">6</span><span class=\"bookmarkNoteIcon\" id=\"bookmarkNoteIcon6\"></span><span class=\"verse-text\">Den di Farisi and Herod pipol kon kwik-kwik go outsaid go plan haw dem go tak kil Jisos. </span></span></span></span><span class=\"verse-container\" data-verse=\"7\" id=\"verse-container7\"><span class=\"annotation-container\" id=\"annotation-container7\"><span class=\"verse-content\" id=\"verse-content-7\"><span class=\"verse-marker\">7</span><span class=\"bookmarkNoteIcon\" id=\"bookmarkNoteIcon7\"></span><span class=\"verse-text\">Den Jisos komot wit en disaipols go di wotasaid and plenti pipol from Galili folo am. Pipol from Judea, </span></span></span></span><span class=\"verse-container\" data-verse=\"8\" id=\"verse-container8\"><span class=\"annotation-container\" id=\"annotation-container8\"><span class=\"verse-content\" id=\"verse-content-8\"><span class=\"verse-marker\">8</span><span class=\"bookmarkNoteIcon\" id=\"bookmarkNoteIcon8\"></span><span class=\"verse-text\">Jerusalem, Idumia, som from akros Jordan Riva and aroun Tyre and Sidon kom mit am wen dem hear abaut di tins wey e dey du. </span></span></span></span><span class=\"verse-container\" data-verse=\"9\" id=\"verse-container9\"><span class=\"annotation-container\" id=\"annotation-container9\"><span class=\"verse-content\" id=\"verse-content-9\"><span class=\"verse-marker\">9</span><span class=\"bookmarkNoteIcon\" id=\"bookmarkNoteIcon9\"></span><span class=\"verse-text\">Bikos of di pipol, Jisos kon tel en disaipols mak dem priper won smol boat for am, so dat pipol nor go push am enihaw. </span></span></span></span><span class=\"verse-container\" data-verse=\"10\" id=\"verse-container10\"><span class=\"annotation-container\" id=\"annotation-container10\"><span class=\"verse-content\" id=\"verse-content-10\"><span class=\"verse-marker\">10</span><span class=\"bookmarkNoteIcon\" id=\"bookmarkNoteIcon10\"></span><span class=\"verse-text\">Jisos kon heal meni pipol, so all di pipol wey nor wel kon dey push ish oda, so dat dem go fit tosh am. </span></span></span></span><span class=\"verse-container\" data-verse=\"11\" id=\"verse-container11\"><span class=\"annotation-container\" id=\"annotation-container11\"><span class=\"verse-content\" id=\"verse-content-11\"><span class=\"verse-marker\">11</span><span class=\"bookmarkNoteIcon\" id=\"bookmarkNoteIcon11\"></span><span class=\"verse-text\">And enitaim evil spirit wey dey insaid som pipol bodi si Jisos, dem go fal for en front dey shaut, \"Yu bi God Pikin.\" </span></span></span></span><span class=\"verse-container\" data-verse=\"12\" id=\"verse-container12\"><span class=\"annotation-container\" id=\"annotation-container12\"><span class=\"verse-content\" id=\"verse-content-12\"><span class=\"verse-marker\">12</span><span class=\"bookmarkNoteIcon\" id=\"bookmarkNoteIcon12\"></span><span class=\"verse-text\">Bot Jisos kon warn dem wel-wel mak dem nor let pipol no hu e bi. </span></span></span></span><span class=\"verse-container\" data-verse=\"13\" id=\"verse-container13\"><span class=\"annotation-container\" id=\"annotation-container13\"><span class=\"verse-content\" id=\"verse-content-13\"><span class=\"verse-marker\">13</span><span class=\"bookmarkNoteIcon\" id=\"bookmarkNoteIcon13\"></span><span class=\"verse-text\">Jisos klimb go on-top mountin kon kol di pipol wey e wont, mak dem kom mit am for der. </span></span></span></span><span class=\"verse-container\" data-verse=\"14\" id=\"verse-container14\"><span class=\"annotation-container\" id=\"annotation-container14\"><span class=\"verse-content\" id=\"verse-content-14\"><span class=\"verse-marker\">14</span><span class=\"bookmarkNoteIcon\" id=\"bookmarkNoteIcon14\"></span><span class=\"verse-text\">E kon shuz twef (wey e kol apostols), so dat dem go dey wit am and e go fit send dem go prish. </span></span></span></span><span class=\"verse-container\" data-verse=\"15\" id=\"verse-container15\"><span class=\"annotation-container\" id=\"annotation-container15\"><span class=\"verse-content\" id=\"verse-content-15\"><span class=\"verse-marker\">15</span><span class=\"bookmarkNoteIcon\" id=\"bookmarkNoteIcon15\"></span><span class=\"verse-text\">E kon giv dem pawa to driv dimons komot. </span></span></span></span><span class=\"verse-container\" data-verse=\"16\" id=\"verse-container16\"><span class=\"annotation-container\" id=\"annotation-container16\"><span class=\"verse-content\" id=\"verse-content-16\"><span class=\"verse-marker\">16</span><span class=\"bookmarkNoteIcon\" id=\"bookmarkNoteIcon16\"></span><span class=\"verse-text\">Na di twef wey e shuz bi dis: Saimon wey e kol Pita, </span></span></span></span><span class=\"verse-container\" data-verse=\"17\" id=\"verse-container17\"><span class=\"annotation-container\" id=\"annotation-container17\"><span class=\"verse-content\" id=\"verse-content-17\"><span class=\"verse-marker\">17</span><span class=\"bookmarkNoteIcon\" id=\"bookmarkNoteIcon17\"></span><span class=\"verse-text\">James and en broda Jon wey bi Zebedi shildren wey Jisos dey kol \"Boanerges (wey min 'Thunda shildren');\" </span></span></span></span><span class=\"verse-container\" data-verse=\"18\" id=\"verse-container18\"><span class=\"annotation-container\" id=\"annotation-container18\"><span class=\"verse-content\" id=\"verse-content-18\"><span class=\"verse-marker\">18</span><span class=\"bookmarkNoteIcon\" id=\"bookmarkNoteIcon18\"></span><span class=\"verse-text\">plus Andru, Filip, Batlomi, Matiu, Tomas, James wey bi Afius pikin, Tadius, Saimon wey dem dey kol Zilot (pesin wey dey fite for en kontri), </span></span></span></span><span class=\"verse-container\" data-verse=\"19\" id=\"verse-container19\"><span class=\"annotation-container\" id=\"annotation-container19\"><span class=\"verse-content\" id=\"verse-content-19\"><span class=\"verse-marker\">19</span><span class=\"bookmarkNoteIcon\" id=\"bookmarkNoteIcon19\"></span><span class=\"verse-text\">and Judas Iskarot, wey sel Jisos giv en enimis. </span></span></span></span><span class=\"verse-container\" data-verse=\"20\" id=\"verse-container20\"><span class=\"annotation-container\" id=\"annotation-container20\"><span class=\"verse-content\" id=\"verse-content-20\"><span class=\"verse-marker\">20</span><span class=\"bookmarkNoteIcon\" id=\"bookmarkNoteIcon20\"></span><span class=\"verse-text\">Jisos go haus and plenti pipol kon gada am sotey en and en disaipols nor fit chop. </span></span></span></span><span class=\"verse-container\" data-verse=\"21\" id=\"verse-container21\"><span class=\"annotation-container\" id=\"annotation-container21\"><span class=\"verse-content\" id=\"verse-content-21\"><span class=\"verse-marker\">21</span><span class=\"bookmarkNoteIcon\" id=\"bookmarkNoteIcon21\"></span><span class=\"verse-text\">Wen Jisos famili hear wetin dey hapun, dem kon go hol am, bikos pipol dey sey, \"E don dey krase.\" </span></span></span></span><span class=\"verse-container\" data-verse=\"22\" id=\"verse-container22\"><span class=\"annotation-container\" id=\"annotation-container22\"><span class=\"verse-content\" id=\"verse-content-22\"><span class=\"verse-marker\">22</span><span class=\"bookmarkNoteIcon\" id=\"bookmarkNoteIcon22\"></span><span class=\"verse-text\">Di law tishas wey kom from Jerusalem sey, \"Belzibub dey insaid am\" and \"Na dimon pawa e tak dey driv dimons komot from pipol bodi.\" </span></span></span></span><span class=\"verse-container\" data-verse=\"23\" id=\"verse-container23\"><span class=\"annotation-container\" id=\"annotation-container23\"><span class=\"verse-content\" id=\"verse-content-23\"><span class=\"verse-marker\">23</span><span class=\"bookmarkNoteIcon\" id=\"bookmarkNoteIcon23\"></span><span class=\"verse-text\">So Jisos kon tok to di pipol for parabol sey: \"Haw Satan go fit tak driv Satan komot? </span></span></span></span><span class=\"verse-container\" data-verse=\"24\" id=\"verse-container24\"><span class=\"annotation-container\" id=\"annotation-container24\"><span class=\"verse-content\" id=\"verse-content-24\"><span class=\"verse-marker\">24</span><span class=\"bookmarkNoteIcon\" id=\"bookmarkNoteIcon24\"></span><span class=\"verse-text\">\"Eni kindom wer pipol dey fite ish oda, nor go fit stand. </span></span></span></span><span class=\"verse-container\" data-verse=\"25\" id=\"verse-container25\"><span class=\"annotation-container\" id=\"annotation-container25\"><span class=\"verse-content\" id=\"verse-content-25\"><span class=\"verse-marker\">25</span><span class=\"bookmarkNoteIcon\" id=\"bookmarkNoteIcon25\"></span><span class=\"verse-text\">\"And eni famili wey dey fite demsef, go skata. </span></span></span></span><span class=\"verse-container\" data-verse=\"26\" id=\"verse-container26\"><span class=\"annotation-container\" id=\"annotation-container26\"><span class=\"verse-content\" id=\"verse-content-26\"><span class=\"verse-marker\">26</span><span class=\"bookmarkNoteIcon\" id=\"bookmarkNoteIcon26\"></span><span class=\"verse-text\">\"So, if Satan kindom divide against ensef, e nor go fit stand and en end don rish. </span></span></span></span><span class=\"verse-container\" data-verse=\"27\" id=\"verse-container27\"><span class=\"annotation-container\" id=\"annotation-container27\"><span class=\"verse-content\" id=\"verse-content-27\"><span class=\"verse-marker\">27</span><span class=\"bookmarkNoteIcon\" id=\"bookmarkNoteIcon27\"></span><span class=\"verse-text\">\"Nobodi go fit enta strong man haus tif en propati, unles e first tie di strong man, bifor e go fit tif en tins. </span></span></span></span><span class=\"verse-container\" data-verse=\"28\" id=\"verse-container28\"><span class=\"annotation-container\" id=\"annotation-container28\"><span class=\"verse-content\" id=\"verse-content-28\"><span class=\"verse-marker\">28</span><span class=\"bookmarkNoteIcon\" id=\"bookmarkNoteIcon28\"></span><span class=\"verse-text\">\"I tel una tru wod, God go forgiv pipol di sins wey dem komit and all di bad wod wey dem tok. </span></span></span></span><span class=\"verse-container\" data-verse=\"29\" id=\"verse-container29\"><span class=\"annotation-container\" id=\"annotation-container29\"><span class=\"verse-content\" id=\"verse-content-29\"><span class=\"verse-marker\">29</span><span class=\"bookmarkNoteIcon\" id=\"bookmarkNoteIcon29\"></span><span class=\"verse-text\">\"Bot enibodi wey tok bad wod against di Holi Spirit, God nor go eva forgiv am, bikos e don komit sin wey go last foreva.\" </span></span></span></span><span class=\"verse-container\" data-verse=\"30\" id=\"verse-container30\"><span class=\"annotation-container\" id=\"annotation-container30\"><span class=\"verse-content\" id=\"verse-content-30\"><span class=\"verse-marker\">30</span><span class=\"bookmarkNoteIcon\" id=\"bookmarkNoteIcon30\"></span><span class=\"verse-text\">Jisos tok so, bikos som pipol sey, \"Evil spirit dey insaid am.\" </span></span></span></span><span class=\"verse-container\" data-verse=\"31\" id=\"verse-container31\"><span class=\"annotation-container\" id=\"annotation-container31\"><span class=\"verse-content\" id=\"verse-content-31\"><span class=\"verse-marker\">31</span><span class=\"bookmarkNoteIcon\" id=\"bookmarkNoteIcon31\"></span><span class=\"verse-text\">Jisos mama and en brodas kom mit am. Dem stand for outsaid kon send pesin go kol am. </span></span></span></span><span class=\"verse-container\" data-verse=\"32\" id=\"verse-container32\"><span class=\"annotation-container\" id=\"annotation-container32\"><span class=\"verse-content\" id=\"verse-content-32\"><span class=\"verse-marker\">32</span><span class=\"bookmarkNoteIcon\" id=\"bookmarkNoteIcon32\"></span><span class=\"verse-text\">Di pipol wey sidan near Jisos kon tel am, \"Yor mama and yor brodas dey outsaid, dem won si yu.\" </span></span></span></span><span class=\"verse-container\" data-verse=\"33\" id=\"verse-container33\"><span class=\"annotation-container\" id=\"annotation-container33\"><span class=\"verse-content\" id=\"verse-content-33\"><span class=\"verse-marker\">33</span><span class=\"bookmarkNoteIcon\" id=\"bookmarkNoteIcon33\"></span><span class=\"verse-text\">Bot Jisos ansa dem, \"Hu bi my mama and my brodas?\" </span></span></span></span><span class=\"verse-container\" data-verse=\"34\" id=\"verse-container34\"><span class=\"annotation-container\" id=\"annotation-container34\"><span class=\"verse-content\" id=\"verse-content-34\"><span class=\"verse-marker\">34</span><span class=\"bookmarkNoteIcon\" id=\"bookmarkNoteIcon34\"></span><span class=\"verse-text\">Den e kon luk di pipol wey sidan roun am, tel dem, \"Na my mama and my brodas bi dis pipol! </span></span></span></span><span class=\"verse-container\" data-verse=\"35\" id=\"verse-container35\"><span class=\"annotation-container\" id=\"annotation-container35\"><span class=\"verse-content\" id=\"verse-content-35\"><span class=\"verse-marker\">35</span><span class=\"bookmarkNoteIcon\" id=\"bookmarkNoteIcon35\"></span><span class=\"verse-text\">\"Bikos enibodi wey du wetin God wont, na-im bi my broda, sista and mama.\" </span></span></span></span></p></div>]"
      ]
     },
     "execution_count": 26,
     "metadata": {},
     "output_type": "execute_result"
    }
   ],
   "source": [
    "ct"
   ]
  },
  {
   "cell_type": "code",
   "execution_count": 14,
   "metadata": {
    "collapsed": false
   },
   "outputs": [],
   "source": [
    "ctitle=page_soup.findAll('span',{'class':'chapter-title'})"
   ]
  },
  {
   "cell_type": "code",
   "execution_count": 23,
   "metadata": {
    "collapsed": false
   },
   "outputs": [
    {
     "name": "stdout",
     "output_type": "stream",
     "text": [
      "['chapter-title']\n"
     ]
    }
   ],
   "source": [
    "print(ctitle[0].get('class'))"
   ]
  },
  {
   "cell_type": "code",
   "execution_count": 25,
   "metadata": {
    "collapsed": false
   },
   "outputs": [
    {
     "data": {
      "text/plain": [
       "'Mark 3'"
      ]
     },
     "execution_count": 25,
     "metadata": {},
     "output_type": "execute_result"
    }
   ],
   "source": [
    "ctitle[0].text"
   ]
  },
  {
   "cell_type": "code",
   "execution_count": 29,
   "metadata": {
    "collapsed": false
   },
   "outputs": [],
   "source": [
    "ctext=page_soup.findAll('span',{'class':'verse-text'})[0].text"
   ]
  },
  {
   "cell_type": "code",
   "execution_count": 30,
   "metadata": {
    "collapsed": false
   },
   "outputs": [
    {
     "data": {
      "text/plain": [
       "'Wen Jisos enta di sinagog again, won man wey en hand die, dey der. '"
      ]
     },
     "execution_count": 30,
     "metadata": {},
     "output_type": "execute_result"
    }
   ],
   "source": [
    "ctext"
   ]
  },
  {
   "cell_type": "code",
   "execution_count": null,
   "metadata": {
    "collapsed": true
   },
   "outputs": [],
   "source": []
  }
 ],
 "metadata": {
  "kernelspec": {
   "display_name": "Python [conda root]",
   "language": "python",
   "name": "conda-root-py"
  },
  "language_info": {
   "codemirror_mode": {
    "name": "ipython",
    "version": 3
   },
   "file_extension": ".py",
   "mimetype": "text/x-python",
   "name": "python",
   "nbconvert_exporter": "python",
   "pygments_lexer": "ipython3",
   "version": "3.5.2"
  }
 },
 "nbformat": 4,
 "nbformat_minor": 1
}
