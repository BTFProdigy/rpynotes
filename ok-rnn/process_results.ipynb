{
 "cells": [
  {
   "cell_type": "code",
   "execution_count": 1,
   "metadata": {
    "collapsed": true,
    "jupyter": {
     "outputs_hidden": true
    }
   },
   "outputs": [],
   "source": [
    "import pandas as pd\n",
    "import numpy as np\n",
    "import tensorflow as tf\n",
    "import my_txtutils\n",
    "import re\n",
    "import nltk\n",
    "mypath='./new_txts/'\n",
    "txts='./txts/'"
   ]
  },
  {
   "cell_type": "code",
   "execution_count": 13,
   "metadata": {
    "collapsed": true,
    "jupyter": {
     "outputs_hidden": true,
     "source_hidden": true
    }
   },
   "outputs": [
    {
     "name": "stdout",
     "output_type": "stream",
     "text": [
      "['acts_new.txt', 'gal_eph_new.txt', 'heb_new.txt', 'jam_jud_new.txt', 'john_new.txt', 'jud_rev_new.txt', 'luke_8_john_new.txt', 'mark01_new.txt', 'matt02_new.txt', 'matt_new.txt', 'phil_col_new.txt', 'thes_tim_new.txt', 'tit_phl_new.txt']\n"
     ]
    }
   ],
   "source": [
    "from os import listdir\n",
    "from os.path import isfile, join\n",
    "onlyfiles = [f for f in listdir(txts) if isfile(join(txts, f))]\n",
    "print(onlyfiles)"
   ]
  },
  {
   "cell_type": "code",
   "execution_count": 5,
   "metadata": {
    "jupyter": {
     "source_hidden": true
    }
   },
   "outputs": [
    {
     "name": "stdout",
     "output_type": "stream",
     "text": [
      "311 lines written\n"
     ]
    }
   ],
   "source": [
    "#large files\n",
    "def large_f():\n",
    "    #filenames = ['file1.txt', 'file2.txt', ...]\n",
    "    with open(mypath+'full.txt', 'w') as outfile:\n",
    "        for fname in onlyfiles:\n",
    "            with open(fname) as infile:\n",
    "                for line in infile:\n",
    "                    outfile.write(line)\n",
    "#large files\n",
    "def decimate_f(f):\n",
    "    #filenames = ['file1.txt', 'file2.txt', ...]\n",
    "    with open(mypath+'tmp.txt', 'w') as outfile:\n",
    "        with open(mypath+f) as infile:\n",
    "            lc=0\n",
    "            for line in infile:\n",
    "                wrap=False\n",
    "                cx=0\n",
    "                tmp=\"\"\n",
    "                for i in line:\n",
    "                    wrap=True if cx>99 else False\n",
    "                    if (wrap==True and i==' '):\n",
    "                        tmp+='\\n'\n",
    "                        cx=-1\n",
    "                    else:\n",
    "                        tmp+=i\n",
    "                    cx+=1\n",
    "                outfile.write(tmp)\n",
    "                lc+=1\n",
    "    print(lc,'lines written')\n",
    "decimate_f('full.txt')"
   ]
  },
  {
   "cell_type": "code",
   "execution_count": 22,
   "metadata": {
    "collapsed": true,
    "jupyter": {
     "outputs_hidden": true,
     "source_hidden": true
    }
   },
   "outputs": [],
   "source": [
    "#small files\n",
    "def small_f():\n",
    "    #filenames = ['file1.txt', 'file2.txt', ...]\n",
    "    with open(mypath+'full.txt', 'w') as outfile:\n",
    "        for fname in onlyfiles:\n",
    "            print('writing file',fname)\n",
    "            with open(txts+fname) as infile:\n",
    "                outfile.write(infile.read())\n",
    "    return open(mypath+\"full.txt\").read()"
   ]
  },
  {
   "cell_type": "code",
   "execution_count": 24,
   "metadata": {
    "collapsed": true,
    "jupyter": {
     "outputs_hidden": true
    }
   },
   "outputs": [
    {
     "name": "stdout",
     "output_type": "stream",
     "text": [
      "writing file acts_new.txt\n",
      "writing file gal_eph_new.txt\n",
      "writing file heb_new.txt\n",
      "writing file jam_jud_new.txt\n",
      "writing file john_new.txt\n",
      "writing file jud_rev_new.txt\n",
      "writing file luke_8_john_new.txt\n",
      "writing file mark01_new.txt\n",
      "writing file matt02_new.txt\n",
      "writing file matt_new.txt\n",
      "writing file phil_col_new.txt\n",
      "writing file thes_tim_new.txt\n",
      "writing file tit_phl_new.txt\n"
     ]
    },
    {
     "data": {
      "text/plain": [
       "649190"
      ]
     },
     "execution_count": 24,
     "metadata": {},
     "output_type": "execute_result"
    }
   ],
   "source": [
    "txt=small_f()\n",
    "words=re.sub(' +', ' ',txt.replace('\\n',' ')).split(' ')\n",
    "len(words)"
   ]
  },
  {
   "cell_type": "code",
   "execution_count": 25,
   "metadata": {
    "jupyter": {
     "source_hidden": true
    }
   },
   "outputs": [
    {
     "data": {
      "text/plain": [
       "6507438"
      ]
     },
     "execution_count": 25,
     "metadata": {},
     "output_type": "execute_result"
    }
   ],
   "source": [
    "len(txt)"
   ]
  },
  {
   "cell_type": "code",
   "execution_count": 2,
   "metadata": {
    "collapsed": true,
    "jupyter": {
     "outputs_hidden": true,
     "source_hidden": true
    }
   },
   "outputs": [
    {
     "name": "stdout",
     "output_type": "stream",
     "text": [
      "INFO:tensorflow:Restoring parameters from checkpoints/rnn_train_1563814502-18000000\n",
      "\u0000O\u0000D\u0000D\u0000,\u0000 \u0000a\u0000n\u0000d\u0000 \u0000s\u0000a\u0000i\u0000d\u0000,\u0000 \u0000I\u0000 \u0000w\u0000i\u0000l\u0000l\u0000 \u0000s\u0000a\u0000y\u0000 \u0000u\u0000n\u0000t\u0000o\u0000 \u0000h\u0000i\u0000s\u0000 \u0000s\u0000o\u0000n\u0000,\u0000 \u0000T\u0000h\u0000o\u0000u\u0000 \u0000s\u0000h\u0000a\u0000l\u0000t\n",
      "\u0000 \u0000n\u0000o\u0000t\u0000 \u0000b\u0000e\u0000 \u0000s\u0000a\u0000v\u0000e\u0000d\u0000,\u0000 \u0000t\u0000h\u0000a\u0000t\u0000 \u0000I\u0000 \u0000s\u0000a\u0000y\u0000 \u0000u\u0000n\u0000t\u0000o\u0000 \u0000t\u0000h\u0000e\u0000m\u0000,\u0000 \u0000W\u0000e\u0000 \u0000h\u0000a\u0000v\u0000e\u0000 \u0000c\u0000o\u0000n\u0000s\u0000u\n",
      "\u0000m\u0000e\u0000d\u0000 \u0000m\u0000y\u0000 \u0000f\u0000a\u0000t\u0000h\u0000e\u0000r\u0000,\u0000 \u0000a\u0000n\u0000d\u0000 \u0000t\u0000h\u0000e\u0000 \u0000m\u0000i\u0000g\u0000h\u0000t\u0000y\u0000 \u0000m\u0000a\u0000n\u0000 \u0000t\u0000h\u0000a\u0000t\u0000 \u0000s\u0000h\u0000a\u0000l\u0000l\u0000 \u0000b\u0000e\u0000 \u0000u\u0000n\n",
      "\u0000c\u0000l\u0000e\u0000a\u0000n\u0000 \u0000u\u0000n\u0000t\u0000o\u0000 \u0000h\u0000i\u0000m\u0000,\u0000 \u0000a\u0000n\u0000d\u0000 \u0000t\u0000h\u0000e\u0000 \u0000L\u0000O\u0000R\u0000D\u0000 \u0000h\u0000a\u0000t\u0000h\u0000 \u0000s\u0000a\u0000i\u0000d\u0000,\u0000 \u0000I\u0000 \u0000w\u0000i\u0000l\u0000l\u0000 \u0000p\u0000r\u0000o\n",
      "\u0000v\u0000o\u0000k\u0000e\u0000 \u0000m\u0000e\u0000 \u0000t\u0000o\u0000 \u0000m\u0000e\u0000,\u0000 \u0000a\u0000n\u0000d\u0000 \u0000t\u0000h\u0000e\u0000 \u0000r\u0000e\u0000m\u0000e\u0000m\u0000b\u0000r\u0000i\u0000n\u0000g\u0000 \u0000o\u0000f\u0000 \u0000t\u0000h\u0000e\u0000 \u0000c\u0000h\u0000i\u0000l\u0000d\u0000r\u0000e\u0000n\u0000 \n",
      "\u0000o\u0000f\u0000 \u0000I\u0000s\u0000r\u0000a\u0000e\u0000l\u0000 \u0000s\u0000a\u0000w\u0000 \u0000t\u0000h\u0000e\u0000 \u0000L\u0000O\u0000R\u0000D\u0000,\u0000 \u0000t\u0000h\u0000e\u0000 \u0000L\u0000O\u0000R\u0000D\u0000 \u0000s\u0000p\u0000o\u0000k\u0000e\u0000n\u0000 \u0000u\u0000n\u0000t\u0000o\u0000 \u0000h\u0000e\u0000r\u0000,\u0000 \n",
      "\u0000T\u0000h\u0000e\u0000 \u0000L\u0000O\u0000R\u0000D\u0000 \u0000s\u0000h\u0000a\u0000l\u0000l\u0000 \u0000s\u0000a\u0000y\u0000,\u0000 \u0000T\u0000h\u0000e\u0000r\u0000e\u0000f\u0000o\u0000r\u0000e\u0000 \u0000s\u0000h\u0000a\u0000l\u0000l\u0000 \u0000t\u0000h\u0000e\u0000y\u0000 \u0000s\u0000a\u0000y\u0000 \u0000u\u0000n\u0000t\u0000o\u0000 \n",
      "\u0000h\u0000i\u0000m\u0000,\u0000 \u0000W\u0000h\u0000o\u0000 \u0000h\u0000a\u0000v\u0000e\u0000 \u0000s\u0000e\u0000t\u0000 \u0000m\u0000e\u0000 \u0000t\u0000o\u0000 \u0000p\u0000a\u0000s\u0000s\u0000 \u0000t\u0000o\u0000 \u0000t\u0000h\u0000e\u0000 \u0000w\u0000i\u0000l\u0000l\u0000 \u0000o\u0000f\u0000 \u0000t\u0000h\u0000e\u0000 \u0000s\u0000e\n",
      "\u0000a\u0000 \u0000t\u0000h\u0000e\u0000r\u0000e\u0000o\u0000f\u0000,\u0000 \u0000t\u0000h\u0000e\u0000n\u0000 \u0000s\u0000a\u0000y\u0000 \u0000t\u0000h\u0000e\u0000 \u0000L\u0000O\u0000R\u0000D\u0000 \u0000t\u0000h\u0000e\u0000 \u0000G\u0000o\u0000d\u0000 \u0000o\u0000f\u0000 \u0000I\u0000s\u0000r\u0000a\u0000e\u0000l\u0000,\u0000 \u0000I\u0000 \n",
      "\u0000p\u0000r\u0000a\u0000y\u0000 \u0000y\u0000o\u0000u\u0000,\u0000 \u0000t\u0000o\u0000 \u0000s\u0000e\u0000e\u0000 \u0000m\u0000y\u0000 \u0000s\u0000e\u0000r\u0000v\u0000a\u0000n\u0000t\u0000s\u0000 \u0000t\u0000h\u0000a\u0000t\u0000 \u0000w\u0000a\u0000s\u0000 \u0000a\u0000 \u0000s\u0000t\u0000r\u0000a\u0000n\u0000g\u0000e\u0000r\u0000 \u0000t\n"
     ]
    }
   ],
   "source": [
    "# these must match what was saved !\n",
    "ALPHASIZE = my_txtutils.ALPHASIZE\n",
    "NLAYERS = 3\n",
    "INTERNALSIZE = 512\n",
    "\n",
    "ok02 =\"checkpoints/rnn_train_1560839489-30000000\" # okrika 2019-06-18\n",
    "ok03 =\"checkpoints/rnn_train_1563601394-60000000\" # okrika 2019-07-20\n",
    "bb01 =\"checkpoints/rnn_train_1563814502-18000000\" # bible 2019-07-22\n",
    "\n",
    "author=ok03\n",
    "\n",
    "ncnt = 0\n",
    "with tf.Session() as sess:\n",
    "    # new_saver = tf.train.import_meta_graph('checkpoints/rnn_train_1512567262-0.meta')\n",
    "    new_saver = tf.train.import_meta_graph(author+'.meta')\n",
    "    new_saver.restore(sess, author)\n",
    "    x = my_txtutils.convert_from_alphabet(ord(\"L\"))\n",
    "    x = np.array([[x]])  # shape [BATCHSIZE, SEQLEN] with BATCHSIZE=1 and SEQLEN=1\n",
    "\n",
    "    # initial values\n",
    "    y = x\n",
    "    h = np.zeros([1, INTERNALSIZE * NLAYERS], dtype=np.float32)  # [ BATCHSIZE, INTERNALSIZE * NLAYERS]\n",
    "    for i in range(1000):\n",
    "        yo, h = sess.run(['Yo:0', 'H:0'], feed_dict={'X:0': y, 'pkeep:0': 1., 'Hin:0': h, 'batchsize:0': 1})\n",
    "        #print(tf.shape(yo))\n",
    "        #print(len(yo))\n",
    "        c = my_txtutils.sample_from_probabilities(yo, topn=2)\n",
    "        y = np.array([[c]])  # shape [BATCHSIZE, SEQLEN] with BATCHSIZE=1 and SEQLEN=1\n",
    "        c = chr(my_txtutils.convert_to_alphabet(c))\n",
    "        print(c, end=\"\")\n",
    "        if c == '\\n':\n",
    "            ncnt = 0\n",
    "        else:\n",
    "            ncnt += 1\n",
    "        if ncnt == 100:\n",
    "            print(\"\")\n",
    "            ncnt = 0\n"
   ]
  },
  {
   "cell_type": "code",
   "execution_count": 35,
   "metadata": {
    "jupyter": {
     "source_hidden": true
    }
   },
   "outputs": [],
   "source": [
    "def pcx(txt):\n",
    "    # these must match what was saved !\n",
    "    ALPHASIZE = my_txtutils.ALPHASIZE\n",
    "    NLAYERS = 3\n",
    "    INTERNALSIZE = 512\n",
    "\n",
    "    ok02 =\"checkpoints/rnn_train_1560839489-30000000\" # okrika 2019-06-18\n",
    "    ok03 =\"checkpoints/rnn_train_1563601394-60000000\" # okrika 2019-07-20\n",
    "\n",
    "    author=ok03\n",
    "\n",
    "    ncnt = 0\n",
    "    with tf.Session() as sess:\n",
    "        # new_saver = tf.train.import_meta_graph('checkpoints/rnn_train_1512567262-0.meta')\n",
    "        new_saver = tf.train.import_meta_graph(author+'.meta')\n",
    "        new_saver.restore(sess, author)\n",
    "        x = my_txtutils.convert_from_alphabet(ord(txt[0]))\n",
    "        x = np.array([[x]])  # shape [BATCHSIZE, SEQLEN] with BATCHSIZE=1 and SEQLEN=1\n",
    "\n",
    "        # initial values\n",
    "        y = x\n",
    "        h = np.zeros([1, INTERNALSIZE * NLAYERS], dtype=np.float32)  # [ BATCHSIZE, INTERNALSIZE * NLAYERS]\n",
    "        arr=[]\n",
    "        for i in range(len(txt)-1):\n",
    "            yo, h = sess.run(['Yo:0', 'H:0'], feed_dict={'X:0': y, 'pkeep:0': 1., 'Hin:0': h, 'batchsize:0': 1})\n",
    "            c = my_txtutils.convert_from_alphabet(ord(txt[i+1]))\n",
    "            d = my_txtutils.sample_from_probabilities(yo, topn=1)\n",
    "            d = chr(my_txtutils.convert_to_alphabet(d))\n",
    "            y = np.array([[c]])  # shape [BATCHSIZE, SEQLEN] with BATCHSIZE=1 and SEQLEN=1\n",
    "            y1=np.reshape(yo,[ALPHASIZE,-1])\n",
    "            y1=y1.flatten()\n",
    "            #c = chr(my_txtutils.convert_to_alphabet(i))\n",
    "            print(txt[i],':',c,':',y1[c],',max=',np.max(y1),\"='%s' or %s\"%(chr(my_txtutils.convert_to_alphabet(np.argmax(y1))),d))\n",
    "            arr.append(y1[c])\n",
    "    return np.log2(np.sum(arr))*(-1/len(txt))\n",
    "    #return np.prod(arr))**(-1/len(txt)"
   ]
  },
  {
   "cell_type": "code",
   "execution_count": 36,
   "metadata": {
    "collapsed": true,
    "jupyter": {
     "outputs_hidden": true,
     "source_hidden": true
    }
   },
   "outputs": [
    {
     "name": "stdout",
     "output_type": "stream",
     "text": [
      "d : 87 : 0.0 ,max= 0.0770766 ='\u0000' or \u0000\n",
      "u : 77 : 0.0 ,max= 0.895978 ='\u0000' or \u0000\n",
      "k : 81 : 0.0 ,max= 0.5329333 =' ' or  \n",
      "o : 2 : 0.0 ,max= 0.99995935 ='\u0000' or \u0000\n",
      "  : 75 : 0.0 ,max= 0.36144635 ='m' or m\n",
      "i : 80 : 0.0 ,max= 0.9999676 ='\u0000' or \u0000\n",
      "n : 75 : 0.0 ,max= 0.18348454 =' ' or  \n",
      "i : 2 : 0.0 ,max= 0.9999759 ='\u0000' or \u0000\n",
      "  : 82 : 0.0 ,max= 0.7913743 =' ' or  \n",
      "p : 75 : 0.0 ,max= 0.9995127 ='\u0000' or \u0000\n",
      "i : 84 : 0.0 ,max= 0.46761307 ='i' or i\n",
      "r : 75 : 0.0 ,max= 0.9997508 ='\u0000' or \u0000\n",
      "i : 2 : 0.0 ,max= 0.76876736 ='i' or i\n",
      "  : 85 : 0.0 ,max= 0.9999703 ='\u0000' or \u0000\n",
      "s : 71 : 0.0 ,max= 0.30323997 ='s' or s\n",
      "e : 2 : 0.0 ,max= 0.9999521 ='\u0000' or \u0000\n",
      "  : 75 : 0.0 ,max= 0.41298324 ='r' or r\n",
      "i : 2 : 0.0 ,max= 0.9999945 ='\u0000' or \u0000\n",
      "  : 70 : 0.0 ,max= 0.27091473 =' ' or  \n",
      "d : 87 : 0.0 ,max= 0.9999479 ='\u0000' or \u0000\n",
      "u : 77 : 0.0 ,max= 0.35302648 ='a' or a\n",
      "k : 81 : 0.0 ,max= 0.9999987 ='\u0000' or \u0000\n",
      "o : 2 : 0.0 ,max= 0.33377552 ='i' or i\n",
      "  : 81 : 0.0 ,max= 0.99999106 ='\u0000' or \u0000\n",
      "o : 2 : 0.0 ,max= 0.47501603 ='b' or b\n",
      "  : 82 : 0.0 ,max= 0.9999926 ='\u0000' or \u0000\n",
      "p : 75 : 0.0 ,max= 0.28767368 =' ' or  \n",
      "i : 84 : 0.0 ,max= 0.9999404 ='\u0000' or \u0000\n",
      "r : 75 : 0.0 ,max= 0.3008417 =' ' or  \n",
      "i : 67 : 0.0 ,max= 0.9999658 ='\u0000' or \u0000\n",
      "a : 68 : 0.0 ,max= 0.2757073 =' ' or  \n",
      "b : 71 : 0.0 ,max= 0.9999896 ='\u0000' or \u0000\n",
      "e : 14 : 0.0 ,max= 0.7234813 ='i' or i\n",
      ", : 2 : 0.0 ,max= 0.9999994 ='\u0000' or \u0000\n",
      "  : 81 : 0.0 ,max= 0.9640559 =' ' or  \n",
      "o : 2 : 0.0 ,max= 0.9999974 ='\u0000' or \u0000\n",
      "  : 68 : 0.0 ,max= 0.33233953 =' ' or  \n",
      "b : 81 : 0.0 ,max= 0.9999963 ='\u0000' or \u0000\n",
      "o : 2 : 0.0 ,max= 0.43369696 ='u' or u\n",
      "  : 79 : 0.0 ,max= 0.9999993 ='\u0000' or \u0000\n",
      "m : 75 : 0.0 ,max= 0.1528794 ='b' or b\n",
      "i : 80 : 0.0 ,max= 0.9999993 ='\u0000' or \u0000\n",
      "n : 71 : 0.0 ,max= 0.73959076 ='n' or n\n",
      "e : 67 : 0.0 ,max= 0.9999671 ='\u0000' or \u0000\n",
      "a : 2 : 0.7683277 ,max= 0.7683277 =' ' or  \n",
      "  : 68 : 0.0 ,max= 0.9998957 ='\u0000' or \u0000\n",
      "b : 97 : 0.0 ,max= 0.15093206 ='o' or o\n",
      "\n",
      " : 87 : 0.0 ,max= 0.9998977 ='\u0000' or \u0000\n",
      "u : 2 : 0.0 ,max= 0.3905577 ='a' or a\n",
      "  : 70 : 0.0 ,max= 0.99976176 ='\u0000' or \u0000\n",
      "d : 67 : 0.0 ,max= 0.20302667 ='b' or b\n",
      "a : 82 : 0.0 ,max= 0.9989875 ='\u0000' or \u0000\n",
      "p : 87 : 0.0 ,max= 0.20240162 =' ' or  \n",
      "u : 2 : 0.0 ,max= 0.9994692 ='\u0000' or \u0000\n",
      "  : 81 : 0.0 ,max= 0.394424 =' ' or  \n",
      "o : 84 : 0.0 ,max= 0.9660501 ='\u0000' or \u0000\n",
      "r : 75 : 0.0 ,max= 0.27253944 =' ' or  \n",
      "i : 2 : 0.0 ,max= 0.9983814 ='\u0000' or \u0000\n",
      "  : 81 : 0.0 ,max= 0.20389839 =' ' or  \n",
      "o : 84 : 0.0 ,max= 0.9987758 ='\u0000' or \u0000\n",
      "r : 75 : 0.0 ,max= 0.12580791 ='m' or m\n",
      "i : 67 : 0.0 ,max= 0.9999968 ='\u0000' or \u0000\n",
      "a : 2 : 0.3890029 ,max= 0.3890029 =' ' or  \n",
      "  : 81 : 0.0 ,max= 0.99986064 ='\u0000' or \u0000\n",
      "o : 77 : 0.0 ,max= 0.19044419 ='m' or m\n",
      "k : 89 : 0.0 ,max= 0.999653 ='\u0000' or \u0000\n",
      "w : 71 : 0.0 ,max= 0.40168312 ='o' or o\n",
      "e : 75 : 0.0 ,max= 0.9999758 ='\u0000' or \u0000\n",
      "i : 80 : 0.0 ,max= 0.4690729 ='r' or r\n",
      "n : 79 : 0.0 ,max= 0.99999845 ='\u0000' or \u0000\n",
      "m : 67 : 0.0 ,max= 0.72179997 ='g' or g\n",
      "a : 2 : 0.0 ,max= 0.99999154 ='\u0000' or \u0000\n",
      "  : 82 : 0.0 ,max= 0.2567173 =' ' or  \n",
      "p : 75 : 0.0 ,max= 0.99996686 ='\u0000' or \u0000\n",
      "i : 77 : 0.0 ,max= 0.82402116 ='u' or u\n",
      "k : 75 : 0.0 ,max= 0.9999893 ='\u0000' or \u0000\n",
      "i : 2 : 0.37237903 ,max= 0.37237903 =' ' or  \n",
      "  : 80 : 0.0 ,max= 0.9998888 ='\u0000' or \u0000\n",
      "n : 71 : 0.0 ,max= 0.5010316 ='m' or m\n",
      "e : 79 : 0.0 ,max= 0.9999645 ='\u0000' or \u0000\n",
      "m : 75 : 0.0 ,max= 0.45261627 ='r' or r\n",
      "i : 77 : 0.0 ,max= 0.99999046 ='\u0000' or \u0000\n",
      "k : 67 : 0.0 ,max= 0.2896652 =' ' or  \n",
      "a : 85 : 0.0 ,max= 0.99999356 ='\u0000' or \u0000\n",
      "s : 71 : 0.0 ,max= 0.43279073 =' ' or  \n",
      "e : 2 : 0.0 ,max= 0.99999547 ='\u0000' or \u0000\n",
      "  : 68 : 0.0 ,max= 0.5491153 =' ' or  \n",
      "b : 71 : 0.0 ,max= 0.9999918 ='\u0000' or \u0000\n",
      "e : 84 : 0.0 ,max= 0.57483745 ='e' or e\n",
      "r : 71 : 0.0 ,max= 0.999997 ='\u0000' or \u0000\n",
      "e : 80 : 0.0 ,max= 0.6394362 ='a' or a\n",
      "n : 75 : 0.0 ,max= 0.9999832 ='\u0000' or \u0000\n",
      "i : 2 : 0.0 ,max= 0.56241286 ='h' or h\n",
      "  : 80 : 0.0 ,max= 0.9998317 ='\u0000' or \u0000\n",
      "n : 91 : 0.0 ,max= 0.4847284 ='a' or a\n",
      "y : 67 : 0.0 ,max= 0.9999788 ='\u0000' or \u0000\n",
      "a : 80 : 0.0 ,max= 0.40460557 ='e' or e\n",
      "n : 97 : 0.0 ,max= 0.99999535 ='\u0000' or \u0000\n",
      "\n",
      " : 67 : 0.0 ,max= 0.39159673 =' ' or  \n",
      "a : 2 : 0.0 ,max= 0.9999807 ='\u0000' or \u0000\n",
      "  : 67 : 0.0 ,max= 0.62581724 =' ' or  \n",
      "a : 82 : 0.0 ,max= 0.9999558 ='\u0000' or \u0000\n",
      "p : 87 : 0.0 ,max= 0.3257671 ='n' or n\n",
      "u : 2 : 0.0 ,max= 0.9999362 ='\u0000' or \u0000\n",
      "  : 79 : 0.0 ,max= 0.6868968 =' ' or  \n",
      "m : 67 : 0.0 ,max= 0.99984276 ='\u0000' or \u0000\n",
      "a : 2 : 0.0 ,max= 0.68489623 ='a' or a\n",
      "  : 82 : 0.0 ,max= 0.9999931 ='\u0000' or \u0000\n",
      "p : 75 : 0.0 ,max= 0.22154918 ='n' or n\n",
      "i : 84 : 0.0 ,max= 0.99998546 ='\u0000' or \u0000\n",
      "r : 75 : 0.0 ,max= 0.4050046 ='n' or n\n",
      "i : 2 : 0.0 ,max= 0.99995816 ='\u0000' or \u0000\n",
      "  : 81 : 0.0 ,max= 0.22340289 ='i' or i\n",
      "o : 77 : 0.0 ,max= 0.9999919 ='\u0000' or \u0000\n",
      "k : 87 : 0.0 ,max= 0.36484393 =' ' or  \n",
      "u : 79 : 0.0 ,max= 0.9999951 ='\u0000' or \u0000\n",
      "m : 67 : 0.0 ,max= 0.24932306 =' ' or  \n",
      "a : 14 : 0.0 ,max= 0.9997503 ='\u0000' or \u0000\n",
      ", : 2 : 0.830574 ,max= 0.830574 =' ' or  \n",
      "  : 81 : 0.0 ,max= 0.9999783 ='\u0000' or \u0000\n",
      "o : 2 : 0.0 ,max= 0.20253976 ='o' or o\n",
      "  : 80 : 0.0 ,max= 0.9999206 ='\u0000' or \u0000\n",
      "n : 89 : 0.0 ,max= 0.2035926 ='i' or i\n",
      "w : 81 : 0.0 ,max= 0.9999949 ='\u0000' or \u0000\n",
      "o : 85 : 0.0 ,max= 0.59304535 ='o' or o\n",
      "s : 71 : 0.0 ,max= 0.9999771 ='\u0000' or \u0000\n",
      "e : 2 : 0.6903832 ,max= 0.6903832 =' ' or  \n",
      "  : 75 : 0.0 ,max= 0.99992085 ='\u0000' or \u0000\n",
      "i : 2 : 0.0 ,max= 0.31727153 ='c' or c\n",
      "  : 68 : 0.0 ,max= 0.9985154 ='\u0000' or \u0000\n",
      "b : 71 : 0.0 ,max= 0.2626055 ='c' or c\n",
      "e : 79 : 0.0 ,max= 0.9993936 ='\u0000' or \u0000\n",
      "m : 71 : 0.0 ,max= 0.20272076 ='n' or n\n",
      "e : 14 : 0.0 ,max= 0.9999459 ='\u0000' or \u0000\n",
      ", : 2 : 0.76757026 ,max= 0.76757026 =' ' or  \n",
      "  : 75 : 0.0 ,max= 0.99991643 ='\u0000' or \u0000\n",
      "i : 2 : 0.0 ,max= 0.1375343 ='a' or a\n",
      "  : 70 : 0.0 ,max= 0.99470216 ='\u0000' or \u0000\n",
      "d : 87 : 0.0 ,max= 0.24542871 ='\u0000' or \u0000\n",
      "u : 77 : 0.0 ,max= 0.86494493 ='\u0000' or \u0000\n",
      "k : 81 : 0.0 ,max= 0.95343757 ='\u0000' or \u0000\n",
      "o : 2 : 0.0 ,max= 0.37469205 ='\u0000' or \u0000\n",
      "  : 81 : 0.0 ,max= 0.99131536 ='\u0000' or \u0000\n",
      "o : 2 : 0.0 ,max= 0.15690742 ='o' or o\n",
      "  : 82 : 0.0 ,max= 0.9997259 ='\u0000' or \u0000\n",
      "p : 75 : 0.0 ,max= 0.1310464 ='y' or y\n",
      "i : 84 : 0.0 ,max= 0.9995223 ='\u0000' or \u0000\n",
      "r : 75 : 0.0 ,max= 0.32862303 ='n' or n\n",
      "i : 97 : 0.0 ,max= 0.9999695 ='\u0000' or \u0000\n",
      "\n",
      " : 67 : 0.0 ,max= 0.41441256 =' ' or  \n",
      "a : 68 : 0.0 ,max= 0.9999385 ='\u0000' or \u0000\n",
      "b : 71 : 0.0 ,max= 0.46816397 =' ' or  \n",
      "e : 2 : 0.0 ,max= 0.9999989 ='\u0000' or \u0000\n",
      "  : 75 : 0.0 ,max= 0.40990648 =' ' or  \n",
      "i : 91 : 0.0 ,max= 0.99999166 ='\u0000' or \u0000\n",
      "y : 67 : 0.0 ,max= 0.27735585 =' ' or  \n",
      "a : 2 : 0.0 ,max= 0.9999565 ='\u0000' or \u0000\n",
      "  : 67 : 0.0 ,max= 0.65746295 =' ' or  \n",
      "a : 80 : 0.0 ,max= 0.99954396 ='\u0000' or \u0000\n",
      "n : 75 : 0.0 ,max= 0.43932778 ='y' or y\n",
      "i : 2 : 0.0 ,max= 0.99998224 ='\u0000' or \u0000\n",
      "  : 75 : 0.0 ,max= 0.18189481 =' ' or  \n",
      "i : 80 : 0.0 ,max= 0.99999774 ='\u0000' or \u0000\n",
      "n : 71 : 0.0 ,max= 0.48262936 =' ' or  \n",
      "e : 70 : 0.0 ,max= 0.99996233 ='\u0000' or \u0000\n",
      "d : 67 : 0.0 ,max= 0.21281175 ='m' or m\n",
      "a : 2 : 0.0 ,max= 0.9999223 ='\u0000' or \u0000\n",
      "  : 81 : 0.0 ,max= 0.23518454 ='y' or y\n",
      "o : 2 : 0.0 ,max= 0.99999344 ='\u0000' or \u0000\n",
      "  : 68 : 0.0 ,max= 0.26487812 ='y' or y\n",
      "b : 67 : 0.0 ,max= 0.9999864 ='\u0000' or \u0000\n",
      "a : 84 : 0.0 ,max= 0.6690228 ='i' or i\n",
      "r : 67 : 0.0 ,max= 0.9999943 ='\u0000' or \u0000\n",
      "a : 2 : 0.0 ,max= 0.8191426 ='a' or a\n",
      "  : 68 : 0.0 ,max= 0.9999255 ='\u0000' or \u0000\n",
      "b : 75 : 0.0 ,max= 0.4139106 ='a' or a\n",
      "i : 67 : 0.0 ,max= 0.99999917 ='\u0000' or \u0000\n",
      "a : 2 : 0.0 ,max= 0.47657347 ='a' or a\n",
      "  : 81 : 0.0 ,max= 0.9999989 ='\u0000' or \u0000\n",
      "o : 77 : 0.0 ,max= 0.34847048 ='m' or m\n",
      "k : 89 : 0.0 ,max= 0.9999479 ='\u0000' or \u0000\n",
      "w : 71 : 0.0 ,max= 0.38393041 ='o' or o\n",
      "e : 75 : 0.0 ,max= 0.9999912 ='\u0000' or \u0000\n",
      "i : 80 : 0.40985736 ,max= 0.40985736 ='n' or n\n",
      "n : 79 : 0.0 ,max= 0.99999857 ='\u0000' or \u0000\n",
      "m : 67 : 0.0 ,max= 0.39466068 ='g' or g\n",
      "a : 2 : 0.0 ,max= 0.9999976 ='\u0000' or \u0000\n",
      "  : 80 : 0.0 ,max= 0.19131877 =' ' or  \n",
      "n : 89 : 0.0 ,max= 0.9999951 ='\u0000' or \u0000\n",
      "w : 81 : 0.0 ,max= 0.28597087 =' ' or  \n",
      "o : 2 : 0.0 ,max= 0.99996424 ='\u0000' or \u0000\n",
      "  : 70 : 0.0 ,max= 0.34404218 =' ' or  \n",
      "d : 87 : 0.0 ,max= 0.99990404 ='\u0000' or \u0000\n",
      "u : 77 : 0.0 ,max= 0.32005534 ='a' or a\n",
      "k : 81 : 0.0 ,max= 0.99995875 ='\u0000' or \u0000\n",
      "o : 2 : 0.0 ,max= 0.2969624 ='a' or a\n",
      "  : 81 : 0.0 ,max= 0.99999464 ='\u0000' or \u0000\n",
      "o : 2 : 0.0 ,max= 0.3876978 ='b' or b\n",
      "  : 82 : 0.0 ,max= 0.99998295 ='\u0000' or \u0000\n",
      "p : 97 : 0.0 ,max= 0.11978736 ='a' or a\n",
      "\n",
      " : 75 : 0.0 ,max= 0.9999429 ='\u0000' or \u0000\n",
      "i : 84 : 0.0 ,max= 0.2892744 ='i' or i\n",
      "r : 75 : 0.0 ,max= 0.9997961 ='\u0000' or \u0000\n",
      "i : 85 : 0.0 ,max= 0.7049502 ='i' or i\n",
      "s : 67 : 0.0 ,max= 0.9999634 ='\u0000' or \u0000\n",
      "a : 79 : 0.0 ,max= 0.41457507 ='a' or a\n",
      "m : 14 : 0.0 ,max= 0.9999944 ='\u0000' or \u0000\n",
      ", : 2 : 0.0 ,max= 0.4635011 ='a' or a\n",
      "  : 67 : 0.0 ,max= 0.9999883 ='\u0000' or \u0000\n",
      "a : 80 : 0.0 ,max= 0.362379 ='b' or b\n",
      "n : 75 : 0.0 ,max= 0.99980396 ='\u0000' or \u0000\n",
      "i : 67 : 0.5571883 ,max= 0.5571883 ='a' or a\n",
      "a : 86 : 0.0 ,max= 0.9999752 ='\u0000' or \u0000\n",
      "t : 75 : 0.0 ,max= 0.6023729 =' ' or  \n",
      "i : 68 : 0.0 ,max= 0.9999801 ='\u0000' or \u0000\n",
      "b : 75 : 0.0 ,max= 0.47598708 ='s' or s\n",
      "i : 2 : 0.0 ,max= 0.9999957 ='\u0000' or \u0000\n",
      "  : 81 : 0.0 ,max= 0.28245267 ='a' or a\n",
      "o : 2 : 0.0 ,max= 0.999985 ='\u0000' or \u0000\n",
      "  : 68 : 0.0 ,max= 0.3555303 ='s' or s\n",
      "b : 71 : 0.0 ,max= 0.9999927 ='\u0000' or \u0000\n",
      "e : 84 : 0.0 ,max= 0.53523034 ='i' or i\n",
      "r : 71 : 0.0 ,max= 0.9999981 ='\u0000' or \u0000\n",
      "e : 80 : 0.0 ,max= 0.5034802 ='a' or a\n",
      "n : 75 : 0.0 ,max= 0.9999882 ='\u0000' or \u0000\n",
      "i : 2 : 0.0 ,max= 0.2885264 ='a' or a\n",
      "  : 75 : 0.0 ,max= 0.9999958 ='\u0000' or \u0000\n",
      "i : 2 : 0.0 ,max= 0.3098474 ='n' or n\n",
      "  : 82 : 0.0 ,max= 0.99999285 ='\u0000' or \u0000\n",
      "p : 81 : 0.0 ,max= 0.20909056 ='a' or a\n",
      "o : 84 : 0.0 ,max= 0.9984212 ='\u0000' or \u0000\n",
      "r : 75 : 0.0 ,max= 0.2661589 ='l' or l\n",
      "i : 68 : 0.0 ,max= 0.99997735 ='\u0000' or \u0000\n",
      "b : 75 : 0.55284035 ,max= 0.55284035 ='i' or i\n",
      "i : 67 : 0.0 ,max= 0.9999957 ='\u0000' or \u0000\n",
      "a : 2 : 0.78603745 ,max= 0.78603745 =' ' or  \n",
      "  : 68 : 0.0 ,max= 0.9999894 ='\u0000' or \u0000\n",
      "b : 67 : 0.0 ,max= 0.21065392 ='o' or o\n",
      "a : 84 : 0.0 ,max= 0.99997735 ='\u0000' or \u0000\n",
      "r : 67 : 0.0 ,max= 0.47359765 ='n' or n\n",
      "a : 16 : 0.0 ,max= 0.9999504 ='\u0000' or \u0000\n",
      ". : 2 : 0.30400613 ,max= 0.30400613 =' ' or  \n",
      "  : 67 : 0.0 ,max= 0.9998479 ='\u0000' or \u0000\n",
      "a : 80 : 0.0 ,max= 0.15637194 ='a' or a\n",
      "n : 75 : 0.0 ,max= 0.99996054 ='\u0000' or \u0000\n",
      "i : 2 : 0.0 ,max= 0.5507419 ='a' or a\n",
      "  : 81 : 0.0 ,max= 0.99993026 ='\u0000' or \u0000\n",
      "o : 77 : 0.0 ,max= 0.1988118 ='o' or o\n",
      "k : 87 : 0.0 ,max= 0.9999602 ='\u0000' or \u0000\n",
      "u : 79 : 0.0 ,max= 0.7294033 ='a' or a\n",
      "m : 97 : 0.0 ,max= 0.99995553 ='\u0000' or \u0000\n",
      "\n",
      " : 67 : 0.8291297 ,max= 0.8291297 ='a' or a\n",
      "a : 2 : 0.0 ,max= 0.9999807 ='\u0000' or \u0000\n",
      "  : 75 : 0.0 ,max= 0.34169686 =' ' or  \n",
      "i : 80 : 0.0 ,max= 0.99999523 ='\u0000' or \u0000\n",
      "n : 75 : 0.0 ,max= 0.16553815 ='n' or n\n",
      "i : 2 : 0.0 ,max= 0.9999697 ='\u0000' or \u0000\n",
      "  : 81 : 0.0 ,max= 0.22256577 ='t' or t\n",
      "o : 2 : 0.0 ,max= 0.99987006 ='\u0000' or \u0000\n",
      "  : 68 : 0.0 ,max= 0.7173607 =' ' or  \n",
      "b : 67 : 0.0 ,max= 0.9997695 ='\u0000' or \u0000\n",
      "a : 84 : 0.0 ,max= 0.332969 =' ' or  \n",
      "r : 67 : 0.0 ,max= 0.9999249 ='\u0000' or \u0000\n",
      "a : 2 : 0.0 ,max= 0.4304367 ='i' or i\n",
      "  : 85 : 0.0 ,max= 0.9998766 ='\u0000' or \u0000\n",
      "s : 75 : 0.0 ,max= 0.17212385 ='y' or y\n",
      "i : 77 : 0.0 ,max= 0.99999356 ='\u0000' or \u0000\n",
      "k : 75 : 0.0 ,max= 0.26487193 ='s' or s\n",
      "i : 79 : 0.0 ,max= 0.99999666 ='\u0000' or \u0000\n",
      "m : 67 : 0.0 ,max= 0.85401285 =' ' or  \n",
      "a : 2 : 0.0 ,max= 0.9999367 ='\u0000' or \u0000\n",
      "  : 81 : 0.0 ,max= 0.50911504 =' ' or  \n",
      "o : 77 : 0.0 ,max= 0.9999945 ='\u0000' or \u0000\n",
      "k : 87 : 0.0 ,max= 0.22171389 ='w' or w\n",
      "u : 79 : 0.0 ,max= 0.9999958 ='\u0000' or \u0000\n",
      "m : 67 : 0.0 ,max= 0.8630907 =' ' or  \n",
      "a : 2 : 0.0 ,max= 0.99999607 ='\u0000' or \u0000\n",
      "  : 67 : 0.0 ,max= 0.39087346 =' ' or  \n",
      "a : 80 : 0.0 ,max= 0.9999615 ='\u0000' or \u0000\n",
      "n : 75 : 0.0 ,max= 0.1637262 ='p' or p\n",
      "i : 67 : 0.0 ,max= 0.99998784 ='\u0000' or \u0000\n",
      "a : 86 : 0.0 ,max= 0.23146775 ='n' or n\n",
      "t : 75 : 0.0 ,max= 0.9999143 ='\u0000' or \u0000\n",
      "i : 68 : 0.0 ,max= 0.81197506 ='i' or i\n",
      "b : 75 : 0.0 ,max= 0.99999905 ='\u0000' or \u0000\n",
      "i : 2 : 0.0 ,max= 0.85241014 ='o' or o\n",
      "  : 67 : 0.0 ,max= 1.0 ='\u0000' or \u0000\n",
      "a : 84 : 0.0 ,max= 0.31387514 ='a' or a\n",
      "r : 75 : 0.0 ,max= 0.99999917 ='\u0000' or \u0000\n",
      "i : 2 : 0.0 ,max= 0.42243236 ='i' or i\n",
      "  : 75 : 0.0 ,max= 0.999998 ='\u0000' or \u0000\n",
      "i : 80 : 0.0 ,max= 0.18704346 ='a' or a\n",
      "n : 71 : 0.0 ,max= 0.999969 ='\u0000' or \u0000\n",
      "e : 70 : 0.0 ,max= 0.25577137 ='a' or a\n",
      "d : 67 : 0.0 ,max= 0.99998665 ='\u0000' or \u0000\n",
      "a : 2 : 0.0 ,max= 0.47997317 ='e' or e\n",
      "  : 75 : 0.0 ,max= 0.99994886 ='\u0000' or \u0000\n",
      "i : 2 : 0.0 ,max= 0.20364113 ='b' or b\n",
      "  : 85 : 0.0 ,max= 0.9998989 ='\u0000' or \u0000\n",
      "s : 75 : 0.0 ,max= 0.12950729 =' ' or  \n",
      "i : 2 : 0.0 ,max= 0.99998736 ='\u0000' or \u0000\n",
      "  : 97 : 0.0 ,max= 0.37459338 ='n' or n\n",
      "\n",
      " : 79 : 0.0 ,max= 0.9998785 ='\u0000' or \u0000\n",
      "m : 75 : 0.39809135 ,max= 0.39809135 ='i' or i\n",
      "i : 71 : 0.0 ,max= 0.9999945 ='\u0000' or \u0000\n",
      "e : 79 : 0.0 ,max= 0.63846344 =' ' or  \n",
      "m : 75 : 0.0 ,max= 0.9999933 ='\u0000' or \u0000\n",
      "i : 71 : 0.0 ,max= 0.27742898 ='a' or a\n",
      "e : 2 : 0.0 ,max= 0.99997616 ='\u0000' or \u0000\n",
      "  : 91 : 0.0 ,max= 0.5516037 =' ' or  \n",
      "y : 71 : 0.0 ,max= 0.9999864 ='\u0000' or \u0000\n",
      "e : 2 : 0.0 ,max= 0.35754415 ='a' or a\n",
      "  : 79 : 0.0 ,max= 0.9999896 ='\u0000' or \u0000\n",
      "m : 75 : 0.0 ,max= 0.2188886 ='n' or n\n",
      "i : 71 : 0.0 ,max= 0.9999982 ='\u0000' or \u0000\n",
      "e : 2 : 0.0 ,max= 0.56814885 ='n' or n\n",
      "  : 68 : 0.0 ,max= 0.9999975 ='\u0000' or \u0000\n",
      "b : 87 : 0.0 ,max= 0.34907463 ='a' or a\n",
      "u : 14 : 0.0 ,max= 0.9999938 ='\u0000' or \u0000\n",
      ", : 2 : 0.5874072 ,max= 0.5874072 =' ' or  \n",
      "  : 81 : 0.0 ,max= 0.9999906 ='\u0000' or \u0000\n",
      "o : 2 : 0.0 ,max= 0.14683472 ='m' or m\n",
      "  : 68 : 0.0 ,max= 0.99996746 ='\u0000' or \u0000\n",
      "b : 81 : 0.0 ,max= 0.16209838 ='i' or i\n",
      "o : 2 : 0.0 ,max= 0.999913 ='\u0000' or \u0000\n",
      "  : 79 : 0.0 ,max= 0.23473799 =' ' or  \n",
      "m : 67 : 0.0 ,max= 0.99991405 ='\u0000' or \u0000\n",
      "a : 2 : 0.0 ,max= 0.40048116 ='a' or a\n",
      "  : 80 : 0.0 ,max= 0.9591759 ='\u0000' or \u0000\n",
      "n : 67 : 0.0 ,max= 0.9529281 ='\u0000' or \u0000\n",
      "a : 2 : 0.0 ,max= 0.32231542 ='i' or i\n",
      "  : 81 : 0.0 ,max= 0.9992506 ='\u0000' or \u0000\n",
      "o : 2 : 0.0 ,max= 0.21130711 ='b' or b\n",
      "  : 85 : 0.0 ,max= 0.9999291 ='\u0000' or \u0000\n",
      "s : 71 : 0.0 ,max= 0.14653553 ='a' or a\n",
      "e : 2 : 0.0 ,max= 0.9998222 ='\u0000' or \u0000\n",
      "  : 79 : 0.0 ,max= 0.26007193 ='n' or n\n",
      "m : 73 : 0.0 ,max= 0.9999988 ='\u0000' or \u0000\n",
      "g : 68 : 0.75751835 ,max= 0.75751835 ='b' or b\n",
      "b : 71 : 0.0 ,max= 0.9999999 ='\u0000' or \u0000\n",
      "e : 85 : 0.0 ,max= 0.9110512 ='e' or e\n",
      "s : 71 : 0.0 ,max= 0.999997 ='\u0000' or \u0000\n",
      "e : 69 : 0.0 ,max= 0.77377737 =' ' or  \n",
      "c : 74 : 0.0 ,max= 0.99999547 ='\u0000' or \u0000\n",
      "h : 75 : 0.0 ,max= 0.38368067 ='b' or b\n",
      "i : 80 : 0.0 ,max= 0.9999865 ='\u0000' or \u0000\n",
      "n : 2 : 0.0 ,max= 0.23874 ='i' or i\n",
      "  : 79 : 0.0 ,max= 0.9999865 ='\u0000' or \u0000\n",
      "m : 75 : 0.0 ,max= 0.21032903 ='o' or o\n",
      "i : 2 : 0.0 ,max= 0.97888136 ='\u0000' or \u0000\n",
      "  : 81 : 0.0 ,max= 0.77795285 ='\u0000' or \u0000\n",
      "o : 73 : 0.0 ,max= 0.4111451 ='b' or b\n",
      "g : 97 : 0.0 ,max= 0.9975435 ='\u0000' or \u0000\n",
      "\n",
      " : 81 : 0.0 ,max= 0.40969607 ='b' or b\n",
      "o : 80 : 0.0 ,max= 0.99996674 ='\u0000' or \u0000\n",
      "n : 81 : 0.0 ,max= 0.816993 ='s' or s\n",
      "o : 2 : 0.0 ,max= 0.9996692 ='\u0000' or \u0000\n",
      "  : 68 : 0.0 ,max= 0.4143288 =' ' or  \n",
      "b : 67 : 0.0 ,max= 0.99866366 ='\u0000' or \u0000\n",
      "a : 77 : 0.0 ,max= 0.86959743 ='e' or e\n",
      "k : 87 : 0.0 ,max= 0.9999347 ='\u0000' or \u0000\n",
      "u : 68 : 0.0 ,max= 0.30339614 ='o' or o\n",
      "b : 67 : 0.0 ,max= 0.9999318 ='\u0000' or \u0000\n",
      "a : 68 : 0.0 ,max= 0.55627626 ='e' or e\n",
      "b : 75 : 0.0 ,max= 0.9999988 ='\u0000' or \u0000\n",
      "i : 67 : 0.0 ,max= 0.6882785 ='i' or i\n",
      "a : 16 : 0.0 ,max= 0.99999905 ='\u0000' or \u0000\n",
      ". : 2 : 0.63807607 ,max= 0.63807607 =' ' or  \n",
      "  : 81 : 0.0 ,max= 0.9999938 ='\u0000' or \u0000\n",
      "o : 77 : 0.0 ,max= 0.16745386 ='a' or a\n",
      "k : 87 : 0.0 ,max= 0.9999826 ='\u0000' or \u0000\n",
      "u : 79 : 0.0 ,max= 0.35894087 ='o' or o\n",
      "m : 67 : 0.0 ,max= 0.99999046 ='\u0000' or \u0000\n",
      "a : 2 : 0.0 ,max= 0.54451257 ='o' or o\n",
      "  : 81 : 0.0 ,max= 0.999992 ='\u0000' or \u0000\n",
      "o : 79 : 0.0 ,max= 0.31599426 ='o' or o\n",
      "m : 75 : 0.0 ,max= 0.9999981 ='\u0000' or \u0000\n",
      "i : 80 : 0.0 ,max= 0.7479673 ='i' or i\n",
      "n : 71 : 0.0 ,max= 0.9999975 ='\u0000' or \u0000\n",
      "e : 67 : 0.0 ,max= 0.30397472 =' ' or  \n",
      "a : 2 : 0.0 ,max= 0.9999895 ='\u0000' or \u0000\n",
      "  : 68 : 0.0 ,max= 0.33242607 ='n' or n\n",
      "b : 75 : 0.0 ,max= 0.99999964 ='\u0000' or \u0000\n",
      "i : 71 : 0.0 ,max= 0.55211216 ='o' or o\n",
      "e : 2 : 0.0 ,max= 0.9999896 ='\u0000' or \u0000\n",
      "  : 85 : 0.0 ,max= 0.57311517 =',' or ,\n",
      "s : 75 : 0.0 ,max= 0.99986446 ='\u0000' or \u0000\n",
      "i : 79 : 0.0 ,max= 0.38179022 =' ' or  \n",
      "m : 71 : 0.0 ,max= 0.99993837 ='\u0000' or \u0000\n",
      "e : 2 : 0.0 ,max= 0.535282 ='a' or a\n",
      "  : 86 : 0.0 ,max= 0.9999727 ='\u0000' or \u0000\n",
      "t : 67 : 0.0 ,max= 0.22359857 ='b' or b\n",
      "a : 79 : 0.0 ,max= 0.99992824 ='\u0000' or \u0000\n",
      "m : 87 : 0.0 ,max= 0.31156433 ='g' or g\n",
      "u : 80 : 0.0 ,max= 0.99999475 ='\u0000' or \u0000\n",
      "n : 81 : 0.0 ,max= 0.36683008 =' ' or  \n",
      "o : 2 : 0.0 ,max= 0.9999802 ='\u0000' or \u0000\n",
      "  : 68 : 0.0 ,max= 0.8161028 =' ' or  \n",
      "b : 71 : 0.0 ,max= 0.9999987 ='\u0000' or \u0000\n",
      "e : 2 : 0.0 ,max= 0.7628135 ='e' or e\n",
      "  : 68 : 0.0 ,max= 0.99999976 ='\u0000' or \u0000\n",
      "b : 71 : 0.0 ,max= 0.33450356 =' ' or  \n",
      "e : 84 : 0.0 ,max= 0.9999902 ='\u0000' or \u0000\n",
      "r : 97 : 0.0 ,max= 0.5999791 =' ' or  \n",
      "\n",
      " : 71 : 0.0 ,max= 0.999995 ='\u0000' or \u0000\n",
      "e : 80 : 0.0 ,max= 0.46296227 ='e' or e\n",
      "n : 75 : 0.0 ,max= 0.99999857 ='\u0000' or \u0000\n",
      "i : 68 : 0.0 ,max= 0.29175034 =' ' or  \n",
      "b : 75 : 0.0 ,max= 0.99999857 ='\u0000' or \u0000\n",
      "i : 67 : 0.0 ,max= 0.7135549 ='o' or o\n",
      "a : 2 : 0.0 ,max= 0.9999989 ='\u0000' or \u0000\n",
      "  : 68 : 0.0 ,max= 0.489905 =' ' or  \n",
      "b : 81 : 0.0 ,max= 0.9999956 ='\u0000' or \u0000\n",
      "o : 2 : 0.0 ,max= 0.4581596 ='i' or i\n",
      "  : 73 : 0.0 ,max= 0.99999964 ='\u0000' or \u0000\n",
      "g : 81 : 0.0 ,max= 0.41946432 ='b' or b\n",
      "o : 91 : 0.0 ,max= 0.9999968 ='\u0000' or \u0000\n",
      "y : 71 : 0.0 ,max= 0.38771757 =' ' or  \n",
      "e : 73 : 0.0 ,max= 0.99999225 ='\u0000' or \u0000\n",
      "g : 81 : 0.0 ,max= 0.30586866 =' ' or  \n",
      "o : 91 : 0.0 ,max= 0.9999702 ='\u0000' or \u0000\n",
      "y : 71 : 0.0 ,max= 0.23933706 ='r' or r\n",
      "e : 2 : 0.0 ,max= 0.9999925 ='\u0000' or \u0000\n",
      "  : 75 : 0.0 ,max= 0.41456372 ='r' or r\n",
      "i : 2 : 0.0 ,max= 0.9999939 ='\u0000' or \u0000\n",
      "  : 70 : 0.0 ,max= 0.7434289 ='n' or n\n",
      "d : 67 : 0.0 ,max= 0.999946 ='\u0000' or \u0000\n",
      "a : 2 : 0.0 ,max= 0.50064176 ='a' or a\n",
      "  : 68 : 0.0 ,max= 0.99999464 ='\u0000' or \u0000\n",
      "b : 71 : 0.0 ,max= 0.5146906 ='b' or b\n",
      "e : 2 : 0.0 ,max= 0.9999981 ='\u0000' or \u0000\n",
      "  : 85 : 0.0 ,max= 0.24470389 ='r' or r\n",
      "s : 71 : 0.0 ,max= 0.99999464 ='\u0000' or \u0000\n",
      "e : 2 : 0.0 ,max= 0.5416919 ='i' or i\n",
      "  : 81 : 0.0 ,max= 0.9999938 ='\u0000' or \u0000\n",
      "o : 2 : 0.0 ,max= 0.2678919 ='a' or a\n",
      "  : 82 : 0.0 ,max= 0.99994814 ='\u0000' or \u0000\n",
      "p : 75 : 0.0 ,max= 0.24538454 ='m' or m\n",
      "i : 84 : 0.0 ,max= 0.9999553 ='\u0000' or \u0000\n",
      "r : 75 : 0.0 ,max= 0.22603017 ='r' or r\n",
      "i : 68 : 0.0 ,max= 0.9999045 ='\u0000' or \u0000\n",
      "b : 75 : 0.0 ,max= 0.42415068 =' ' or  \n",
      "i : 67 : 0.0 ,max= 0.9999957 ='\u0000' or \u0000\n",
      "a : 2 : 0.697635 ,max= 0.697635 =' ' or  \n",
      "  : 68 : 0.0 ,max= 0.9998841 ='\u0000' or \u0000\n",
      "b : 81 : 0.1525898 ,max= 0.1525898 ='o' or o\n",
      "o : 84 : 0.0 ,max= 0.9998981 ='\u0000' or \u0000\n",
      "r : 81 : 0.0 ,max= 0.25581405 ='b' or b\n",
      "o : 85 : 0.0 ,max= 0.9998541 ='\u0000' or \u0000\n",
      "s : 67 : 0.0 ,max= 0.2778033 ='w' or w\n",
      "a : 79 : 0.0 ,max= 0.9998987 ='\u0000' or \u0000\n",
      "m : 14 : 0.0 ,max= 0.19221726 ='l' or l\n",
      ", : 2 : 0.0 ,max= 0.9998646 ='\u0000' or \u0000\n",
      "  : 81 : 0.0 ,max= 0.94848543 =' ' or  \n",
      "o : 97 : 0.0 ,max= 0.9999969 ='\u0000' or \u0000\n",
      "\n",
      " : 77 : 0.0 ,max= 0.22803211 ='m' or m\n",
      "k : 87 : 0.0 ,max= 0.9999472 ='\u0000' or \u0000\n",
      "u : 79 : 0.0 ,max= 0.88192105 ='u' or u\n",
      "m : 67 : 0.0 ,max= 0.99999845 ='\u0000' or \u0000\n",
      "a : 2 : 0.0 ,max= 0.60995805 ='a' or a\n",
      "  : 81 : 0.0 ,max= 0.9999957 ='\u0000' or \u0000\n",
      "o : 79 : 0.0 ,max= 0.20111638 =' ' or  \n",
      "m : 75 : 0.0 ,max= 0.99999523 ='\u0000' or \u0000\n",
      "i : 80 : 0.0 ,max= 0.7110646 ='i' or i\n",
      "n : 71 : 0.0 ,max= 0.99999607 ='\u0000' or \u0000\n",
      "e : 2 : 0.21944885 ,max= 0.21944885 =' ' or  \n",
      "  : 75 : 0.0 ,max= 0.99998736 ='\u0000' or \u0000\n",
      "i : 80 : 0.18722877 ,max= 0.18722877 ='n' or n\n",
      "n : 71 : 0.0 ,max= 0.9999858 ='\u0000' or \u0000\n",
      "e : 79 : 0.0 ,max= 0.37498945 ='a' or a\n",
      "m : 67 : 0.0 ,max= 0.9999956 ='\u0000' or \u0000\n",
      "a : 2 : 0.0 ,max= 0.41171473 ='a' or a\n",
      "  : 79 : 0.0 ,max= 0.9999174 ='\u0000' or \u0000\n",
      "m : 75 : 0.0 ,max= 0.27772033 ='n' or n\n",
      "i : 71 : 0.0 ,max= 0.99994123 ='\u0000' or \u0000\n",
      "e : 85 : 0.0 ,max= 0.5583555 ='n' or n\n",
      "s : 71 : 0.0 ,max= 0.9999871 ='\u0000' or \u0000\n",
      "e : 2 : 0.0 ,max= 0.2660652 ='a' or a\n",
      "  : 81 : 0.0 ,max= 0.9999542 ='\u0000' or \u0000\n",
      "o : 2 : 0.0 ,max= 0.4165807 ='a' or a\n",
      "  : 86 : 0.0 ,max= 0.99999785 ='\u0000' or \u0000\n",
      "t : 81 : 0.0 ,max= 0.20357658 ='b' or b\n",
      "o : 79 : 0.0 ,max= 0.99996364 ='\u0000' or \u0000\n",
      "m : 81 : 0.0 ,max= 0.40357432 ='k' or k\n",
      "o : 80 : 0.0 ,max= 0.99998486 ='\u0000' or \u0000\n",
      "n : 75 : 0.0 ,max= 0.23345305 ='b' or b\n",
      "i : 77 : 0.0 ,max= 0.99999774 ='\u0000' or \u0000\n",
      "k : 75 : 0.0 ,max= 0.22377312 =' ' or  \n",
      "i : 84 : 0.0 ,max= 0.9999993 ='\u0000' or \u0000\n",
      "r : 75 : 0.0 ,max= 0.30278137 ='r' or r\n",
      "i : 2 : 0.0 ,max= 0.99998975 ='\u0000' or \u0000\n",
      "  : 79 : 0.0 ,max= 0.30734506 =' ' or  \n",
      "m : 75 : 0.0 ,max= 0.99999833 ='\u0000' or \u0000\n",
      "i : 2 : 0.0 ,max= 0.22107941 ='g' or g\n",
      "  : 68 : 0.0 ,max= 0.99974316 ='\u0000' or \u0000\n",
      "b : 71 : 0.0 ,max= 0.37597418 ='b' or b\n",
      "e : 2 : 0.0 ,max= 0.9999294 ='\u0000' or \u0000\n",
      "  : 81 : 0.0 ,max= 0.2579345 ='l' or l\n",
      "o : 77 : 0.0 ,max= 0.9993212 ='\u0000' or \u0000\n",
      "k : 89 : 0.0 ,max= 0.34581697 ='r' or r\n",
      "w : 71 : 0.0 ,max= 0.99999404 ='\u0000' or \u0000\n",
      "e : 75 : 0.0 ,max= 0.31389257 ='u' or u\n",
      "i : 80 : 0.0 ,max= 0.9999982 ='\u0000' or \u0000\n"
     ]
    },
    {
     "data": {
      "text/plain": [
       "-0.006836573282877604"
      ]
     },
     "execution_count": 36,
     "metadata": {},
     "output_type": "execute_result"
    }
   ],
   "source": [
    "t='''duko ini piri se i duko o piriabe, o bo minea b\n",
    "u dapu ori oria okweinma piki nemikase bereni nyan\n",
    "a apu ma piri okuma, o nwose i beme, i duko o piri\n",
    "abe iya ani ineda o bara bia okweinma nwo duko o p\n",
    "irisam, aniatibi o bereni i poribia bara. ani okum\n",
    "a ini o bara sikima okuma aniatibi ari ineda i si \n",
    "miemie ye mie bu, o bo ma na o se mgbesechin mi og\n",
    "ono bakubabia. okuma ominea bie sime tamuno be ber\n",
    "enibia bo goyegoye i da be se o piribia borosam, o\n",
    "kuma omine inema miese o tomonikiri mi be okwein'''\n",
    "pcx(t)"
   ]
  },
  {
   "cell_type": "markdown",
   "metadata": {
    "jupyter": {
     "source_hidden": true
    }
   },
   "source": [
    "# these must match what was saved !\n",
    "ALPHASIZE = my_txtutils.ALPHASIZE\n",
    "NLAYERS = 3\n",
    "INTERNALSIZE = 512\n",
    "\n",
    "ok02 =\"checkpoints/rnn_train_1560839489-30000000\" # okrika 2019-06-18\n",
    "ok03 =\"checkpoints/rnn_train_1563601394-60000000\" # okrika 2019-07-20\n",
    "\n",
    "author=ok03\n",
    "\n",
    "ncnt = 0\n",
    "with tf.Session() as sess:\n",
    "    # new_saver = tf.train.import_meta_graph('checkpoints/rnn_train_1512567262-0.meta')\n",
    "    new_saver = tf.train.import_meta_graph(author+'.meta')\n",
    "    new_saver.restore(sess, author)\n",
    "    x = my_txtutils.convert_from_alphabet(ord(\"L\"))\n",
    "    x = np.array([[x]])  # shape [BATCHSIZE, SEQLEN] with BATCHSIZE=1 and SEQLEN=1\n",
    "\n",
    "    # initial values\n",
    "    y = x\n",
    "    h = np.zeros([1, INTERNALSIZE * NLAYERS], dtype=np.float32)  # [ BATCHSIZE, INTERNALSIZE * NLAYERS]\n",
    "    yo, h = sess.run(['Yo:0', 'H:0'], feed_dict={'X:0': y, 'pkeep:0': 1., 'Hin:0': h, 'batchsize:0': 1})\n",
    "    y=np.reshape(yo,[98,-1])\n",
    "    y=y.flatten()\n",
    "    v=\"hello world\"\n",
    "    for i in range(ALPHASIZE):\n",
    "        #print(tf.shape(yo))\n",
    "        #print(len(yo))\n",
    "        #c = my_txtutils.sample_from_probabilities(yo, topn=2)\n",
    "        #y = np.array([[c]])  # shape [BATCHSIZE, SEQLEN] with BATCHSIZE=1 and SEQLEN=1\n",
    "        c = chr(my_txtutils.convert_to_alphabet(i))\n",
    "        print(c,':',y[i])\n",
    "        if c == '\\n':\n",
    "            ncnt = 0\n",
    "        else:\n",
    "            ncnt += 1\n",
    "        if ncnt == 100:\n",
    "            print(\"\")\n",
    "            ncnt = 0"
   ]
  },
  {
   "cell_type": "raw",
   "metadata": {
    "jupyter": {
     "source_hidden": true
    }
   },
   "source": [
    "# Softmax layer implementation:\n",
    "# Flatten the first two dimension of the output [ BATCHSIZE, SEQLEN, ALPHASIZE ] => [ BATCHSIZE x SEQLEN, ALPHASIZE ]\n",
    "# then apply softmax readout layer. This way, the weights and biases are shared across unrolled time steps.\n",
    "# From the readout point of view, a value coming from a sequence time step or a minibatch item is the same thing.\n",
    "'''\n",
    "Yflat = tf.reshape(Yr, [-1, INTERNALSIZE])    # [ BATCHSIZE x SEQLEN, INTERNALSIZE ]\n",
    "Ylogits = layers.linear(Yflat, ALPHASIZE)     # [ BATCHSIZE x SEQLEN, ALPHASIZE ]\n",
    "Yflat_ = tf.reshape(Yo_, [-1, ALPHASIZE])     # [ BATCHSIZE x SEQLEN, ALPHASIZE ]\n",
    "loss = tf.nn.softmax_cross_entropy_with_logits(logits=Ylogits, labels=Yflat_)  # [ BATCHSIZE x SEQLEN ]\n",
    "loss = tf.reshape(loss, [batchsize, -1])      # [ BATCHSIZE, SEQLEN ]\n",
    "Yo = tf.nn.softmax(Ylogits, name='Yo')        # [ BATCHSIZE x SEQLEN, ALPHASIZE ]\n",
    "Y = tf.argmax(Yo, 1)                          # [ BATCHSIZE x SEQLEN ]\n",
    "Y = tf.reshape(Y, [batchsize, -1], name=\"Y\")  # [ BATCHSIZE, SEQLEN ]\n",
    "train_step = tf.train.AdamOptimizer(lr).minimize(loss)\n",
    "'''\n",
    "        # If sampling is be done from the topn most likely characters, the generated text\n",
    "        # is more credible and more \"english\". If topn is not set, it defaults to the full\n",
    "        # distribution (ALPHASIZE)\n",
    "\n",
    "        # Recommended: topn = 10 for intermediate checkpoints, topn=2 or 3 for fully trained checkpoints\n",
    "        print('yes' if re.search(\"g\", \"abcdef\") else 'no')\n",
    "        \n",
    "lstm.score('ani okum a ini o bara sikima okuma aniatibi ari ineda i simiemie ye mie bu, o bo ma na o se mgbesechin mi ogono bakubabia')=-69.1488\n",
    "model.score('ani okum a ini o bara sikima okuma aniatibi ari ineda i simiemie ye mie bu, o bo ma na o se mgbesechin mi ogono bakubabia')=-80.0409\n",
    "model.score('duko ini piri se i duko o piriabe')=-26.2484\n",
    "lstm.score('duko ini piri se i duko o piriabe')=-24.2721\n",
    "lstm.score(rom)=-98396.4766\n",
    "model.score(rom)=-119858.0547\n",
    "rom_new stat=39624 words, 399073 xtrs\n",
    "bible.10.txt = 385 lines 24720 words 236951xtrs\n",
    "a bime ari ominea ogboku soni, tomoni mie se ini si bu vinpiki, isi jinseapu ma bie a miesa bara mi\n",
    "model=-65.91641998291016\n",
    "lstm=-56.092166900634766\n",
    "tamuno be bi na mie nwo be ye mi i nemime, oloko mi bu i boro karakaraye mi now selebia oku dawobosam. i nemi kpainmame na iri torumgbolupun apu ma be ateli diebo-e, enekubo so kanakana bie sime apu ma piri bo-e, se yenemikapu ma dagbukukumari bo-e, ase na ire na yediebo-e. i piki bereniokime na oloko mi bie mi dawonemi na kokomaye mi na be bein mi i nwo nyanasam. i ye se jin-apu dieme, nde miese i ye se ibu dieka bara i tamuno bere dukome na, furu ma, okuma iri i furu-apu i nwo beme, sefi ma okuma iri i sefi-au i oru teke dikisimame, okuma i oruwari ma bie ye furu-au i bomame na i tamuno oloko nwo nemi warabe, okuma i bugerere se tamuno be toru chua-au, oria oloko mi nwo kan bu fiafiadiri mi nwo beme, omine juapu ma gose, jinseapu ma tamuno be dukosimame.    i nemikase oloko mi duko ye mieme bebe, iya bupele mi yela ye-e, okuma i nemikase oloko mi dukoye mieke bebe, mgboku ibu soni i peleka ibiteinme. jinsebo be se bupeleka bo be nemikase oloko mi dukoye mieme nwo be okuma\n",
    "model=-583.2510375976562\n",
    "lstm=-488.6672058105469\n",
    "full stats 668522words 6539176xters\n",
    "bible stats 35049  915531 4264406"
   ]
  },
  {
   "cell_type": "code",
   "execution_count": 16,
   "metadata": {
    "collapsed": true,
    "jupyter": {
     "outputs_hidden": true,
     "source_hidden": true
    }
   },
   "outputs": [
    {
     "name": "stdout",
     "output_type": "stream",
     "text": [
      "lstm ppx= 1.000612748222892\n",
      "model ppx= 1.0006626563667096\n"
     ]
    }
   ],
   "source": [
    "import math\n",
    "def pc4p(prob,words):\n",
    "    #return np.log2(np.sum(arr))*(-1/len(txt))\n",
    "    return math.exp(prob)**(-1/words)\n",
    "def pc4lp(prob,words):\n",
    "    #return np.log2(np.sum(arr))*(-1/len(txt))\n",
    "    return prob**(-1/words)\n",
    "print('lstm ppx=',pc4lp(math.exp(-24.2721),39624))\n",
    "print('model ppx=',pc4lp(math.exp(-26.2484),39624))"
   ]
  },
  {
   "cell_type": "code",
   "execution_count": 20,
   "metadata": {
    "collapsed": true,
    "jupyter": {
     "outputs_hidden": true,
     "source_hidden": true
    }
   },
   "outputs": [
    {
     "name": "stdout",
     "output_type": "stream",
     "text": [
      "988\n",
      "lstm ppx= 1.639846164055032\n",
      "model ppx= 1.8045929579573747\n",
      "99\n",
      "lstm ppx= 1.762243202625417\n",
      "model ppx= 1.9460903749339529\n"
     ]
    }
   ],
   "source": [
    "l=len('tamuno be bi na mie nwo be ye mi i nemime, oloko mi bu i boro karakaraye mi now selebia oku dawobosam. i nemi kpainmame na iri torumgbolupun apu ma be ateli diebo-e, enekubo so kanakana bie sime apu ma piri bo-e, se yenemikapu ma dagbukukumari bo-e, ase na ire na yediebo-e. i piki bereniokime na oloko mi bie mi dawonemi na kokomaye mi na be bein mi i nwo nyanasam. i ye se jin-apu dieme, nde miese i ye se ibu dieka bara i tamuno bere dukome na, furu ma, okuma iri i furu-apu i nwo beme, sefi ma okuma iri i sefi-au i oru teke dikisimame, okuma i oruwari ma bie ye furu-au i bomame na i tamuno oloko nwo nemi warabe, okuma i bugerere se tamuno be toru chua-au, oria oloko mi nwo kan bu fiafiadiri mi nwo beme, omine juapu ma gose, jinseapu ma tamuno be dukosimame.    i nemikase oloko mi duko ye mieme bebe, iya bupele mi yela ye-e, okuma i nemikase oloko mi dukoye mieke bebe, mgboku ibu soni i peleka ibiteinme. jinsebo be se bupeleka bo be nemikase oloko mi dukoye mieme nwo be okuma')\n",
    "print(l)\n",
    "print('lstm ppx=',pc4p(-488.6672058105469,l))\n",
    "print('model ppx=',pc4p(-583.2510375976562,l))\n",
    "l=len('a bime ari ominea ogboku soni, tomoni mie se ini si bu vinpiki, isi jinseapu ma bie a miesa bara mi')\n",
    "print(l)\n",
    "print('lstm ppx=',pc4p(-56.092166900634766,l))\n",
    "print('model ppx=',pc4p(-65.91641998291016,l))"
   ]
  },
  {
   "cell_type": "code",
   "execution_count": 14,
   "metadata": {
    "collapsed": false,
    "jupyter": {
     "outputs_hidden": false
    }
   },
   "outputs": [
    {
     "data": {
      "text/plain": [
       "5.109089028063325e-12"
      ]
     },
     "execution_count": 14,
     "metadata": {},
     "output_type": "execute_result"
    }
   ],
   "source": [
    "import json\n",
    "#with open('vloss_main.json','r') as f:\n",
    "with open('vloss.json','r') as f:\n",
    "    vloss=json.load(f)\n",
    "#print(vloss) \n",
    "plt.figure()\n",
    "plt.plot(vloss)"
   ]
  },
  {
   "cell_type": "code",
   "execution_count": 1,
   "metadata": {},
   "outputs": [
    {
     "name": "stdout",
     "output_type": "stream",
     "text": [
      "Collecting https://github.com/kpu/kenlm/archive/master.zip\n",
      "  Using cached https://github.com/kpu/kenlm/archive/master.zip\n",
      "Building wheels for collected packages: kenlm\n",
      "  Building wheel for kenlm (setup.py): started\n",
      "  Building wheel for kenlm (setup.py): finished with status 'error'\n",
      "  Running setup.py clean for kenlm\n",
      "Failed to build kenlm\n",
      "Installing collected packages: kenlm\n",
      "    Running setup.py install for kenlm: started\n",
      "    Running setup.py install for kenlm: finished with status 'error'\n"
     ]
    },
    {
     "name": "stderr",
     "output_type": "stream",
     "text": [
      "  ERROR: Failed building wheel for kenlm\n",
      "ERROR: Command errored out with exit status 1: 'H:\\app\\msys32\\home\\u1273400\\python_research\\python.exe' -u -c 'import sys, setuptools, tokenize; sys.argv[0] = '\"'\"'C:\\\\Users\\\\U1273400\\\\AppData\\\\Local\\\\Temp\\\\pip-req-build-unby0agv\\\\setup.py'\"'\"'; __file__='\"'\"'C:\\\\Users\\\\U1273400\\\\AppData\\\\Local\\\\Temp\\\\pip-req-build-unby0agv\\\\setup.py'\"'\"';f=getattr(tokenize, '\"'\"'open'\"'\"', open)(__file__);code=f.read().replace('\"'\"'\\r\\n'\"'\"', '\"'\"'\\n'\"'\"');f.close();exec(compile(code, __file__, '\"'\"'exec'\"'\"'))' install --record 'C:\\Users\\U1273400\\AppData\\Local\\Temp\\pip-record-s61oueom\\install-record.txt' --single-version-externally-managed --compile --install-headers 'H:\\app\\msys32\\home\\u1273400\\python_research\\Include\\kenlm' Check the logs for full command output.\n"
     ]
    }
   ],
   "source": [
    "!pip install https://github.com/kpu/kenlm/archive/master.zip --log kenlm.log"
   ]
  },
  {
   "cell_type": "code",
   "execution_count": 1,
   "metadata": {},
   "outputs": [],
   "source": [
    "import json\n",
    "with open('vloss_slgru201219.json','r') as f:\n",
    "    vloss=json.load(f)"
   ]
  },
  {
   "cell_type": "code",
   "execution_count": 2,
   "metadata": {},
   "outputs": [
    {
     "data": {
      "text/plain": [
       "[<matplotlib.lines.Line2D at 0x20d14cdb8b0>]"
      ]
     },
     "execution_count": 2,
     "metadata": {},
     "output_type": "execute_result"
    },
    {
     "data": {
      "image/png": "[encoded data removed]",
      "text/plain": [
       "<Figure size 432x288 with 1 Axes>"
      ]
     },
     "metadata": {
      "needs_background": "light"
     },
     "output_type": "display_data"
    }
   ],
   "source": [
    "import matplotlib.pyplot as plt\n",
    "import matplotlib.ticker as ticker\n",
    "# product = reduce((lambda x, y: x * y), [1, 2, 3, 4])\n",
    "\n",
    "plt.figure()\n",
    "plt.plot(vloss)"
   ]
  },
  {
   "cell_type": "code",
   "execution_count": null,
   "metadata": {},
   "outputs": [],
   "source": [
    "import csv\n",
    "with open('vloss.csv', mode='w') as vlf:\n",
    "    vlc = csv.writer(vlf, delimiter=',', quotechar='\"', quoting=csv.QUOTE_MINIMAL)\n",
    "    for row in vloss:\n",
    "        vlc.writerow(row)"
   ]
  },
  {
   "cell_type": "code",
   "execution_count": null,
   "metadata": {},
   "outputs": [],
   "source": [
    "PATH = './cifar_net.pth'\n",
    "net = Net()\n",
    "net.load_state_dict(torch.load(PATH))"
   ]
  },
  {
   "cell_type": "code",
   "execution_count": 16,
   "metadata": {},
   "outputs": [
    {
     "data": {
      "text/plain": [
       "[<matplotlib.lines.Line2D at 0x20d14fd7730>]"
      ]
     },
     "execution_count": 16,
     "metadata": {},
     "output_type": "execute_result"
    },
    {
     "data": {
      "image/png": "[encoded data removed]",
      "text/plain": [
       "<Figure size 432x288 with 1 Axes>"
      ]
     },
     "metadata": {
      "needs_background": "light"
     },
     "output_type": "display_data"
    },
    {
     "data": {
      "image/png": "[encoded data removed]",
      "text/plain": [
       "<Figure size 432x288 with 1 Axes>"
      ]
     },
     "metadata": {
      "needs_background": "light"
     },
     "output_type": "display_data"
    }
   ],
   "source": [
    "import json\n",
    "with open('vloss_main.json','r') as f:\n",
    "    vloss=json.load(f)\n",
    "#print(vloss) \n",
    "vloss=json.loads(vloss.replace(\"'\",'\"'))\n",
    "plt.figure()\n",
    "plt.plot(vloss['acc'])\n",
    "plt.figure()\n",
    "plt.plot(vloss['loss'])\n"
   ]
  },
  {
   "cell_type": "code",
   "execution_count": null,
   "metadata": {},
   "outputs": [],
   "source": [
    "import kenlm\n",
    "model = kenlm.Model('rpynotes/ok-rnn/txteval/val/text.arpa')"
   ]
  }
 ],
 "metadata": {
  "anaconda-cloud": {},
  "kernelspec": {
   "display_name": "Python 3",
   "language": "python",
   "name": "python3"
  },
  "language_info": {
   "codemirror_mode": {
    "name": "ipython",
    "version": 3
   },
   "file_extension": ".py",
   "mimetype": "text/x-python",
   "name": "python",
   "nbconvert_exporter": "python",
   "pygments_lexer": "ipython3",
   "version": "3.7.9"
  }
 },
 "nbformat": 4,
 "nbformat_minor": 4
}
