{
 "cells": [
  {
   "cell_type": "code",
   "execution_count": 260,
   "metadata": {
    "collapsed": true
   },
   "outputs": [],
   "source": [
    "import pandas as pd\n",
    "import numpy as np"
   ]
  },
  {
   "cell_type": "code",
   "execution_count": 1,
   "metadata": {
    "collapsed": false
   },
   "outputs": [
    {
     "name": "stdout",
     "output_type": "stream",
     "text": [
      "['jud_rev_new.txt', 'rom_new.txt', 'luke_8_john_new.txt', 'matt02_new.txt', 'gal_eph_new.txt', 'tit_phl_new.txt', 'matt_new.txt', 'acts_new.txt', 'heb_new.txt', 'thes_tim_new.txt', 'phil_col_new.txt', 'john_new.txt', 'mark01_new.txt', 'jam_jud_new.txt']\n"
     ]
    }
   ],
   "source": [
    "mypath='./new_docs/'\n",
    "txts='./txts/'\n",
    "from os import listdir\n",
    "from os.path import isfile, join\n",
    "onlyfiles = [f for f in listdir(mypath) if isfile(join(mypath, f))]\n",
    "print(onlyfiles)"
   ]
  },
  {
   "cell_type": "code",
   "execution_count": 261,
   "metadata": {
    "collapsed": true
   },
   "outputs": [],
   "source": [
    "#large files\n",
    "def large_f():\n",
    "    filenames = ['file1.txt', 'file2.txt', ...]\n",
    "    with open('path/to/output/file', 'w') as outfile:\n",
    "        for fname in filenames:\n",
    "            with open(fname) as infile:\n",
    "                for line in infile:\n",
    "                    outfile.write(line)"
   ]
  },
  {
   "cell_type": "code",
   "execution_count": null,
   "metadata": {
    "collapsed": true
   },
   "outputs": [],
   "source": [
    "#small files\n",
    "def small_f():\n",
    "    filenames = ['file1.txt', 'file2.txt', ...]\n",
    "    with open('path/to/output/file', 'w') as outfile:\n",
    "        for fname in filenames:\n",
    "            with open(fname) as infile:\n",
    "                outfile.write(infile.read())"
   ]
  },
  {
   "cell_type": "code",
   "execution_count": null,
   "metadata": {
    "collapsed": true
   },
   "outputs": [],
   "source": [
    "#leaking descriptor\n",
    "def leak_df():\n",
    "    filenames = ['file1.txt', 'file2.txt', ...]\n",
    "    with open('path/to/output/file', 'w') as outfile:\n",
    "        for line in itertools.chain.from_iterable(itertools.imap(open, filnames)):\n",
    "            outfile.write(line)"
   ]
  },
  {
   "cell_type": "code",
   "execution_count": 3,
   "metadata": {
    "collapsed": true
   },
   "outputs": [],
   "source": [
    "t={}\n",
    "for f in onlyfiles:\n",
    "    inF=open(mypath+f,\"r\")\n",
    "    t[f]=inF.read()\n"
   ]
  },
  {
   "cell_type": "markdown",
   "metadata": {},
   "source": [
    "Let's remove punctuation symbols\n",
    "Punctuation Rules in English\n",
    "1. the period (or full stop in British English)\n",
    "2. the comma.\n",
    "3. the exclamation mark.\n",
    "4. the question mark.\n",
    "5. the colon.\n",
    "6. the semicolon.\n",
    "7. the quotation mark.\n",
    "8. the apostrophe."
   ]
  },
  {
   "cell_type": "code",
   "execution_count": 12,
   "metadata": {
    "collapsed": true
   },
   "outputs": [],
   "source": [
    "def stripper(src):\n",
    "    return src.lower().replace(\"\\n\",\" \").replace(\"  \",\" \").replace(\"ẹ\",\"e\")\\\n",
    "    .replace(\"!\",\"\").replace(\"?\",\"\").replace(\"“\",\"\").replace(\"ḍ\",\"d\")\\\n",
    "    .replace(\":\",\"\").replace(\";\",\"\").replace(\"ị\",\"i\").replace(\"ḅ\",\"b\")\\\n",
    "    .replace(\"'\",\"\").replace(\"”\",\"\").replace(\"ọ\",\"o\").replace(\"ú\",\"u\")\\\n",
    "    .replace(\"'\",\"\").replace(\"”\",\"\").replace(\"ụ\",\"u\").replace('\"',\"\")"
   ]
  },
  {
   "cell_type": "code",
   "execution_count": null,
   "metadata": {
    "collapsed": true
   },
   "outputs": [],
   "source": [
    "for f in t:\n",
    "    t[f]=stripper(t[f])\n",
    "    oF=open(txts+f,\"a\")\n",
    "    of.write(t[f])"
   ]
  }
 ],
 "metadata": {
  "anaconda-cloud": {},
  "kernelspec": {
   "display_name": "Python [default]",
   "language": "python",
   "name": "python3"
  },
  "language_info": {
   "codemirror_mode": {
    "name": "ipython",
    "version": 3
   },
   "file_extension": ".py",
   "mimetype": "text/x-python",
   "name": "python",
   "nbconvert_exporter": "python",
   "pygments_lexer": "ipython3",
   "version": "3.5.2"
  }
 },
 "nbformat": 4,
 "nbformat_minor": 2
}
