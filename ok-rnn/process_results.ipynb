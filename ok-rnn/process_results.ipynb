{
 "cells": [
  {
   "cell_type": "code",
   "execution_count": 1,
   "metadata": {
    "collapsed": true
   },
   "outputs": [],
   "source": [
    "import pandas as pd\n",
    "import numpy as np\n",
    "import tensorflow as tf\n",
    "import my_txtutils"
   ]
  },
  {
   "cell_type": "code",
   "execution_count": 2,
   "metadata": {
    "collapsed": false
   },
   "outputs": [
    {
     "name": "stdout",
     "output_type": "stream",
     "text": [
      "['acts_new.txt', 'gal_eph_new.txt', 'heb_new.txt', 'jam_jud_new.txt', 'john_new.txt', 'jud_rev_new.txt', 'luke_8_john_new.txt', 'mark01_new.txt', 'matt02_new.txt', 'matt_new.txt', 'phil_col_new.txt', 'rom_new.txt', 'thes_tim_new.txt', 'tit_phl_new.txt']\n"
     ]
    }
   ],
   "source": [
    "mypath='./new_docs/'\n",
    "txts='./txts/'\n",
    "from os import listdir\n",
    "from os.path import isfile, join\n",
    "onlyfiles = [f for f in listdir(mypath) if isfile(join(mypath, f))]\n",
    "print(onlyfiles)"
   ]
  },
  {
   "cell_type": "code",
   "execution_count": 261,
   "metadata": {
    "collapsed": true
   },
   "outputs": [],
   "source": [
    "#large files\n",
    "def large_f():\n",
    "    filenames = ['file1.txt', 'file2.txt', ...]\n",
    "    with open('path/to/output/file', 'w') as outfile:\n",
    "        for fname in filenames:\n",
    "            with open(fname) as infile:\n",
    "                for line in infile:\n",
    "                    outfile.write(line)"
   ]
  },
  {
   "cell_type": "code",
   "execution_count": null,
   "metadata": {
    "collapsed": true
   },
   "outputs": [],
   "source": [
    "#small files\n",
    "def small_f():\n",
    "    filenames = ['file1.txt', 'file2.txt', ...]\n",
    "    with open('path/to/output/file', 'w') as outfile:\n",
    "        for fname in filenames:\n",
    "            with open(fname) as infile:\n",
    "                outfile.write(infile.read())"
   ]
  },
  {
   "cell_type": "code",
   "execution_count": null,
   "metadata": {
    "collapsed": true
   },
   "outputs": [],
   "source": [
    "#leaking descriptor\n",
    "def leak_df():\n",
    "    filenames = ['file1.txt', 'file2.txt', ...]\n",
    "    with open('path/to/output/file', 'w') as outfile:\n",
    "        for line in itertools.chain.from_iterable(itertools.imap(open, filnames)):\n",
    "            outfile.write(line)"
   ]
  },
  {
   "cell_type": "code",
   "execution_count": 8,
   "metadata": {
    "collapsed": false
   },
   "outputs": [
    {
     "name": "stdout",
     "output_type": "stream",
     "text": [
      "\n",
      "(base) H:\\Downloads\\src\\notebooks\\research\\ok-rnn>set path=C:\\Users\\u1273400\\AppData\\Local\\Continuum\\Anaconda3\\Library\\bin;C:\\Users\\u1273400\\AppData\\Local\\Continuum\\Anaconda3\\Library\\bin;C:\\Users\\u1273400\\AppData\\Local\\Continuum\\Anaconda3\\Scripts;C:\\Users\\u1273400\\AppData\\Local\\Continuum\\Anaconda3\\Library\\bin;C:\\Users\\u1273400\\AppData\\Local\\Continuum\\Anaconda3;C:\\Users\\u1273400\\AppData\\Local\\Continuum\\Anaconda3\\Library\\mingw-w64\\bin;C:\\Users\\u1273400\\AppData\\Local\\Continuum\\Anaconda3\\Library\\usr\\bin;C:\\Users\\u1273400\\AppData\\Local\\Continuum\\Anaconda3\\Library\\bin;C:\\Users\\u1273400\\AppData\\Local\\Continuum\\Anaconda3\\Scripts;C:\\Users\\u1273400\\AppData\\Local\\Continuum\\Anaconda3\\bin;C:\\SIMULIA\\Commands;C:\\Program Files\\Microsoft MPI\\Bin\\;C:\\Program Files (x86)\\NVIDIA Corporation\\PhysX\\Common;C:\\ProgramData\\Oracle\\Java\\javapath;C:\\Program Files (x86)\\ActiveState Komodo Edit 10\\;C:\\windows\\system32;C:\\windows;C:\\windows\\System32\\Wbem;C:\\windows\\System32\\WindowsPowerShell\\v1.0\\;C:\\PROGRAM FILES\\OPENOFFICE.ORG 3\\URE\\BIN; C:\\PROGRAM FILES (X86)\\OPENOFFICE.ORG 3\\URE\\BIN;C:\\Program Files\\Microsoft SQL Server\\120\\Tools\\Binn\\;C:\\program files\\Statistics\\JRE\\bin;C:\\Program Files (x86)\\Windows Kits\\8.1\\Windows Performance Toolkit\\;C:\\Program Files\\MATLAB\\R2017a\\runtime\\win64;C:\\Program Files\\MATLAB\\R2017a\\bin;C:\\Program Files\\TortoiseSVN\\bin;C:\\Users\\u1273400\\AppData\\Local\\Microsoft\\WindowsApps;;C:\\intelFPGA_pro\\16.1\\modelsim_ase\\win32aloem;C:\\intelFPGA_pro\\17.0\\modelsim_ae\\win32aloem;C:\\Users\\u1273400\\AppData\\Local\\Programs\\Microsoft VS Code\\bin;C:\\Users\\u1273400\\apps\\chocoportable\\bin;C:\\Users\\u1273400\\apps\\heroku\\bin;C:\\Users\\u1273400\\apps\\xampp;C:\\Users\\u1273400\\apps\\xampp\\php;C:\\Users\\u1273400\\AppData\\Local\\Continuum\\Anaconda3;h:\\app\\tar\\bin;C:\\Users\\u1273400\\apps\\Git\\bin;h:\\app\\wget\\bin;C:\\Users\\u1273400\\apps;C:\\Users\\u1273400\\apps\\QtCreatorPortable\\App\\Qt\\2009.03\\mingw\\bin;C:\\Users\\u1273400\\apps\\node;C:\\Users\\u1273400\\apps\\sox-win;C:\\Users\\u1273400\\apps\\dnc2;C:\\Users\\u1273400\\apps\\dart-sdk\\bin;C:\\Users\\u1273400\\apps\\ant\\bin;C:\\Users\\u1273400\\apps\\kibana\\bin;C:\\Users\\u1273400\\AppData\\Local\\Continuum\\Anaconda3\\Scripts;\\\\vulture\\public\\Research\\MATLAB\\R2014a\\bin;K:\\AppData\\Roaming\\Pub\\Cache\\bin;C:\\Users\\u1273400\\apps\\cmake\\bin;c:\\windows\\system32;C:\\Users\\u1273400\\apps\\QtCreatorPortable\\App\\Qt\\2009.03\\mingw\\bin;C:\\Users\\u1273400\\apps\\QtCreatorPortable\\App\\Qt\\2009.03\\qt\\bin;C:\\Users\\u1273400\\apps\\java\\bin;C:\\Users\\u1273400\\AppData\\Local\\Continuum\\Anaconda3\\Library\\plugins\\platforms;C:\\Program Files (x86)\\Mozilla Firefox;C:\\Users\\u1273400\\AppData\\Local\\Continuum\\Anaconda3\\lib\\site-packages\\numpy\\.libs;C:\\Users\\u1273400\\apps\\xampp;C:\\Users\\u1273400\\apps\\xampp\\php;C:\\Users\\u1273400\\AppData\\Local\\Continuum\\Anaconda3;h:\\app\\tar\\bin;C:\\Users\\u1273400\\apps\\Git\\bin;h:\\app\\wget\\bin;C:\\Users\\u1273400\\apps;C:\\Users\\u1273400\\apps\\QtCreatorPortable\\App\\Qt\\2009.03\\mingw\\bin;C:\\Users\\u1273400\\apps\\node;C:\\Users\\u1273400\\apps\\sox-win;C:\\Users\\u1273400\\apps\\dnc2;C:\\Users\\u1273400\\apps\\dart-sdk\\bin;C:\\Users\\u1273400\\apps\\ant\\bin;C:\\Users\\u1273400\\apps\\kibana\\bin;C:\\Users\\u1273400\\AppData\\Local\\Continuum\\Anaconda3\\Scripts;\\\\vulture\\public\\Research\\MATLAB\\R2014a\\bin;K:\\AppData\\Roaming\\Pub\\Cache\\bin;C:\\Users\\u1273400\\apps\\cmake\\bin;c:\\windows\\system32;C:\\Users\\u1273400\\apps\\QtCreatorPortable\\App\\Qt\\2009.03\\mingw\\bin;C:\\Users\\u1273400\\apps\\QtCreatorPortable\\App\\Qt\\2009.03\\qt\\bin;C:\\Users\\u1273400\\apps\\java\\bin;C:\\Users\\u1273400\\AppData\\Local\\Continuum\\Anaconda3\\Library\\plugins\\platforms;C:\\Program Files (x86)\\Mozilla Firefox;C:\\Users\\u1273400\\apps\\cygwin\\home\\u1273400\\install\\kenlm\\build\\bin \n",
      "\n",
      "(base) H:\\Downloads\\src\\notebooks\\research\\ok-rnn>set QT_QPA_PLATFORM_PLUGIN_PATH=C:\\User \n",
      "\n",
      "(base) H:\\Downloads\\src\\notebooks\\research\\ok-rnn>s\\u1273400\\AppData\\Local\\Continuum\\Anaconda3\\Library\\plugins\\platforms\n",
      "\n",
      "(base) H:\\Downloads\\src\\notebooks\\research\\ok-rnn>set http_proxy=wwwproxy.hud.ac.uk:3128 \n",
      "\n",
      "(base) H:\\Downloads\\src\\notebooks\\research\\ok-rnn>set https_proxy=wwwproxy.hud.ac.uk:3128 \n",
      "\n",
      "(base) H:\\Downloads\\src\\notebooks\\research\\ok-rnn>set HTTP_PROXY=http://wwwproxy.hud.ac.uk:3128 \n",
      "\n",
      "(base) H:\\Downloads\\src\\notebooks\\research\\ok-rnn>set HTTPS_PROXY=http://wwwproxy.hud.ac.uk:3128 \n",
      "\n",
      "(base) H:\\Downloads\\src\\notebooks\\research\\ok-rnn>set BAZEL_VS=C:\\users\\u1273400\\apps\\vs2015 \n",
      "\n",
      "(base) H:\\Downloads\\src\\notebooks\\research\\ok-rnn>set IONIC_HTTP_PROXY=http://wwwproxy.hud.ac.uk:3128 \n",
      "\n",
      "(base) H:\\Downloads\\src\\notebooks\\research\\ok-rnn>set GIT_SSL_NO_VERIFY=true \n",
      "\n",
      "(base) H:\\Downloads\\src\\notebooks\\research\\ok-rnn>C:\\users\\u1273400\\apps\\vs2015\\VC\\vcvarsall.bat\n",
      "\n",
      "(base) H:\\Downloads\\src\\notebooks\\research\\ok-rnn>C:\\Users\\u1273400\\AppData\\Local\\Continuum\\Anaconda3\\Scripts\\activate.bat\n"
     ]
    },
    {
     "name": "stderr",
     "output_type": "stream",
     "text": [
      "The system cannot find the path specified.\n",
      "The system cannot find the path specified.\n"
     ]
    }
   ],
   "source": [
    "!h:/setpath"
   ]
  },
  {
   "cell_type": "code",
   "execution_count": 10,
   "metadata": {
    "collapsed": false
   },
   "outputs": [
    {
     "name": "stderr",
     "output_type": "stream",
     "text": [
      "'lmplz' is not recognized as an internal or external command,\n",
      "operable program or batch file.\n"
     ]
    }
   ],
   "source": [
    "!lmplz -o 5 -S 50 -T C:/Users/u1273400/itmp < H:/Downloads/src/notebooks/research/ok-rnn/new_txts/ok1906180830c.txt > H:/Downloads/src/notebooks/research/ok-rnn/new_txts/ok.arpa"
   ]
  },
  {
   "cell_type": "code",
   "execution_count": null,
   "metadata": {
    "collapsed": true
   },
   "outputs": [],
   "source": [
    "# these must match what was saved !\n",
    "ALPHASIZE = my_txtutils.ALPHASIZE\n",
    "NLAYERS = 3\n",
    "INTERNALSIZE = 512\n",
    "\n",
    "ok02 =\"checkpoints/rnn_train_1560839489-30000000\" # okrika 2019-06-18\n",
    "\n",
    "ncnt = 0\n",
    "with tf.Session() as sess:\n",
    "    # new_saver = tf.train.import_meta_graph('checkpoints/rnn_train_1512567262-0.meta')\n",
    "    new_saver = tf.train.import_meta_graph(ok02+'.meta')\n",
    "    new_saver.restore(sess, ok02)\n",
    "    x = my_txtutils.convert_from_alphabet(ord(\"L\"))\n",
    "    x = np.array([[x]])  # shape [BATCHSIZE, SEQLEN] with BATCHSIZE=1 and SEQLEN=1\n",
    "\n",
    "    # initial values\n",
    "    y = x\n",
    "    h = np.zeros([1, INTERNALSIZE * NLAYERS], dtype=np.float32)  # [ BATCHSIZE, INTERNALSIZE * NLAYERS]\n",
    "    for i in range(100):\n",
    "        yo, h = sess.run(['Yo:0', 'H:0'], feed_dict={'X:0': y, 'pkeep:0': 1., 'Hin:0': h, 'batchsize:0': 1})\n",
    "\n",
    "        # If sampling is be done from the topn most likely characters, the generated text\n",
    "        # is more credible and more \"english\". If topn is not set, it defaults to the full\n",
    "        # distribution (ALPHASIZE)\n",
    "\n",
    "        # Recommended: topn = 10 for intermediate checkpoints, topn=2 or 3 for fully trained checkpoints\n",
    "\n",
    "        c = my_txtutils.sample_from_probabilities(yo, topn=2)\n",
    "        y = np.array([[c]])  # shape [BATCHSIZE, SEQLEN] with BATCHSIZE=1 and SEQLEN=1\n",
    "        c = chr(my_txtutils.convert_to_alphabet(c))\n",
    "        print(c, end=\"\")\n",
    "\n",
    "        if c == '\\n':\n",
    "            ncnt = 0\n",
    "        else:\n",
    "            ncnt += 1\n",
    "        if ncnt == 100:\n",
    "            print(\"\")\n",
    "            ncnt = 0"
   ]
  },
  {
   "cell_type": "code",
   "execution_count": 3,
   "metadata": {
    "collapsed": false
   },
   "outputs": [
    {
     "ename": "UnicodeDecodeError",
     "evalue": "'charmap' codec can't decode byte 0x9d in position 2952: character maps to <undefined>",
     "output_type": "error",
     "traceback": [
      "\u001b[0;31m---------------------------------------------------------------------------\u001b[0m",
      "\u001b[0;31mUnicodeDecodeError\u001b[0m                        Traceback (most recent call last)",
      "\u001b[0;32m<ipython-input-3-a4b2ab9bb00a>\u001b[0m in \u001b[0;36m<module>\u001b[0;34m()\u001b[0m\n\u001b[1;32m      2\u001b[0m \u001b[1;32mfor\u001b[0m \u001b[0mf\u001b[0m \u001b[1;32min\u001b[0m \u001b[0monlyfiles\u001b[0m\u001b[1;33m:\u001b[0m\u001b[1;33m\u001b[0m\u001b[0m\n\u001b[1;32m      3\u001b[0m     \u001b[0minF\u001b[0m\u001b[1;33m=\u001b[0m\u001b[0mopen\u001b[0m\u001b[1;33m(\u001b[0m\u001b[0mmypath\u001b[0m\u001b[1;33m+\u001b[0m\u001b[0mf\u001b[0m\u001b[1;33m,\u001b[0m\u001b[1;34m\"r\"\u001b[0m\u001b[1;33m)\u001b[0m\u001b[1;33m\u001b[0m\u001b[0m\n\u001b[0;32m----> 4\u001b[0;31m     \u001b[0mt\u001b[0m\u001b[1;33m[\u001b[0m\u001b[0mf\u001b[0m\u001b[1;33m]\u001b[0m\u001b[1;33m=\u001b[0m\u001b[0minF\u001b[0m\u001b[1;33m.\u001b[0m\u001b[0mread\u001b[0m\u001b[1;33m(\u001b[0m\u001b[1;33m)\u001b[0m\u001b[1;33m\u001b[0m\u001b[0m\n\u001b[0m",
      "\u001b[0;32mC:\\Users\\u1273400\\AppData\\Local\\Continuum\\Anaconda3\\lib\\encodings\\cp1252.py\u001b[0m in \u001b[0;36mdecode\u001b[0;34m(self, input, final)\u001b[0m\n\u001b[1;32m     21\u001b[0m \u001b[1;32mclass\u001b[0m \u001b[0mIncrementalDecoder\u001b[0m\u001b[1;33m(\u001b[0m\u001b[0mcodecs\u001b[0m\u001b[1;33m.\u001b[0m\u001b[0mIncrementalDecoder\u001b[0m\u001b[1;33m)\u001b[0m\u001b[1;33m:\u001b[0m\u001b[1;33m\u001b[0m\u001b[0m\n\u001b[1;32m     22\u001b[0m     \u001b[1;32mdef\u001b[0m \u001b[0mdecode\u001b[0m\u001b[1;33m(\u001b[0m\u001b[0mself\u001b[0m\u001b[1;33m,\u001b[0m \u001b[0minput\u001b[0m\u001b[1;33m,\u001b[0m \u001b[0mfinal\u001b[0m\u001b[1;33m=\u001b[0m\u001b[1;32mFalse\u001b[0m\u001b[1;33m)\u001b[0m\u001b[1;33m:\u001b[0m\u001b[1;33m\u001b[0m\u001b[0m\n\u001b[0;32m---> 23\u001b[0;31m         \u001b[1;32mreturn\u001b[0m \u001b[0mcodecs\u001b[0m\u001b[1;33m.\u001b[0m\u001b[0mcharmap_decode\u001b[0m\u001b[1;33m(\u001b[0m\u001b[0minput\u001b[0m\u001b[1;33m,\u001b[0m\u001b[0mself\u001b[0m\u001b[1;33m.\u001b[0m\u001b[0merrors\u001b[0m\u001b[1;33m,\u001b[0m\u001b[0mdecoding_table\u001b[0m\u001b[1;33m)\u001b[0m\u001b[1;33m[\u001b[0m\u001b[1;36m0\u001b[0m\u001b[1;33m]\u001b[0m\u001b[1;33m\u001b[0m\u001b[0m\n\u001b[0m\u001b[1;32m     24\u001b[0m \u001b[1;33m\u001b[0m\u001b[0m\n\u001b[1;32m     25\u001b[0m \u001b[1;32mclass\u001b[0m \u001b[0mStreamWriter\u001b[0m\u001b[1;33m(\u001b[0m\u001b[0mCodec\u001b[0m\u001b[1;33m,\u001b[0m\u001b[0mcodecs\u001b[0m\u001b[1;33m.\u001b[0m\u001b[0mStreamWriter\u001b[0m\u001b[1;33m)\u001b[0m\u001b[1;33m:\u001b[0m\u001b[1;33m\u001b[0m\u001b[0m\n",
      "\u001b[0;31mUnicodeDecodeError\u001b[0m: 'charmap' codec can't decode byte 0x9d in position 2952: character maps to <undefined>"
     ]
    }
   ],
   "source": [
    "t={}\n",
    "for f in onlyfiles:\n",
    "    inF=open(mypath+f,\"r\")\n",
    "    t[f]=inF.read()\n"
   ]
  },
  {
   "cell_type": "markdown",
   "metadata": {},
   "source": [
    "Let's remove punctuation symbols\n",
    "Punctuation Rules in English\n",
    "1. the period (or full stop in British English)\n",
    "2. the comma.\n",
    "3. the exclamation mark.\n",
    "4. the question mark.\n",
    "5. the colon.\n",
    "6. the semicolon.\n",
    "7. the quotation mark.\n",
    "8. the apostrophe."
   ]
  },
  {
   "cell_type": "code",
   "execution_count": 12,
   "metadata": {
    "collapsed": true
   },
   "outputs": [],
   "source": [
    "def stripper(src):\n",
    "    return src.lower().replace(\"\\n\",\" \").replace(\"  \",\" \").replace(\"ẹ\",\"e\")\\\n",
    "    .replace(\"!\",\"\").replace(\"?\",\"\").replace(\"“\",\"\").replace(\"ḍ\",\"d\")\\\n",
    "    .replace(\":\",\"\").replace(\";\",\"\").replace(\"ị\",\"i\").replace(\"ḅ\",\"b\")\\\n",
    "    .replace(\"'\",\"\").replace(\"”\",\"\").replace(\"ọ\",\"o\").replace(\"ú\",\"u\")\\\n",
    "    .replace(\"'\",\"\").replace(\"”\",\"\").replace(\"ụ\",\"u\").replace('\"',\"\")"
   ]
  },
  {
   "cell_type": "code",
   "execution_count": null,
   "metadata": {
    "collapsed": true
   },
   "outputs": [],
   "source": [
    "for f in t:\n",
    "    t[f]=stripper(t[f])\n",
    "    oF=open(txts+f,\"a\")\n",
    "    of.write(t[f])"
   ]
  }
 ],
 "metadata": {
  "anaconda-cloud": {},
  "kernelspec": {
   "display_name": "Python [default]",
   "language": "python",
   "name": "python3"
  },
  "language_info": {
   "codemirror_mode": {
    "name": "ipython",
    "version": 3
   },
   "file_extension": ".py",
   "mimetype": "text/x-python",
   "name": "python",
   "nbconvert_exporter": "python",
   "pygments_lexer": "ipython3",
   "version": "3.5.2"
  }
 },
 "nbformat": 4,
 "nbformat_minor": 2
}
