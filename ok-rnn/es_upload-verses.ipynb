{
  "cells": [
    {
      "metadata": {
        "collapsed": true,
        "trusted": false
      },
      "cell_type": "code",
      "source": "import re\nbook='matt'\nbooklong='matthew'\ninF=open(\"txts/\"+book+\".txt\",\"r\")\ntest=inF.read()",
      "execution_count": 78,
      "outputs": []
    },
    {
      "metadata": {
        "trusted": false
      },
      "cell_type": "code",
      "source": "t=re.sub('(\\([^\\)]*)(\\d+)([\\D]*\\))','',test)\nchs=t.split('|')\nlen(chs)",
      "execution_count": 79,
      "outputs": [
        {
          "data": {
            "text/plain": "28"
          },
          "execution_count": 79,
          "metadata": {},
          "output_type": "execute_result"
        }
      ]
    },
    {
      "metadata": {},
      "cell_type": "raw",
      "source": "s = \"Some.File.Num10.example.txt\"\np = re.compile(\"Num\\d{2}\")\nmatch = p.search(s)\n#s[:match.start()]\nre.split(r'Num\\d{2}',s)[0]\narr=re.findall('match',input)\nsubfind=re.findall('from (emailregex)',input)\nverx=re.findall('\\D+',chs[1])\nch=re.findall('\\d+',chs[1])\nchno=re.match('^\\d+',chs[1]).group() \n#returns matched sstring re.start() is start re.end() end index, re.span() start and end tuple\nverx=chs[1][re.match('^\\d+',chs[1]).end():]\nverx"
    },
    {
      "metadata": {
        "trusted": false
      },
      "cell_type": "code",
      "source": "#len(chs[0].trim())\nimport json, time ,re",
      "execution_count": 80,
      "outputs": []
    },
    {
      "metadata": {},
      "cell_type": "raw",
      "source": "!pip install elasticsearch"
    },
    {
      "metadata": {
        "trusted": false
      },
      "cell_type": "code",
      "source": "#create index for chapters on elasticsearch\n\nimport elasticsearch\nindex_name = \"bv\"\nindex_type = \"bible_verses\"\nelastic_host = \"gaia.hud.ac.uk\"\nelastic_port = \"9200\"\n# Connect to ElasticSearch\nes = elasticsearch.Elasticsearch(elastic_host, port=elastic_port)\n# Delete & Create index",
      "execution_count": 81,
      "outputs": []
    },
    {
      "metadata": {
        "collapsed": true,
        "trusted": false
      },
      "cell_type": "code",
      "source": "def getimgs(bk,ch,v):\n    try:\n        return es.search(index=\"bchap_map\", body={\"from\":0,\"query\":{\"bool\":{\"filter\":[{\"bool\":{\"must\":[{\"bool\":{\"must\":[{\"match_phrase\":{\"book\":{\"query\":bk,\"slop\":0,\"boost\":1.0}}},{\"bool\":{\"should\":[{\"bool\":{\"must\":[{\"match_phrase\":{\"sc\":{\"query\":ch,\"slop\":0,\"boost\":1.0}}},{\"range\":{\"ssv\":{\"from\":None,\"to\":v,\"include_lower\":True,\"include_upper\":True,\"boost\":1.0}}},{\"range\":{\"sev\":{\"from\":v,\"to\":None,\"include_lower\":True,\"include_upper\":True,\"boost\":1.0}}}],\"adjust_pure_negative\":True,\"boost\":1.0}},{\"bool\":{\"must\":[{\"match_phrase\":{\"ec\":{\"query\":ch,\"slop\":0,\"boost\":1.0}}},{\"range\":{\"esv\":{\"from\":None,\"to\":v,\"include_lower\":True,\"include_upper\":True,\"boost\":1.0}}},{\"range\":{\"eev\":{\"from\":v,\"to\":None,\"include_lower\":True,\"include_upper\":True,\"boost\":1.0}}}],\"adjust_pure_negative\":True,\"boost\":1.0}}],\"adjust_pure_negative\":True,\"boost\":1.0}}],\"adjust_pure_negative\":True,\"boost\":1.0}}],\"adjust_pure_negative\":True,\"boost\":1.0}}],\"adjust_pure_negative\":True,\"boost\":1.0}},\"sort\":[{\"sno\":{\"order\":\"asc\"}}]})\n    except:\n        print('adding..',bk,ch,':',v)\n",
      "execution_count": 82,
      "outputs": []
    },
    {
      "metadata": {
        "trusted": false
      },
      "cell_type": "code",
      "source": "verses=re.findall('\\D+',chs[2])\nvnos=re.findall('\\d+',chs[2])\nchno=re.match('^\\d+',chs[2]).group() \n#returns matched sstring re.start() is start re.end() end index, re.span() start and end tuple\nverx=chs[2][re.match('^\\d+',chs[2]).end():]\n",
      "execution_count": 83,
      "outputs": []
    },
    {
      "metadata": {
        "trusted": false
      },
      "cell_type": "code",
      "source": "#chno",
      "execution_count": 84,
      "outputs": []
    },
    {
      "metadata": {
        "trusted": false
      },
      "cell_type": "code",
      "source": "#vnos\ngetimgs('matt',2,24)",
      "execution_count": 102,
      "outputs": [
        {
          "data": {
            "text/plain": "{'_shards': {'failed': 0, 'skipped': 0, 'successful': 5, 'total': 5},\n 'hits': {'hits': [], 'max_score': None, 'total': 0},\n 'timed_out': False,\n 'took': 0}"
          },
          "execution_count": 102,
          "metadata": {},
          "output_type": "execute_result"
        }
      ]
    },
    {
      "metadata": {
        "trusted": false
      },
      "cell_type": "code",
      "source": "#verses",
      "execution_count": 86,
      "outputs": []
    },
    {
      "metadata": {
        "collapsed": true,
        "trusted": false
      },
      "cell_type": "code",
      "source": "def uv(cn,vn):\n    cno=str(chno).zfill(2)\n    vno=str(vnos[vn]).zfill(2)\n    #verx=chs[i][re.match('^\\d+',chs[i]).end():]\n    #import numpy as np\n    #x = np.array(vnos)\n    #vnos = x.astype(np.int).tolist()\n    ims=getimgs(bk=book,ch=int(chno),v=int(vnos[vn]))\n    if ims['hits']['total']==0:\n        print(book,chno,':',vnos[vn], 'returned null')\n        return\n    im=ims['hits']['hits'][0]['_source']\n    js={\n        \"bookcode\":book, \n        \"book\":booklong,\n        \"chno\":int(chno),\n        \"vno\":int(vnos[vn]),\n        \"verse\":verses[vn].strip(),\n        \"img1\":im['img1'],\n        \"img2\":im['img2']\n    }\n    data=json.dumps(js)\n    id=book+'_'+cno+'_'+vno\n    #POST TO ElasticSearch\n    res = es.index(index=index_name, doc_type=index_type, id=id, body=data)\n    #print(verses[vn])\n    if res['_shards']['successful']==0:\n        print(id, \"..created!\" if res['_shards']['successful']>0 else \"failed!\")\n    #print(id, \"..created!\" if res['_shards']['successful']>0 else \"failed!\")",
      "execution_count": 103,
      "outputs": []
    },
    {
      "metadata": {
        "scrolled": true,
        "trusted": false
      },
      "cell_type": "code",
      "source": "es.indices.delete(index=index_name, ignore=[400, 404])\nes.indices.create(index=index_name, ignore=400)\nfor i in range(len(chs)):\n    if i==0:\n        continue\n    chno=int(re.match('^\\d+',chs[i]).group())\n    verses=re.findall('\\D+',chs[i])\n    vnos=re.findall('\\d+',chs[i])\n    vnos[0]=\"1\"\n    print(\"processing chapt \",chno,\"...\")\n    if len(verses)!=len(vnos):\n        print( \"verse no mismatch for\",chno)\n        continue\n    if i>0:\n        for j in range(len(vnos)):\n            uv(chno,j)\nprint(\"done!\")",
      "execution_count": 104,
      "outputs": [
        {
          "name": "stdout",
          "output_type": "stream",
          "text": "processing chapt  1 ...\nprocessing chapt  2 ...\nprocessing chapt  3 ...\nprocessing chapt  4 ...\nprocessing chapt  5 ...\nprocessing chapt  6 ...\nprocessing chapt  7 ...\nprocessing chapt  8 ...\nmatt 8 : 24 returned null\nprocessing chapt  9 ...\nprocessing chapt  10 ...\nprocessing chapt  11 ...\nprocessing chapt  12 ...\nprocessing chapt  13 ...\nprocessing chapt  14 ...\nmatt 14 : 15 returned null\nmatt 14 : 13 returned null\nmatt 14 : 14 returned null\nmatt 14 : 15 returned null\nmatt 14 : 17 returned null\nmatt 14 : 18 returned null\nmatt 14 : 19 returned null\nmatt 14 : 20 returned null\nmatt 14 : 21 returned null\nmatt 14 : 37 returned null\nmatt 14 : 38 returned null\nmatt 14 : 39 returned null\nprocessing chapt  16 ...\nprocessing chapt  17 ...\nprocessing chapt  18 ...\nprocessing chapt  19 ...\nprocessing chapt  20 ...\nprocessing chapt  21 ...\nmatt 21 : 33 returned null\nmatt 21 : 34 returned null\nmatt 21 : 35 returned null\nmatt 21 : 36 returned null\nmatt 21 : 37 returned null\nmatt 21 : 39 returned null\nmatt 21 : 40 returned null\nmatt 21 : 41 returned null\nmatt 21 : 42 returned null\nmatt 21 : 43 returned null\nmatt 21 : 46 returned null\nprocessing chapt  22 ...\nprocessing chapt  23 ...\nmatt 23 : 389 returned null\nprocessing chapt  24 ...\nprocessing chapt  25 ...\nprocessing chapt  26 ...\nprocessing chapt  27 ...\nprocessing chapt  28 ...\ndone!\n"
        }
      ]
    },
    {
      "metadata": {
        "trusted": false
      },
      "cell_type": "code",
      "source": "es.get(index='bv', doc_type='bible_verses', id='matt_28_19')['_source']",
      "execution_count": null,
      "outputs": []
    }
  ],
  "metadata": {
    "anaconda-cloud": {},
    "kernelspec": {
      "name": "python36",
      "display_name": "Python 3.6",
      "language": "python"
    },
    "language_info": {
      "mimetype": "text/x-python",
      "nbconvert_exporter": "python",
      "name": "python",
      "pygments_lexer": "ipython3",
      "version": "3.6.6",
      "file_extension": ".py",
      "codemirror_mode": {
        "version": 3,
        "name": "ipython"
      }
    }
  },
  "nbformat": 4,
  "nbformat_minor": 1
}