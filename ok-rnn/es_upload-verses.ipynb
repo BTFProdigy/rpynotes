{
 "cells": [
  {
   "cell_type": "code",
   "execution_count": 78,
   "metadata": {
    "collapsed": true
   },
   "outputs": [],
   "source": [
    "import re\n",
    "book='matt'\n",
    "booklong='matthew'\n",
    "inF=open(\"txts/\"+book+\".txt\",\"r\")\n",
    "test=inF.read()"
   ]
  },
  {
   "cell_type": "code",
   "execution_count": 79,
   "metadata": {},
   "outputs": [
    {
     "data": {
      "text/plain": [
       "28"
      ]
     },
     "execution_count": 79,
     "metadata": {},
     "output_type": "execute_result"
    }
   ],
   "source": [
    "t=re.sub('(\\([^\\)]*)(\\d+)([\\D]*\\))','',test)\n",
    "chs=t.split('|')\n",
    "len(chs)"
   ]
  },
  {
   "cell_type": "raw",
   "metadata": {},
   "source": [
    "s = \"Some.File.Num10.example.txt\"\n",
    "p = re.compile(\"Num\\d{2}\")\n",
    "match = p.search(s)\n",
    "#s[:match.start()]\n",
    "re.split(r'Num\\d{2}',s)[0]\n",
    "arr=re.findall('match',input)\n",
    "subfind=re.findall('from (emailregex)',input)\n",
    "verx=re.findall('\\D+',chs[1])\n",
    "ch=re.findall('\\d+',chs[1])\n",
    "chno=re.match('^\\d+',chs[1]).group() \n",
    "#returns matched sstring re.start() is start re.end() end index, re.span() start and end tuple\n",
    "verx=chs[1][re.match('^\\d+',chs[1]).end():]\n",
    "verx"
   ]
  },
  {
   "cell_type": "code",
   "execution_count": 80,
   "metadata": {},
   "outputs": [],
   "source": [
    "#len(chs[0].trim())\n",
    "import json, time ,re"
   ]
  },
  {
   "cell_type": "raw",
   "metadata": {},
   "source": [
    "!pip install elasticsearch"
   ]
  },
  {
   "cell_type": "code",
   "execution_count": 81,
   "metadata": {},
   "outputs": [],
   "source": [
    "#create index for chapters on elasticsearch\n",
    "\n",
    "import elasticsearch\n",
    "index_name = \"bv\"\n",
    "index_type = \"bible_verses\"\n",
    "elastic_host = \"gaia.hud.ac.uk\"\n",
    "elastic_port = \"9200\"\n",
    "# Connect to ElasticSearch\n",
    "es = elasticsearch.Elasticsearch(elastic_host, port=elastic_port)\n",
    "# Delete & Create index"
   ]
  },
  {
   "cell_type": "code",
   "execution_count": 82,
   "metadata": {
    "collapsed": true
   },
   "outputs": [],
   "source": [
    "def getimgs(bk,ch,v):\n",
    "    try:\n",
    "        return es.search(index=\"bchap_map\", body={\"from\":0,\"query\":{\"bool\":{\"filter\":[{\"bool\":{\"must\":[{\"bool\":{\"must\":[{\"match_phrase\":{\"book\":{\"query\":bk,\"slop\":0,\"boost\":1.0}}},{\"bool\":{\"should\":[{\"bool\":{\"must\":[{\"match_phrase\":{\"sc\":{\"query\":ch,\"slop\":0,\"boost\":1.0}}},{\"range\":{\"ssv\":{\"from\":None,\"to\":v,\"include_lower\":True,\"include_upper\":True,\"boost\":1.0}}},{\"range\":{\"sev\":{\"from\":v,\"to\":None,\"include_lower\":True,\"include_upper\":True,\"boost\":1.0}}}],\"adjust_pure_negative\":True,\"boost\":1.0}},{\"bool\":{\"must\":[{\"match_phrase\":{\"ec\":{\"query\":ch,\"slop\":0,\"boost\":1.0}}},{\"range\":{\"esv\":{\"from\":None,\"to\":v,\"include_lower\":True,\"include_upper\":True,\"boost\":1.0}}},{\"range\":{\"eev\":{\"from\":v,\"to\":None,\"include_lower\":True,\"include_upper\":True,\"boost\":1.0}}}],\"adjust_pure_negative\":True,\"boost\":1.0}}],\"adjust_pure_negative\":True,\"boost\":1.0}}],\"adjust_pure_negative\":True,\"boost\":1.0}}],\"adjust_pure_negative\":True,\"boost\":1.0}}],\"adjust_pure_negative\":True,\"boost\":1.0}},\"sort\":[{\"sno\":{\"order\":\"asc\"}}]})\n",
    "    except:\n",
    "        print('adding..',bk,ch,':',v)\n"
   ]
  },
  {
   "cell_type": "code",
   "execution_count": 83,
   "metadata": {},
   "outputs": [],
   "source": [
    "verses=re.findall('\\D+',chs[2])\n",
    "vnos=re.findall('\\d+',chs[2])\n",
    "chno=re.match('^\\d+',chs[2]).group() \n",
    "#returns matched sstring re.start() is start re.end() end index, re.span() start and end tuple\n",
    "verx=chs[2][re.match('^\\d+',chs[2]).end():]\n"
   ]
  },
  {
   "cell_type": "code",
   "execution_count": 84,
   "metadata": {},
   "outputs": [],
   "source": [
    "#chno"
   ]
  },
  {
   "cell_type": "code",
   "execution_count": 102,
   "metadata": {},
   "outputs": [
    {
     "data": {
      "text/plain": [
       "{'_shards': {'failed': 0, 'skipped': 0, 'successful': 5, 'total': 5},\n",
       " 'hits': {'hits': [], 'max_score': None, 'total': 0},\n",
       " 'timed_out': False,\n",
       " 'took': 0}"
      ]
     },
     "execution_count": 102,
     "metadata": {},
     "output_type": "execute_result"
    }
   ],
   "source": [
    "#vnos\n",
    "getimgs('matt',2,24)"
   ]
  },
  {
   "cell_type": "code",
   "execution_count": 86,
   "metadata": {},
   "outputs": [],
   "source": [
    "#verses"
   ]
  },
  {
   "cell_type": "code",
   "execution_count": 103,
   "metadata": {
    "collapsed": true
   },
   "outputs": [],
   "source": [
    "def uv(cn,vn):\n",
    "    cno=str(chno).zfill(2)\n",
    "    vno=str(vnos[vn]).zfill(2)\n",
    "    #verx=chs[i][re.match('^\\d+',chs[i]).end():]\n",
    "    #import numpy as np\n",
    "    #x = np.array(vnos)\n",
    "    #vnos = x.astype(np.int).tolist()\n",
    "    ims=getimgs(bk=book,ch=int(chno),v=int(vnos[vn]))\n",
    "    if ims['hits']['total']==0:\n",
    "        print(book,chno,':',vnos[vn], 'returned null')\n",
    "        return\n",
    "    im=ims['hits']['hits'][0]['_source']\n",
    "    js={\n",
    "        \"bookcode\":book, \n",
    "        \"book\":booklong,\n",
    "        \"chno\":int(chno),\n",
    "        \"vno\":int(vnos[vn]),\n",
    "        \"verse\":verses[vn].strip(),\n",
    "        \"img1\":im['img1'],\n",
    "        \"img2\":im['img2']\n",
    "    }\n",
    "    data=json.dumps(js)\n",
    "    id=book+'_'+cno+'_'+vno\n",
    "    #POST TO ElasticSearch\n",
    "    res = es.index(index=index_name, doc_type=index_type, id=id, body=data)\n",
    "    #print(verses[vn])\n",
    "    if res['_shards']['successful']==0:\n",
    "        print(id, \"..created!\" if res['_shards']['successful']>0 else \"failed!\")\n",
    "    #print(id, \"..created!\" if res['_shards']['successful']>0 else \"failed!\")"
   ]
  },
  {
   "cell_type": "code",
   "execution_count": 104,
   "metadata": {
    "scrolled": true
   },
   "outputs": [
    {
     "name": "stdout",
     "output_type": "stream",
     "text": [
      "processing chapt  1 ...\n",
      "processing chapt  2 ...\n",
      "processing chapt  3 ...\n",
      "processing chapt  4 ...\n",
      "processing chapt  5 ...\n",
      "processing chapt  6 ...\n",
      "processing chapt  7 ...\n",
      "processing chapt  8 ...\n",
      "matt 8 : 24 returned null\n",
      "processing chapt  9 ...\n",
      "processing chapt  10 ...\n",
      "processing chapt  11 ...\n",
      "processing chapt  12 ...\n",
      "processing chapt  13 ...\n",
      "processing chapt  14 ...\n",
      "matt 14 : 15 returned null\n",
      "matt 14 : 13 returned null\n",
      "matt 14 : 14 returned null\n",
      "matt 14 : 15 returned null\n",
      "matt 14 : 17 returned null\n",
      "matt 14 : 18 returned null\n",
      "matt 14 : 19 returned null\n",
      "matt 14 : 20 returned null\n",
      "matt 14 : 21 returned null\n",
      "matt 14 : 37 returned null\n",
      "matt 14 : 38 returned null\n",
      "matt 14 : 39 returned null\n",
      "processing chapt  16 ...\n",
      "processing chapt  17 ...\n",
      "processing chapt  18 ...\n",
      "processing chapt  19 ...\n",
      "processing chapt  20 ...\n",
      "processing chapt  21 ...\n",
      "matt 21 : 33 returned null\n",
      "matt 21 : 34 returned null\n",
      "matt 21 : 35 returned null\n",
      "matt 21 : 36 returned null\n",
      "matt 21 : 37 returned null\n",
      "matt 21 : 39 returned null\n",
      "matt 21 : 40 returned null\n",
      "matt 21 : 41 returned null\n",
      "matt 21 : 42 returned null\n",
      "matt 21 : 43 returned null\n",
      "matt 21 : 46 returned null\n",
      "processing chapt  22 ...\n",
      "processing chapt  23 ...\n",
      "matt 23 : 389 returned null\n",
      "processing chapt  24 ...\n",
      "processing chapt  25 ...\n",
      "processing chapt  26 ...\n",
      "processing chapt  27 ...\n",
      "processing chapt  28 ...\n",
      "done!\n"
     ]
    }
   ],
   "source": [
    "es.indices.delete(index=index_name, ignore=[400, 404])\n",
    "es.indices.create(index=index_name, ignore=400)\n",
    "for i in range(len(chs)):\n",
    "    if i==0:\n",
    "        continue\n",
    "    chno=int(re.match('^\\d+',chs[i]).group())\n",
    "    verses=re.findall('\\D+',chs[i])\n",
    "    vnos=re.findall('\\d+',chs[i])\n",
    "    vnos[0]=\"1\"\n",
    "    print(\"processing chapt \",chno,\"...\")\n",
    "    if len(verses)!=len(vnos):\n",
    "        print( \"verse no mismatch for\",chno)\n",
    "        continue\n",
    "    if i>0:\n",
    "        for j in range(len(vnos)):\n",
    "            uv(chno,j)\n",
    "print(\"done!\")"
   ]
  },
  {
   "cell_type": "code",
   "execution_count": null,
   "metadata": {},
   "outputs": [],
   "source": [
    "es.get(index='bv', doc_type='bible_verses', id='matt_28_19')['_source']"
   ]
  }
 ],
 "metadata": {
  "anaconda-cloud": {},
  "kernelspec": {
   "display_name": "Python 3",
   "language": "python",
   "name": "python3"
  },
  "language_info": {
   "codemirror_mode": {
    "name": "ipython",
    "version": 3
   },
   "file_extension": ".py",
   "mimetype": "text/x-python",
   "name": "python",
   "nbconvert_exporter": "python",
   "pygments_lexer": "ipython3",
   "version": "3.6.5"
  }
 },
 "nbformat": 4,
 "nbformat_minor": 1
}
