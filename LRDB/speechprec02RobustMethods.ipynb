{
 "cells": [
  {
   "cell_type": "markdown",
   "metadata": {},
   "source": [
    "## Robustness in speech recognition\n",
    "\n",
    "Sources of speech variation originates from four classifications:\n",
    "1. Noise\n",
    "2. Distortion\n",
    "3. Articular effects\n",
    "4. Pronounciation variation\n",
    "\n",
    "Techniques to overcome variation include the following:\n",
    "1. Additive noise and linear distortion model\n",
    "2. Cepstral compensation algorithms\n",
    "3. Speech enhancement algorithms\n",
    "4. Adaptation of model parameters"
   ]
  }
 ],
 "metadata": {
  "kernelspec": {
   "display_name": "Python 3",
   "language": "python",
   "name": "python3"
  },
  "language_info": {
   "codemirror_mode": {
    "name": "ipython",
    "version": 3
   },
   "file_extension": ".py",
   "mimetype": "text/x-python",
   "name": "python",
   "nbconvert_exporter": "python",
   "pygments_lexer": "ipython3",
   "version": "3.7.3"
  }
 },
 "nbformat": 4,
 "nbformat_minor": 2
}
