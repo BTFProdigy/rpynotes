{
 "cells": [
  {
   "cell_type": "markdown",
   "metadata": {},
   "source": [
    "\n",
    "## Title  \n",
    "Hidden Markov Models for Speech Recognition\n",
    "\n",
    "## Aims ##\n",
    "Analysis of speech recognition using HMM which is flexible and robust along with theoretical and practical issues of this method.  \n",
    "\n",
    "## Key Concepts ##\n",
    "RECOGNITION, ALGORITHMS, HMM \n",
    "\n",
    "## Finding ##\n",
    "- The resulting speech recognition system can easily change\n",
    " - size\n",
    " - type\n",
    " - architecture\n",
    "- easy to implement\n",
    "- ease and availability of training data"
   ]
  },
  {
   "cell_type": "markdown",
   "metadata": {},
   "source": [
    "### Theory\n",
    "\n",
    "\n",
    "### Advantages\n",
    "\n",
    "### Issues\n",
    "1. Parameter Estimation criteria\n",
    "2. Integration of spectral and non spectral features\n",
    "3. Duration modeling in HMMs\n",
    "4. Model Clustering and splitting\n",
    "5. Parameter significance and statistical independence\n",
    "6. Higher order HMM\n",
    "\n",
    "### Conclusion\n"
   ]
  },
  {
   "cell_type": "markdown",
   "metadata": {
    "collapsed": true
   },
   "source": [
    "## Limitation ##\n",
    "Basically the fact that it requires supervised data\n",
    "\n",
    "## Relation ##\n",
    "HMM as a major means to achieve speech recognition and more importantly phoneme recognition\n",
    "\n",
    "## Comment ##\n",
    "\n"
   ]
  },
  {
   "cell_type": "markdown",
   "metadata": {},
   "source": [
    "## REFERENCE ##\n",
    "Rabiner, L., & Juang, B.-H. (1993). Fundamentals of speech recognition.\n"
   ]
  }
 ],
 "metadata": {
  "kernelspec": {
   "display_name": "Python 2",
   "language": "python",
   "name": "python2"
  },
  "language_info": {
   "codemirror_mode": {
    "name": "ipython",
    "version": 2
   },
   "file_extension": ".py",
   "mimetype": "text/x-python",
   "name": "python",
   "nbconvert_exporter": "python",
   "pygments_lexer": "ipython2",
   "version": "2.7.10"
  }
 },
 "nbformat": 4,
 "nbformat_minor": 0
}
