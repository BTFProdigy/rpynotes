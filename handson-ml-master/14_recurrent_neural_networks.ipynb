{
 "cells": [
  {
   "cell_type": "markdown",
   "metadata": {},
   "source": [
    "**Chapter 14 – Recurrent Neural Networks**"
   ]
  },
  {
   "cell_type": "markdown",
   "metadata": {},
   "source": [
    "_This notebook contains all the sample code and solutions to the exercises in chapter 14._"
   ]
  },
  {
   "cell_type": "markdown",
   "metadata": {},
   "source": [
    "# Setup"
   ]
  },
  {
   "cell_type": "markdown",
   "metadata": {},
   "source": [
    "First, let's make sure this notebook works well in both python 2 and 3, import a few common modules, ensure MatplotLib plots figures inline and prepare a function to save the figures:"
   ]
  },
  {
   "cell_type": "code",
   "execution_count": 1,
   "metadata": {
    "collapsed": true
   },
   "outputs": [],
   "source": [
    "# To support both python 2 and python 3\n",
    "from __future__ import division, print_function, unicode_literals\n",
    "\n",
    "# Common imports\n",
    "import numpy as np\n",
    "import os\n",
    "\n",
    "# to make this notebook's output stable across runs\n",
    "def reset_graph(seed=42):\n",
    "    tf.reset_default_graph()\n",
    "    tf.set_random_seed(seed)\n",
    "    np.random.seed(seed)\n",
    "\n",
    "# To plot pretty figures\n",
    "%matplotlib inline\n",
    "import matplotlib\n",
    "import matplotlib.pyplot as plt\n",
    "plt.rcParams['axes.labelsize'] = 14\n",
    "plt.rcParams['xtick.labelsize'] = 12\n",
    "plt.rcParams['ytick.labelsize'] = 12\n",
    "\n",
    "# Where to save the figures\n",
    "PROJECT_ROOT_DIR = \".\"\n",
    "CHAPTER_ID = \"rnn\"\n",
    "\n",
    "def save_fig(fig_id, tight_layout=True):\n",
    "    path = os.path.join(PROJECT_ROOT_DIR, \"images\", CHAPTER_ID, fig_id + \".png\")\n",
    "    print(\"Saving figure\", fig_id)\n",
    "    if tight_layout:\n",
    "        plt.tight_layout()\n",
    "    plt.savefig(path, format='png', dpi=300)"
   ]
  },
  {
   "cell_type": "markdown",
   "metadata": {},
   "source": [
    "Then of course we will need TensorFlow:"
   ]
  },
  {
   "cell_type": "code",
   "execution_count": 2,
   "metadata": {
    "collapsed": true
   },
   "outputs": [],
   "source": [
    "import tensorflow as tf"
   ]
  },
  {
   "cell_type": "markdown",
   "metadata": {},
   "source": [
    "# Basic RNNs"
   ]
  },
  {
   "cell_type": "markdown",
   "metadata": {},
   "source": [
    "## Manual RNN"
   ]
  },
  {
   "cell_type": "code",
   "execution_count": 3,
   "metadata": {
    "collapsed": true
   },
   "outputs": [],
   "source": [
    "reset_graph()\n",
    "\n",
    "n_inputs = 3\n",
    "n_neurons = 5\n",
    "\n",
    "X0 = tf.placeholder(tf.float32, [None, n_inputs])\n",
    "X1 = tf.placeholder(tf.float32, [None, n_inputs])\n",
    "\n",
    "Wx = tf.Variable(tf.random_normal(shape=[n_inputs, n_neurons],dtype=tf.float32))\n",
    "Wy = tf.Variable(tf.random_normal(shape=[n_neurons,n_neurons],dtype=tf.float32))\n",
    "b = tf.Variable(tf.zeros([1, n_neurons], dtype=tf.float32))\n",
    "\n",
    "Y0 = tf.tanh(tf.matmul(X0, Wx) + b)\n",
    "Y1 = tf.tanh(tf.matmul(Y0, Wy) + tf.matmul(X1, Wx) + b)\n",
    "\n",
    "init = tf.global_variables_initializer()"
   ]
  },
  {
   "cell_type": "code",
   "execution_count": 4,
   "metadata": {
    "collapsed": true
   },
   "outputs": [],
   "source": [
    "import numpy as np\n",
    "\n",
    "X0_batch = np.array([[0, 1, 2], [3, 4, 5], [6, 7, 8], [9, 0, 1]]) # t = 0\n",
    "X1_batch = np.array([[9, 8, 7], [0, 0, 0], [6, 5, 4], [3, 2, 1]]) # t = 1\n",
    "\n",
    "with tf.Session() as sess:\n",
    "    init.run()\n",
    "    Y0_val, Y1_val = sess.run([Y0, Y1], feed_dict={X0: X0_batch, X1: X1_batch})"
   ]
  },
  {
   "cell_type": "code",
   "execution_count": 5,
   "metadata": {
    "collapsed": false
   },
   "outputs": [
    {
     "name": "stdout",
     "output_type": "stream",
     "text": [
      "[[-0.0664006   0.96257669  0.68105793  0.70918542 -0.89821601]\n",
      " [ 0.9977755  -0.71978903 -0.99657607  0.96739239 -0.99989718]\n",
      " [ 0.99999774 -0.99898803 -0.99999893  0.99677622 -0.99999988]\n",
      " [ 1.         -1.         -1.         -0.99818915  0.99950868]]\n"
     ]
    }
   ],
   "source": [
    "print(Y0_val)"
   ]
  },
  {
   "cell_type": "code",
   "execution_count": 6,
   "metadata": {
    "collapsed": false
   },
   "outputs": [
    {
     "name": "stdout",
     "output_type": "stream",
     "text": [
      "[[ 1.         -1.         -1.          0.40200251 -0.99999982]\n",
      " [-0.12210421  0.62805271  0.96718431 -0.99371219 -0.25839362]\n",
      " [ 0.99999827 -0.9999994  -0.9999975  -0.85943311 -0.99998808]\n",
      " [ 0.99928284 -0.99999815 -0.99990582  0.98579627 -0.92205757]]\n"
     ]
    }
   ],
   "source": [
    "print(Y1_val)"
   ]
  },
  {
   "cell_type": "markdown",
   "metadata": {},
   "source": [
    "## Using `static_rnn()`"
   ]
  },
  {
   "cell_type": "code",
   "execution_count": 7,
   "metadata": {
    "collapsed": true
   },
   "outputs": [],
   "source": [
    "n_inputs = 3\n",
    "n_neurons = 5"
   ]
  },
  {
   "cell_type": "code",
   "execution_count": 8,
   "metadata": {
    "collapsed": true
   },
   "outputs": [],
   "source": [
    "reset_graph()\n",
    "\n",
    "X0 = tf.placeholder(tf.float32, [None, n_inputs])\n",
    "X1 = tf.placeholder(tf.float32, [None, n_inputs])\n",
    "\n",
    "basic_cell = tf.contrib.rnn.BasicRNNCell(num_units=n_neurons)\n",
    "output_seqs, states = tf.contrib.rnn.static_rnn(basic_cell, [X0, X1],\n",
    "                                                dtype=tf.float32)\n",
    "Y0, Y1 = output_seqs"
   ]
  },
  {
   "cell_type": "code",
   "execution_count": 9,
   "metadata": {
    "collapsed": true
   },
   "outputs": [],
   "source": [
    "init = tf.global_variables_initializer()"
   ]
  },
  {
   "cell_type": "code",
   "execution_count": 10,
   "metadata": {
    "collapsed": true
   },
   "outputs": [],
   "source": [
    "X0_batch = np.array([[0, 1, 2], [3, 4, 5], [6, 7, 8], [9, 0, 1]])\n",
    "X1_batch = np.array([[9, 8, 7], [0, 0, 0], [6, 5, 4], [3, 2, 1]])\n",
    "\n",
    "with tf.Session() as sess:\n",
    "    init.run()\n",
    "    Y0_val, Y1_val = sess.run([Y0, Y1], feed_dict={X0: X0_batch, X1: X1_batch})"
   ]
  },
  {
   "cell_type": "code",
   "execution_count": 11,
   "metadata": {
    "collapsed": false
   },
   "outputs": [
    {
     "data": {
      "text/plain": [
       "array([[ 0.30741334, -0.32884315, -0.65428472, -0.93850589,  0.52089024],\n",
       "       [ 0.99122757, -0.95425421, -0.75180793, -0.99952078,  0.98202348],\n",
       "       [ 0.99992681, -0.99783254, -0.82473528, -0.9999963 ,  0.99947774],\n",
       "       [ 0.99677098, -0.68750614,  0.84199691,  0.93039107,  0.8120684 ]], dtype=float32)"
      ]
     },
     "execution_count": 11,
     "metadata": {},
     "output_type": "execute_result"
    }
   ],
   "source": [
    "Y0_val"
   ]
  },
  {
   "cell_type": "code",
   "execution_count": 12,
   "metadata": {
    "collapsed": false
   },
   "outputs": [
    {
     "data": {
      "text/plain": [
       "array([[ 0.99998885, -0.99976051, -0.06679298, -0.99998039,  0.99982214],\n",
       "       [-0.65249437, -0.51520866, -0.37968954, -0.59225935, -0.08968385],\n",
       "       [ 0.99862403, -0.99715197, -0.03308626, -0.99915648,  0.99329019],\n",
       "       [ 0.99681675, -0.95981938,  0.39660636, -0.83076048,  0.79671967]], dtype=float32)"
      ]
     },
     "execution_count": 12,
     "metadata": {},
     "output_type": "execute_result"
    }
   ],
   "source": [
    "Y1_val"
   ]
  },
  {
   "cell_type": "code",
   "execution_count": 13,
   "metadata": {
    "collapsed": true
   },
   "outputs": [],
   "source": [
    "from IPython.display import clear_output, Image, display, HTML\n",
    "\n",
    "def strip_consts(graph_def, max_const_size=32):\n",
    "    \"\"\"Strip large constant values from graph_def.\"\"\"\n",
    "    strip_def = tf.GraphDef()\n",
    "    for n0 in graph_def.node:\n",
    "        n = strip_def.node.add() \n",
    "        n.MergeFrom(n0)\n",
    "        if n.op == 'Const':\n",
    "            tensor = n.attr['value'].tensor\n",
    "            size = len(tensor.tensor_content)\n",
    "            if size > max_const_size:\n",
    "                tensor.tensor_content = \"b<stripped %d bytes>\"%size\n",
    "    return strip_def\n",
    "\n",
    "def show_graph(graph_def, max_const_size=32):\n",
    "    \"\"\"Visualize TensorFlow graph.\"\"\"\n",
    "    if hasattr(graph_def, 'as_graph_def'):\n",
    "        graph_def = graph_def.as_graph_def()\n",
    "    strip_def = strip_consts(graph_def, max_const_size=max_const_size)\n",
    "    code = \"\"\"\n",
    "        <script>\n",
    "          function load() {{\n",
    "            document.getElementById(\"{id}\").pbtxt = {data};\n",
    "          }}\n",
    "        </script>\n",
    "        <link rel=\"import\" href=\"https://tensorboard.appspot.com/tf-graph-basic.build.html\" onload=load()>\n",
    "        <div style=\"height:600px\">\n",
    "          <tf-graph-basic id=\"{id}\"></tf-graph-basic>\n",
    "        </div>\n",
    "    \"\"\".format(data=repr(str(strip_def)), id='graph'+str(np.random.rand()))\n",
    "\n",
    "    iframe = \"\"\"\n",
    "        <iframe seamless style=\"width:1200px;height:620px;border:0\" srcdoc=\"{}\"></iframe>\n",
    "    \"\"\".format(code.replace('\"', '&quot;'))\n",
    "    display(HTML(iframe))"
   ]
  },
  {
   "cell_type": "code",
   "execution_count": 14,
   "metadata": {
    "collapsed": false
   },
   "outputs": [
    {
     "data": {
      "text/html": [
       "\n",
       "        <iframe seamless style=\"width:1200px;height:620px;border:0\" srcdoc=\"\n",
       "        <script>\n",
       "          function load() {\n",
       "            document.getElementById(&quot;graph0.3745401188473625&quot;).pbtxt = 'node {\\n  name: &quot;Placeholder&quot;\\n  op: &quot;Placeholder&quot;\\n  attr {\\n    key: &quot;dtype&quot;\\n    value {\\n      type: DT_FLOAT\\n    }\\n  }\\n  attr {\\n    key: &quot;shape&quot;\\n    value {\\n      shape {\\n        dim {\\n          size: -1\\n        }\\n        dim {\\n          size: 3\\n        }\\n      }\\n    }\\n  }\\n}\\nnode {\\n  name: &quot;Placeholder_1&quot;\\n  op: &quot;Placeholder&quot;\\n  attr {\\n    key: &quot;dtype&quot;\\n    value {\\n      type: DT_FLOAT\\n    }\\n  }\\n  attr {\\n    key: &quot;shape&quot;\\n    value {\\n      shape {\\n        dim {\\n          size: -1\\n        }\\n        dim {\\n          size: 3\\n        }\\n      }\\n    }\\n  }\\n}\\nnode {\\n  name: &quot;rnn/Shape&quot;\\n  op: &quot;Shape&quot;\\n  input: &quot;Placeholder&quot;\\n  attr {\\n    key: &quot;T&quot;\\n    value {\\n      type: DT_FLOAT\\n    }\\n  }\\n  attr {\\n    key: &quot;out_type&quot;\\n    value {\\n      type: DT_INT32\\n    }\\n  }\\n}\\nnode {\\n  name: &quot;rnn/strided_slice/stack&quot;\\n  op: &quot;Const&quot;\\n  attr {\\n    key: &quot;dtype&quot;\\n    value {\\n      type: DT_INT32\\n    }\\n  }\\n  attr {\\n    key: &quot;value&quot;\\n    value {\\n      tensor {\\n        dtype: DT_INT32\\n        tensor_shape {\\n          dim {\\n            size: 1\\n          }\\n        }\\n        int_val: 0\\n      }\\n    }\\n  }\\n}\\nnode {\\n  name: &quot;rnn/strided_slice/stack_1&quot;\\n  op: &quot;Const&quot;\\n  attr {\\n    key: &quot;dtype&quot;\\n    value {\\n      type: DT_INT32\\n    }\\n  }\\n  attr {\\n    key: &quot;value&quot;\\n    value {\\n      tensor {\\n        dtype: DT_INT32\\n        tensor_shape {\\n          dim {\\n            size: 1\\n          }\\n        }\\n        int_val: 1\\n      }\\n    }\\n  }\\n}\\nnode {\\n  name: &quot;rnn/strided_slice/stack_2&quot;\\n  op: &quot;Const&quot;\\n  attr {\\n    key: &quot;dtype&quot;\\n    value {\\n      type: DT_INT32\\n    }\\n  }\\n  attr {\\n    key: &quot;value&quot;\\n    value {\\n      tensor {\\n        dtype: DT_INT32\\n        tensor_shape {\\n          dim {\\n            size: 1\\n          }\\n        }\\n        int_val: 1\\n      }\\n    }\\n  }\\n}\\nnode {\\n  name: &quot;rnn/strided_slice&quot;\\n  op: &quot;StridedSlice&quot;\\n  input: &quot;rnn/Shape&quot;\\n  input: &quot;rnn/strided_slice/stack&quot;\\n  input: &quot;rnn/strided_slice/stack_1&quot;\\n  input: &quot;rnn/strided_slice/stack_2&quot;\\n  attr {\\n    key: &quot;Index&quot;\\n    value {\\n      type: DT_INT32\\n    }\\n  }\\n  attr {\\n    key: &quot;T&quot;\\n    value {\\n      type: DT_INT32\\n    }\\n  }\\n  attr {\\n    key: &quot;begin_mask&quot;\\n    value {\\n      i: 0\\n    }\\n  }\\n  attr {\\n    key: &quot;ellipsis_mask&quot;\\n    value {\\n      i: 0\\n    }\\n  }\\n  attr {\\n    key: &quot;end_mask&quot;\\n    value {\\n      i: 0\\n    }\\n  }\\n  attr {\\n    key: &quot;new_axis_mask&quot;\\n    value {\\n      i: 0\\n    }\\n  }\\n  attr {\\n    key: &quot;shrink_axis_mask&quot;\\n    value {\\n      i: 1\\n    }\\n  }\\n}\\nnode {\\n  name: &quot;rnn/BasicRNNCellZeroState/ExpandDims/dim&quot;\\n  op: &quot;Const&quot;\\n  attr {\\n    key: &quot;dtype&quot;\\n    value {\\n      type: DT_INT32\\n    }\\n  }\\n  attr {\\n    key: &quot;value&quot;\\n    value {\\n      tensor {\\n        dtype: DT_INT32\\n        tensor_shape {\\n        }\\n        int_val: 0\\n      }\\n    }\\n  }\\n}\\nnode {\\n  name: &quot;rnn/BasicRNNCellZeroState/ExpandDims&quot;\\n  op: &quot;ExpandDims&quot;\\n  input: &quot;rnn/strided_slice&quot;\\n  input: &quot;rnn/BasicRNNCellZeroState/ExpandDims/dim&quot;\\n  attr {\\n    key: &quot;T&quot;\\n    value {\\n      type: DT_INT32\\n    }\\n  }\\n  attr {\\n    key: &quot;Tdim&quot;\\n    value {\\n      type: DT_INT32\\n    }\\n  }\\n}\\nnode {\\n  name: &quot;rnn/BasicRNNCellZeroState/Const&quot;\\n  op: &quot;Const&quot;\\n  attr {\\n    key: &quot;dtype&quot;\\n    value {\\n      type: DT_INT32\\n    }\\n  }\\n  attr {\\n    key: &quot;value&quot;\\n    value {\\n      tensor {\\n        dtype: DT_INT32\\n        tensor_shape {\\n          dim {\\n            size: 1\\n          }\\n        }\\n        int_val: 5\\n      }\\n    }\\n  }\\n}\\nnode {\\n  name: &quot;rnn/BasicRNNCellZeroState/concat/axis&quot;\\n  op: &quot;Const&quot;\\n  attr {\\n    key: &quot;dtype&quot;\\n    value {\\n      type: DT_INT32\\n    }\\n  }\\n  attr {\\n    key: &quot;value&quot;\\n    value {\\n      tensor {\\n        dtype: DT_INT32\\n        tensor_shape {\\n        }\\n        int_val: 0\\n      }\\n    }\\n  }\\n}\\nnode {\\n  name: &quot;rnn/BasicRNNCellZeroState/concat&quot;\\n  op: &quot;ConcatV2&quot;\\n  input: &quot;rnn/BasicRNNCellZeroState/ExpandDims&quot;\\n  input: &quot;rnn/BasicRNNCellZeroState/Const&quot;\\n  input: &quot;rnn/BasicRNNCellZeroState/concat/axis&quot;\\n  attr {\\n    key: &quot;N&quot;\\n    value {\\n      i: 2\\n    }\\n  }\\n  attr {\\n    key: &quot;T&quot;\\n    value {\\n      type: DT_INT32\\n    }\\n  }\\n  attr {\\n    key: &quot;Tidx&quot;\\n    value {\\n      type: DT_INT32\\n    }\\n  }\\n}\\nnode {\\n  name: &quot;rnn/BasicRNNCellZeroState/ExpandDims_1/dim&quot;\\n  op: &quot;Const&quot;\\n  attr {\\n    key: &quot;dtype&quot;\\n    value {\\n      type: DT_INT32\\n    }\\n  }\\n  attr {\\n    key: &quot;value&quot;\\n    value {\\n      tensor {\\n        dtype: DT_INT32\\n        tensor_shape {\\n        }\\n        int_val: 0\\n      }\\n    }\\n  }\\n}\\nnode {\\n  name: &quot;rnn/BasicRNNCellZeroState/ExpandDims_1&quot;\\n  op: &quot;ExpandDims&quot;\\n  input: &quot;rnn/strided_slice&quot;\\n  input: &quot;rnn/BasicRNNCellZeroState/ExpandDims_1/dim&quot;\\n  attr {\\n    key: &quot;T&quot;\\n    value {\\n      type: DT_INT32\\n    }\\n  }\\n  attr {\\n    key: &quot;Tdim&quot;\\n    value {\\n      type: DT_INT32\\n    }\\n  }\\n}\\nnode {\\n  name: &quot;rnn/BasicRNNCellZeroState/Const_1&quot;\\n  op: &quot;Const&quot;\\n  attr {\\n    key: &quot;dtype&quot;\\n    value {\\n      type: DT_INT32\\n    }\\n  }\\n  attr {\\n    key: &quot;value&quot;\\n    value {\\n      tensor {\\n        dtype: DT_INT32\\n        tensor_shape {\\n          dim {\\n            size: 1\\n          }\\n        }\\n        int_val: 5\\n      }\\n    }\\n  }\\n}\\nnode {\\n  name: &quot;rnn/BasicRNNCellZeroState/zeros/Const&quot;\\n  op: &quot;Const&quot;\\n  attr {\\n    key: &quot;dtype&quot;\\n    value {\\n      type: DT_FLOAT\\n    }\\n  }\\n  attr {\\n    key: &quot;value&quot;\\n    value {\\n      tensor {\\n        dtype: DT_FLOAT\\n        tensor_shape {\\n        }\\n        float_val: 0.0\\n      }\\n    }\\n  }\\n}\\nnode {\\n  name: &quot;rnn/BasicRNNCellZeroState/zeros&quot;\\n  op: &quot;Fill&quot;\\n  input: &quot;rnn/BasicRNNCellZeroState/concat&quot;\\n  input: &quot;rnn/BasicRNNCellZeroState/zeros/Const&quot;\\n  attr {\\n    key: &quot;T&quot;\\n    value {\\n      type: DT_FLOAT\\n    }\\n  }\\n}\\nnode {\\n  name: &quot;rnn/basic_rnn_cell/kernel/Initializer/random_uniform/shape&quot;\\n  op: &quot;Const&quot;\\n  attr {\\n    key: &quot;_class&quot;\\n    value {\\n      list {\\n        s: &quot;loc:@rnn/basic_rnn_cell/kernel&quot;\\n      }\\n    }\\n  }\\n  attr {\\n    key: &quot;dtype&quot;\\n    value {\\n      type: DT_INT32\\n    }\\n  }\\n  attr {\\n    key: &quot;value&quot;\\n    value {\\n      tensor {\\n        dtype: DT_INT32\\n        tensor_shape {\\n          dim {\\n            size: 2\\n          }\\n        }\\n        tensor_content: &quot;\\\\010\\\\000\\\\000\\\\000\\\\005\\\\000\\\\000\\\\000&quot;\\n      }\\n    }\\n  }\\n}\\nnode {\\n  name: &quot;rnn/basic_rnn_cell/kernel/Initializer/random_uniform/min&quot;\\n  op: &quot;Const&quot;\\n  attr {\\n    key: &quot;_class&quot;\\n    value {\\n      list {\\n        s: &quot;loc:@rnn/basic_rnn_cell/kernel&quot;\\n      }\\n    }\\n  }\\n  attr {\\n    key: &quot;dtype&quot;\\n    value {\\n      type: DT_FLOAT\\n    }\\n  }\\n  attr {\\n    key: &quot;value&quot;\\n    value {\\n      tensor {\\n        dtype: DT_FLOAT\\n        tensor_shape {\\n        }\\n        float_val: -0.6793662309646606\\n      }\\n    }\\n  }\\n}\\nnode {\\n  name: &quot;rnn/basic_rnn_cell/kernel/Initializer/random_uniform/max&quot;\\n  op: &quot;Const&quot;\\n  attr {\\n    key: &quot;_class&quot;\\n    value {\\n      list {\\n        s: &quot;loc:@rnn/basic_rnn_cell/kernel&quot;\\n      }\\n    }\\n  }\\n  attr {\\n    key: &quot;dtype&quot;\\n    value {\\n      type: DT_FLOAT\\n    }\\n  }\\n  attr {\\n    key: &quot;value&quot;\\n    value {\\n      tensor {\\n        dtype: DT_FLOAT\\n        tensor_shape {\\n        }\\n        float_val: 0.6793662309646606\\n      }\\n    }\\n  }\\n}\\nnode {\\n  name: &quot;rnn/basic_rnn_cell/kernel/Initializer/random_uniform/RandomUniform&quot;\\n  op: &quot;RandomUniform&quot;\\n  input: &quot;rnn/basic_rnn_cell/kernel/Initializer/random_uniform/shape&quot;\\n  attr {\\n    key: &quot;T&quot;\\n    value {\\n      type: DT_INT32\\n    }\\n  }\\n  attr {\\n    key: &quot;_class&quot;\\n    value {\\n      list {\\n        s: &quot;loc:@rnn/basic_rnn_cell/kernel&quot;\\n      }\\n    }\\n  }\\n  attr {\\n    key: &quot;dtype&quot;\\n    value {\\n      type: DT_FLOAT\\n    }\\n  }\\n  attr {\\n    key: &quot;seed&quot;\\n    value {\\n      i: 42\\n    }\\n  }\\n  attr {\\n    key: &quot;seed2&quot;\\n    value {\\n      i: 20\\n    }\\n  }\\n}\\nnode {\\n  name: &quot;rnn/basic_rnn_cell/kernel/Initializer/random_uniform/sub&quot;\\n  op: &quot;Sub&quot;\\n  input: &quot;rnn/basic_rnn_cell/kernel/Initializer/random_uniform/max&quot;\\n  input: &quot;rnn/basic_rnn_cell/kernel/Initializer/random_uniform/min&quot;\\n  attr {\\n    key: &quot;T&quot;\\n    value {\\n      type: DT_FLOAT\\n    }\\n  }\\n  attr {\\n    key: &quot;_class&quot;\\n    value {\\n      list {\\n        s: &quot;loc:@rnn/basic_rnn_cell/kernel&quot;\\n      }\\n    }\\n  }\\n}\\nnode {\\n  name: &quot;rnn/basic_rnn_cell/kernel/Initializer/random_uniform/mul&quot;\\n  op: &quot;Mul&quot;\\n  input: &quot;rnn/basic_rnn_cell/kernel/Initializer/random_uniform/RandomUniform&quot;\\n  input: &quot;rnn/basic_rnn_cell/kernel/Initializer/random_uniform/sub&quot;\\n  attr {\\n    key: &quot;T&quot;\\n    value {\\n      type: DT_FLOAT\\n    }\\n  }\\n  attr {\\n    key: &quot;_class&quot;\\n    value {\\n      list {\\n        s: &quot;loc:@rnn/basic_rnn_cell/kernel&quot;\\n      }\\n    }\\n  }\\n}\\nnode {\\n  name: &quot;rnn/basic_rnn_cell/kernel/Initializer/random_uniform&quot;\\n  op: &quot;Add&quot;\\n  input: &quot;rnn/basic_rnn_cell/kernel/Initializer/random_uniform/mul&quot;\\n  input: &quot;rnn/basic_rnn_cell/kernel/Initializer/random_uniform/min&quot;\\n  attr {\\n    key: &quot;T&quot;\\n    value {\\n      type: DT_FLOAT\\n    }\\n  }\\n  attr {\\n    key: &quot;_class&quot;\\n    value {\\n      list {\\n        s: &quot;loc:@rnn/basic_rnn_cell/kernel&quot;\\n      }\\n    }\\n  }\\n}\\nnode {\\n  name: &quot;rnn/basic_rnn_cell/kernel&quot;\\n  op: &quot;VariableV2&quot;\\n  attr {\\n    key: &quot;_class&quot;\\n    value {\\n      list {\\n        s: &quot;loc:@rnn/basic_rnn_cell/kernel&quot;\\n      }\\n    }\\n  }\\n  attr {\\n    key: &quot;container&quot;\\n    value {\\n      s: &quot;&quot;\\n    }\\n  }\\n  attr {\\n    key: &quot;dtype&quot;\\n    value {\\n      type: DT_FLOAT\\n    }\\n  }\\n  attr {\\n    key: &quot;shape&quot;\\n    value {\\n      shape {\\n        dim {\\n          size: 8\\n        }\\n        dim {\\n          size: 5\\n        }\\n      }\\n    }\\n  }\\n  attr {\\n    key: &quot;shared_name&quot;\\n    value {\\n      s: &quot;&quot;\\n    }\\n  }\\n}\\nnode {\\n  name: &quot;rnn/basic_rnn_cell/kernel/Assign&quot;\\n  op: &quot;Assign&quot;\\n  input: &quot;rnn/basic_rnn_cell/kernel&quot;\\n  input: &quot;rnn/basic_rnn_cell/kernel/Initializer/random_uniform&quot;\\n  attr {\\n    key: &quot;T&quot;\\n    value {\\n      type: DT_FLOAT\\n    }\\n  }\\n  attr {\\n    key: &quot;_class&quot;\\n    value {\\n      list {\\n        s: &quot;loc:@rnn/basic_rnn_cell/kernel&quot;\\n      }\\n    }\\n  }\\n  attr {\\n    key: &quot;use_locking&quot;\\n    value {\\n      b: true\\n    }\\n  }\\n  attr {\\n    key: &quot;validate_shape&quot;\\n    value {\\n      b: true\\n    }\\n  }\\n}\\nnode {\\n  name: &quot;rnn/basic_rnn_cell/kernel/read&quot;\\n  op: &quot;Identity&quot;\\n  input: &quot;rnn/basic_rnn_cell/kernel&quot;\\n  attr {\\n    key: &quot;T&quot;\\n    value {\\n      type: DT_FLOAT\\n    }\\n  }\\n}\\nnode {\\n  name: &quot;rnn/rnn/basic_rnn_cell/basic_rnn_cell/concat/axis&quot;\\n  op: &quot;Const&quot;\\n  attr {\\n    key: &quot;dtype&quot;\\n    value {\\n      type: DT_INT32\\n    }\\n  }\\n  attr {\\n    key: &quot;value&quot;\\n    value {\\n      tensor {\\n        dtype: DT_INT32\\n        tensor_shape {\\n        }\\n        int_val: 1\\n      }\\n    }\\n  }\\n}\\nnode {\\n  name: &quot;rnn/rnn/basic_rnn_cell/basic_rnn_cell/concat&quot;\\n  op: &quot;ConcatV2&quot;\\n  input: &quot;Placeholder&quot;\\n  input: &quot;rnn/BasicRNNCellZeroState/zeros&quot;\\n  input: &quot;rnn/rnn/basic_rnn_cell/basic_rnn_cell/concat/axis&quot;\\n  attr {\\n    key: &quot;N&quot;\\n    value {\\n      i: 2\\n    }\\n  }\\n  attr {\\n    key: &quot;T&quot;\\n    value {\\n      type: DT_FLOAT\\n    }\\n  }\\n  attr {\\n    key: &quot;Tidx&quot;\\n    value {\\n      type: DT_INT32\\n    }\\n  }\\n}\\nnode {\\n  name: &quot;rnn/rnn/basic_rnn_cell/basic_rnn_cell/MatMul&quot;\\n  op: &quot;MatMul&quot;\\n  input: &quot;rnn/rnn/basic_rnn_cell/basic_rnn_cell/concat&quot;\\n  input: &quot;rnn/basic_rnn_cell/kernel/read&quot;\\n  attr {\\n    key: &quot;T&quot;\\n    value {\\n      type: DT_FLOAT\\n    }\\n  }\\n  attr {\\n    key: &quot;transpose_a&quot;\\n    value {\\n      b: false\\n    }\\n  }\\n  attr {\\n    key: &quot;transpose_b&quot;\\n    value {\\n      b: false\\n    }\\n  }\\n}\\nnode {\\n  name: &quot;rnn/basic_rnn_cell/bias/Initializer/Const&quot;\\n  op: &quot;Const&quot;\\n  attr {\\n    key: &quot;_class&quot;\\n    value {\\n      list {\\n        s: &quot;loc:@rnn/basic_rnn_cell/bias&quot;\\n      }\\n    }\\n  }\\n  attr {\\n    key: &quot;dtype&quot;\\n    value {\\n      type: DT_FLOAT\\n    }\\n  }\\n  attr {\\n    key: &quot;value&quot;\\n    value {\\n      tensor {\\n        dtype: DT_FLOAT\\n        tensor_shape {\\n          dim {\\n            size: 5\\n          }\\n        }\\n        float_val: 0.0\\n      }\\n    }\\n  }\\n}\\nnode {\\n  name: &quot;rnn/basic_rnn_cell/bias&quot;\\n  op: &quot;VariableV2&quot;\\n  attr {\\n    key: &quot;_class&quot;\\n    value {\\n      list {\\n        s: &quot;loc:@rnn/basic_rnn_cell/bias&quot;\\n      }\\n    }\\n  }\\n  attr {\\n    key: &quot;container&quot;\\n    value {\\n      s: &quot;&quot;\\n    }\\n  }\\n  attr {\\n    key: &quot;dtype&quot;\\n    value {\\n      type: DT_FLOAT\\n    }\\n  }\\n  attr {\\n    key: &quot;shape&quot;\\n    value {\\n      shape {\\n        dim {\\n          size: 5\\n        }\\n      }\\n    }\\n  }\\n  attr {\\n    key: &quot;shared_name&quot;\\n    value {\\n      s: &quot;&quot;\\n    }\\n  }\\n}\\nnode {\\n  name: &quot;rnn/basic_rnn_cell/bias/Assign&quot;\\n  op: &quot;Assign&quot;\\n  input: &quot;rnn/basic_rnn_cell/bias&quot;\\n  input: &quot;rnn/basic_rnn_cell/bias/Initializer/Const&quot;\\n  attr {\\n    key: &quot;T&quot;\\n    value {\\n      type: DT_FLOAT\\n    }\\n  }\\n  attr {\\n    key: &quot;_class&quot;\\n    value {\\n      list {\\n        s: &quot;loc:@rnn/basic_rnn_cell/bias&quot;\\n      }\\n    }\\n  }\\n  attr {\\n    key: &quot;use_locking&quot;\\n    value {\\n      b: true\\n    }\\n  }\\n  attr {\\n    key: &quot;validate_shape&quot;\\n    value {\\n      b: true\\n    }\\n  }\\n}\\nnode {\\n  name: &quot;rnn/basic_rnn_cell/bias/read&quot;\\n  op: &quot;Identity&quot;\\n  input: &quot;rnn/basic_rnn_cell/bias&quot;\\n  attr {\\n    key: &quot;T&quot;\\n    value {\\n      type: DT_FLOAT\\n    }\\n  }\\n}\\nnode {\\n  name: &quot;rnn/rnn/basic_rnn_cell/basic_rnn_cell/BiasAdd&quot;\\n  op: &quot;BiasAdd&quot;\\n  input: &quot;rnn/rnn/basic_rnn_cell/basic_rnn_cell/MatMul&quot;\\n  input: &quot;rnn/basic_rnn_cell/bias/read&quot;\\n  attr {\\n    key: &quot;T&quot;\\n    value {\\n      type: DT_FLOAT\\n    }\\n  }\\n  attr {\\n    key: &quot;data_format&quot;\\n    value {\\n      s: &quot;NHWC&quot;\\n    }\\n  }\\n}\\nnode {\\n  name: &quot;rnn/rnn/basic_rnn_cell/Tanh&quot;\\n  op: &quot;Tanh&quot;\\n  input: &quot;rnn/rnn/basic_rnn_cell/basic_rnn_cell/BiasAdd&quot;\\n  attr {\\n    key: &quot;T&quot;\\n    value {\\n      type: DT_FLOAT\\n    }\\n  }\\n}\\nnode {\\n  name: &quot;rnn/rnn/basic_rnn_cell/basic_rnn_cell_1/concat/axis&quot;\\n  op: &quot;Const&quot;\\n  attr {\\n    key: &quot;dtype&quot;\\n    value {\\n      type: DT_INT32\\n    }\\n  }\\n  attr {\\n    key: &quot;value&quot;\\n    value {\\n      tensor {\\n        dtype: DT_INT32\\n        tensor_shape {\\n        }\\n        int_val: 1\\n      }\\n    }\\n  }\\n}\\nnode {\\n  name: &quot;rnn/rnn/basic_rnn_cell/basic_rnn_cell_1/concat&quot;\\n  op: &quot;ConcatV2&quot;\\n  input: &quot;Placeholder_1&quot;\\n  input: &quot;rnn/rnn/basic_rnn_cell/Tanh&quot;\\n  input: &quot;rnn/rnn/basic_rnn_cell/basic_rnn_cell_1/concat/axis&quot;\\n  attr {\\n    key: &quot;N&quot;\\n    value {\\n      i: 2\\n    }\\n  }\\n  attr {\\n    key: &quot;T&quot;\\n    value {\\n      type: DT_FLOAT\\n    }\\n  }\\n  attr {\\n    key: &quot;Tidx&quot;\\n    value {\\n      type: DT_INT32\\n    }\\n  }\\n}\\nnode {\\n  name: &quot;rnn/rnn/basic_rnn_cell/basic_rnn_cell_1/MatMul&quot;\\n  op: &quot;MatMul&quot;\\n  input: &quot;rnn/rnn/basic_rnn_cell/basic_rnn_cell_1/concat&quot;\\n  input: &quot;rnn/basic_rnn_cell/kernel/read&quot;\\n  attr {\\n    key: &quot;T&quot;\\n    value {\\n      type: DT_FLOAT\\n    }\\n  }\\n  attr {\\n    key: &quot;transpose_a&quot;\\n    value {\\n      b: false\\n    }\\n  }\\n  attr {\\n    key: &quot;transpose_b&quot;\\n    value {\\n      b: false\\n    }\\n  }\\n}\\nnode {\\n  name: &quot;rnn/rnn/basic_rnn_cell/basic_rnn_cell_1/BiasAdd&quot;\\n  op: &quot;BiasAdd&quot;\\n  input: &quot;rnn/rnn/basic_rnn_cell/basic_rnn_cell_1/MatMul&quot;\\n  input: &quot;rnn/basic_rnn_cell/bias/read&quot;\\n  attr {\\n    key: &quot;T&quot;\\n    value {\\n      type: DT_FLOAT\\n    }\\n  }\\n  attr {\\n    key: &quot;data_format&quot;\\n    value {\\n      s: &quot;NHWC&quot;\\n    }\\n  }\\n}\\nnode {\\n  name: &quot;rnn/rnn/basic_rnn_cell/Tanh_1&quot;\\n  op: &quot;Tanh&quot;\\n  input: &quot;rnn/rnn/basic_rnn_cell/basic_rnn_cell_1/BiasAdd&quot;\\n  attr {\\n    key: &quot;T&quot;\\n    value {\\n      type: DT_FLOAT\\n    }\\n  }\\n}\\nnode {\\n  name: &quot;init&quot;\\n  op: &quot;NoOp&quot;\\n  input: &quot;^rnn/basic_rnn_cell/kernel/Assign&quot;\\n  input: &quot;^rnn/basic_rnn_cell/bias/Assign&quot;\\n}\\n';\n",
       "          }\n",
       "        </script>\n",
       "        <link rel=&quot;import&quot; href=&quot;https://tensorboard.appspot.com/tf-graph-basic.build.html&quot; onload=load()>\n",
       "        <div style=&quot;height:600px&quot;>\n",
       "          <tf-graph-basic id=&quot;graph0.3745401188473625&quot;></tf-graph-basic>\n",
       "        </div>\n",
       "    \"></iframe>\n",
       "    "
      ],
      "text/plain": [
       "<IPython.core.display.HTML object>"
      ]
     },
     "metadata": {},
     "output_type": "display_data"
    }
   ],
   "source": [
    "show_graph(tf.get_default_graph())"
   ]
  },
  {
   "cell_type": "markdown",
   "metadata": {},
   "source": [
    "## Packing sequences"
   ]
  },
  {
   "cell_type": "code",
   "execution_count": 15,
   "metadata": {
    "collapsed": true
   },
   "outputs": [],
   "source": [
    "n_steps = 2\n",
    "n_inputs = 3\n",
    "n_neurons = 5"
   ]
  },
  {
   "cell_type": "code",
   "execution_count": 16,
   "metadata": {
    "collapsed": true
   },
   "outputs": [],
   "source": [
    "reset_graph()\n",
    "\n",
    "X = tf.placeholder(tf.float32, [None, n_steps, n_inputs])\n",
    "X_seqs = tf.unstack(tf.transpose(X, perm=[1, 0, 2]))\n",
    "\n",
    "basic_cell = tf.contrib.rnn.BasicRNNCell(num_units=n_neurons)\n",
    "output_seqs, states = tf.contrib.rnn.static_rnn(basic_cell, X_seqs,\n",
    "                                                dtype=tf.float32)\n",
    "outputs = tf.transpose(tf.stack(output_seqs), perm=[1, 0, 2])"
   ]
  },
  {
   "cell_type": "code",
   "execution_count": 17,
   "metadata": {
    "collapsed": true
   },
   "outputs": [],
   "source": [
    "init = tf.global_variables_initializer()"
   ]
  },
  {
   "cell_type": "code",
   "execution_count": 18,
   "metadata": {
    "collapsed": true
   },
   "outputs": [],
   "source": [
    "X_batch = np.array([\n",
    "        # t = 0      t = 1 \n",
    "        [[0, 1, 2], [9, 8, 7]], # instance 1\n",
    "        [[3, 4, 5], [0, 0, 0]], # instance 2\n",
    "        [[6, 7, 8], [6, 5, 4]], # instance 3\n",
    "        [[9, 0, 1], [3, 2, 1]], # instance 4\n",
    "    ])\n",
    "\n",
    "with tf.Session() as sess:\n",
    "    init.run()\n",
    "    outputs_val = outputs.eval(feed_dict={X: X_batch})"
   ]
  },
  {
   "cell_type": "code",
   "execution_count": 19,
   "metadata": {
    "collapsed": false
   },
   "outputs": [
    {
     "name": "stdout",
     "output_type": "stream",
     "text": [
      "[[[-0.45652324 -0.68064123  0.40938237  0.63104504 -0.45732826]\n",
      "  [-0.94288003 -0.99988687  0.94055814  0.99999851 -0.9999997 ]]\n",
      "\n",
      " [[-0.80015349 -0.99218267  0.78177971  0.9971031  -0.99646091]\n",
      "  [-0.63711601  0.11300932  0.5798437   0.43105593 -0.63716984]]\n",
      "\n",
      " [[-0.93605185 -0.99983788  0.93088669  0.99998152 -0.99998295]\n",
      "  [-0.9165386  -0.99456042  0.89605415  0.99987197 -0.99997509]]\n",
      "\n",
      " [[ 0.99273688 -0.99819332 -0.55543643  0.9989031  -0.9953323 ]\n",
      "  [-0.02746334 -0.73191994  0.7827872   0.95256817 -0.97817713]]]\n"
     ]
    }
   ],
   "source": [
    "print(outputs_val)"
   ]
  },
  {
   "cell_type": "code",
   "execution_count": 20,
   "metadata": {
    "collapsed": false
   },
   "outputs": [
    {
     "name": "stdout",
     "output_type": "stream",
     "text": [
      "[[-0.94288003 -0.99988687  0.94055814  0.99999851 -0.9999997 ]\n",
      " [-0.63711601  0.11300932  0.5798437   0.43105593 -0.63716984]\n",
      " [-0.9165386  -0.99456042  0.89605415  0.99987197 -0.99997509]\n",
      " [-0.02746334 -0.73191994  0.7827872   0.95256817 -0.97817713]]\n"
     ]
    }
   ],
   "source": [
    "print(np.transpose(outputs_val, axes=[1, 0, 2])[1])"
   ]
  },
  {
   "cell_type": "markdown",
   "metadata": {},
   "source": [
    "## Using `dynamic_rnn()`"
   ]
  },
  {
   "cell_type": "code",
   "execution_count": 21,
   "metadata": {
    "collapsed": true
   },
   "outputs": [],
   "source": [
    "n_steps = 2\n",
    "n_inputs = 3\n",
    "n_neurons = 5"
   ]
  },
  {
   "cell_type": "code",
   "execution_count": 22,
   "metadata": {
    "collapsed": true
   },
   "outputs": [],
   "source": [
    "reset_graph()\n",
    "\n",
    "X = tf.placeholder(tf.float32, [None, n_steps, n_inputs])\n",
    "\n",
    "basic_cell = tf.contrib.rnn.BasicRNNCell(num_units=n_neurons)\n",
    "outputs, states = tf.nn.dynamic_rnn(basic_cell, X, dtype=tf.float32)"
   ]
  },
  {
   "cell_type": "code",
   "execution_count": 23,
   "metadata": {
    "collapsed": true
   },
   "outputs": [],
   "source": [
    "init = tf.global_variables_initializer()"
   ]
  },
  {
   "cell_type": "code",
   "execution_count": 24,
   "metadata": {
    "collapsed": true
   },
   "outputs": [],
   "source": [
    "X_batch = np.array([\n",
    "        [[0, 1, 2], [9, 8, 7]], # instance 1\n",
    "        [[3, 4, 5], [0, 0, 0]], # instance 2\n",
    "        [[6, 7, 8], [6, 5, 4]], # instance 3\n",
    "        [[9, 0, 1], [3, 2, 1]], # instance 4\n",
    "    ])\n",
    "\n",
    "with tf.Session() as sess:\n",
    "    init.run()\n",
    "    outputs_val = outputs.eval(feed_dict={X: X_batch})"
   ]
  },
  {
   "cell_type": "code",
   "execution_count": 25,
   "metadata": {
    "collapsed": false
   },
   "outputs": [
    {
     "name": "stdout",
     "output_type": "stream",
     "text": [
      "[[[-0.0948875  -0.78635412 -0.75976855  0.81456447 -0.86596668]\n",
      "  [-0.99999809 -0.99989897 -0.99999422  0.99959809 -0.4085584 ]]\n",
      "\n",
      " [[-0.98823678 -0.99379838 -0.99848306  0.99407357 -0.9553898 ]\n",
      "  [ 0.21658944 -0.20340651  0.02591269  0.44528607 -0.40116802]]\n",
      "\n",
      " [[-0.99991536 -0.99983823 -0.99999166  0.99982721 -0.98561245]\n",
      "  [-0.99981058 -0.99268609 -0.99952865  0.99385983 -0.25559649]]\n",
      "\n",
      " [[-0.99883717  0.84198505 -0.97267133 -0.86984301  0.99912703]\n",
      "  [-0.97511095 -0.34840977 -0.92128128  0.39821982  0.27953893]]]\n"
     ]
    }
   ],
   "source": [
    "print(outputs_val)"
   ]
  },
  {
   "cell_type": "code",
   "execution_count": 26,
   "metadata": {
    "collapsed": false
   },
   "outputs": [
    {
     "data": {
      "text/html": [
       "\n",
       "        <iframe seamless style=\"width:1200px;height:620px;border:0\" srcdoc=\"\n",
       "        <script>\n",
       "          function load() {\n",
       "            document.getElementById(&quot;graph0.3745401188473625&quot;).pbtxt = 'node {\\n  name: &quot;Placeholder&quot;\\n  op: &quot;Placeholder&quot;\\n  attr {\\n    key: &quot;dtype&quot;\\n    value {\\n      type: DT_FLOAT\\n    }\\n  }\\n  attr {\\n    key: &quot;shape&quot;\\n    value {\\n      shape {\\n        dim {\\n          size: -1\\n        }\\n        dim {\\n          size: 2\\n        }\\n        dim {\\n          size: 3\\n        }\\n      }\\n    }\\n  }\\n}\\nnode {\\n  name: &quot;Rank&quot;\\n  op: &quot;Const&quot;\\n  attr {\\n    key: &quot;dtype&quot;\\n    value {\\n      type: DT_INT32\\n    }\\n  }\\n  attr {\\n    key: &quot;value&quot;\\n    value {\\n      tensor {\\n        dtype: DT_INT32\\n        tensor_shape {\\n        }\\n        int_val: 3\\n      }\\n    }\\n  }\\n}\\nnode {\\n  name: &quot;range/start&quot;\\n  op: &quot;Const&quot;\\n  attr {\\n    key: &quot;dtype&quot;\\n    value {\\n      type: DT_INT32\\n    }\\n  }\\n  attr {\\n    key: &quot;value&quot;\\n    value {\\n      tensor {\\n        dtype: DT_INT32\\n        tensor_shape {\\n        }\\n        int_val: 2\\n      }\\n    }\\n  }\\n}\\nnode {\\n  name: &quot;range/delta&quot;\\n  op: &quot;Const&quot;\\n  attr {\\n    key: &quot;dtype&quot;\\n    value {\\n      type: DT_INT32\\n    }\\n  }\\n  attr {\\n    key: &quot;value&quot;\\n    value {\\n      tensor {\\n        dtype: DT_INT32\\n        tensor_shape {\\n        }\\n        int_val: 1\\n      }\\n    }\\n  }\\n}\\nnode {\\n  name: &quot;range&quot;\\n  op: &quot;Range&quot;\\n  input: &quot;range/start&quot;\\n  input: &quot;Rank&quot;\\n  input: &quot;range/delta&quot;\\n  attr {\\n    key: &quot;Tidx&quot;\\n    value {\\n      type: DT_INT32\\n    }\\n  }\\n}\\nnode {\\n  name: &quot;concat/values_0&quot;\\n  op: &quot;Const&quot;\\n  attr {\\n    key: &quot;dtype&quot;\\n    value {\\n      type: DT_INT32\\n    }\\n  }\\n  attr {\\n    key: &quot;value&quot;\\n    value {\\n      tensor {\\n        dtype: DT_INT32\\n        tensor_shape {\\n          dim {\\n            size: 2\\n          }\\n        }\\n        tensor_content: &quot;\\\\001\\\\000\\\\000\\\\000\\\\000\\\\000\\\\000\\\\000&quot;\\n      }\\n    }\\n  }\\n}\\nnode {\\n  name: &quot;concat/axis&quot;\\n  op: &quot;Const&quot;\\n  attr {\\n    key: &quot;dtype&quot;\\n    value {\\n      type: DT_INT32\\n    }\\n  }\\n  attr {\\n    key: &quot;value&quot;\\n    value {\\n      tensor {\\n        dtype: DT_INT32\\n        tensor_shape {\\n        }\\n        int_val: 0\\n      }\\n    }\\n  }\\n}\\nnode {\\n  name: &quot;concat&quot;\\n  op: &quot;ConcatV2&quot;\\n  input: &quot;concat/values_0&quot;\\n  input: &quot;range&quot;\\n  input: &quot;concat/axis&quot;\\n  attr {\\n    key: &quot;N&quot;\\n    value {\\n      i: 2\\n    }\\n  }\\n  attr {\\n    key: &quot;T&quot;\\n    value {\\n      type: DT_INT32\\n    }\\n  }\\n  attr {\\n    key: &quot;Tidx&quot;\\n    value {\\n      type: DT_INT32\\n    }\\n  }\\n}\\nnode {\\n  name: &quot;transpose&quot;\\n  op: &quot;Transpose&quot;\\n  input: &quot;Placeholder&quot;\\n  input: &quot;concat&quot;\\n  attr {\\n    key: &quot;T&quot;\\n    value {\\n      type: DT_FLOAT\\n    }\\n  }\\n  attr {\\n    key: &quot;Tperm&quot;\\n    value {\\n      type: DT_INT32\\n    }\\n  }\\n}\\nnode {\\n  name: &quot;rnn/Shape&quot;\\n  op: &quot;Shape&quot;\\n  input: &quot;transpose&quot;\\n  attr {\\n    key: &quot;T&quot;\\n    value {\\n      type: DT_FLOAT\\n    }\\n  }\\n  attr {\\n    key: &quot;out_type&quot;\\n    value {\\n      type: DT_INT32\\n    }\\n  }\\n}\\nnode {\\n  name: &quot;rnn/strided_slice/stack&quot;\\n  op: &quot;Const&quot;\\n  attr {\\n    key: &quot;dtype&quot;\\n    value {\\n      type: DT_INT32\\n    }\\n  }\\n  attr {\\n    key: &quot;value&quot;\\n    value {\\n      tensor {\\n        dtype: DT_INT32\\n        tensor_shape {\\n          dim {\\n            size: 1\\n          }\\n        }\\n        int_val: 1\\n      }\\n    }\\n  }\\n}\\nnode {\\n  name: &quot;rnn/strided_slice/stack_1&quot;\\n  op: &quot;Const&quot;\\n  attr {\\n    key: &quot;dtype&quot;\\n    value {\\n      type: DT_INT32\\n    }\\n  }\\n  attr {\\n    key: &quot;value&quot;\\n    value {\\n      tensor {\\n        dtype: DT_INT32\\n        tensor_shape {\\n          dim {\\n            size: 1\\n          }\\n        }\\n        int_val: 2\\n      }\\n    }\\n  }\\n}\\nnode {\\n  name: &quot;rnn/strided_slice/stack_2&quot;\\n  op: &quot;Const&quot;\\n  attr {\\n    key: &quot;dtype&quot;\\n    value {\\n      type: DT_INT32\\n    }\\n  }\\n  attr {\\n    key: &quot;value&quot;\\n    value {\\n      tensor {\\n        dtype: DT_INT32\\n        tensor_shape {\\n          dim {\\n            size: 1\\n          }\\n        }\\n        int_val: 1\\n      }\\n    }\\n  }\\n}\\nnode {\\n  name: &quot;rnn/strided_slice&quot;\\n  op: &quot;StridedSlice&quot;\\n  input: &quot;rnn/Shape&quot;\\n  input: &quot;rnn/strided_slice/stack&quot;\\n  input: &quot;rnn/strided_slice/stack_1&quot;\\n  input: &quot;rnn/strided_slice/stack_2&quot;\\n  attr {\\n    key: &quot;Index&quot;\\n    value {\\n      type: DT_INT32\\n    }\\n  }\\n  attr {\\n    key: &quot;T&quot;\\n    value {\\n      type: DT_INT32\\n    }\\n  }\\n  attr {\\n    key: &quot;begin_mask&quot;\\n    value {\\n      i: 0\\n    }\\n  }\\n  attr {\\n    key: &quot;ellipsis_mask&quot;\\n    value {\\n      i: 0\\n    }\\n  }\\n  attr {\\n    key: &quot;end_mask&quot;\\n    value {\\n      i: 0\\n    }\\n  }\\n  attr {\\n    key: &quot;new_axis_mask&quot;\\n    value {\\n      i: 0\\n    }\\n  }\\n  attr {\\n    key: &quot;shrink_axis_mask&quot;\\n    value {\\n      i: 1\\n    }\\n  }\\n}\\nnode {\\n  name: &quot;rnn/BasicRNNCellZeroState/ExpandDims/dim&quot;\\n  op: &quot;Const&quot;\\n  attr {\\n    key: &quot;dtype&quot;\\n    value {\\n      type: DT_INT32\\n    }\\n  }\\n  attr {\\n    key: &quot;value&quot;\\n    value {\\n      tensor {\\n        dtype: DT_INT32\\n        tensor_shape {\\n        }\\n        int_val: 0\\n      }\\n    }\\n  }\\n}\\nnode {\\n  name: &quot;rnn/BasicRNNCellZeroState/ExpandDims&quot;\\n  op: &quot;ExpandDims&quot;\\n  input: &quot;rnn/strided_slice&quot;\\n  input: &quot;rnn/BasicRNNCellZeroState/ExpandDims/dim&quot;\\n  attr {\\n    key: &quot;T&quot;\\n    value {\\n      type: DT_INT32\\n    }\\n  }\\n  attr {\\n    key: &quot;Tdim&quot;\\n    value {\\n      type: DT_INT32\\n    }\\n  }\\n}\\nnode {\\n  name: &quot;rnn/BasicRNNCellZeroState/Const&quot;\\n  op: &quot;Const&quot;\\n  attr {\\n    key: &quot;dtype&quot;\\n    value {\\n      type: DT_INT32\\n    }\\n  }\\n  attr {\\n    key: &quot;value&quot;\\n    value {\\n      tensor {\\n        dtype: DT_INT32\\n        tensor_shape {\\n          dim {\\n            size: 1\\n          }\\n        }\\n        int_val: 5\\n      }\\n    }\\n  }\\n}\\nnode {\\n  name: &quot;rnn/BasicRNNCellZeroState/concat/axis&quot;\\n  op: &quot;Const&quot;\\n  attr {\\n    key: &quot;dtype&quot;\\n    value {\\n      type: DT_INT32\\n    }\\n  }\\n  attr {\\n    key: &quot;value&quot;\\n    value {\\n      tensor {\\n        dtype: DT_INT32\\n        tensor_shape {\\n        }\\n        int_val: 0\\n      }\\n    }\\n  }\\n}\\nnode {\\n  name: &quot;rnn/BasicRNNCellZeroState/concat&quot;\\n  op: &quot;ConcatV2&quot;\\n  input: &quot;rnn/BasicRNNCellZeroState/ExpandDims&quot;\\n  input: &quot;rnn/BasicRNNCellZeroState/Const&quot;\\n  input: &quot;rnn/BasicRNNCellZeroState/concat/axis&quot;\\n  attr {\\n    key: &quot;N&quot;\\n    value {\\n      i: 2\\n    }\\n  }\\n  attr {\\n    key: &quot;T&quot;\\n    value {\\n      type: DT_INT32\\n    }\\n  }\\n  attr {\\n    key: &quot;Tidx&quot;\\n    value {\\n      type: DT_INT32\\n    }\\n  }\\n}\\nnode {\\n  name: &quot;rnn/BasicRNNCellZeroState/ExpandDims_1/dim&quot;\\n  op: &quot;Const&quot;\\n  attr {\\n    key: &quot;dtype&quot;\\n    value {\\n      type: DT_INT32\\n    }\\n  }\\n  attr {\\n    key: &quot;value&quot;\\n    value {\\n      tensor {\\n        dtype: DT_INT32\\n        tensor_shape {\\n        }\\n        int_val: 0\\n      }\\n    }\\n  }\\n}\\nnode {\\n  name: &quot;rnn/BasicRNNCellZeroState/ExpandDims_1&quot;\\n  op: &quot;ExpandDims&quot;\\n  input: &quot;rnn/strided_slice&quot;\\n  input: &quot;rnn/BasicRNNCellZeroState/ExpandDims_1/dim&quot;\\n  attr {\\n    key: &quot;T&quot;\\n    value {\\n      type: DT_INT32\\n    }\\n  }\\n  attr {\\n    key: &quot;Tdim&quot;\\n    value {\\n      type: DT_INT32\\n    }\\n  }\\n}\\nnode {\\n  name: &quot;rnn/BasicRNNCellZeroState/Const_1&quot;\\n  op: &quot;Const&quot;\\n  attr {\\n    key: &quot;dtype&quot;\\n    value {\\n      type: DT_INT32\\n    }\\n  }\\n  attr {\\n    key: &quot;value&quot;\\n    value {\\n      tensor {\\n        dtype: DT_INT32\\n        tensor_shape {\\n          dim {\\n            size: 1\\n          }\\n        }\\n        int_val: 5\\n      }\\n    }\\n  }\\n}\\nnode {\\n  name: &quot;rnn/BasicRNNCellZeroState/zeros/Const&quot;\\n  op: &quot;Const&quot;\\n  attr {\\n    key: &quot;dtype&quot;\\n    value {\\n      type: DT_FLOAT\\n    }\\n  }\\n  attr {\\n    key: &quot;value&quot;\\n    value {\\n      tensor {\\n        dtype: DT_FLOAT\\n        tensor_shape {\\n        }\\n        float_val: 0.0\\n      }\\n    }\\n  }\\n}\\nnode {\\n  name: &quot;rnn/BasicRNNCellZeroState/zeros&quot;\\n  op: &quot;Fill&quot;\\n  input: &quot;rnn/BasicRNNCellZeroState/concat&quot;\\n  input: &quot;rnn/BasicRNNCellZeroState/zeros/Const&quot;\\n  attr {\\n    key: &quot;T&quot;\\n    value {\\n      type: DT_FLOAT\\n    }\\n  }\\n}\\nnode {\\n  name: &quot;rnn/Shape_1&quot;\\n  op: &quot;Shape&quot;\\n  input: &quot;transpose&quot;\\n  attr {\\n    key: &quot;T&quot;\\n    value {\\n      type: DT_FLOAT\\n    }\\n  }\\n  attr {\\n    key: &quot;out_type&quot;\\n    value {\\n      type: DT_INT32\\n    }\\n  }\\n}\\nnode {\\n  name: &quot;rnn/strided_slice_1/stack&quot;\\n  op: &quot;Const&quot;\\n  attr {\\n    key: &quot;dtype&quot;\\n    value {\\n      type: DT_INT32\\n    }\\n  }\\n  attr {\\n    key: &quot;value&quot;\\n    value {\\n      tensor {\\n        dtype: DT_INT32\\n        tensor_shape {\\n          dim {\\n            size: 1\\n          }\\n        }\\n        int_val: 0\\n      }\\n    }\\n  }\\n}\\nnode {\\n  name: &quot;rnn/strided_slice_1/stack_1&quot;\\n  op: &quot;Const&quot;\\n  attr {\\n    key: &quot;dtype&quot;\\n    value {\\n      type: DT_INT32\\n    }\\n  }\\n  attr {\\n    key: &quot;value&quot;\\n    value {\\n      tensor {\\n        dtype: DT_INT32\\n        tensor_shape {\\n          dim {\\n            size: 1\\n          }\\n        }\\n        int_val: 1\\n      }\\n    }\\n  }\\n}\\nnode {\\n  name: &quot;rnn/strided_slice_1/stack_2&quot;\\n  op: &quot;Const&quot;\\n  attr {\\n    key: &quot;dtype&quot;\\n    value {\\n      type: DT_INT32\\n    }\\n  }\\n  attr {\\n    key: &quot;value&quot;\\n    value {\\n      tensor {\\n        dtype: DT_INT32\\n        tensor_shape {\\n          dim {\\n            size: 1\\n          }\\n        }\\n        int_val: 1\\n      }\\n    }\\n  }\\n}\\nnode {\\n  name: &quot;rnn/strided_slice_1&quot;\\n  op: &quot;StridedSlice&quot;\\n  input: &quot;rnn/Shape_1&quot;\\n  input: &quot;rnn/strided_slice_1/stack&quot;\\n  input: &quot;rnn/strided_slice_1/stack_1&quot;\\n  input: &quot;rnn/strided_slice_1/stack_2&quot;\\n  attr {\\n    key: &quot;Index&quot;\\n    value {\\n      type: DT_INT32\\n    }\\n  }\\n  attr {\\n    key: &quot;T&quot;\\n    value {\\n      type: DT_INT32\\n    }\\n  }\\n  attr {\\n    key: &quot;begin_mask&quot;\\n    value {\\n      i: 0\\n    }\\n  }\\n  attr {\\n    key: &quot;ellipsis_mask&quot;\\n    value {\\n      i: 0\\n    }\\n  }\\n  attr {\\n    key: &quot;end_mask&quot;\\n    value {\\n      i: 0\\n    }\\n  }\\n  attr {\\n    key: &quot;new_axis_mask&quot;\\n    value {\\n      i: 0\\n    }\\n  }\\n  attr {\\n    key: &quot;shrink_axis_mask&quot;\\n    value {\\n      i: 1\\n    }\\n  }\\n}\\nnode {\\n  name: &quot;rnn/Shape_2&quot;\\n  op: &quot;Shape&quot;\\n  input: &quot;transpose&quot;\\n  attr {\\n    key: &quot;T&quot;\\n    value {\\n      type: DT_FLOAT\\n    }\\n  }\\n  attr {\\n    key: &quot;out_type&quot;\\n    value {\\n      type: DT_INT32\\n    }\\n  }\\n}\\nnode {\\n  name: &quot;rnn/strided_slice_2/stack&quot;\\n  op: &quot;Const&quot;\\n  attr {\\n    key: &quot;dtype&quot;\\n    value {\\n      type: DT_INT32\\n    }\\n  }\\n  attr {\\n    key: &quot;value&quot;\\n    value {\\n      tensor {\\n        dtype: DT_INT32\\n        tensor_shape {\\n          dim {\\n            size: 1\\n          }\\n        }\\n        int_val: 1\\n      }\\n    }\\n  }\\n}\\nnode {\\n  name: &quot;rnn/strided_slice_2/stack_1&quot;\\n  op: &quot;Const&quot;\\n  attr {\\n    key: &quot;dtype&quot;\\n    value {\\n      type: DT_INT32\\n    }\\n  }\\n  attr {\\n    key: &quot;value&quot;\\n    value {\\n      tensor {\\n        dtype: DT_INT32\\n        tensor_shape {\\n          dim {\\n            size: 1\\n          }\\n        }\\n        int_val: 2\\n      }\\n    }\\n  }\\n}\\nnode {\\n  name: &quot;rnn/strided_slice_2/stack_2&quot;\\n  op: &quot;Const&quot;\\n  attr {\\n    key: &quot;dtype&quot;\\n    value {\\n      type: DT_INT32\\n    }\\n  }\\n  attr {\\n    key: &quot;value&quot;\\n    value {\\n      tensor {\\n        dtype: DT_INT32\\n        tensor_shape {\\n          dim {\\n            size: 1\\n          }\\n        }\\n        int_val: 1\\n      }\\n    }\\n  }\\n}\\nnode {\\n  name: &quot;rnn/strided_slice_2&quot;\\n  op: &quot;StridedSlice&quot;\\n  input: &quot;rnn/Shape_2&quot;\\n  input: &quot;rnn/strided_slice_2/stack&quot;\\n  input: &quot;rnn/strided_slice_2/stack_1&quot;\\n  input: &quot;rnn/strided_slice_2/stack_2&quot;\\n  attr {\\n    key: &quot;Index&quot;\\n    value {\\n      type: DT_INT32\\n    }\\n  }\\n  attr {\\n    key: &quot;T&quot;\\n    value {\\n      type: DT_INT32\\n    }\\n  }\\n  attr {\\n    key: &quot;begin_mask&quot;\\n    value {\\n      i: 0\\n    }\\n  }\\n  attr {\\n    key: &quot;ellipsis_mask&quot;\\n    value {\\n      i: 0\\n    }\\n  }\\n  attr {\\n    key: &quot;end_mask&quot;\\n    value {\\n      i: 0\\n    }\\n  }\\n  attr {\\n    key: &quot;new_axis_mask&quot;\\n    value {\\n      i: 0\\n    }\\n  }\\n  attr {\\n    key: &quot;shrink_axis_mask&quot;\\n    value {\\n      i: 1\\n    }\\n  }\\n}\\nnode {\\n  name: &quot;rnn/ExpandDims/dim&quot;\\n  op: &quot;Const&quot;\\n  attr {\\n    key: &quot;dtype&quot;\\n    value {\\n      type: DT_INT32\\n    }\\n  }\\n  attr {\\n    key: &quot;value&quot;\\n    value {\\n      tensor {\\n        dtype: DT_INT32\\n        tensor_shape {\\n        }\\n        int_val: 0\\n      }\\n    }\\n  }\\n}\\nnode {\\n  name: &quot;rnn/ExpandDims&quot;\\n  op: &quot;ExpandDims&quot;\\n  input: &quot;rnn/strided_slice_2&quot;\\n  input: &quot;rnn/ExpandDims/dim&quot;\\n  attr {\\n    key: &quot;T&quot;\\n    value {\\n      type: DT_INT32\\n    }\\n  }\\n  attr {\\n    key: &quot;Tdim&quot;\\n    value {\\n      type: DT_INT32\\n    }\\n  }\\n}\\nnode {\\n  name: &quot;rnn/Const&quot;\\n  op: &quot;Const&quot;\\n  attr {\\n    key: &quot;dtype&quot;\\n    value {\\n      type: DT_INT32\\n    }\\n  }\\n  attr {\\n    key: &quot;value&quot;\\n    value {\\n      tensor {\\n        dtype: DT_INT32\\n        tensor_shape {\\n          dim {\\n            size: 1\\n          }\\n        }\\n        int_val: 5\\n      }\\n    }\\n  }\\n}\\nnode {\\n  name: &quot;rnn/concat/axis&quot;\\n  op: &quot;Const&quot;\\n  attr {\\n    key: &quot;dtype&quot;\\n    value {\\n      type: DT_INT32\\n    }\\n  }\\n  attr {\\n    key: &quot;value&quot;\\n    value {\\n      tensor {\\n        dtype: DT_INT32\\n        tensor_shape {\\n        }\\n        int_val: 0\\n      }\\n    }\\n  }\\n}\\nnode {\\n  name: &quot;rnn/concat&quot;\\n  op: &quot;ConcatV2&quot;\\n  input: &quot;rnn/ExpandDims&quot;\\n  input: &quot;rnn/Const&quot;\\n  input: &quot;rnn/concat/axis&quot;\\n  attr {\\n    key: &quot;N&quot;\\n    value {\\n      i: 2\\n    }\\n  }\\n  attr {\\n    key: &quot;T&quot;\\n    value {\\n      type: DT_INT32\\n    }\\n  }\\n  attr {\\n    key: &quot;Tidx&quot;\\n    value {\\n      type: DT_INT32\\n    }\\n  }\\n}\\nnode {\\n  name: &quot;rnn/zeros/Const&quot;\\n  op: &quot;Const&quot;\\n  attr {\\n    key: &quot;dtype&quot;\\n    value {\\n      type: DT_FLOAT\\n    }\\n  }\\n  attr {\\n    key: &quot;value&quot;\\n    value {\\n      tensor {\\n        dtype: DT_FLOAT\\n        tensor_shape {\\n        }\\n        float_val: 0.0\\n      }\\n    }\\n  }\\n}\\nnode {\\n  name: &quot;rnn/zeros&quot;\\n  op: &quot;Fill&quot;\\n  input: &quot;rnn/concat&quot;\\n  input: &quot;rnn/zeros/Const&quot;\\n  attr {\\n    key: &quot;T&quot;\\n    value {\\n      type: DT_FLOAT\\n    }\\n  }\\n}\\nnode {\\n  name: &quot;rnn/time&quot;\\n  op: &quot;Const&quot;\\n  attr {\\n    key: &quot;dtype&quot;\\n    value {\\n      type: DT_INT32\\n    }\\n  }\\n  attr {\\n    key: &quot;value&quot;\\n    value {\\n      tensor {\\n        dtype: DT_INT32\\n        tensor_shape {\\n        }\\n        int_val: 0\\n      }\\n    }\\n  }\\n}\\nnode {\\n  name: &quot;rnn/TensorArray&quot;\\n  op: &quot;TensorArrayV3&quot;\\n  input: &quot;rnn/strided_slice_1&quot;\\n  attr {\\n    key: &quot;clear_after_read&quot;\\n    value {\\n      b: true\\n    }\\n  }\\n  attr {\\n    key: &quot;dtype&quot;\\n    value {\\n      type: DT_FLOAT\\n    }\\n  }\\n  attr {\\n    key: &quot;dynamic_size&quot;\\n    value {\\n      b: false\\n    }\\n  }\\n  attr {\\n    key: &quot;element_shape&quot;\\n    value {\\n      shape {\\n        unknown_rank: true\\n      }\\n    }\\n  }\\n  attr {\\n    key: &quot;tensor_array_name&quot;\\n    value {\\n      s: &quot;rnn/dynamic_rnn/output_0&quot;\\n    }\\n  }\\n}\\nnode {\\n  name: &quot;rnn/TensorArray_1&quot;\\n  op: &quot;TensorArrayV3&quot;\\n  input: &quot;rnn/strided_slice_1&quot;\\n  attr {\\n    key: &quot;clear_after_read&quot;\\n    value {\\n      b: true\\n    }\\n  }\\n  attr {\\n    key: &quot;dtype&quot;\\n    value {\\n      type: DT_FLOAT\\n    }\\n  }\\n  attr {\\n    key: &quot;dynamic_size&quot;\\n    value {\\n      b: false\\n    }\\n  }\\n  attr {\\n    key: &quot;element_shape&quot;\\n    value {\\n      shape {\\n        unknown_rank: true\\n      }\\n    }\\n  }\\n  attr {\\n    key: &quot;tensor_array_name&quot;\\n    value {\\n      s: &quot;rnn/dynamic_rnn/input_0&quot;\\n    }\\n  }\\n}\\nnode {\\n  name: &quot;rnn/TensorArrayUnstack/Shape&quot;\\n  op: &quot;Shape&quot;\\n  input: &quot;transpose&quot;\\n  attr {\\n    key: &quot;T&quot;\\n    value {\\n      type: DT_FLOAT\\n    }\\n  }\\n  attr {\\n    key: &quot;out_type&quot;\\n    value {\\n      type: DT_INT32\\n    }\\n  }\\n}\\nnode {\\n  name: &quot;rnn/TensorArrayUnstack/strided_slice/stack&quot;\\n  op: &quot;Const&quot;\\n  attr {\\n    key: &quot;dtype&quot;\\n    value {\\n      type: DT_INT32\\n    }\\n  }\\n  attr {\\n    key: &quot;value&quot;\\n    value {\\n      tensor {\\n        dtype: DT_INT32\\n        tensor_shape {\\n          dim {\\n            size: 1\\n          }\\n        }\\n        int_val: 0\\n      }\\n    }\\n  }\\n}\\nnode {\\n  name: &quot;rnn/TensorArrayUnstack/strided_slice/stack_1&quot;\\n  op: &quot;Const&quot;\\n  attr {\\n    key: &quot;dtype&quot;\\n    value {\\n      type: DT_INT32\\n    }\\n  }\\n  attr {\\n    key: &quot;value&quot;\\n    value {\\n      tensor {\\n        dtype: DT_INT32\\n        tensor_shape {\\n          dim {\\n            size: 1\\n          }\\n        }\\n        int_val: 1\\n      }\\n    }\\n  }\\n}\\nnode {\\n  name: &quot;rnn/TensorArrayUnstack/strided_slice/stack_2&quot;\\n  op: &quot;Const&quot;\\n  attr {\\n    key: &quot;dtype&quot;\\n    value {\\n      type: DT_INT32\\n    }\\n  }\\n  attr {\\n    key: &quot;value&quot;\\n    value {\\n      tensor {\\n        dtype: DT_INT32\\n        tensor_shape {\\n          dim {\\n            size: 1\\n          }\\n        }\\n        int_val: 1\\n      }\\n    }\\n  }\\n}\\nnode {\\n  name: &quot;rnn/TensorArrayUnstack/strided_slice&quot;\\n  op: &quot;StridedSlice&quot;\\n  input: &quot;rnn/TensorArrayUnstack/Shape&quot;\\n  input: &quot;rnn/TensorArrayUnstack/strided_slice/stack&quot;\\n  input: &quot;rnn/TensorArrayUnstack/strided_slice/stack_1&quot;\\n  input: &quot;rnn/TensorArrayUnstack/strided_slice/stack_2&quot;\\n  attr {\\n    key: &quot;Index&quot;\\n    value {\\n      type: DT_INT32\\n    }\\n  }\\n  attr {\\n    key: &quot;T&quot;\\n    value {\\n      type: DT_INT32\\n    }\\n  }\\n  attr {\\n    key: &quot;begin_mask&quot;\\n    value {\\n      i: 0\\n    }\\n  }\\n  attr {\\n    key: &quot;ellipsis_mask&quot;\\n    value {\\n      i: 0\\n    }\\n  }\\n  attr {\\n    key: &quot;end_mask&quot;\\n    value {\\n      i: 0\\n    }\\n  }\\n  attr {\\n    key: &quot;new_axis_mask&quot;\\n    value {\\n      i: 0\\n    }\\n  }\\n  attr {\\n    key: &quot;shrink_axis_mask&quot;\\n    value {\\n      i: 1\\n    }\\n  }\\n}\\nnode {\\n  name: &quot;rnn/TensorArrayUnstack/range/start&quot;\\n  op: &quot;Const&quot;\\n  attr {\\n    key: &quot;dtype&quot;\\n    value {\\n      type: DT_INT32\\n    }\\n  }\\n  attr {\\n    key: &quot;value&quot;\\n    value {\\n      tensor {\\n        dtype: DT_INT32\\n        tensor_shape {\\n        }\\n        int_val: 0\\n      }\\n    }\\n  }\\n}\\nnode {\\n  name: &quot;rnn/TensorArrayUnstack/range/delta&quot;\\n  op: &quot;Const&quot;\\n  attr {\\n    key: &quot;dtype&quot;\\n    value {\\n      type: DT_INT32\\n    }\\n  }\\n  attr {\\n    key: &quot;value&quot;\\n    value {\\n      tensor {\\n        dtype: DT_INT32\\n        tensor_shape {\\n        }\\n        int_val: 1\\n      }\\n    }\\n  }\\n}\\nnode {\\n  name: &quot;rnn/TensorArrayUnstack/range&quot;\\n  op: &quot;Range&quot;\\n  input: &quot;rnn/TensorArrayUnstack/range/start&quot;\\n  input: &quot;rnn/TensorArrayUnstack/strided_slice&quot;\\n  input: &quot;rnn/TensorArrayUnstack/range/delta&quot;\\n  attr {\\n    key: &quot;Tidx&quot;\\n    value {\\n      type: DT_INT32\\n    }\\n  }\\n}\\nnode {\\n  name: &quot;rnn/TensorArrayUnstack/TensorArrayScatter/TensorArrayScatterV3&quot;\\n  op: &quot;TensorArrayScatterV3&quot;\\n  input: &quot;rnn/TensorArray_1&quot;\\n  input: &quot;rnn/TensorArrayUnstack/range&quot;\\n  input: &quot;transpose&quot;\\n  input: &quot;rnn/TensorArray_1:1&quot;\\n  attr {\\n    key: &quot;T&quot;\\n    value {\\n      type: DT_FLOAT\\n    }\\n  }\\n  attr {\\n    key: &quot;_class&quot;\\n    value {\\n      list {\\n        s: &quot;loc:@transpose&quot;\\n      }\\n    }\\n  }\\n}\\nnode {\\n  name: &quot;rnn/while/Enter&quot;\\n  op: &quot;Enter&quot;\\n  input: &quot;rnn/time&quot;\\n  attr {\\n    key: &quot;T&quot;\\n    value {\\n      type: DT_INT32\\n    }\\n  }\\n  attr {\\n    key: &quot;frame_name&quot;\\n    value {\\n      s: &quot;rnn/while/rnn/while/&quot;\\n    }\\n  }\\n  attr {\\n    key: &quot;is_constant&quot;\\n    value {\\n      b: false\\n    }\\n  }\\n  attr {\\n    key: &quot;parallel_iterations&quot;\\n    value {\\n      i: 32\\n    }\\n  }\\n}\\nnode {\\n  name: &quot;rnn/while/Enter_1&quot;\\n  op: &quot;Enter&quot;\\n  input: &quot;rnn/TensorArray:1&quot;\\n  attr {\\n    key: &quot;T&quot;\\n    value {\\n      type: DT_FLOAT\\n    }\\n  }\\n  attr {\\n    key: &quot;frame_name&quot;\\n    value {\\n      s: &quot;rnn/while/rnn/while/&quot;\\n    }\\n  }\\n  attr {\\n    key: &quot;is_constant&quot;\\n    value {\\n      b: false\\n    }\\n  }\\n  attr {\\n    key: &quot;parallel_iterations&quot;\\n    value {\\n      i: 32\\n    }\\n  }\\n}\\nnode {\\n  name: &quot;rnn/while/Enter_2&quot;\\n  op: &quot;Enter&quot;\\n  input: &quot;rnn/BasicRNNCellZeroState/zeros&quot;\\n  attr {\\n    key: &quot;T&quot;\\n    value {\\n      type: DT_FLOAT\\n    }\\n  }\\n  attr {\\n    key: &quot;frame_name&quot;\\n    value {\\n      s: &quot;rnn/while/rnn/while/&quot;\\n    }\\n  }\\n  attr {\\n    key: &quot;is_constant&quot;\\n    value {\\n      b: false\\n    }\\n  }\\n  attr {\\n    key: &quot;parallel_iterations&quot;\\n    value {\\n      i: 32\\n    }\\n  }\\n}\\nnode {\\n  name: &quot;rnn/while/Merge&quot;\\n  op: &quot;Merge&quot;\\n  input: &quot;rnn/while/Enter&quot;\\n  input: &quot;rnn/while/NextIteration&quot;\\n  attr {\\n    key: &quot;N&quot;\\n    value {\\n      i: 2\\n    }\\n  }\\n  attr {\\n    key: &quot;T&quot;\\n    value {\\n      type: DT_INT32\\n    }\\n  }\\n}\\nnode {\\n  name: &quot;rnn/while/Merge_1&quot;\\n  op: &quot;Merge&quot;\\n  input: &quot;rnn/while/Enter_1&quot;\\n  input: &quot;rnn/while/NextIteration_1&quot;\\n  attr {\\n    key: &quot;N&quot;\\n    value {\\n      i: 2\\n    }\\n  }\\n  attr {\\n    key: &quot;T&quot;\\n    value {\\n      type: DT_FLOAT\\n    }\\n  }\\n}\\nnode {\\n  name: &quot;rnn/while/Merge_2&quot;\\n  op: &quot;Merge&quot;\\n  input: &quot;rnn/while/Enter_2&quot;\\n  input: &quot;rnn/while/NextIteration_2&quot;\\n  attr {\\n    key: &quot;N&quot;\\n    value {\\n      i: 2\\n    }\\n  }\\n  attr {\\n    key: &quot;T&quot;\\n    value {\\n      type: DT_FLOAT\\n    }\\n  }\\n}\\nnode {\\n  name: &quot;rnn/while/Less/Enter&quot;\\n  op: &quot;Enter&quot;\\n  input: &quot;rnn/strided_slice_1&quot;\\n  attr {\\n    key: &quot;T&quot;\\n    value {\\n      type: DT_INT32\\n    }\\n  }\\n  attr {\\n    key: &quot;frame_name&quot;\\n    value {\\n      s: &quot;rnn/while/rnn/while/&quot;\\n    }\\n  }\\n  attr {\\n    key: &quot;is_constant&quot;\\n    value {\\n      b: true\\n    }\\n  }\\n  attr {\\n    key: &quot;parallel_iterations&quot;\\n    value {\\n      i: 32\\n    }\\n  }\\n}\\nnode {\\n  name: &quot;rnn/while/Less&quot;\\n  op: &quot;Less&quot;\\n  input: &quot;rnn/while/Merge&quot;\\n  input: &quot;rnn/while/Less/Enter&quot;\\n  attr {\\n    key: &quot;T&quot;\\n    value {\\n      type: DT_INT32\\n    }\\n  }\\n}\\nnode {\\n  name: &quot;rnn/while/LoopCond&quot;\\n  op: &quot;LoopCond&quot;\\n  input: &quot;rnn/while/Less&quot;\\n}\\nnode {\\n  name: &quot;rnn/while/Switch&quot;\\n  op: &quot;Switch&quot;\\n  input: &quot;rnn/while/Merge&quot;\\n  input: &quot;rnn/while/LoopCond&quot;\\n  attr {\\n    key: &quot;T&quot;\\n    value {\\n      type: DT_INT32\\n    }\\n  }\\n  attr {\\n    key: &quot;_class&quot;\\n    value {\\n      list {\\n        s: &quot;loc:@rnn/while/Merge&quot;\\n      }\\n    }\\n  }\\n}\\nnode {\\n  name: &quot;rnn/while/Switch_1&quot;\\n  op: &quot;Switch&quot;\\n  input: &quot;rnn/while/Merge_1&quot;\\n  input: &quot;rnn/while/LoopCond&quot;\\n  attr {\\n    key: &quot;T&quot;\\n    value {\\n      type: DT_FLOAT\\n    }\\n  }\\n  attr {\\n    key: &quot;_class&quot;\\n    value {\\n      list {\\n        s: &quot;loc:@rnn/while/Merge_1&quot;\\n      }\\n    }\\n  }\\n}\\nnode {\\n  name: &quot;rnn/while/Switch_2&quot;\\n  op: &quot;Switch&quot;\\n  input: &quot;rnn/while/Merge_2&quot;\\n  input: &quot;rnn/while/LoopCond&quot;\\n  attr {\\n    key: &quot;T&quot;\\n    value {\\n      type: DT_FLOAT\\n    }\\n  }\\n  attr {\\n    key: &quot;_class&quot;\\n    value {\\n      list {\\n        s: &quot;loc:@rnn/while/Merge_2&quot;\\n      }\\n    }\\n  }\\n}\\nnode {\\n  name: &quot;rnn/while/Identity&quot;\\n  op: &quot;Identity&quot;\\n  input: &quot;rnn/while/Switch:1&quot;\\n  attr {\\n    key: &quot;T&quot;\\n    value {\\n      type: DT_INT32\\n    }\\n  }\\n}\\nnode {\\n  name: &quot;rnn/while/Identity_1&quot;\\n  op: &quot;Identity&quot;\\n  input: &quot;rnn/while/Switch_1:1&quot;\\n  attr {\\n    key: &quot;T&quot;\\n    value {\\n      type: DT_FLOAT\\n    }\\n  }\\n}\\nnode {\\n  name: &quot;rnn/while/Identity_2&quot;\\n  op: &quot;Identity&quot;\\n  input: &quot;rnn/while/Switch_2:1&quot;\\n  attr {\\n    key: &quot;T&quot;\\n    value {\\n      type: DT_FLOAT\\n    }\\n  }\\n}\\nnode {\\n  name: &quot;rnn/while/TensorArrayReadV3/Enter&quot;\\n  op: &quot;Enter&quot;\\n  input: &quot;rnn/TensorArray_1&quot;\\n  attr {\\n    key: &quot;T&quot;\\n    value {\\n      type: DT_RESOURCE\\n    }\\n  }\\n  attr {\\n    key: &quot;frame_name&quot;\\n    value {\\n      s: &quot;rnn/while/rnn/while/&quot;\\n    }\\n  }\\n  attr {\\n    key: &quot;is_constant&quot;\\n    value {\\n      b: true\\n    }\\n  }\\n  attr {\\n    key: &quot;parallel_iterations&quot;\\n    value {\\n      i: 32\\n    }\\n  }\\n}\\nnode {\\n  name: &quot;rnn/while/TensorArrayReadV3/Enter_1&quot;\\n  op: &quot;Enter&quot;\\n  input: &quot;rnn/TensorArrayUnstack/TensorArrayScatter/TensorArrayScatterV3&quot;\\n  attr {\\n    key: &quot;T&quot;\\n    value {\\n      type: DT_FLOAT\\n    }\\n  }\\n  attr {\\n    key: &quot;frame_name&quot;\\n    value {\\n      s: &quot;rnn/while/rnn/while/&quot;\\n    }\\n  }\\n  attr {\\n    key: &quot;is_constant&quot;\\n    value {\\n      b: true\\n    }\\n  }\\n  attr {\\n    key: &quot;parallel_iterations&quot;\\n    value {\\n      i: 32\\n    }\\n  }\\n}\\nnode {\\n  name: &quot;rnn/while/TensorArrayReadV3&quot;\\n  op: &quot;TensorArrayReadV3&quot;\\n  input: &quot;rnn/while/TensorArrayReadV3/Enter&quot;\\n  input: &quot;rnn/while/Identity&quot;\\n  input: &quot;rnn/while/TensorArrayReadV3/Enter_1&quot;\\n  attr {\\n    key: &quot;dtype&quot;\\n    value {\\n      type: DT_FLOAT\\n    }\\n  }\\n}\\nnode {\\n  name: &quot;rnn/basic_rnn_cell/kernel/Initializer/random_uniform/shape&quot;\\n  op: &quot;Const&quot;\\n  attr {\\n    key: &quot;_class&quot;\\n    value {\\n      list {\\n        s: &quot;loc:@rnn/basic_rnn_cell/kernel&quot;\\n      }\\n    }\\n  }\\n  attr {\\n    key: &quot;dtype&quot;\\n    value {\\n      type: DT_INT32\\n    }\\n  }\\n  attr {\\n    key: &quot;value&quot;\\n    value {\\n      tensor {\\n        dtype: DT_INT32\\n        tensor_shape {\\n          dim {\\n            size: 2\\n          }\\n        }\\n        tensor_content: &quot;\\\\010\\\\000\\\\000\\\\000\\\\005\\\\000\\\\000\\\\000&quot;\\n      }\\n    }\\n  }\\n}\\nnode {\\n  name: &quot;rnn/basic_rnn_cell/kernel/Initializer/random_uniform/min&quot;\\n  op: &quot;Const&quot;\\n  attr {\\n    key: &quot;_class&quot;\\n    value {\\n      list {\\n        s: &quot;loc:@rnn/basic_rnn_cell/kernel&quot;\\n      }\\n    }\\n  }\\n  attr {\\n    key: &quot;dtype&quot;\\n    value {\\n      type: DT_FLOAT\\n    }\\n  }\\n  attr {\\n    key: &quot;value&quot;\\n    value {\\n      tensor {\\n        dtype: DT_FLOAT\\n        tensor_shape {\\n        }\\n        float_val: -0.6793662309646606\\n      }\\n    }\\n  }\\n}\\nnode {\\n  name: &quot;rnn/basic_rnn_cell/kernel/Initializer/random_uniform/max&quot;\\n  op: &quot;Const&quot;\\n  attr {\\n    key: &quot;_class&quot;\\n    value {\\n      list {\\n        s: &quot;loc:@rnn/basic_rnn_cell/kernel&quot;\\n      }\\n    }\\n  }\\n  attr {\\n    key: &quot;dtype&quot;\\n    value {\\n      type: DT_FLOAT\\n    }\\n  }\\n  attr {\\n    key: &quot;value&quot;\\n    value {\\n      tensor {\\n        dtype: DT_FLOAT\\n        tensor_shape {\\n        }\\n        float_val: 0.6793662309646606\\n      }\\n    }\\n  }\\n}\\nnode {\\n  name: &quot;rnn/basic_rnn_cell/kernel/Initializer/random_uniform/RandomUniform&quot;\\n  op: &quot;RandomUniform&quot;\\n  input: &quot;rnn/basic_rnn_cell/kernel/Initializer/random_uniform/shape&quot;\\n  attr {\\n    key: &quot;T&quot;\\n    value {\\n      type: DT_INT32\\n    }\\n  }\\n  attr {\\n    key: &quot;_class&quot;\\n    value {\\n      list {\\n        s: &quot;loc:@rnn/basic_rnn_cell/kernel&quot;\\n      }\\n    }\\n  }\\n  attr {\\n    key: &quot;dtype&quot;\\n    value {\\n      type: DT_FLOAT\\n    }\\n  }\\n  attr {\\n    key: &quot;seed&quot;\\n    value {\\n      i: 42\\n    }\\n  }\\n  attr {\\n    key: &quot;seed2&quot;\\n    value {\\n      i: 74\\n    }\\n  }\\n}\\nnode {\\n  name: &quot;rnn/basic_rnn_cell/kernel/Initializer/random_uniform/sub&quot;\\n  op: &quot;Sub&quot;\\n  input: &quot;rnn/basic_rnn_cell/kernel/Initializer/random_uniform/max&quot;\\n  input: &quot;rnn/basic_rnn_cell/kernel/Initializer/random_uniform/min&quot;\\n  attr {\\n    key: &quot;T&quot;\\n    value {\\n      type: DT_FLOAT\\n    }\\n  }\\n  attr {\\n    key: &quot;_class&quot;\\n    value {\\n      list {\\n        s: &quot;loc:@rnn/basic_rnn_cell/kernel&quot;\\n      }\\n    }\\n  }\\n}\\nnode {\\n  name: &quot;rnn/basic_rnn_cell/kernel/Initializer/random_uniform/mul&quot;\\n  op: &quot;Mul&quot;\\n  input: &quot;rnn/basic_rnn_cell/kernel/Initializer/random_uniform/RandomUniform&quot;\\n  input: &quot;rnn/basic_rnn_cell/kernel/Initializer/random_uniform/sub&quot;\\n  attr {\\n    key: &quot;T&quot;\\n    value {\\n      type: DT_FLOAT\\n    }\\n  }\\n  attr {\\n    key: &quot;_class&quot;\\n    value {\\n      list {\\n        s: &quot;loc:@rnn/basic_rnn_cell/kernel&quot;\\n      }\\n    }\\n  }\\n}\\nnode {\\n  name: &quot;rnn/basic_rnn_cell/kernel/Initializer/random_uniform&quot;\\n  op: &quot;Add&quot;\\n  input: &quot;rnn/basic_rnn_cell/kernel/Initializer/random_uniform/mul&quot;\\n  input: &quot;rnn/basic_rnn_cell/kernel/Initializer/random_uniform/min&quot;\\n  attr {\\n    key: &quot;T&quot;\\n    value {\\n      type: DT_FLOAT\\n    }\\n  }\\n  attr {\\n    key: &quot;_class&quot;\\n    value {\\n      list {\\n        s: &quot;loc:@rnn/basic_rnn_cell/kernel&quot;\\n      }\\n    }\\n  }\\n}\\nnode {\\n  name: &quot;rnn/basic_rnn_cell/kernel&quot;\\n  op: &quot;VariableV2&quot;\\n  attr {\\n    key: &quot;_class&quot;\\n    value {\\n      list {\\n        s: &quot;loc:@rnn/basic_rnn_cell/kernel&quot;\\n      }\\n    }\\n  }\\n  attr {\\n    key: &quot;container&quot;\\n    value {\\n      s: &quot;&quot;\\n    }\\n  }\\n  attr {\\n    key: &quot;dtype&quot;\\n    value {\\n      type: DT_FLOAT\\n    }\\n  }\\n  attr {\\n    key: &quot;shape&quot;\\n    value {\\n      shape {\\n        dim {\\n          size: 8\\n        }\\n        dim {\\n          size: 5\\n        }\\n      }\\n    }\\n  }\\n  attr {\\n    key: &quot;shared_name&quot;\\n    value {\\n      s: &quot;&quot;\\n    }\\n  }\\n}\\nnode {\\n  name: &quot;rnn/basic_rnn_cell/kernel/Assign&quot;\\n  op: &quot;Assign&quot;\\n  input: &quot;rnn/basic_rnn_cell/kernel&quot;\\n  input: &quot;rnn/basic_rnn_cell/kernel/Initializer/random_uniform&quot;\\n  attr {\\n    key: &quot;T&quot;\\n    value {\\n      type: DT_FLOAT\\n    }\\n  }\\n  attr {\\n    key: &quot;_class&quot;\\n    value {\\n      list {\\n        s: &quot;loc:@rnn/basic_rnn_cell/kernel&quot;\\n      }\\n    }\\n  }\\n  attr {\\n    key: &quot;use_locking&quot;\\n    value {\\n      b: true\\n    }\\n  }\\n  attr {\\n    key: &quot;validate_shape&quot;\\n    value {\\n      b: true\\n    }\\n  }\\n}\\nnode {\\n  name: &quot;rnn/basic_rnn_cell/kernel/read&quot;\\n  op: &quot;Identity&quot;\\n  input: &quot;rnn/basic_rnn_cell/kernel&quot;\\n  attr {\\n    key: &quot;T&quot;\\n    value {\\n      type: DT_FLOAT\\n    }\\n  }\\n}\\nnode {\\n  name: &quot;rnn/while/rnn/basic_rnn_cell/basic_rnn_cell/concat/axis&quot;\\n  op: &quot;Const&quot;\\n  input: &quot;^rnn/while/Identity&quot;\\n  attr {\\n    key: &quot;dtype&quot;\\n    value {\\n      type: DT_INT32\\n    }\\n  }\\n  attr {\\n    key: &quot;value&quot;\\n    value {\\n      tensor {\\n        dtype: DT_INT32\\n        tensor_shape {\\n        }\\n        int_val: 1\\n      }\\n    }\\n  }\\n}\\nnode {\\n  name: &quot;rnn/while/rnn/basic_rnn_cell/basic_rnn_cell/concat&quot;\\n  op: &quot;ConcatV2&quot;\\n  input: &quot;rnn/while/TensorArrayReadV3&quot;\\n  input: &quot;rnn/while/Identity_2&quot;\\n  input: &quot;rnn/while/rnn/basic_rnn_cell/basic_rnn_cell/concat/axis&quot;\\n  attr {\\n    key: &quot;N&quot;\\n    value {\\n      i: 2\\n    }\\n  }\\n  attr {\\n    key: &quot;T&quot;\\n    value {\\n      type: DT_FLOAT\\n    }\\n  }\\n  attr {\\n    key: &quot;Tidx&quot;\\n    value {\\n      type: DT_INT32\\n    }\\n  }\\n}\\nnode {\\n  name: &quot;rnn/while/rnn/basic_rnn_cell/basic_rnn_cell/MatMul/Enter&quot;\\n  op: &quot;Enter&quot;\\n  input: &quot;rnn/basic_rnn_cell/kernel/read&quot;\\n  attr {\\n    key: &quot;T&quot;\\n    value {\\n      type: DT_FLOAT\\n    }\\n  }\\n  attr {\\n    key: &quot;frame_name&quot;\\n    value {\\n      s: &quot;rnn/while/rnn/while/&quot;\\n    }\\n  }\\n  attr {\\n    key: &quot;is_constant&quot;\\n    value {\\n      b: true\\n    }\\n  }\\n  attr {\\n    key: &quot;parallel_iterations&quot;\\n    value {\\n      i: 32\\n    }\\n  }\\n}\\nnode {\\n  name: &quot;rnn/while/rnn/basic_rnn_cell/basic_rnn_cell/MatMul&quot;\\n  op: &quot;MatMul&quot;\\n  input: &quot;rnn/while/rnn/basic_rnn_cell/basic_rnn_cell/concat&quot;\\n  input: &quot;rnn/while/rnn/basic_rnn_cell/basic_rnn_cell/MatMul/Enter&quot;\\n  attr {\\n    key: &quot;T&quot;\\n    value {\\n      type: DT_FLOAT\\n    }\\n  }\\n  attr {\\n    key: &quot;transpose_a&quot;\\n    value {\\n      b: false\\n    }\\n  }\\n  attr {\\n    key: &quot;transpose_b&quot;\\n    value {\\n      b: false\\n    }\\n  }\\n}\\nnode {\\n  name: &quot;rnn/basic_rnn_cell/bias/Initializer/Const&quot;\\n  op: &quot;Const&quot;\\n  attr {\\n    key: &quot;_class&quot;\\n    value {\\n      list {\\n        s: &quot;loc:@rnn/basic_rnn_cell/bias&quot;\\n      }\\n    }\\n  }\\n  attr {\\n    key: &quot;dtype&quot;\\n    value {\\n      type: DT_FLOAT\\n    }\\n  }\\n  attr {\\n    key: &quot;value&quot;\\n    value {\\n      tensor {\\n        dtype: DT_FLOAT\\n        tensor_shape {\\n          dim {\\n            size: 5\\n          }\\n        }\\n        float_val: 0.0\\n      }\\n    }\\n  }\\n}\\nnode {\\n  name: &quot;rnn/basic_rnn_cell/bias&quot;\\n  op: &quot;VariableV2&quot;\\n  attr {\\n    key: &quot;_class&quot;\\n    value {\\n      list {\\n        s: &quot;loc:@rnn/basic_rnn_cell/bias&quot;\\n      }\\n    }\\n  }\\n  attr {\\n    key: &quot;container&quot;\\n    value {\\n      s: &quot;&quot;\\n    }\\n  }\\n  attr {\\n    key: &quot;dtype&quot;\\n    value {\\n      type: DT_FLOAT\\n    }\\n  }\\n  attr {\\n    key: &quot;shape&quot;\\n    value {\\n      shape {\\n        dim {\\n          size: 5\\n        }\\n      }\\n    }\\n  }\\n  attr {\\n    key: &quot;shared_name&quot;\\n    value {\\n      s: &quot;&quot;\\n    }\\n  }\\n}\\nnode {\\n  name: &quot;rnn/basic_rnn_cell/bias/Assign&quot;\\n  op: &quot;Assign&quot;\\n  input: &quot;rnn/basic_rnn_cell/bias&quot;\\n  input: &quot;rnn/basic_rnn_cell/bias/Initializer/Const&quot;\\n  attr {\\n    key: &quot;T&quot;\\n    value {\\n      type: DT_FLOAT\\n    }\\n  }\\n  attr {\\n    key: &quot;_class&quot;\\n    value {\\n      list {\\n        s: &quot;loc:@rnn/basic_rnn_cell/bias&quot;\\n      }\\n    }\\n  }\\n  attr {\\n    key: &quot;use_locking&quot;\\n    value {\\n      b: true\\n    }\\n  }\\n  attr {\\n    key: &quot;validate_shape&quot;\\n    value {\\n      b: true\\n    }\\n  }\\n}\\nnode {\\n  name: &quot;rnn/basic_rnn_cell/bias/read&quot;\\n  op: &quot;Identity&quot;\\n  input: &quot;rnn/basic_rnn_cell/bias&quot;\\n  attr {\\n    key: &quot;T&quot;\\n    value {\\n      type: DT_FLOAT\\n    }\\n  }\\n}\\nnode {\\n  name: &quot;rnn/while/rnn/basic_rnn_cell/basic_rnn_cell/BiasAdd/Enter&quot;\\n  op: &quot;Enter&quot;\\n  input: &quot;rnn/basic_rnn_cell/bias/read&quot;\\n  attr {\\n    key: &quot;T&quot;\\n    value {\\n      type: DT_FLOAT\\n    }\\n  }\\n  attr {\\n    key: &quot;frame_name&quot;\\n    value {\\n      s: &quot;rnn/while/rnn/while/&quot;\\n    }\\n  }\\n  attr {\\n    key: &quot;is_constant&quot;\\n    value {\\n      b: true\\n    }\\n  }\\n  attr {\\n    key: &quot;parallel_iterations&quot;\\n    value {\\n      i: 32\\n    }\\n  }\\n}\\nnode {\\n  name: &quot;rnn/while/rnn/basic_rnn_cell/basic_rnn_cell/BiasAdd&quot;\\n  op: &quot;BiasAdd&quot;\\n  input: &quot;rnn/while/rnn/basic_rnn_cell/basic_rnn_cell/MatMul&quot;\\n  input: &quot;rnn/while/rnn/basic_rnn_cell/basic_rnn_cell/BiasAdd/Enter&quot;\\n  attr {\\n    key: &quot;T&quot;\\n    value {\\n      type: DT_FLOAT\\n    }\\n  }\\n  attr {\\n    key: &quot;data_format&quot;\\n    value {\\n      s: &quot;NHWC&quot;\\n    }\\n  }\\n}\\nnode {\\n  name: &quot;rnn/while/rnn/basic_rnn_cell/Tanh&quot;\\n  op: &quot;Tanh&quot;\\n  input: &quot;rnn/while/rnn/basic_rnn_cell/basic_rnn_cell/BiasAdd&quot;\\n  attr {\\n    key: &quot;T&quot;\\n    value {\\n      type: DT_FLOAT\\n    }\\n  }\\n}\\nnode {\\n  name: &quot;rnn/while/TensorArrayWrite/TensorArrayWriteV3/Enter&quot;\\n  op: &quot;Enter&quot;\\n  input: &quot;rnn/TensorArray&quot;\\n  attr {\\n    key: &quot;T&quot;\\n    value {\\n      type: DT_RESOURCE\\n    }\\n  }\\n  attr {\\n    key: &quot;_class&quot;\\n    value {\\n      list {\\n        s: &quot;loc:@rnn/while/rnn/basic_rnn_cell/Tanh&quot;\\n      }\\n    }\\n  }\\n  attr {\\n    key: &quot;frame_name&quot;\\n    value {\\n      s: &quot;rnn/while/rnn/while/&quot;\\n    }\\n  }\\n  attr {\\n    key: &quot;is_constant&quot;\\n    value {\\n      b: true\\n    }\\n  }\\n  attr {\\n    key: &quot;parallel_iterations&quot;\\n    value {\\n      i: 32\\n    }\\n  }\\n}\\nnode {\\n  name: &quot;rnn/while/TensorArrayWrite/TensorArrayWriteV3&quot;\\n  op: &quot;TensorArrayWriteV3&quot;\\n  input: &quot;rnn/while/TensorArrayWrite/TensorArrayWriteV3/Enter&quot;\\n  input: &quot;rnn/while/Identity&quot;\\n  input: &quot;rnn/while/rnn/basic_rnn_cell/Tanh&quot;\\n  input: &quot;rnn/while/Identity_1&quot;\\n  attr {\\n    key: &quot;T&quot;\\n    value {\\n      type: DT_FLOAT\\n    }\\n  }\\n  attr {\\n    key: &quot;_class&quot;\\n    value {\\n      list {\\n        s: &quot;loc:@rnn/while/rnn/basic_rnn_cell/Tanh&quot;\\n      }\\n    }\\n  }\\n}\\nnode {\\n  name: &quot;rnn/while/add/y&quot;\\n  op: &quot;Const&quot;\\n  input: &quot;^rnn/while/Identity&quot;\\n  attr {\\n    key: &quot;dtype&quot;\\n    value {\\n      type: DT_INT32\\n    }\\n  }\\n  attr {\\n    key: &quot;value&quot;\\n    value {\\n      tensor {\\n        dtype: DT_INT32\\n        tensor_shape {\\n        }\\n        int_val: 1\\n      }\\n    }\\n  }\\n}\\nnode {\\n  name: &quot;rnn/while/add&quot;\\n  op: &quot;Add&quot;\\n  input: &quot;rnn/while/Identity&quot;\\n  input: &quot;rnn/while/add/y&quot;\\n  attr {\\n    key: &quot;T&quot;\\n    value {\\n      type: DT_INT32\\n    }\\n  }\\n}\\nnode {\\n  name: &quot;rnn/while/NextIteration&quot;\\n  op: &quot;NextIteration&quot;\\n  input: &quot;rnn/while/add&quot;\\n  attr {\\n    key: &quot;T&quot;\\n    value {\\n      type: DT_INT32\\n    }\\n  }\\n}\\nnode {\\n  name: &quot;rnn/while/NextIteration_1&quot;\\n  op: &quot;NextIteration&quot;\\n  input: &quot;rnn/while/TensorArrayWrite/TensorArrayWriteV3&quot;\\n  attr {\\n    key: &quot;T&quot;\\n    value {\\n      type: DT_FLOAT\\n    }\\n  }\\n}\\nnode {\\n  name: &quot;rnn/while/NextIteration_2&quot;\\n  op: &quot;NextIteration&quot;\\n  input: &quot;rnn/while/rnn/basic_rnn_cell/Tanh&quot;\\n  attr {\\n    key: &quot;T&quot;\\n    value {\\n      type: DT_FLOAT\\n    }\\n  }\\n}\\nnode {\\n  name: &quot;rnn/while/Exit&quot;\\n  op: &quot;Exit&quot;\\n  input: &quot;rnn/while/Switch&quot;\\n  attr {\\n    key: &quot;T&quot;\\n    value {\\n      type: DT_INT32\\n    }\\n  }\\n}\\nnode {\\n  name: &quot;rnn/while/Exit_1&quot;\\n  op: &quot;Exit&quot;\\n  input: &quot;rnn/while/Switch_1&quot;\\n  attr {\\n    key: &quot;T&quot;\\n    value {\\n      type: DT_FLOAT\\n    }\\n  }\\n}\\nnode {\\n  name: &quot;rnn/while/Exit_2&quot;\\n  op: &quot;Exit&quot;\\n  input: &quot;rnn/while/Switch_2&quot;\\n  attr {\\n    key: &quot;T&quot;\\n    value {\\n      type: DT_FLOAT\\n    }\\n  }\\n}\\nnode {\\n  name: &quot;rnn/TensorArrayStack/TensorArraySizeV3&quot;\\n  op: &quot;TensorArraySizeV3&quot;\\n  input: &quot;rnn/TensorArray&quot;\\n  input: &quot;rnn/while/Exit_1&quot;\\n  attr {\\n    key: &quot;_class&quot;\\n    value {\\n      list {\\n        s: &quot;loc:@rnn/TensorArray&quot;\\n      }\\n    }\\n  }\\n}\\nnode {\\n  name: &quot;rnn/TensorArrayStack/range/start&quot;\\n  op: &quot;Const&quot;\\n  attr {\\n    key: &quot;_class&quot;\\n    value {\\n      list {\\n        s: &quot;loc:@rnn/TensorArray&quot;\\n      }\\n    }\\n  }\\n  attr {\\n    key: &quot;dtype&quot;\\n    value {\\n      type: DT_INT32\\n    }\\n  }\\n  attr {\\n    key: &quot;value&quot;\\n    value {\\n      tensor {\\n        dtype: DT_INT32\\n        tensor_shape {\\n        }\\n        int_val: 0\\n      }\\n    }\\n  }\\n}\\nnode {\\n  name: &quot;rnn/TensorArrayStack/range/delta&quot;\\n  op: &quot;Const&quot;\\n  attr {\\n    key: &quot;_class&quot;\\n    value {\\n      list {\\n        s: &quot;loc:@rnn/TensorArray&quot;\\n      }\\n    }\\n  }\\n  attr {\\n    key: &quot;dtype&quot;\\n    value {\\n      type: DT_INT32\\n    }\\n  }\\n  attr {\\n    key: &quot;value&quot;\\n    value {\\n      tensor {\\n        dtype: DT_INT32\\n        tensor_shape {\\n        }\\n        int_val: 1\\n      }\\n    }\\n  }\\n}\\nnode {\\n  name: &quot;rnn/TensorArrayStack/range&quot;\\n  op: &quot;Range&quot;\\n  input: &quot;rnn/TensorArrayStack/range/start&quot;\\n  input: &quot;rnn/TensorArrayStack/TensorArraySizeV3&quot;\\n  input: &quot;rnn/TensorArrayStack/range/delta&quot;\\n  attr {\\n    key: &quot;Tidx&quot;\\n    value {\\n      type: DT_INT32\\n    }\\n  }\\n  attr {\\n    key: &quot;_class&quot;\\n    value {\\n      list {\\n        s: &quot;loc:@rnn/TensorArray&quot;\\n      }\\n    }\\n  }\\n}\\nnode {\\n  name: &quot;rnn/TensorArrayStack/TensorArrayGatherV3&quot;\\n  op: &quot;TensorArrayGatherV3&quot;\\n  input: &quot;rnn/TensorArray&quot;\\n  input: &quot;rnn/TensorArrayStack/range&quot;\\n  input: &quot;rnn/while/Exit_1&quot;\\n  attr {\\n    key: &quot;_class&quot;\\n    value {\\n      list {\\n        s: &quot;loc:@rnn/TensorArray&quot;\\n      }\\n    }\\n  }\\n  attr {\\n    key: &quot;dtype&quot;\\n    value {\\n      type: DT_FLOAT\\n    }\\n  }\\n  attr {\\n    key: &quot;element_shape&quot;\\n    value {\\n      shape {\\n        dim {\\n          size: -1\\n        }\\n        dim {\\n          size: 5\\n        }\\n      }\\n    }\\n  }\\n}\\nnode {\\n  name: &quot;rnn/Const_1&quot;\\n  op: &quot;Const&quot;\\n  attr {\\n    key: &quot;dtype&quot;\\n    value {\\n      type: DT_INT32\\n    }\\n  }\\n  attr {\\n    key: &quot;value&quot;\\n    value {\\n      tensor {\\n        dtype: DT_INT32\\n        tensor_shape {\\n          dim {\\n            size: 1\\n          }\\n        }\\n        int_val: 5\\n      }\\n    }\\n  }\\n}\\nnode {\\n  name: &quot;rnn/Rank&quot;\\n  op: &quot;Const&quot;\\n  attr {\\n    key: &quot;dtype&quot;\\n    value {\\n      type: DT_INT32\\n    }\\n  }\\n  attr {\\n    key: &quot;value&quot;\\n    value {\\n      tensor {\\n        dtype: DT_INT32\\n        tensor_shape {\\n        }\\n        int_val: 3\\n      }\\n    }\\n  }\\n}\\nnode {\\n  name: &quot;rnn/range/start&quot;\\n  op: &quot;Const&quot;\\n  attr {\\n    key: &quot;dtype&quot;\\n    value {\\n      type: DT_INT32\\n    }\\n  }\\n  attr {\\n    key: &quot;value&quot;\\n    value {\\n      tensor {\\n        dtype: DT_INT32\\n        tensor_shape {\\n        }\\n        int_val: 2\\n      }\\n    }\\n  }\\n}\\nnode {\\n  name: &quot;rnn/range/delta&quot;\\n  op: &quot;Const&quot;\\n  attr {\\n    key: &quot;dtype&quot;\\n    value {\\n      type: DT_INT32\\n    }\\n  }\\n  attr {\\n    key: &quot;value&quot;\\n    value {\\n      tensor {\\n        dtype: DT_INT32\\n        tensor_shape {\\n        }\\n        int_val: 1\\n      }\\n    }\\n  }\\n}\\nnode {\\n  name: &quot;rnn/range&quot;\\n  op: &quot;Range&quot;\\n  input: &quot;rnn/range/start&quot;\\n  input: &quot;rnn/Rank&quot;\\n  input: &quot;rnn/range/delta&quot;\\n  attr {\\n    key: &quot;Tidx&quot;\\n    value {\\n      type: DT_INT32\\n    }\\n  }\\n}\\nnode {\\n  name: &quot;rnn/concat_1/values_0&quot;\\n  op: &quot;Const&quot;\\n  attr {\\n    key: &quot;dtype&quot;\\n    value {\\n      type: DT_INT32\\n    }\\n  }\\n  attr {\\n    key: &quot;value&quot;\\n    value {\\n      tensor {\\n        dtype: DT_INT32\\n        tensor_shape {\\n          dim {\\n            size: 2\\n          }\\n        }\\n        tensor_content: &quot;\\\\001\\\\000\\\\000\\\\000\\\\000\\\\000\\\\000\\\\000&quot;\\n      }\\n    }\\n  }\\n}\\nnode {\\n  name: &quot;rnn/concat_1/axis&quot;\\n  op: &quot;Const&quot;\\n  attr {\\n    key: &quot;dtype&quot;\\n    value {\\n      type: DT_INT32\\n    }\\n  }\\n  attr {\\n    key: &quot;value&quot;\\n    value {\\n      tensor {\\n        dtype: DT_INT32\\n        tensor_shape {\\n        }\\n        int_val: 0\\n      }\\n    }\\n  }\\n}\\nnode {\\n  name: &quot;rnn/concat_1&quot;\\n  op: &quot;ConcatV2&quot;\\n  input: &quot;rnn/concat_1/values_0&quot;\\n  input: &quot;rnn/range&quot;\\n  input: &quot;rnn/concat_1/axis&quot;\\n  attr {\\n    key: &quot;N&quot;\\n    value {\\n      i: 2\\n    }\\n  }\\n  attr {\\n    key: &quot;T&quot;\\n    value {\\n      type: DT_INT32\\n    }\\n  }\\n  attr {\\n    key: &quot;Tidx&quot;\\n    value {\\n      type: DT_INT32\\n    }\\n  }\\n}\\nnode {\\n  name: &quot;rnn/transpose&quot;\\n  op: &quot;Transpose&quot;\\n  input: &quot;rnn/TensorArrayStack/TensorArrayGatherV3&quot;\\n  input: &quot;rnn/concat_1&quot;\\n  attr {\\n    key: &quot;T&quot;\\n    value {\\n      type: DT_FLOAT\\n    }\\n  }\\n  attr {\\n    key: &quot;Tperm&quot;\\n    value {\\n      type: DT_INT32\\n    }\\n  }\\n}\\nnode {\\n  name: &quot;init&quot;\\n  op: &quot;NoOp&quot;\\n  input: &quot;^rnn/basic_rnn_cell/kernel/Assign&quot;\\n  input: &quot;^rnn/basic_rnn_cell/bias/Assign&quot;\\n}\\n';\n",
       "          }\n",
       "        </script>\n",
       "        <link rel=&quot;import&quot; href=&quot;https://tensorboard.appspot.com/tf-graph-basic.build.html&quot; onload=load()>\n",
       "        <div style=&quot;height:600px&quot;>\n",
       "          <tf-graph-basic id=&quot;graph0.3745401188473625&quot;></tf-graph-basic>\n",
       "        </div>\n",
       "    \"></iframe>\n",
       "    "
      ],
      "text/plain": [
       "<IPython.core.display.HTML object>"
      ]
     },
     "metadata": {},
     "output_type": "display_data"
    }
   ],
   "source": [
    "show_graph(tf.get_default_graph())"
   ]
  },
  {
   "cell_type": "markdown",
   "metadata": {},
   "source": [
    "## Setting the sequence lengths"
   ]
  },
  {
   "cell_type": "code",
   "execution_count": 27,
   "metadata": {
    "collapsed": true
   },
   "outputs": [],
   "source": [
    "n_steps = 2\n",
    "n_inputs = 3\n",
    "n_neurons = 5\n",
    "\n",
    "reset_graph()\n",
    "\n",
    "X = tf.placeholder(tf.float32, [None, n_steps, n_inputs])\n",
    "basic_cell = tf.contrib.rnn.BasicRNNCell(num_units=n_neurons)"
   ]
  },
  {
   "cell_type": "code",
   "execution_count": 28,
   "metadata": {
    "collapsed": true
   },
   "outputs": [],
   "source": [
    "seq_length = tf.placeholder(tf.int32, [None])\n",
    "outputs, states = tf.nn.dynamic_rnn(basic_cell, X, dtype=tf.float32,\n",
    "                                    sequence_length=seq_length)"
   ]
  },
  {
   "cell_type": "code",
   "execution_count": 29,
   "metadata": {
    "collapsed": true
   },
   "outputs": [],
   "source": [
    "init = tf.global_variables_initializer()"
   ]
  },
  {
   "cell_type": "code",
   "execution_count": 30,
   "metadata": {
    "collapsed": true
   },
   "outputs": [],
   "source": [
    "X_batch = np.array([\n",
    "        # step 0     step 1\n",
    "        [[0, 1, 2], [9, 8, 7]], # instance 1\n",
    "        [[3, 4, 5], [0, 0, 0]], # instance 2 (padded with zero vectors)\n",
    "        [[6, 7, 8], [6, 5, 4]], # instance 3\n",
    "        [[9, 0, 1], [3, 2, 1]], # instance 4\n",
    "    ])\n",
    "seq_length_batch = np.array([2, 1, 2, 2])"
   ]
  },
  {
   "cell_type": "code",
   "execution_count": 31,
   "metadata": {
    "collapsed": true
   },
   "outputs": [],
   "source": [
    "with tf.Session() as sess:\n",
    "    init.run()\n",
    "    outputs_val, states_val = sess.run(\n",
    "        [outputs, states], feed_dict={X: X_batch, seq_length: seq_length_batch})"
   ]
  },
  {
   "cell_type": "code",
   "execution_count": 32,
   "metadata": {
    "collapsed": false
   },
   "outputs": [
    {
     "name": "stdout",
     "output_type": "stream",
     "text": [
      "[[[ 0.73155707  0.34835717  0.50581998 -0.22882833 -0.44022718]\n",
      "  [-0.61832315  0.99999994  0.86584806  0.97933769  0.9902246 ]]\n",
      "\n",
      " [[ 0.8438704   0.99697548  0.84789461  0.4303219   0.09275495]\n",
      "  [ 0.          0.          0.          0.          0.        ]]\n",
      "\n",
      " [[ 0.91159219  0.99999052  0.95954454  0.81892216  0.57740247]\n",
      "  [-0.77545464  0.99987745  0.97847283  0.73172009  0.888776  ]]\n",
      "\n",
      " [[-0.99952269  0.99977839  0.59744656  0.99309695  0.99847412]\n",
      "  [-0.62120003  0.54000849  0.96938425  0.19893228  0.1944804 ]]]\n"
     ]
    }
   ],
   "source": [
    "print(outputs_val)"
   ]
  },
  {
   "cell_type": "code",
   "execution_count": 33,
   "metadata": {
    "collapsed": false
   },
   "outputs": [
    {
     "name": "stdout",
     "output_type": "stream",
     "text": [
      "[[-0.61832315  0.99999994  0.86584806  0.97933769  0.9902246 ]\n",
      " [ 0.8438704   0.99697548  0.84789461  0.4303219   0.09275495]\n",
      " [-0.77545464  0.99987745  0.97847283  0.73172009  0.888776  ]\n",
      " [-0.62120003  0.54000849  0.96938425  0.19893228  0.1944804 ]]\n"
     ]
    }
   ],
   "source": [
    "print(states_val)"
   ]
  },
  {
   "cell_type": "markdown",
   "metadata": {},
   "source": [
    "## Training a sequence classifier"
   ]
  },
  {
   "cell_type": "markdown",
   "metadata": {},
   "source": [
    "Note: the book uses `tensorflow.contrib.layers.fully_connected()` rather than `tf.layers.dense()` (which did not exist when this chapter was written). It is now preferable to use `tf.layers.dense()`, because anything in the contrib module may change or be deleted without notice. The `dense()` function is almost identical to the `fully_connected()` function. The main differences relevant to this chapter are:\n",
    "* several parameters are renamed: `scope` becomes `name`, `activation_fn` becomes `activation` (and similarly the `_fn` suffix is removed from other parameters such as `normalizer_fn`), `weights_initializer` becomes `kernel_initializer`, etc.\n",
    "* the default `activation` is now `None` rather than `tf.nn.relu`."
   ]
  },
  {
   "cell_type": "code",
   "execution_count": 34,
   "metadata": {
    "collapsed": true
   },
   "outputs": [],
   "source": [
    "reset_graph()\n",
    "\n",
    "n_steps = 28\n",
    "n_inputs = 28\n",
    "n_neurons = 150\n",
    "n_outputs = 10\n",
    "\n",
    "learning_rate = 0.001\n",
    "\n",
    "X = tf.placeholder(tf.float32, [None, n_steps, n_inputs])\n",
    "y = tf.placeholder(tf.int32, [None])\n",
    "\n",
    "basic_cell = tf.contrib.rnn.BasicRNNCell(num_units=n_neurons)\n",
    "outputs, states = tf.nn.dynamic_rnn(basic_cell, X, dtype=tf.float32)\n",
    "\n",
    "logits = tf.layers.dense(states, n_outputs)\n",
    "xentropy = tf.nn.sparse_softmax_cross_entropy_with_logits(labels=y,\n",
    "                                                          logits=logits)\n",
    "loss = tf.reduce_mean(xentropy)\n",
    "optimizer = tf.train.AdamOptimizer(learning_rate=learning_rate)\n",
    "training_op = optimizer.minimize(loss)\n",
    "correct = tf.nn.in_top_k(logits, y, 1)\n",
    "accuracy = tf.reduce_mean(tf.cast(correct, tf.float32))\n",
    "\n",
    "init = tf.global_variables_initializer()"
   ]
  },
  {
   "cell_type": "code",
   "execution_count": 35,
   "metadata": {
    "collapsed": false
   },
   "outputs": [
    {
     "name": "stdout",
     "output_type": "stream",
     "text": [
      "Extracting /tmp/data/train-images-idx3-ubyte.gz\n",
      "Extracting /tmp/data/train-labels-idx1-ubyte.gz\n",
      "Extracting /tmp/data/t10k-images-idx3-ubyte.gz\n",
      "Extracting /tmp/data/t10k-labels-idx1-ubyte.gz\n"
     ]
    }
   ],
   "source": [
    "from tensorflow.examples.tutorials.mnist import input_data\n",
    "mnist = input_data.read_data_sets(\"/tmp/data/\")\n",
    "X_test = mnist.test.images.reshape((-1, n_steps, n_inputs))\n",
    "y_test = mnist.test.labels"
   ]
  },
  {
   "cell_type": "code",
   "execution_count": 36,
   "metadata": {
    "collapsed": false
   },
   "outputs": [
    {
     "name": "stdout",
     "output_type": "stream",
     "text": [
      "0 Train accuracy: 0.946667 Test accuracy: 0.9366\n",
      "1 Train accuracy: 0.966667 Test accuracy: 0.9488\n",
      "2 Train accuracy: 0.96 Test accuracy: 0.9614\n",
      "3 Train accuracy: 0.966667 Test accuracy: 0.9572\n",
      "4 Train accuracy: 0.946667 Test accuracy: 0.9624\n",
      "5 Train accuracy: 0.96 Test accuracy: 0.9634\n",
      "6 Train accuracy: 0.973333 Test accuracy: 0.9714\n",
      "7 Train accuracy: 0.98 Test accuracy: 0.9686\n",
      "8 Train accuracy: 0.953333 Test accuracy: 0.9647\n",
      "9 Train accuracy: 0.973333 Test accuracy: 0.9706\n",
      "10 Train accuracy: 0.973333 Test accuracy: 0.9697\n",
      "11 Train accuracy: 0.966667 Test accuracy: 0.9692\n",
      "12 Train accuracy: 0.986667 Test accuracy: 0.9751\n",
      "13 Train accuracy: 0.993333 Test accuracy: 0.9738\n",
      "14 Train accuracy: 0.986667 Test accuracy: 0.9721\n",
      "15 Train accuracy: 0.98 Test accuracy: 0.9752\n",
      "16 Train accuracy: 0.993333 Test accuracy: 0.9779\n",
      "17 Train accuracy: 0.98 Test accuracy: 0.976\n",
      "18 Train accuracy: 0.986667 Test accuracy: 0.976\n",
      "19 Train accuracy: 0.98 Test accuracy: 0.9709\n",
      "20 Train accuracy: 0.986667 Test accuracy: 0.9758\n",
      "21 Train accuracy: 0.98 Test accuracy: 0.9751\n",
      "22 Train accuracy: 0.986667 Test accuracy: 0.9748\n",
      "23 Train accuracy: 0.98 Test accuracy: 0.9767\n",
      "24 Train accuracy: 0.98 Test accuracy: 0.9696\n",
      "25 Train accuracy: 1.0 Test accuracy: 0.9779\n",
      "26 Train accuracy: 0.98 Test accuracy: 0.979\n",
      "27 Train accuracy: 0.98 Test accuracy: 0.9783\n",
      "28 Train accuracy: 0.966667 Test accuracy: 0.9793\n",
      "29 Train accuracy: 0.986667 Test accuracy: 0.9756\n",
      "30 Train accuracy: 0.98 Test accuracy: 0.9765\n",
      "31 Train accuracy: 0.986667 Test accuracy: 0.9784\n",
      "32 Train accuracy: 0.986667 Test accuracy: 0.9753\n",
      "33 Train accuracy: 0.98 Test accuracy: 0.9769\n",
      "34 Train accuracy: 0.993333 Test accuracy: 0.9785\n",
      "35 Train accuracy: 1.0 Test accuracy: 0.9787\n",
      "36 Train accuracy: 1.0 Test accuracy: 0.971\n",
      "37 Train accuracy: 0.993333 Test accuracy: 0.9782\n",
      "38 Train accuracy: 0.993333 Test accuracy: 0.9755\n",
      "39 Train accuracy: 0.986667 Test accuracy: 0.9732\n",
      "40 Train accuracy: 0.986667 Test accuracy: 0.9695\n",
      "41 Train accuracy: 0.986667 Test accuracy: 0.9812\n",
      "42 Train accuracy: 0.993333 Test accuracy: 0.9785\n",
      "43 Train accuracy: 0.993333 Test accuracy: 0.9768\n",
      "44 Train accuracy: 0.98 Test accuracy: 0.979\n",
      "45 Train accuracy: 0.986667 Test accuracy: 0.981\n",
      "46 Train accuracy: 0.993333 Test accuracy: 0.9792\n",
      "47 Train accuracy: 1.0 Test accuracy: 0.9812\n",
      "48 Train accuracy: 0.993333 Test accuracy: 0.9775\n",
      "49 Train accuracy: 1.0 Test accuracy: 0.9747\n",
      "50 Train accuracy: 1.0 Test accuracy: 0.9815\n",
      "51 Train accuracy: 0.986667 Test accuracy: 0.9805\n",
      "52 Train accuracy: 0.986667 Test accuracy: 0.9798\n",
      "53 Train accuracy: 0.986667 Test accuracy: 0.9791\n",
      "54 Train accuracy: 1.0 Test accuracy: 0.9771\n",
      "55 Train accuracy: 0.986667 Test accuracy: 0.98\n",
      "56 Train accuracy: 0.993333 Test accuracy: 0.978\n",
      "57 Train accuracy: 0.986667 Test accuracy: 0.9794\n",
      "58 Train accuracy: 0.993333 Test accuracy: 0.9784\n",
      "59 Train accuracy: 0.993333 Test accuracy: 0.9826\n",
      "60 Train accuracy: 0.986667 Test accuracy: 0.9746\n",
      "61 Train accuracy: 1.0 Test accuracy: 0.978\n",
      "62 Train accuracy: 1.0 Test accuracy: 0.9757\n",
      "63 Train accuracy: 1.0 Test accuracy: 0.9792\n",
      "64 Train accuracy: 0.986667 Test accuracy: 0.9758\n",
      "65 Train accuracy: 1.0 Test accuracy: 0.9823\n",
      "66 Train accuracy: 0.986667 Test accuracy: 0.9752\n",
      "67 Train accuracy: 0.986667 Test accuracy: 0.9794\n",
      "68 Train accuracy: 0.993333 Test accuracy: 0.9798\n",
      "69 Train accuracy: 0.993333 Test accuracy: 0.9762\n",
      "70 Train accuracy: 0.993333 Test accuracy: 0.9799\n",
      "71 Train accuracy: 1.0 Test accuracy: 0.9804\n",
      "72 Train accuracy: 1.0 Test accuracy: 0.9777\n",
      "73 Train accuracy: 0.993333 Test accuracy: 0.9771\n",
      "74 Train accuracy: 0.986667 Test accuracy: 0.9764\n",
      "75 Train accuracy: 0.993333 Test accuracy: 0.9749\n",
      "76 Train accuracy: 0.993333 Test accuracy: 0.9804\n",
      "77 Train accuracy: 0.993333 Test accuracy: 0.9776\n",
      "78 Train accuracy: 0.986667 Test accuracy: 0.9749\n",
      "79 Train accuracy: 0.993333 Test accuracy: 0.976\n",
      "80 Train accuracy: 0.986667 Test accuracy: 0.9754\n",
      "81 Train accuracy: 0.98 Test accuracy: 0.9783\n",
      "82 Train accuracy: 1.0 Test accuracy: 0.9787\n",
      "83 Train accuracy: 0.993333 Test accuracy: 0.9793\n",
      "84 Train accuracy: 0.986667 Test accuracy: 0.9739\n",
      "85 Train accuracy: 1.0 Test accuracy: 0.9776\n",
      "86 Train accuracy: 0.986667 Test accuracy: 0.9761\n",
      "87 Train accuracy: 0.98 Test accuracy: 0.9781\n",
      "88 Train accuracy: 0.98 Test accuracy: 0.9549\n",
      "89 Train accuracy: 0.98 Test accuracy: 0.9767\n",
      "90 Train accuracy: 1.0 Test accuracy: 0.9809\n",
      "91 Train accuracy: 0.98 Test accuracy: 0.9809\n",
      "92 Train accuracy: 0.986667 Test accuracy: 0.9754\n",
      "93 Train accuracy: 0.993333 Test accuracy: 0.979\n",
      "94 Train accuracy: 1.0 Test accuracy: 0.9777\n",
      "95 Train accuracy: 1.0 Test accuracy: 0.9771\n",
      "96 Train accuracy: 1.0 Test accuracy: 0.9814\n",
      "97 Train accuracy: 0.993333 Test accuracy: 0.9673\n",
      "98 Train accuracy: 0.993333 Test accuracy: 0.9788\n",
      "99 Train accuracy: 1.0 Test accuracy: 0.9792\n"
     ]
    }
   ],
   "source": [
    "n_epochs = 100\n",
    "batch_size = 150\n",
    "\n",
    "with tf.Session() as sess:\n",
    "    init.run()\n",
    "    for epoch in range(n_epochs):\n",
    "        for iteration in range(mnist.train.num_examples // batch_size):\n",
    "            X_batch, y_batch = mnist.train.next_batch(batch_size)\n",
    "            X_batch = X_batch.reshape((-1, n_steps, n_inputs))\n",
    "            sess.run(training_op, feed_dict={X: X_batch, y: y_batch})\n",
    "        acc_train = accuracy.eval(feed_dict={X: X_batch, y: y_batch})\n",
    "        acc_test = accuracy.eval(feed_dict={X: X_test, y: y_test})\n",
    "        print(epoch, \"Train accuracy:\", acc_train, \"Test accuracy:\", acc_test)"
   ]
  },
  {
   "cell_type": "markdown",
   "metadata": {},
   "source": [
    "# Multi-layer RNN"
   ]
  },
  {
   "cell_type": "code",
   "execution_count": 37,
   "metadata": {
    "collapsed": true
   },
   "outputs": [],
   "source": [
    "reset_graph()\n",
    "\n",
    "n_steps = 28\n",
    "n_inputs = 28\n",
    "n_outputs = 10\n",
    "\n",
    "learning_rate = 0.001\n",
    "\n",
    "X = tf.placeholder(tf.float32, [None, n_steps, n_inputs])\n",
    "y = tf.placeholder(tf.int32, [None])"
   ]
  },
  {
   "cell_type": "code",
   "execution_count": 38,
   "metadata": {
    "collapsed": true
   },
   "outputs": [],
   "source": [
    "n_neurons = 100\n",
    "n_layers = 3\n",
    "\n",
    "layers = [tf.contrib.rnn.BasicRNNCell(num_units=n_neurons,\n",
    "                                      activation=tf.nn.relu)\n",
    "          for layer in range(n_layers)]\n",
    "multi_layer_cell = tf.contrib.rnn.MultiRNNCell(layers)\n",
    "outputs, states = tf.nn.dynamic_rnn(multi_layer_cell, X, dtype=tf.float32)"
   ]
  },
  {
   "cell_type": "code",
   "execution_count": 39,
   "metadata": {
    "collapsed": true
   },
   "outputs": [],
   "source": [
    "states_concat = tf.concat(axis=1, values=states)\n",
    "logits = tf.layers.dense(states_concat, n_outputs)\n",
    "xentropy = tf.nn.sparse_softmax_cross_entropy_with_logits(labels=y, logits=logits)\n",
    "loss = tf.reduce_mean(xentropy)\n",
    "optimizer = tf.train.AdamOptimizer(learning_rate=learning_rate)\n",
    "training_op = optimizer.minimize(loss)\n",
    "correct = tf.nn.in_top_k(logits, y, 1)\n",
    "accuracy = tf.reduce_mean(tf.cast(correct, tf.float32))\n",
    "\n",
    "init = tf.global_variables_initializer()"
   ]
  },
  {
   "cell_type": "code",
   "execution_count": 40,
   "metadata": {
    "collapsed": false
   },
   "outputs": [
    {
     "name": "stdout",
     "output_type": "stream",
     "text": [
      "0 Train accuracy: 0.946667 Test accuracy: 0.9495\n",
      "1 Train accuracy: 0.973333 Test accuracy: 0.9625\n",
      "2 Train accuracy: 0.953333 Test accuracy: 0.9648\n",
      "3 Train accuracy: 0.986667 Test accuracy: 0.9761\n",
      "4 Train accuracy: 0.993333 Test accuracy: 0.9719\n",
      "5 Train accuracy: 0.993333 Test accuracy: 0.9739\n",
      "6 Train accuracy: 0.98 Test accuracy: 0.9746\n",
      "7 Train accuracy: 0.98 Test accuracy: 0.9782\n",
      "8 Train accuracy: 0.986667 Test accuracy: 0.9768\n",
      "9 Train accuracy: 0.986667 Test accuracy: 0.9769\n"
     ]
    }
   ],
   "source": [
    "n_epochs = 10\n",
    "batch_size = 150\n",
    "\n",
    "with tf.Session() as sess:\n",
    "    init.run()\n",
    "    for epoch in range(n_epochs):\n",
    "        for iteration in range(mnist.train.num_examples // batch_size):\n",
    "            X_batch, y_batch = mnist.train.next_batch(batch_size)\n",
    "            X_batch = X_batch.reshape((-1, n_steps, n_inputs))\n",
    "            sess.run(training_op, feed_dict={X: X_batch, y: y_batch})\n",
    "        acc_train = accuracy.eval(feed_dict={X: X_batch, y: y_batch})\n",
    "        acc_test = accuracy.eval(feed_dict={X: X_test, y: y_test})\n",
    "        print(epoch, \"Train accuracy:\", acc_train, \"Test accuracy:\", acc_test)"
   ]
  },
  {
   "cell_type": "markdown",
   "metadata": {},
   "source": [
    "# Time series"
   ]
  },
  {
   "cell_type": "code",
   "execution_count": 41,
   "metadata": {
    "collapsed": true
   },
   "outputs": [],
   "source": [
    "t_min, t_max = 0, 30\n",
    "resolution = 0.1\n",
    "\n",
    "def time_series(t):\n",
    "    return t * np.sin(t) / 3 + 2 * np.sin(t*5)\n",
    "\n",
    "def next_batch(batch_size, n_steps):\n",
    "    t0 = np.random.rand(batch_size, 1) * (t_max - t_min - n_steps * resolution)\n",
    "    Ts = t0 + np.arange(0., n_steps + 1) * resolution\n",
    "    ys = time_series(Ts)\n",
    "    return ys[:, :-1].reshape(-1, n_steps, 1), ys[:, 1:].reshape(-1, n_steps, 1)"
   ]
  },
  {
   "cell_type": "code",
   "execution_count": 42,
   "metadata": {
    "collapsed": false
   },
   "outputs": [
    {
     "name": "stdout",
     "output_type": "stream",
     "text": [
      "Saving figure time_series_plot\n"
     ]
    },
    {
     "data": {
      "image/png": "iVBORw0KGgoAAAANSUhEUgAAAxAAAAEYCAYAAADMNRC5AAAABHNCSVQICAgIfAhkiAAAAAlwSFlz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\nAABJRU5ErkJggg==\n",
      "text/plain": [
       "<matplotlib.figure.Figure at 0x129c87cf8>"
      ]
     },
     "metadata": {},
     "output_type": "display_data"
    }
   ],
   "source": [
    "t = np.linspace(t_min, t_max, int((t_max - t_min) / resolution))\n",
    "\n",
    "n_steps = 20\n",
    "t_instance = np.linspace(12.2, 12.2 + resolution * (n_steps + 1), n_steps + 1)\n",
    "\n",
    "plt.figure(figsize=(11,4))\n",
    "plt.subplot(121)\n",
    "plt.title(\"A time series (generated)\", fontsize=14)\n",
    "plt.plot(t, time_series(t), label=r\"$t . \\sin(t) / 3 + 2 . \\sin(5t)$\")\n",
    "plt.plot(t_instance[:-1], time_series(t_instance[:-1]), \"b-\", linewidth=3, label=\"A training instance\")\n",
    "plt.legend(loc=\"lower left\", fontsize=14)\n",
    "plt.axis([0, 30, -17, 13])\n",
    "plt.xlabel(\"Time\")\n",
    "plt.ylabel(\"Value\")\n",
    "\n",
    "plt.subplot(122)\n",
    "plt.title(\"A training instance\", fontsize=14)\n",
    "plt.plot(t_instance[:-1], time_series(t_instance[:-1]), \"bo\", markersize=10, label=\"instance\")\n",
    "plt.plot(t_instance[1:], time_series(t_instance[1:]), \"w*\", markersize=10, label=\"target\")\n",
    "plt.legend(loc=\"upper left\")\n",
    "plt.xlabel(\"Time\")\n",
    "\n",
    "\n",
    "save_fig(\"time_series_plot\")\n",
    "plt.show()"
   ]
  },
  {
   "cell_type": "code",
   "execution_count": 43,
   "metadata": {
    "collapsed": true
   },
   "outputs": [],
   "source": [
    "X_batch, y_batch = next_batch(1, n_steps)"
   ]
  },
  {
   "cell_type": "code",
   "execution_count": 44,
   "metadata": {
    "collapsed": false
   },
   "outputs": [
    {
     "data": {
      "text/plain": [
       "array([[ 1.38452097,  2.05081182],\n",
       "       [ 2.05081182,  2.29742291],\n",
       "       [ 2.29742291,  2.0465599 ],\n",
       "       [ 2.0465599 ,  1.34009916],\n",
       "       [ 1.34009916,  0.32948704],\n",
       "       [ 0.32948704, -0.76115235],\n",
       "       [-0.76115235, -1.68967022],\n",
       "       [-1.68967022, -2.25492776],\n",
       "       [-2.25492776, -2.34576159],\n",
       "       [-2.34576159, -1.96789418],\n",
       "       [-1.96789418, -1.24220428],\n",
       "       [-1.24220428, -0.37478448],\n",
       "       [-0.37478448,  0.39387907],\n",
       "       [ 0.39387907,  0.84815766],\n",
       "       [ 0.84815766,  0.85045064],\n",
       "       [ 0.85045064,  0.3752526 ],\n",
       "       [ 0.3752526 , -0.48422846],\n",
       "       [-0.48422846, -1.53852738],\n",
       "       [-1.53852738, -2.54795941],\n",
       "       [-2.54795941, -3.28097239]])"
      ]
     },
     "execution_count": 44,
     "metadata": {},
     "output_type": "execute_result"
    }
   ],
   "source": [
    "np.c_[X_batch[0], y_batch[0]]"
   ]
  },
  {
   "cell_type": "markdown",
   "metadata": {},
   "source": [
    "## Using an `OuputProjectionWrapper`"
   ]
  },
  {
   "cell_type": "markdown",
   "metadata": {},
   "source": [
    "Let's create the RNN. It will contain 100 recurrent neurons and we will unroll it over 20 time steps since each traiing instance will be 20 inputs long. Each input will contain only one feature (the value at that time). The targets are also sequences of 20 inputs, each containing a sigle value:"
   ]
  },
  {
   "cell_type": "code",
   "execution_count": 45,
   "metadata": {
    "collapsed": true
   },
   "outputs": [],
   "source": [
    "reset_graph()\n",
    "\n",
    "n_steps = 20\n",
    "n_inputs = 1\n",
    "n_neurons = 100\n",
    "n_outputs = 1\n",
    "\n",
    "X = tf.placeholder(tf.float32, [None, n_steps, n_inputs])\n",
    "y = tf.placeholder(tf.float32, [None, n_steps, n_outputs])\n",
    "\n",
    "cell = tf.contrib.rnn.BasicRNNCell(num_units=n_neurons, activation=tf.nn.relu)\n",
    "outputs, states = tf.nn.dynamic_rnn(cell, X, dtype=tf.float32)"
   ]
  },
  {
   "cell_type": "markdown",
   "metadata": {},
   "source": [
    "At each time step we now have an output vector of size 100. But what we actually want is a single output value at each time step. The simplest solution is to wrap the cell in an `OutputProjectionWrapper`."
   ]
  },
  {
   "cell_type": "code",
   "execution_count": 46,
   "metadata": {
    "collapsed": true
   },
   "outputs": [],
   "source": [
    "reset_graph()\n",
    "\n",
    "n_steps = 20\n",
    "n_inputs = 1\n",
    "n_neurons = 100\n",
    "n_outputs = 1\n",
    "\n",
    "X = tf.placeholder(tf.float32, [None, n_steps, n_inputs])\n",
    "y = tf.placeholder(tf.float32, [None, n_steps, n_outputs])"
   ]
  },
  {
   "cell_type": "code",
   "execution_count": 47,
   "metadata": {
    "collapsed": true
   },
   "outputs": [],
   "source": [
    "cell = tf.contrib.rnn.OutputProjectionWrapper(\n",
    "    tf.contrib.rnn.BasicRNNCell(num_units=n_neurons, activation=tf.nn.relu),\n",
    "    output_size=n_outputs)"
   ]
  },
  {
   "cell_type": "code",
   "execution_count": 48,
   "metadata": {
    "collapsed": true
   },
   "outputs": [],
   "source": [
    "outputs, states = tf.nn.dynamic_rnn(cell, X, dtype=tf.float32)"
   ]
  },
  {
   "cell_type": "code",
   "execution_count": 49,
   "metadata": {
    "collapsed": true
   },
   "outputs": [],
   "source": [
    "learning_rate = 0.001\n",
    "\n",
    "loss = tf.reduce_mean(tf.square(outputs - y)) # MSE\n",
    "optimizer = tf.train.AdamOptimizer(learning_rate=learning_rate)\n",
    "training_op = optimizer.minimize(loss)\n",
    "\n",
    "init = tf.global_variables_initializer()"
   ]
  },
  {
   "cell_type": "code",
   "execution_count": 50,
   "metadata": {
    "collapsed": true
   },
   "outputs": [],
   "source": [
    "saver = tf.train.Saver()"
   ]
  },
  {
   "cell_type": "code",
   "execution_count": 51,
   "metadata": {
    "collapsed": false
   },
   "outputs": [
    {
     "name": "stdout",
     "output_type": "stream",
     "text": [
      "0 \tMSE: 18.9177\n",
      "100 \tMSE: 0.762551\n",
      "200 \tMSE: 0.290907\n",
      "300 \tMSE: 0.149525\n",
      "400 \tMSE: 0.0772763\n",
      "500 \tMSE: 0.0665644\n",
      "600 \tMSE: 0.0636215\n",
      "700 \tMSE: 0.0559812\n",
      "800 \tMSE: 0.0554487\n",
      "900 \tMSE: 0.0529518\n",
      "1000 \tMSE: 0.0534466\n",
      "1100 \tMSE: 0.051972\n",
      "1200 \tMSE: 0.0442769\n",
      "1300 \tMSE: 0.0547834\n",
      "1400 \tMSE: 0.0466028\n"
     ]
    }
   ],
   "source": [
    "n_iterations = 1500\n",
    "batch_size = 50\n",
    "\n",
    "with tf.Session() as sess:\n",
    "    init.run()\n",
    "    for iteration in range(n_iterations):\n",
    "        X_batch, y_batch = next_batch(batch_size, n_steps)\n",
    "        sess.run(training_op, feed_dict={X: X_batch, y: y_batch})\n",
    "        if iteration % 100 == 0:\n",
    "            mse = loss.eval(feed_dict={X: X_batch, y: y_batch})\n",
    "            print(iteration, \"\\tMSE:\", mse)\n",
    "    \n",
    "    saver.save(sess, \"./my_time_series_model\") # not shown in the book"
   ]
  },
  {
   "cell_type": "code",
   "execution_count": 52,
   "metadata": {
    "collapsed": false
   },
   "outputs": [
    {
     "name": "stdout",
     "output_type": "stream",
     "text": [
      "INFO:tensorflow:Restoring parameters from ./my_time_series_model\n"
     ]
    }
   ],
   "source": [
    "with tf.Session() as sess:                          # not shown in the book\n",
    "    saver.restore(sess, \"./my_time_series_model\")   # not shown\n",
    "\n",
    "    X_new = time_series(np.array(t_instance[:-1].reshape(-1, n_steps, n_inputs)))\n",
    "    y_pred = sess.run(outputs, feed_dict={X: X_new})"
   ]
  },
  {
   "cell_type": "code",
   "execution_count": 53,
   "metadata": {
    "collapsed": false
   },
   "outputs": [
    {
     "data": {
      "text/plain": [
       "array([[[-3.42637658],\n",
       "        [-2.46367216],\n",
       "        [-1.15637207],\n",
       "        [ 0.76617211],\n",
       "        [ 2.29781222],\n",
       "        [ 3.12525225],\n",
       "        [ 3.4899745 ],\n",
       "        [ 3.33646941],\n",
       "        [ 2.82800984],\n",
       "        [ 2.24254656],\n",
       "        [ 1.71146703],\n",
       "        [ 1.62021911],\n",
       "        [ 2.00660276],\n",
       "        [ 2.79940104],\n",
       "        [ 3.91245008],\n",
       "        [ 5.18602514],\n",
       "        [ 6.16892099],\n",
       "        [ 6.69519091],\n",
       "        [ 6.66508675],\n",
       "        [ 6.10952806]]], dtype=float32)"
      ]
     },
     "execution_count": 53,
     "metadata": {},
     "output_type": "execute_result"
    }
   ],
   "source": [
    "y_pred"
   ]
  },
  {
   "cell_type": "code",
   "execution_count": 54,
   "metadata": {
    "collapsed": false
   },
   "outputs": [
    {
     "name": "stdout",
     "output_type": "stream",
     "text": [
      "Saving figure time_series_pred_plot\n"
     ]
    },
    {
     "data": {
      "image/png": "iVBORw0KGgoAAAANSUhEUgAAAagAAAEYCAYAAAAJeGK1AAAABHNCSVQICAgIfAhkiAAAAAlwSFlz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\nAAAAAElFTkSuQmCC\n",
      "text/plain": [
       "<matplotlib.figure.Figure at 0x117c04780>"
      ]
     },
     "metadata": {},
     "output_type": "display_data"
    }
   ],
   "source": [
    "plt.title(\"Testing the model\", fontsize=14)\n",
    "plt.plot(t_instance[:-1], time_series(t_instance[:-1]), \"bo\", markersize=10, label=\"instance\")\n",
    "plt.plot(t_instance[1:], time_series(t_instance[1:]), \"w*\", markersize=10, label=\"target\")\n",
    "plt.plot(t_instance[1:], y_pred[0,:,0], \"r.\", markersize=10, label=\"prediction\")\n",
    "plt.legend(loc=\"upper left\")\n",
    "plt.xlabel(\"Time\")\n",
    "\n",
    "save_fig(\"time_series_pred_plot\")\n",
    "plt.show()"
   ]
  },
  {
   "cell_type": "markdown",
   "metadata": {},
   "source": [
    "## Without using an `OutputProjectionWrapper`"
   ]
  },
  {
   "cell_type": "code",
   "execution_count": 55,
   "metadata": {
    "collapsed": true
   },
   "outputs": [],
   "source": [
    "reset_graph()\n",
    "\n",
    "n_steps = 20\n",
    "n_inputs = 1\n",
    "n_neurons = 100\n",
    "\n",
    "X = tf.placeholder(tf.float32, [None, n_steps, n_inputs])\n",
    "y = tf.placeholder(tf.float32, [None, n_steps, n_outputs])"
   ]
  },
  {
   "cell_type": "code",
   "execution_count": 56,
   "metadata": {
    "collapsed": true
   },
   "outputs": [],
   "source": [
    "cell = tf.contrib.rnn.BasicRNNCell(num_units=n_neurons, activation=tf.nn.relu)\n",
    "rnn_outputs, states = tf.nn.dynamic_rnn(cell, X, dtype=tf.float32)"
   ]
  },
  {
   "cell_type": "code",
   "execution_count": 57,
   "metadata": {
    "collapsed": true
   },
   "outputs": [],
   "source": [
    "n_outputs = 1\n",
    "learning_rate = 0.001"
   ]
  },
  {
   "cell_type": "code",
   "execution_count": 58,
   "metadata": {
    "collapsed": true
   },
   "outputs": [],
   "source": [
    "stacked_rnn_outputs = tf.reshape(rnn_outputs, [-1, n_neurons])\n",
    "stacked_outputs = tf.layers.dense(stacked_rnn_outputs, n_outputs)\n",
    "outputs = tf.reshape(stacked_outputs, [-1, n_steps, n_outputs])"
   ]
  },
  {
   "cell_type": "code",
   "execution_count": 59,
   "metadata": {
    "collapsed": true
   },
   "outputs": [],
   "source": [
    "loss = tf.reduce_mean(tf.square(outputs - y))\n",
    "optimizer = tf.train.AdamOptimizer(learning_rate=learning_rate)\n",
    "training_op = optimizer.minimize(loss)\n",
    "\n",
    "init = tf.global_variables_initializer()\n",
    "saver = tf.train.Saver()"
   ]
  },
  {
   "cell_type": "code",
   "execution_count": 60,
   "metadata": {
    "collapsed": false
   },
   "outputs": [
    {
     "name": "stdout",
     "output_type": "stream",
     "text": [
      "0 \tMSE: 10.1622\n",
      "100 \tMSE: 0.406083\n",
      "200 \tMSE: 0.116547\n",
      "300 \tMSE: 0.0686967\n",
      "400 \tMSE: 0.0689586\n",
      "500 \tMSE: 0.0625274\n",
      "600 \tMSE: 0.056175\n",
      "700 \tMSE: 0.0507173\n",
      "800 \tMSE: 0.0516515\n",
      "900 \tMSE: 0.0502068\n",
      "1000 \tMSE: 0.0497242\n",
      "1100 \tMSE: 0.0506494\n",
      "1200 \tMSE: 0.0413749\n",
      "1300 \tMSE: 0.0501782\n",
      "1400 \tMSE: 0.0440728\n"
     ]
    }
   ],
   "source": [
    "n_iterations = 1500\n",
    "batch_size = 50\n",
    "\n",
    "with tf.Session() as sess:\n",
    "    init.run()\n",
    "    for iteration in range(n_iterations):\n",
    "        X_batch, y_batch = next_batch(batch_size, n_steps)\n",
    "        sess.run(training_op, feed_dict={X: X_batch, y: y_batch})\n",
    "        if iteration % 100 == 0:\n",
    "            mse = loss.eval(feed_dict={X: X_batch, y: y_batch})\n",
    "            print(iteration, \"\\tMSE:\", mse)\n",
    "    \n",
    "    X_new = time_series(np.array(t_instance[:-1].reshape(-1, n_steps, n_inputs)))\n",
    "    y_pred = sess.run(outputs, feed_dict={X: X_new})\n",
    "    \n",
    "    saver.save(sess, \"./my_time_series_model\")"
   ]
  },
  {
   "cell_type": "code",
   "execution_count": 61,
   "metadata": {
    "collapsed": false
   },
   "outputs": [
    {
     "data": {
      "text/plain": [
       "array([[[-3.40363002],\n",
       "        [-2.45480704],\n",
       "        [-1.10760546],\n",
       "        [ 0.85981268],\n",
       "        [ 2.19396615],\n",
       "        [ 3.03818107],\n",
       "        [ 3.44206738],\n",
       "        [ 3.40469313],\n",
       "        [ 2.89831972],\n",
       "        [ 2.2327323 ],\n",
       "        [ 1.62960398],\n",
       "        [ 1.48093259],\n",
       "        [ 1.91334391],\n",
       "        [ 2.81092381],\n",
       "        [ 3.99130607],\n",
       "        [ 5.17190695],\n",
       "        [ 6.16106033],\n",
       "        [ 6.65612125],\n",
       "        [ 6.57139349],\n",
       "        [ 5.97566175]]], dtype=float32)"
      ]
     },
     "execution_count": 61,
     "metadata": {},
     "output_type": "execute_result"
    }
   ],
   "source": [
    "y_pred"
   ]
  },
  {
   "cell_type": "code",
   "execution_count": 62,
   "metadata": {
    "collapsed": false
   },
   "outputs": [
    {
     "data": {
      "image/png": "iVBORw0KGgoAAAANSUhEUgAAAXkAAAEeCAYAAABv8mXfAAAABHNCSVQICAgIfAhkiAAAAAlwSFlz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\n",
      "text/plain": [
       "<matplotlib.figure.Figure at 0x118083278>"
      ]
     },
     "metadata": {},
     "output_type": "display_data"
    }
   ],
   "source": [
    "plt.title(\"Testing the model\", fontsize=14)\n",
    "plt.plot(t_instance[:-1], time_series(t_instance[:-1]), \"bo\", markersize=10, label=\"instance\")\n",
    "plt.plot(t_instance[1:], time_series(t_instance[1:]), \"w*\", markersize=10, label=\"target\")\n",
    "plt.plot(t_instance[1:], y_pred[0,:,0], \"r.\", markersize=10, label=\"prediction\")\n",
    "plt.legend(loc=\"upper left\")\n",
    "plt.xlabel(\"Time\")\n",
    "\n",
    "plt.show()"
   ]
  },
  {
   "cell_type": "markdown",
   "metadata": {},
   "source": [
    "## Generating a creative new sequence"
   ]
  },
  {
   "cell_type": "code",
   "execution_count": 63,
   "metadata": {
    "collapsed": false
   },
   "outputs": [
    {
     "name": "stdout",
     "output_type": "stream",
     "text": [
      "INFO:tensorflow:Restoring parameters from ./my_time_series_model\n"
     ]
    }
   ],
   "source": [
    "with tf.Session() as sess:                        # not shown in the book\n",
    "    saver.restore(sess, \"./my_time_series_model\") # not shown\n",
    "\n",
    "    sequence = [0.] * n_steps\n",
    "    for iteration in range(300):\n",
    "        X_batch = np.array(sequence[-n_steps:]).reshape(1, n_steps, 1)\n",
    "        y_pred = sess.run(outputs, feed_dict={X: X_batch})\n",
    "        sequence.append(y_pred[0, -1, 0])"
   ]
  },
  {
   "cell_type": "code",
   "execution_count": 64,
   "metadata": {
    "collapsed": false
   },
   "outputs": [
    {
     "data": {
      "image/png": "iVBORw0KGgoAAAANSUhEUgAAAfgAAAERCAYAAACXY7U1AAAABHNCSVQICAgIfAhkiAAAAAlwSFlz\nAAALEgAACxIB0t1+/AAAADl0RVh0U29mdHdhcmUAbWF0cGxvdGxpYiB2ZXJzaW9uIDIuMS4wLCBo\ndHRwOi8vbWF0cGxvdGxpYi5vcmcvpW3flQAAIABJREFUeJztnXmYXFW19t+VdMhEyNQhgYTMCYFE\nA6QlAjLIIAiICDIjfiAGQcDhquBlkBm94nARULl6MRJBQGJEiAxKwMsoCQkJGUjIBCFDZ066M3ev\n74/V2zpdfYZ9uqqrqqvf3/PUc7rOqX1qnzrV9e619tpriaqCEEIIIeVFu2J3gBBCCCH5hwJPCCGE\nlCEUeEIIIaQMocATQgghZQgFnhBCCClDKPCEEEJIGUKBJ4QQQsoQCjwhhBBShlDgCSGEkDKkotgd\nyIXKykodPHhwsbtBCCGEFIwZM2asU9U+Sa9r1QI/ePBgTJ8+vdjdIIQQQgqGiCz3eR1d9IQQQkgZ\nQoEnhBBCyhAKPCGEEFKGUOAJIYSQMoQCTwghhJQhFHhCCCGkDKHAE0IIIWUIBZ4QQghpJi+/DMye\nXexehNOqE90QQgghxeTLXwZGjABeeKHYPWkKBZ4QQghpBjU1wPLlwI4dxe5JOHTRE0IIIc3gvfds\nu2YNsHZtcfsSBgWeEEIIaQbz52f+njOneP2IggJPCCGENIMFCwAR+7sUBZ5z8IQQQkgzmD8fGDkS\n2LCBAk8IIYSUDfPnAwcdBGzZUpoCTxc9IYQQkpLdu4FFi0zgDz7Y3PWlBgWeEEIIScmqVcCePcDQ\noUCfPmbF79lT7F41hgJPCCGEpGTTJtv26gX06GF/b95cvP6EUVCBF5GrRWS6iOwUkd9FvOZmEVER\nObGQfSOEEEJ8cQLfo0dG4N2+UqHQQXYrAdwB4GQAnbMPisgwAOcAWFXgfhFCCCHeBAW+trbxvlKh\noBa8qk5W1SkA1ke85H4A1wHYVbheEUIIaYts3w488wygmr5ta7DgS2YOXkTOAbBTVacmvG5Cg5t/\n+tpSzA1ICCGkVfDYY8DppzevUAwF3hMR6QbgLgDfSHqtqj6oqlWqWtWnT5+W7xwhhJCyZMkS2/7y\nl+nbOjHfZx8KfBK3AHhYVZcVuR+EEELaCB98YNunngJWrEjXdtMmoFs3oKKCAp/ECQCuFZHVIrIa\nwAEAHheR64rcL0IIIWXKBx8A++8P1NcDf/1rurabNmWEfe+9gXbt2rjAi0iFiHQC0B5AexHpJCIV\nMIEfA+CQhsdKAFfAgu4IIYSQvLN8OXDUUfZ3dXW6tkGBF7G/27TAA7gRwHYA1wO4uOHvG1V1vaqu\ndg8AdQA2qmpNgftHCCGkDVBfD3z4oWWi69kTWLcuXfugwAOlKfAFXQevqrfA5tuTXje4pftCCCGk\n7bJmjeWTHzjQUs2mXZS1aRMwYEDmeSkKfKnMwRNCCCEFwwXYDRoEVFaWpwVPgSeEENLmWL7ctgMH\nmsA3x4KnwBNCCCElhrPgnYs+jQVfX0+BJ4QQQkqSDz6wJDXdu2dc9L4pa7dutddS4AkhhJASY/Vq\noF8/+7uyEti1y4Tbh2CaWkePHkBNTWnVhKfAE0IIaXNs3pwRaJf13NdNHyXw7rylAgWeEEJIm2Pz\nZnPPA2bBA/kR+I0b89O/fECBJ4QQ0mqprQVWrUrfLkzgfSPp4wS+lObhC5rohhBCCMkX27YBxxxj\ndd3nzUvXNijwaV30zg3v2gOWjx6wefhSgQJPCCGkVXLVVcDbbwPt2wN1dbb1JTgHn9aCdyLuRB0A\nuna1bW2tfx9aGrroCSGEtEqefNKEta4unZt+926z/p0F3q0bsNde/ha8E3En6sG/KfCEEEJIDtTU\n2KOqyp67xDU+ZLvYRdKlq3Ui3qVLZh8FnhBCCMkDa9bY9vDDbZuLwANA797A+vV+7bdtAzp3thrw\nDgo8IYQQkgdWr7ZtvgS+Wzf/RDe1tY3d8wAFnhBCCMkLTuBHjLB67q54jA9RAu8bAV9b29g9D5hF\nL0KBJ4QQQnLCCXy/flYwJlcLfu+9c7PgRUz026zAi8jVIjJdRHaKyO8C+z8pIi+IyAYRWSsiT4jI\nfoXsGyGEkNbD6tU2B15ZmT+BT2PBZws8YPu2bfPvR0tTaAt+JYA7APxv1v6eAB4EMBjAIABbATxU\n0J4RQghpNaxeDey7r619HzQoP3PwuQp8qVnwBU10o6qTAUBEqgAMCOz/W/B1InIfgJcL2TdCCCGt\nh2A1uIEDLUXsli1WAjYJl042Fxd9375N93ftWloCX6pz8McAmFvsThBCCClNggLfv79tV670a7t5\ns1nbHTpk9nXrZglwdu1Kbr9tW7SLngIfg4h8HMDNAL4bcXxCwzz+9LW+eQUJIYSUFUGB79nTtr6l\nWoN56B1pcsnHzcFT4CMQkeEA/gbgG6r6f2GvUdUHVbVKVav6uAoBhBBC2gz19Zboxgm8E2vfSm5x\nAu/jpg9bJgdQ4CMRkUEA/g7gdlV9uNj9IYQQUpps3GjudCfwrmhMLhZ8t262LScLvqBBdiJS0fCe\n7QG0F5FOAPYA6AvgRQD3qeqvCtknQgghrQuXptYFujXHgg/Wcgf8XfR1dcCOHa1D4Attwd8IYDuA\n6wFc3PD3jQAuBzAUwC0iUuMeBe4bIYSQVoATcjf3ng8L3tdF79a5twaBL/QyuVsA3BJx+NbC9YQQ\nQkhrJXsde5cuth4+lzl4Xxd9axL4kpmDJ4QQQnzYssW2bs27iFnxvhZ8TU1G0B2+FnxYLXhHly4W\nG7B7t18/WhoKPCGEkKKwZw/wwx9a0FwawjLRde/uZ8HX15tIO0F3+FrwYbXgHU70SyVdLQWeEEJI\nUZg2Dfj+94GHU66bcgIfzFrna8Fv3w6oNhV43yC7OAu+1ErGUuAJIYQUhVdfte3rr6drt2WLFZoJ\nirSvBe8EPFugu3QxV38uLnoKPCGEEILmC/zmzWa9i2T2+VrwTnyzLXgRv4pyFHhCCCEkhro64I03\nzHJevhxYtcq/bVhRmbQWfLbAu325RtEDFHhCCCFtmDlzTEy/8hV7/sYb/m3Dlrl17+5nwScJPF30\nhBBCSA68+aZtv/51YK+90gl8mAXfo4ftr6uLbxsn8D414X2i6CnwhBBC2iwrVlig3IgRwODBwLJl\n/m2jLHjA3wJvroueFjwhhBASQ3U1UFlpIl9ZCaSp/h1lwQPJ8/BRUfSAWfA+A4R27YCOHZseo8AT\nQghp86xdC+y7r/3dp086gY+z4JPm4XMNsnOV5IIR/A7ntqfAE0IIabNUV+dX4NNa8LlE0YdZ/wAt\neEIIIaSJwK9bZ2lkk9i50x5hy+QAfws+LEjO10UfJfAdOtiDqWoJIYS0WaqrTdgB29bV+S1zc4Vm\nmmvBO4FuF6J+XbvaAEA1uX0UpVRRjgJPCCGkoOzaZWIetOABPzd9diU5RxoLPs7FXl9vHoIoamvD\nrf/gOSjwhBBC2iROyJsj8GGV5AD/YjE1NeHz74DfHDot+AhE5GoRmS4iO0Xkd1nHThCRBSKyTUSm\nicigQvaNEEJIYaiutm0uFny2wHfsCFRUUOCDFNqCXwngDgD/G9wpIpUAJgO4CUAvANMBPFbgvhFC\nCCkATuCDc/BAOgs+20XvWyyGAt9CqOpkVZ0CYH3WobMAzFXVJ1R1B4BbAIwVkVGF7B8hhBB/6uuB\n3bvTt8vFRR9lwQP+ueSjBN7tjxPouGVyQBsW+BhGA3jHPVHVWgCLG/YTQggpQS67DPjMZ9K3y3bR\nd+pk4pqLBQ/45ZJPCrJzr4kiyYLv0oUCn83eALJjHzcD6Jb9QhGZ0DCPP31tmswIhBBC8sqLLwIv\nvQTMnZuuXXW1rRcPirRvulpnoYcJfKFc9IyiT0cNgOzbtQ+AJs4WVX1QVatUtaqP8+sQQggpKOvX\nAx9+aH9PnJiurUtyE0z36pLdJFFTY8F0e+3V9JhPoppcBH7XLmDPHrro0zIXwFj3RES6AhjWsJ8Q\nQkiJMXOmbfv2BSZNSi7TGmTt2sy8u8M3Xe3WrSbkYbngW9qCj6skFzxHmxR4EakQkU4A2gNoLyKd\nRKQCwJ8BjBGRsxuO3wxgtqouKGT/CCGE+DFrlm2/8Q1g1Spg5Ur/tps2AT17Nt6XxoKPC5KLs+Dr\n6oAdO1pe4Ldti8+GVygKbcHfCGA7gOsBXNzw942quhbA2QDuBLARwHgA5xe4b4QQQjyZORMYMAAY\n2+B7/egj/7Zh5V67d/dLVbt1a7RAJwXZJQl0ksC7HPNJAg8A27dHv6ZQVBTyzVT1FtgSuLBjfwfA\nZXGEENIKmDkTOPRQYP/97XkaCz5K4LdssaV3YXniHTU1JuRhJLno4yrJAUDnzub6jzqHrwXvXhsX\njFcISmUOnhBCSCuhrg5YuBAYM6b5Ah9Wz101tzn0vfc2YY2qSpck8CLxc+huf1IUffC1xYQCTwgh\nJBXr15vI77efLW/r0MFf4FXNFZ9twbvnSW76JBc9EC2uSQIP+Am8rwVfbCjwhBBCUuES1fTta+70\n/fbzn4Pfvt0GB1HV4FymuiiSXPTuNWE40aXAE0IIISFkZ6Lbf39/Cz4f5V6TUs1GRdIXwoJ37nsK\nPCGEkFbHmjW27dvXtmkEPqrcq6/A+7jooyx4t7+569jTRNFT4AkhhLQ6imXB19WZyDbXRe9rwecr\nir7YUOAJIYSkYs0aSxfrktXsv78lr3EWbhxRAu8TZJc0h14oFz2j6AkhhJQl1dWWec6tV+/f37Y+\nVnySiz4uyM4JdJQFn+Si9wmyc0vtotrvtZcNbqKgwBNCCCkqixdb9PuoUcDf/pau7Zo1mfl3IN1a\n+CgLvmtXoH37eAs+yQL3cdG3bw907Bj9HkkWfJx73rUH/LwZLU1qgReR3iJhaf4JIYS0Fl59FVi9\nGnj/feDxx9O1ddXgHPvtZ9tVq5LbRgm8iO2LE3jnes/FRd+1a3ihGkeuAu+y4bUaC15EOojIXSKy\nCcAaAEMa9t8tIl9ryQ4SQgjJPwsWmKt5/HjLSpeGbAu+Vy/bbtyY3NYJeFg996R89Ekueh8LPs49\nD2QEPqxYjI/Ai9gcfasReAA3wYrBfAXAzsD+GQAuzXenCCGEtCwLFgDDhwOjR6cTeNWmFnyPHrbd\ntCm5/ZYtZuV26ND0WJIFn+Si79DB3O9xc/A+Al9fb1Xnstm2LVng3Tlak8BfBOAKVX0SQDDL7xwA\nB+a9V4QQQlqUBQts/n3kSCvTumGDX7vaWstGFxT4Tp0s+MxX4MOsdyBTcCaKJBe9OxbnovcReCBc\noH0seKD1WfD7A1gWsr89ClyRjhBCSG7s3m1z76NGAQc2mGiLFvm1zU5yA5hbukeP/Ah8Li56dyxX\nFz0QLfA+FeJamwU/D8DRIfvPATAzf90hhBDS0ixdaiLvLHjA302fneTG0aOH/xx89hI5R5LA58OC\n942Cz8WCLxWB97W+bwPwOxHZHzYoOEtEDgRwCYDPtVTnCCGE5J8FC2x70EHAkCG2dMxX4J0rv3fv\nxvt79iycBR8n8PvsEy/wQ4bE98+duxwE3suCV9W/wObhz4C55e8E8DEAZ6rq8y3XPUIIIfnGCfyB\nB9rc+ZAh/gLvrHQXWOfIh4veBdmFRbADJtCdOsUnmunWLXoe3yfILm6pna/Axw0yCon3OnhVnaqq\nR6lqJ1XtqKqfVNWU6RHiEZHBIjJVRDaKyGoRuU9EOMdPCCF5ZMUKE2TnKh8xwubkfXAi7tLUOnwF\nPqwWvKN7d2DPnvAIdiC+0IwjyYJPau/m98POsXVr/Px/sA9JZW8LQallsnsAQDWA/QAcAuBYAFcV\ntUeEEFJmZC9z69s3M7eehBPx7Hn0NBZ83Bw8EO2mj6sF74gT11wE3g08WpPAe1nHIrIRQITTBFDV\nXnnqzxAA96nqDgCrReRZAKPzdG5CCCkrtm8H1q8HBgxI1y5b4Pv0saVyqvFZ3gAT8S5dzLUfxAXZ\nxZ1DNXkOHjCB79ev6XFfgQ4T1127LLCwuQLvnqcReJ/PsyXxdX9/J+t5BwCHAjgTwN157M/PAZwv\nIi8B6Angs7AkO/9GRCYAmAAAAwcOzONbE0JI62H+fOALX7D0sNXV8fnVs1mzxiLoHX36mHXqM0e9\ncWNT9zxg+3bvtkFH1FKy2lpLIhM3Bw9EW/BpXPT19ZliOIBfLXggfwLvLP7OnZNf31J4Cbyq/jZs\nv4hMh7nR88U/YeK9BRbMNxHAlKy+PAjgQQCoqqqK9CoQQkg585Wv2Nr1+npg3jzg0EP921ZXA8cc\nk3leWWnbtWuTBXTTpqYBdkDjbHZRAu8s6+a66LdsyaTFjcINEmprG4uxTyU5IJOrPleBd/0tpsDn\nOgf/DwCfz0dHRKQdgGcBTAbQFUAlzIr/UT7OTwgh5UJ9PTBrFnDKKfb8nXf82+7ZY279YKKaPn1s\nu25dcnsfgY8iqtCMI6lkbJx73+EEOPscPkvsABP3bt3yJ/DFJFeBPwfA+nx0BEAvAANhc/A7VXU9\ngIcAnJqn8xNCSFmwdKm5ws880yzENAK/fr3NDQfn4IMWfBIbN7a8wMdZ8D5BdsH3cvgKPFA+Au8b\nZDcTjYPsBEA/AH0AXJ2PjqjqOhFZCuBKEbkHwN4Avgxgdj7OTwgh5cLcubb92MfsMWuWf9uwTHTO\ngvcR+E2brEBNNk7g47LZxVWSA/wEPsmCz5fAZ7dPGpz49KHQ+AbZPZ31vB7AWgDTVHVuHvtzFizQ\n7joAdQBeBPCtPJ6fEEJKAlXggQeA008HBg1K19YJ/MEHA4ccAjzxhH/EtsslHybwubjoXeCdjwUf\nNQfvrOMwga+rM5HOVeB9EtW0KQteVW9KflXuqOosAMcV4r0IIaSY/PnPwNVXWwa5//7vdG3nzgUO\nOMCEZOxY4MEHLXnNAQcktw2z4Lt1s1KrSRZ8fb2Jb0u56Nu3Nws7TOCdQPvOwWcLtG+QnTtHLgIf\nlyynkJRaohtCCCl7du8Gvv99+/uFF9K3nzs34yYfM8a28+b5tQ0TeJHMWvg43PKzsGVyziqPE/gk\nF707T5jl6+si5xx8hkgLPim5TZA8JrohhJCyZ+pUs9yPPRZ4+WXgo4+A/v392tbVWS75E06w567d\n6tV+7aurLZd7thVeWZlswTvxDrPgO3a0gL9cLHgguuCME9hCuOjD0t1u3WpeDp98AyUv8Gia3IYQ\nQkgemN0QOnz33cCRRwJ//zvw5S/7tV2zxhKoDB9uz91ytzQCv+++jZPAAGbB5yLwbn+SwHfpEl8s\nJkrgfS34qGVy7py+LvYwgfdpC2QK4pSswEcltyGEEJIb8+dbYN348Sa2aQTeCfl++9l2773NKnXB\nc0msWdO0ljtgAj9jRnzbJIHv2TM5it7HAnclaYP4Cvxee5mVnS3QmzebQMcNLhy5CrxIaeSj5xw8\nIYQUmPnzrRZ7u3bAuHH+8+dARuCDudr79Utnwbuo+SA+Lnon3mFz8ICfBZ8k0EkWfHOLvURF/4fR\nrZvlrt+5M7MvjcBH9aHQeAm8iHQQkZtEZJ6I1IjIruCjpTtJCCHlgptDP/hge37AAcCHH/q3z1Xg\nN2zIJLYJ0qePieDu3dFt8+Gij1oi58g1yM69Jkzgk97bERYF75NkJ6kPhcbXgr8NwFcB3A/LEX8D\ngN8A2AzgGy3TNUIIKT+WL7c59IMOsucDB5rlvH27X3sn5MFUs337phP4sHzuTvTXx+QmzYfA52rB\n+wh8WKKatBY80Fjgt271e29HaxL48wBcoar3A9gDYLKqXgXgVgCfbqnOEUJIqbJ4MfD88+nbzZ9v\n26DAA/5W/OrVJlSdOmX29evnNwdfV2du9jCBd/vi5tA3brT55ShLOEngfebgu3e3wU62JyGtiz57\nDj2NwLs+Zgt8uVrw/QC4jHU1ANzHNBXAyfnuFCGElDqXXWZZ6HwtZ0e2wLvkNGkEPrtWer9+ZpkH\n54zD2LzZMt7FCXxYgJtj0yYTruwIfEfPnvYajVhg7eOijyoZ6xOBHzxHWBR9rhZ8uQr8hwAaYjax\nGMBJDX8fDmBHvjtFCCGlzIwZwD//aVbmr3+dru2iReYOd4LqLPgPPvBrHyXwQCaJTRROvHMR+DiR\n7NEjk1I2DF8XPRAu8L4u8pZy0ZerwD+FjKj/AsDtIrIIVq/9oZboGCGElCo/+5n92B99NPCrX1nE\ntS8rVwIDBmSe9+9vbu9cBN53LbwT7969mx7Ll8C712VTX59O4MOKvfgKfLa4quYWZKdahgIvIicC\ngKp+V1XvaPj7Mdi8+/8AOE9Vr2/xXhJCSImgapnozjkH+MY3TFSnT/dvny3QHTuaQOfqogeS5+Fz\nteA3boxeIgfEC3xtrX12PlH0QG4WvAvUc1MFNTU2wEhrwTuB3r7d2qcV+LBYgkKSZME/LyJLROQG\nEdnf7VTVV1T1v1R1Sgv3jxBC8s7OncA3v2nu8rSsWWNCd8ghVqoVSHeeMIEeONDPgq+tNUsySuCT\nLHgXIR8m8G5uvaUseN8o+HwIfO/e5lVxUwVJ0f/ZZFvwafLQO9JmGGwJkgR+NIDJAK4BsFxEnhGR\nL4hI+5bvGiGEtAyPP24V3C67LDogLIpgqdYhQ6wCmq/A19fbAKG5Au8s9Fxd9GEC366dWee5CLyz\n7sMi8X0KzQSPhwm8r8Bml79152quBZ8mgt8xeLBtly71b5NvYgVeVeer6ncADIAtlVMAjwP4SER+\nJCIHFqCPhBCSVx54wAqjvPIK8Pvfp2vrss6NHm3FR4YM8Rf4jRvNZevSzDpcspukwUZYkhvA3Pzd\nu/u76KPc7L16JbvoW9qCjzpHGgverel3mfnSWvAdOtjnmT1A8J3DBzICv2yZf5t84xVkp6p7VHWy\nqp4OYBCAewGcBWCeiPyzJTtICCH55O23gTfeAO66Cxg1CnjkkXTt5841gXRW84gR/gK/apVtswV6\n//2BbduSg7LCktw4fMq9bthgIhW11CzOgt+zx1zezZ2D97Xge/SwoMPsfqQR+GwL3vUnjUAHswO6\ngVPY5x7FoEG2LXmBD6KqKwE8ABP5TQCOymeHROR8EZkvIrUislhEjs7n+QkhrZ9165rv+nzuOdte\ncglw+OHAnDnp2s+bZ9a7iD13Au/j6o+ywJ1wJFngYbXcHT7V4KKy2Dl69YpOdOPj5o6rCe/2xQ0Q\nABt89OzZeLDiotgLZcEDdk/c/Yi6b3F07GgDt5J10WcjIieKyCMAVsKy2P0RQFW+OiMiJwH4EYBL\nAXQDcAyAJfk6PyGkPLjgAksU8/TT6dvOnm3u0169LEhu1ar49KxBVM2CHz06s2/ECLNsfTLJ5Srw\nTrDCcsn7FItZvz5Z4KMseB+RrKiw6nZhAp9UqCZI796NBX7LFvMghC3vCyPKgk8j8Lla8IB9z0ra\ngheRgSLyAxFZCuB5WMKbCQD2V9Wvq+rMPPbnVgC3qeobqlqvqh+p6kd5PD8hpJWzdKmVV23fHjjr\nLP8yqY7Zs4GPf9z+dlHwvlZ8dbUJoCsUA5jAA8DChcnt8yHw3btbSdRsfF30zRV4X4F22eyySSOy\nlZWNB11xA5sw9tnH5tFzmUPPtuCz0wP7MGRICQu8iPwdZkFfAbPWR6rqp1V1kqrmNYNdQ2R+FYA+\nIvK+iKwQkftEpHM+34cQ0rqZONHc4xMnWsDaK6/4t925E3jvveYL/PLlth06NLPPCbzPPPyqVZZu\nNTsaO43Ah5V6BTIu+ripgg0b4q3gXr1MiOvqmh7zFegePcLd/Bs32sCks8cvemVl48GK+zvq2rMR\naezR2LTJPvewgVEU/frZwGDHDhP4tNY7YBb8hx+a96EYJFnwtbBgugNU9fuq+n4L9qUvgA4Avgjg\naACHADgUwI3BF4nIBBGZLiLT1yb5owghZcfDDwMnngiccYbNc77+un/b+fNNvJyw77efiZqvwLtk\nNMFMdAMH2hIzJ/5xuDXwbv7eUVlp+3IV+N274wP1fCx41fBqbmkEPsqCdwF0SWS76NNa8O61QRd9\nGusdaDzoCstd4MPgwfZ9W7Eifdt8kLRM7vOq+pSqhozn8o4rlvgLVV2lqusA/BTAqVl9elBVq1S1\nqo/vcI4QUhZUVwNLlgCnnGLW2GGHpRP42bNt6yx4ERN7X4F3P9SuQAxg8859+wIfeUwmRglFRYUJ\nko/AR4lcdmBZNvX10ZXkHHHZ7PIh8D7z70BTF31aC969NmjBp5l/BxrnFmiuwA8ZYttiuelTR9G3\nFKq6EcAK2Fr7f+8uUncIISXIO+/Y9pBDbHvEEVb4xTcX/OzZNo86fHhm35gxmQpvSaxYYe2zRbJ/\n/9wEHmg85xtFkgUPRM/Db95sIt9cgfedg49z0fuKbGWlpXndts2e52rBr1sXf91hBNP/Nlfghw2z\n76iP16IlKBmBb+AhANeIyL4i0hPAtwA0I06WEFLKpM0e55g1y7Zjx9r2iCNsXt3tT2LBAuDAAxuv\nAx882MQvzC2dzYoV5p7P/sFOI/DZSW4cSQKvakKVJPBRFnxcFjtHkgXfvj3QtWt0e8Dc61HtfQXe\nxQkEBbpjR4vQ9yUYdPj++43jJnxwFvzSpeHpgX0YPBh47TXg2GPTt80HpSbwtwN4C8BCAPMBzARw\nZ1F7RAjJK/PnW8DT+PHAW2+laztrlrnHnQCMH2/bGTP82i9d2vSHPk25Vifw2QwYkDzPunOnCV9z\nLfjNm22OPUrgk1z0cZXkHE7gw5YN+s6h9+5tgpjtVUkqVBPEXYvrx7p1mTgFXyor7Zq3brV744Ih\nfXG5BpzXqDkCX2xKSuBVdbeqXqWqPVS1n6pem+9ofUJIcXnwQQs8WrIEuPnmdG1nzQIOPTTzfMAA\ni8r2iWBXtblQl0LU4TKO+QTJffhh4/l3R//+JoDOpRxGVB55R5LAO+Furovex4J3whp2Dl+BdgOI\n7EFCGgs+ux9xUxNJ5/jXv2w7cmS69h072vVS4AkhxINdu4BJkywC/sILgZdesrlWH7ZvNxe7m38H\nzKIbPtxP4NetMwF2gU8OXwu+vt7c8GEWfP/+to1z0ydlQ+vb1/rnKqBlkxRo1rWrxQfk4qLv2dNW\nBISdw1egs61vIFOP3deCD3NgppJzAAAgAElEQVTRp5l/BzKf02uv2TatBQ/YvXLTPxR4QgiJYepU\n+7G+9FLgs5+1Ncb/9KxmMW+eiayLgHeMGGFzrEm4SOZsC75vX4vITxL46mpbz9ySAg9EW/FJFrxI\nfLrauFKxjnbtmi5Rc/guNcsWZ8DK3O7ZU1gL3nla/vIX2zZH4Pv3t+8c0Lx18MWGAk8IKRj/+IcF\nSp18sgUedeoEPPusX1tnpR+YVcNy+HBz94clZwnicoJnC3y7diYGSS56N8eeq8DHBdkBzRd4ID5d\nbVIlOUfUIMHXig5z0fvmoXf07GkDluw5+DQcfrhdy4wZ9tmmKfXquP9+4JprzNtEgSeElD1vvAH8\n4AfAffelj4afMcPm0CsqbO782GOBF17wa+us9OwguREjzPXvktBE4Sx4N+cexKcee1iSG4ePwLtK\ncmGFYoD8CHxcutoNGzIpXOOIEnhfKzrMRe+Wzfla8MGCM7t2WYBhWgu+ogL4whfs77Tz746RI4F7\n7wX+8AcbCLY2WmGXCSHFor7eCr3cdptZNi5xjA91dTafedhhmX2f+ITNq+/cmdx+8WKrztWlS+P9\nvqlily0z93RYRTIfgQ9LcuPo1s0eSRZ8ZWW0wPoIfJcuTa8/SJyLPimLnSM7TSxg0fubNqWz4IPn\naE6xl9697VrcQCGtBQ8AX/yibZvjni8HKPCEEG9efNGE8he/MAtp0iT/tu+9Z4Fy48Zl9o0ZY8K/\nYEFy+/ffb5ygxuH2Jc3DL1vWNMDOMWgQsHKlCVkUK1bYXH2U0CSthU9KluIs+yiBr65OtmLzIfBh\n53Ai62NFd+pkg5BcXPSATaUsWtS8JDeO446zXAknn5y+bTlAgSekDVFXB9x1l/14/uY36dv/5jf2\nI3355ZYu9tFHk+e+HW6tetCCHzPGtu++m9x+8WLLDJaNs+p9LPjs+XfHwIGZKPkoopLcOHIV+A4d\nTICjBH7NmuR54MpKi8LfEbK4OKlUrKNPH3tt8L76TA9k9yMXFz1g35N3383ETkRNbcTRoYNF0Z97\nbvq25QAFnpA2xMMPAzfcYHOaN98cLgRR7NgBTJkCXHSRWWkXXWSC9uqrfu3fftvm3YNBciNG2I9w\nksDX1tocdpgFL2LCH2fBR62Bd7ilcnGBdlFJbhw+Ah8VYOeIWwvvI/Bxa+HTuOhVG6ebTZsLPjsS\nvzkW/Lhx5lH55S/NWxQcGBI/KPCEtCEmTTIx/NOfTDAnTvRvO2eOzZUfd5w9P+kk2/oWe5k501LM\nBtPE7rWXCX6SwC9ZYtswCx6wwDtn6YVRXW3TA1EC7wLv4ubho5LcOPr3t8/ULasKomrHktZS50vg\nw9z0SaVi486R1k3eu3e4BZ+mopsT9Oees4j45kTBt3Uo8G2APXuAyZOBO++0tcSkbfLRRzaHfvHF\nwPHHA1VVllXOl5kzbesyyfXubYLpmyZ2/nxg9Oim+8eMSRZ4Z52HWfCAza0vXRod1R+1Bt7hhDtK\n4OOS3Dj697f/terqpsc2b7bBUXMFvq7ORLa5Al9fn24OPvscubroq6vNPR8c3CUxdGhmQHDCCf7t\nSAYKfBvg2muBs88GbrzRopZd4gfStnjsMRPAiy4yt/Zpp1lUe1z98CAzZ9oPbjBQbdw4c70nsWGD\n/ciPGtX02JgxJsBbt0a3X7zYtlEW/JAh5saPCjBzAh8VZNe5s83xRrno3XKtJIEHwt30bolccwV+\nwwYTaZ85eNffIFu3JleSizuH+9vHA+BeF2y/YkW89yMMkcxg8vjj07UlBgW+zPnd72wO6z/+wyyc\ngw82C84n7zYpTf7nf4Avfcm/RKpj2jQTWLdk6FOfsh99Xxf722/bD24wyGzcOBPfsPrfQd57z7YH\nHdT02MEHN35NGO+/b6IRFaTl1sZHuenj1sA74pbKxSW5ccQJvNvnXhNF374mxtnpe53oN9eC98li\nF3eOtWutra8F3ru3fSdcoF5S/EIUn/qU3fMjjkjfllDgy5pdu4CbbgKOPBL40Y/MPfnEE2bFXXFF\n80t2kuJx//3AhAk2l37DDf7tVC1BTfCHcvx4K//5yivJ7ffssTXvwUIvQGbJW5IV7+qth1nwLugu\nTuCjIugdzjJ3c/XZLF1qlmlcudE4gY9LcuOIE/iVKxu/Jgon4NlufifwSZHkPXvaPc0WeJ889I6w\nqnRr16avxR4M1GuuwN9wg03fdOyYvi2hwJc1f/iD/WPddJP90wMm8nfdZYErTz1V1O6RlOzYAfzn\nfwKf+YyJ/D33ZCpdJfH+++YyDQp8t25WuOX//i+5/Xvv2ftHCXzSPPyCBfYjHTYHPmyYZQlLsuCj\n5t+BjMDHWfBR8++OQYPMsxU28I1LcuPo29f+z+Is+P33j+9DVLIbXwve5ZKPEngfF3vHjvbdCLrY\n0+aCd4OBNWvM0Kiubp7Ad+qUPCgi0VDgyxRV4Kc/tR/w7CQPV11lrtLvfCe9m7fY+K65zmbdOuCb\n37Ro3Mcfz2+fCsXzz9t8+be+ZYO0du0seNIH54bPdnUefTTw5pvJ34PsADtH794mekkDjfnzLe2n\nG2gG6djRBHrhwvC2u3aZZR1nwXfpYuIXZcH7CPzAgVbNzYlhkBUrbDlfnMi1b29z7FEC36NHfBY6\nIHeBB8Iz0bnnPhY8YMv5nNfBtU8j8G7KZPHizHmaI/AkNyjwZcrs2ebauuKKpok5KiqAn/zErKJ7\n7ok/T1x960Kydq2JU/fuwGWX+aU2ddTXA+efDzzwgP1QnX++eTdaG489ZoJ6wgm2PfJI4K9/9Wv7\n2muWotXNdzvGjzfLPGl1xcyZZk1FBcnNnRvffsGC8LaOAw+MtuCXLbN7GGfBA9FL5VTNMvcReCA8\nPmXFCrO+k/KRR62F/+gjP0s0TuA7dPBbRx6Wic4F+SV5EByDBzf+LNO66F2cx8KFfvELpGWgwJcp\njz5qQu5yMWfz2c/asdtuC/9hnTzZllF17WpegJdfbtn+xrF7N/DpT5uV+PnPAw89ZK5qX+6/36qY\n3XefCdH48cD3vpdukFBsduywKZWzzsrkMj/9dBPeuOQqjjffNO9FtkA5i9xZ6FG8/baVaQ0Lsho9\n2iz0KO/Kzp1mWccJ/MiRJgZha8iTIugdQ4aEW/CrV9vnFxVB74hbC79sWXyAniNK4Feu9BPXqHS1\na9bYsagsekHCBH7lSlspEJaHPwy37BCwAVJaC75XLxsQLFpEgS8mJSnwIjJCRHaISIpM18ShCvzx\nj5aIJG7Ufe+99k//+c9ngno2bLBlVGefbZG8111nqS/POCPZSmspJk2y9540ySzvr3/dph98Bh3b\ntwO33w6ceCLw1a/a9d56q/3gpcmjXmymT7f7cNppmX2f+5xtn346vu2uXfb5BXPAO0aMsMCzuCA5\nVVtOl+2ed4webSLuhDibRYtMuMMi6B0HHmjeojBxTFoD7xg+3MQ5OztfVJnYbOIs+Lg89kEGDMjN\ngu/Uyaz07HNUV/uXKw1z0a9aZQMMnwECYNe6fr1F9G/YYEGWaVPFjhhBC77YlKTAA7gfwFvF7kRr\n5fXX7UfqggviX7fffmYVfvCBWekXXGBW1uOPmwjOmgX88IeWHKVrV6uJHGZhtSR79th882GHZUo/\n/vjH9mN5883J7R9+2KyZG27I/LiddJKJ1U9+0npWErz2mm2Dc+gHHWQ/2v/8Z3zbefPMCxIm0O3a\n2b2PE/hly2zJU5zAA9EDQFdIJslFD4R7kxYvtu9fksCMGmXfz+yUte6cSSVDXZR9thdg504T3KQB\nAmDxCJs328NRV2deBN9gscGDmw4yfLLYOcJyya9cmZwmN0gwaNF9fmkrso0cmbHgu3Xz9x6Q/FFy\nAi8i5wPYBOAfxe5La+XRR80SOPPM5NcefbTV4z70ULOIjznG3Lk335xxBQ8caKI6e7Z/UFe+eO45\n+8H+z//MCHTnzsD115uwvfRSdNv6erP0DzvM6o47RICvfc3cyrNmtWj388brr5uLOihyIib4SevY\n3TUeckj48UMPtemPKBd7VICdw1nmSQIfJ7BO/N1yuiAugj7J+nTnyK5M99579l1OEmiX0z7bE/HB\nBzYQ9LHgw9bjV1fbZ+s7/z1oUGbdvmPlyuQkOY5998241YPtfd8faLzs0MVnZMdvJDFihA2M3nuP\n1nuxKCmBF5F9ANwG4Nsxr5kgItNFZPraqLRVbZg9e8wCP/10/9zNRx0FPPOM/Qj86U/hRR3OP99+\nQG+9tbBW75QpNvJ37mjH5ZebRXLbbdFtp061H5f/+I+m4nDWWRb1/Nhj+e9zHDt2AD/4Qbo66qom\n4mHJPo44wsQkKn85YALdpUu0i/uwwywLXFQ1tpkz7bP62MfCj++9t4lnlMDPn2+i1bVrdB/79bPA\nwTlzwtsHC9RE4QYQYQI/fLhfkpbhw5t6AJKy4AVxAh/0AvgmuXE4C979n23fbi52d+4k3FRDMJZg\n1ap0FnxwoDJvng2qfWIQgrj78c9/ps9iR/JDSQk8gNsB/FZVV0S9QFUfVNUqVa3qkybqo40wbZpZ\nDOefn9/ztm9vVvO77xYu4K6uzqYQTj3VipIE6dTJAuWmTYtex33PPfbDcs45TY9VVtq8vEvfWgjq\n6iwD3W23mUdh+nS/dsuWmYAfeWTTY07046z4WbMsQC5siRqQGdBFuelnzjQrvXPn6PcYMyZcnIHk\nCHrABmBjxzYd+NTUmFhGDS6CdO1q4hYm8D4DBMAEfsmSxt4M3zl8IH8CX1ubyT7nBhi+Au/66dpt\n3WqfYxoLvlcvMxCWLrUB1qhRySsIsnEu/R07bJBNCk/JCLyIHALgRAA/K3ZfWjOPPmr/mKeemv9z\nn3OOLVNrTh3x5vDGGzZYiZpqmDDB3JFhVvy//mUDkW98IzPVkM1559mP4FsFivZ4+GHzkFx/vd2j\nK6/0a/fGG7b95CebHjvsMLu+KIF3AXJR7nnAxLtjx+hIepeiNo6xY01YswPc6uv9BB6wQcicOY3F\n1bmHXd34JEaNaizwe/aYRe4r8MOGWbyCy1wH2HekosJPoLt3N3EMCrw7l6/AO0vZCbQ7l6/AZ7dP\nu0QOsAGXi6SfNy+9ex6wz3z0aEuV/ZnPpG9PcqdkBB7AcQAGA/hARFYD+A6As0XEo5QFASwYaPJk\nC0aLs7aaS5culsf+T38KTwaSb6ZMMfH67Gej+/Pd7wJ//3smCM3xgx+Yy/erX40+/5ln2vl93fR1\ndfbj31x+/3uzau66C/j2t82C96nuN326CXCYyHXqZCIfJfBLllhynDiB7tDBLOQwC37NGhOIJIE/\n9FD7fLKt+BUrLDo+LoLe8fGP22uD4uiqzKUVeOeVWbbM7lkaCx5oPA+/dKl5BqI8INkMHdr4GhYs\nsAGd7xy6s8BdoF1age/e3SLxXXuXaCaNix4wgZ8921z9Pvcvm86d7f5NmJC+LckPpSTwDwIYBuCQ\nhsevADwD4OS4RiTDs89a9G5S9HwuXH65DSRaeu5aFfjzn62KVFz07ZVXmrv99tsz+155xT6L730v\nvm3Pnpbl7/HHk1cHvPOOufv79Em3Bt/x4YcWEHjxxWYdXXihCYZPPfYZM8xCjvJEHHGEDQLCBh/O\nO/GJT8S/x2GHmcBnT1c4qz4sLiNI1Hp6N4DxteCBxm76d981ofAVt1GjzL3tlmb5RtA7nMAH5+GX\nLvWbf3dkB+rNn28C6btELdvFvmSJTT+kmZEMBuo1x4IHbGmsm8dvjgVPik/JCLyqblPV1e4BoAbA\nDlVlJJ0njzxiYteStZPHjjVr6uGHW+49ABOGxYuTVwJ07Wopd5991lyBK1eaePbvb+vlkzjvPBOD\nuDnsZcuA444zN+2xxwJ3321BiWl49FETzwsvtOf77mueiUmT4gcX9fUmvGFr2B1HHGGBWGHpYt96\ny6z8JAv4sMNsKVz28iwn2HEufsAEsHv3pgLvctSPHRvfHjARadeuscDPmWNuXt/5XzdIcAMb5673\nteD79zdvSbbA+8y/O4YOte+Mm2pwAu9Ljx42MA0K/NCh/gMEwPrr2jfXgr/sMlte2r598gCPlCYl\nI/DZqOotqnpxsfvRWtiwwVzaF1wQbenlAxELFHv99abRxvnE1aw/44zk137zmxZlf9VVthxn40ZL\n4RoXte044wz7QY/zSLic/dOmWTW+UaOAa69NlwnvmWfMyg1Gsp99tv34Ojd0GO+/b0FSVVXRr4kL\ntHvrLXvfpO9EVKDdzJkmLt27x7d3tbuz27/1llnPUWVeg3TubJ/tm29m9r37rr97HjBPRZcudq8A\n85oMHeqfZrVdO3u9+26vWGFxID5Bfo6hQ23uf8UKGzStWpXeAg6uhXcCn7b9smU2qFy1yj7bpHsY\nxh13WLBf2gh6UhqUrMCTdDz6qInQpZe2/HtdeKH9oLdkPvcpUyylrI9bsWNHiwv40Y+sct7LLyfP\nGTv22ccCEp94Inwd+LRpwJNPmlt+2DCL5r/nHvvR9a3Gt327Bcodf3zj/SeeaNsXXohu6yzgOAv+\ngAPM8swW+D17rH2Sex4wAWvfvnFVOFULVox77yCHHmrW9549mX1vveX3/o6TTrL7t22biezq1ems\nx732stwOL75oA7AXX4yO4YjikENskKGaGWykqUfuxHjhwsy6/rRz2MOGmRdLtfkC7yLx586186Xx\nAARpzsCAlAYU+DLhoYfMDeorbLkwYIDlhn/44ZZZYrZihQmDT6Iex1572Zz7rbemdyeed54JSfZy\nO1UT9gMOaLzM55RTzN3pO8B5/XUbfH360433DxhgFmuSwHfsmGwBhiW8mT/fhNJHYDt1MiF3li9g\nwrJ8uU1P+FBVZVH0LrHOypX2SCPwp55q53jppUxSJR8vTpDjjzdx/NOf7PpPOSVd++OOM6t34UL7\nTDt2TJ6iCFJVZdM5L77YfIE/7jibonrtNbuG5gg8YPfw9dfDl1iS8ocCXwa8+aYJwVe+Urj3vPhi\n+wEKulPzhbOM0wh8Lpx+url1H3mk8f7nnjPL+8YbTQAd7dubF2Pq1Mxa5TimTbM2Rx/d9NhJJ1ki\nkOzlZY433/RzsR91lLlkg3Por75q28MPT+4jYAGHb75pUxyAFegB/GM6TjzRrMS//c2e+wb4BTnm\nGLsXzzxjnpOqqvTuYdff66+3z813gOJwA7GXXrL7P25c0zwMceyzjwnqc8+ZwLtyuGlwXoevfc22\nRx2Vrr0T+MmTLfCWAt9GUdVW+xg3bpwS1YsuUu3WTXXz5sK95+bNqp06qV51VfJrFy5U/dWvVKdM\nUd21K/n1J52keuCBufcxDZdfrrrXXqrLltnznTtVP/Yx1UGD7O9sZs5UBVR//evkcx91lOrhh4cf\ne+opO88//tH02M6dqh07qn7rW8nvsXChnefeezP7Tj9ddcgQ1fr65Paqqq++aud4/HF7fs45qv37\n+7dXVf3EJ1SPOML+/t73VNu3V62t9W+vqnrGGfZ9BlTvvjtdW1XVPXtUTznF3vtzn0vfvr7ervsL\nX7DP/9vfTn+OO++0/h9wgH0mzenD0KF2jiOPTN9+927VgQNVO3SwcyxalP4cpHQBMF09NLLoIp3L\ngwKvunKl/RNfc03h3/uCC1T32Sd6YFFfr3rzzaoVFfZNA1SPOUZ19eroc65fb6//3vdaps9RfPCB\n/ZhfeKH1+5ZbrL9PPRX++vp6E88kAampsftz3XXhx7dsMSG6/vqmx9580/rwxBN+13DQQaonnmh/\n19baAOzaa/3aqpoo9OihetllqnV1qpWVqpdc4t9e1e63iOpHH6nuu6/qqaema6+qOm+efa7DhmUG\nXM2httZvQBnGRRdlvrN//nP69jNmWFsR1Zdfbl4fvv51O8cjjzSv/Y9/bO333TfdII2UPhT4NsI1\n15hAFGOE/q9/2TfonnvCj193nR2/+GLV995Tfegh1c6dVauqVLdvD29z333WZubMFut2JN//vr33\nyJG2veCC+Nd//euqXbpEX4uq6nPP2bmefTb6NUcdZZ9JNj/7mbVdscKv/9ddZ4OjjRsznoEXXvBr\n6zj/fLOev/3tdIMLxxtvWLvDD2/e+5cKr72meu65qr/5TfPEsa5OdcwY1RtuaH4f5s5VvfLKcA+S\nDxs2qHbtqnrWWc3vAylNKPBtgOXLza18+eXF68Nxx6kOGKC6bVvj/T//uX27rryy8Q/klCm2P6rP\nn/iE6tixLdffOOrqVH/xC7PMb789XrhVVadOTRbv66830d26Nfo1t9xilt66dY33n3uuuVl9ceJ6\n/fXmou7WLb04LFum2ru3nee009KLW3293XNAdfTotm05lsK1v/lmbl4QUppQ4NsAF1xgbuXly4vX\nh2nT7Fv0ta9l9k2caIJ11lkmmtk4S/nJJxvvnzPH9v/0py3a5byxbVuyG3z8+OQ51Oy5b1UTh/33\nVz3vPP/+1NerXnqp/tu1HJyPT8NLL5m4r1rVvPaqZrnPndv89oSQaCjwZc4LL9jd+8EPit0T1e9+\n1/py6aVmmQOqxx8fHVy1a5e5pHv1Ul2yJLP/9NNV995btbq6MP3OB6eeqjp8ePgxN7+e5KbdvVu1\nZ8/GUwJu+mPixHT92b5d9cwzVe+6K107QkjrwVfgPSokk1Jj505Lwzp8uC0FKjZ33ml9+vWvbTnY\nFVcA//3ftjwojA4dbEna+PHAaafZcqKXXwaefhr48Y/T5dwuNqedZsvlFi5smu982jRLnpOd4Cab\nigpbiz9xomWt69bNljdVVNgSvjR06mQ5/AkhhOvgWyH/9V8mKPff33h9drHo0MEEvboaWLsW+NWv\nosXdMWKEidiSJbZm90tfsvXe115bkC7nDVeWd+rUpseefdbS5X7qU8nnueQSy3j35JPmYH/ySVu/\n3atXXrtLCGlD0IJvZbz/vlnM555bejWW4yq3hXHccVbt68EHLTPcV7+aLqFIKTB4sGWZmzrVcuI7\nVC3hywkn+F3TJz9pHpmf/tTaLloEfOtbLdZtQkgbgBZ8K0IVuPpqE4yf/azYvckPgwbZgOXqq5Ot\n/lLltNMs69m6dZl9ixZZZjnfPOgiwM9/bpnPLrvMBP///b8W6CwhpM1AgW9FPP20zVffcUf62s6k\n5fjSl6wW+6RJmX1uHvzkk/3Pc9ppVvTmrLPsXnfunN9+EkLaFmIBea2TqqoqnT59erG7URBULaf3\nxo3m1q7g5EpJMX68Ve+aM8cC64YOtQpeweIthBCSD0RkhqrGFJE2KBOthGeftYIyv/kNxb0Uufxy\nYMIEs9x37wY+/BC4775i94oQ0pYpGQteRDoCeADAiQB6AVgM4Puq+reoNm3Fgle1alIffWRzu60t\nEK0tsGMHcOyxZsGLWCnY+fOBdpwEI4TkGV8LvpR+fioAfAjgWADdAdwI4HERGVzEPpUEL75oNZ2v\nv57iXqp06gT85S+2Fv7004Hnn6e4E0KKS8k4e1W1FsAtgV1Pi8hSAOMALCtGn0qFO++0oLpLLy12\nT0gc/foBs2YVuxeEEGKUrI0hIn0BjAQwt9h9KSbvvWeBWtdcUxpJbQghhLQOSlLgRaQDgD8AmKiq\nC7KOTRCR6SIyfe3atcXpYAH57W8t/SvXRBNCCElDyQm8iLQD8DCAXQCuzj6uqg+qapWqVvVpTUnL\nm8Hu3Zaf/HOfM/cvIYQQ4kvJzMEDgIgIgN8C6AvgVFXdXeQuFZUXXrD87px7J4QQkpaSEngAvwRw\nEIATVXV7sTtTbB57DOjePV02NEIIIQQoIRe9iAwCcAWAQwCsFpGahsdFRe5aUdixA5gyBfjCF1pv\njnZCCCHFo2QseFVdDkCK3Y9S4fnngS1brE44IYQQkpaSseBJYx57DOjd28qNEkIIIWmhwJcg27cD\nTz1lVcU6dCh2bwghhLRGKPAlyNSpQE0N3fOEEEKaDwW+BHnsMWDffa14CSGEENIcKPAlRk0N8PTT\nwNlnsywsIYSQ5kOBLzGeecbm4OmeJ4QQkgsU+BLjsceA/fYDPvWpYveEEEJIa4YCX0Js2mQBduec\nYwVmCCGEkOZCgS8hnngC2LkT+NKXit0TQgghrR0KfAnx+98Do0YB48YVuyeEEEJaOxT4EmHxYuCV\nV4BLLgGECXsJIYTkCAW+RHjgAVsWd8klxe4JIYSQcoACXwLU1AC//S3wxS8C/fsXuzeEEELKAQp8\nCfDQQ8DmzcC11xa7J4QQQsoFCnyR2boVuOMO4OijgU9+sti9IYQQUi4wGWqRueceoLoa+MtfGFxH\nCCEkf5SUBS8ivUTkzyJSKyLLReTCYvepJXnjDeCuu4Dzz6f1TgghJL+UmgV/P4BdAPoCOATAMyLy\njqrOLW638s/ChcC55wIDBlgEPSGEEJJPSsaCF5GuAM4GcJOq1qjqKwCeAlBWed02bgTuvRc44ggr\nKjN5MtCzZ7F7RQghpNwoJQt+JIA9qrowsO8dAAWpil5fH57//eCD8/seixYBdXXAUUcBEycCw4bl\n7/yEEEKIo5QEfm8AW7L2bQbQLbhDRCYAmAAAAwcObPFO5VPgAeCss+zBdLSEEEJaklIS+BoA+2Tt\n2wfA1uAOVX0QwIMAUFVVpfl683YRkxVPPJGvdyCEEEIKR8nMwQNYCKBCREYE9o0FULAAO9WmD0II\nIaQ1UjICr6q1ACYDuE1EuorIUQA+D+Dh4vaMEEIIaX2UjMA3cBWAzgCqATwK4MpyXCJHCCGEtDSl\nNAcPVd0A4Mxi94MQQghp7ZSaBU8IIYSQPECBJ4QQQsoQCjwhhBBShlDgCSGEkDJEtBUv9haRtQCW\n5/m0lQDW5fmcrYW2fO0Ar78tX39bvnagbV9/a7z2QaraJ+lFrVrgWwIRma6qVcXuRzFoy9cO8Prb\n8vW35WsH2vb1l/O100VPCCGElCEUeEIIIaQMocA35cFid6CItOVrB3j9bfn62/K1A237+sv22jkH\nTwghhJQhtOAJIYSQMiFPhiMAAAZCSURBVIQCTwghhJQhFPgGRKSXiPxZRGpFZLmIXFjsPrUkIvKS\niOwQkZqGx3uBYxc2fAa1IjJFRHoVs6+5IiJXi8h0EdkpIr/LOnaCiCwQkW0iMk1EBgWOdRSR/xWR\nLSKyWkS+XfDO54Go6xeRwSKige9AjYjcFDje6q+/4Rp+2/B93iois0Tks4HjZXv/4669Ldx7ABCR\nSSKyquE6ForI5YFjZXvv/42q8mFxCI8CeAzA3gA+BWAzgNHF7lcLXu9LAC4P2T8awFYAxzR8Fo8A\n+GOx+5vjtZ4Fq1L4SwC/C+yvbLjP5wDoBODHAN4IHL8bwP8B6AngIACrAZxS7OvJ4/UPBqAAKiLa\ntfrrB9AVwC0N19oOwOkN3+/B5X7/E6697O99w3WMBtCx4e9RDdcxrtzv/b+vo9gdKIVHwz/CLgAj\nA/seBvDDYvetBa85SuDvAvBI4Pmwhs+mW7H7nIdrviNL4CYAeC3re7AdwKiG5ysBfCZw/Ha04sFO\nyPUn/ciX1fUHrmM2gLPb2v3PuvY2d+8BHAhgFYBz28q9p4veGAlgj6ouDOx7Bzb6K2fuFpF1IvKq\niBzXsG807NoBAKq6GA2DnyL0r6XJvtZaAIsBjBaRngD2Cx5H+X4nlovIChF5SEQqAaBcr19E+sK+\ny3PRxu5/1rU7yv7ei8gDIrINwAKYwE9FG7n3FHhjbwBbsvZtBtCtCH0pFNcBGAqgP2wd6F9FZBjs\ns9ic9dpy/SzirnXvwPPsY+XCOgCfADAI5rbsBuAPDcfK7vpFpAPs+iaq6gK0ofsfcu1t5t6r6lWw\nvh8NYDKAnWgj976i2B0oEWoA7JO1bx/YfFVZoqpvBp5OFJELAJyKtvVZxF1rTeD5jqxjZYGq1gCY\n3vB0jYhcDWCViHRDmV2/iLSDTbvtAnB1w+42cf/Drr0t3XsAUNU6AK+IyMUArkQbufe04I2FACpE\nZERg31g0dmWVOwpAYNc81u0UkaEAOsI+o3Ij+1q7wmIO5qrqRpg7b2zg9eX+nXBZr9qV0/WLiAD4\nLYC+AM5W1d0Nh8r+/sdcezZlee9DqEDDPUaZ33sADLJzDwB/hEXSdwVwFMo4ih5ADwAnw6JHKwBc\nBKAWNj83GjZdcXTDZzEJrTC4JOt6Kxqu9W6YJeOuu0/DfT67Yd+P0DiS9ocAXoZF0o6C/dO3vkja\n6OsfDws8agegN2wVybQyvP5fAXgDwN5Z+8v+/sdce9nfewD7Ajgf5nJv3/CbVwvgjLZw71UZRR/8\nMvQCMKXhC/ABgAuL3acWvNY+AN6CuZw2NfwAnBQ4fmHDZ1AL4C8AehW7zzle7y0wCyX4uKXh2Imw\n4JvtsJUFgwPtOgL4X9iAZw2Abxf7WvJ5/QAuALC04T6vAvB7AP3K6fphc8wKc7XWBB4Xlfv9j7v2\nNnLv+zSI9KaG65gD4KuB42V7792DuegJIYSQMoRz8IQQQkgZQoEnhBBCyhAKPCGEEFKGUOAJIYSQ\nMoQCTwghhJQhFHhCCCGkDKHAE0JCaagX/sVi94MQ0jwo8IS0MRqEO+7xu4aX7gfgr0XsKiEkB5jo\nhpA2hoj0Czw9HcD/wMTcsV1VsyttEUJaGbTgCWljqOpq94Cl8Wy0z4l70EUvIoMbnp8vIi+LyHYR\nmSkiHxeRMSLymojUisgrIjIk+H4i8jkRmSEiO0RkqYjcKSJ7FfzCCWljUOAJIWm4FVaY41DY4OBR\nAL8AcAOAw2GFO+51LxaRk2F1xu+DFTK6DMAXAdxV0F4T0gahwBNC0vBTVZ2qqgsA/ATAwQB+oarT\nVHUuTMg/HXj9DQB+rKoPqepiVZ0G4DoAX2soZUoIaSEqit0BQkirYnbg7zUN2zlZ+7qKSBdV3QZg\nHIDDReS6wGvaAegMoB+skhkhpAWgwBNC0rA78LfG7GsX2N4K4ImQc63Nb9cIIUEo8ISQluRtAKNU\n9f1id4SQtgYFnhDSktwG4GkRWQ7gcQB7AIwBcLiqfq+oPSOkzGGQHSGkxVDV5wCcBgu8+1fD43oA\nHxSzX4S0BZjohhBCCClDaMETQgghZQgFnhBCCClDKPCEEEJIGUKBJ4QQQsoQCjwhhBBShlDgCSGE\nkDKEAk8IIYSUIRR4QgghpAyhwBNCCCFlyP8HnGltN8ztx3sAAAAASUVORK5CYII=\n",
      "text/plain": [
       "<matplotlib.figure.Figure at 0x115b73b00>"
      ]
     },
     "metadata": {},
     "output_type": "display_data"
    }
   ],
   "source": [
    "plt.figure(figsize=(8,4))\n",
    "plt.plot(np.arange(len(sequence)), sequence, \"b-\")\n",
    "plt.plot(t[:n_steps], sequence[:n_steps], \"b-\", linewidth=3)\n",
    "plt.xlabel(\"Time\")\n",
    "plt.ylabel(\"Value\")\n",
    "plt.show()"
   ]
  },
  {
   "cell_type": "code",
   "execution_count": 65,
   "metadata": {
    "collapsed": false
   },
   "outputs": [
    {
     "name": "stdout",
     "output_type": "stream",
     "text": [
      "INFO:tensorflow:Restoring parameters from ./my_time_series_model\n",
      "Saving figure creative_sequence_plot\n"
     ]
    },
    {
     "data": {
      "image/png": "iVBORw0KGgoAAAANSUhEUgAAAxAAAAEYCAYAAADMNRC5AAAABHNCSVQICAgIfAhkiAAAAAlwSFlz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\nx3361m22Kf+5Z5whffGL0tVXt5/glJoyxVfk7qi