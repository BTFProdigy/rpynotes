{
 "cells": [
  {
   "cell_type": "markdown",
   "metadata": {},
   "source": [
    "**Math - Linear Algebra**\n",
    "\n",
    "*Linear Algebra is the branch of mathematics that studies [vector spaces](https://en.wikipedia.org/wiki/Vector_space) and linear transformations between vector spaces, such as rotating a shape, scaling it up or down, translating it (ie. moving it), etc.*\n",
    "\n",
    "*Machine Learning relies heavily on Linear Algebra, so it is essential to understand what vectors and matrices are, what operations you can perform with them, and how they can be useful.*"
   ]
  },
  {
   "cell_type": "markdown",
   "metadata": {},
   "source": [
    "Before we start, let's ensure that this notebook works well in both Python 2 and 3:"
   ]
  },
  {
   "cell_type": "code",
   "execution_count": 1,
   "metadata": {},
   "outputs": [],
   "source": [
    "from __future__ import division, print_function, unicode_literals"
   ]
  },
  {
   "cell_type": "markdown",
   "metadata": {},
   "source": [
    "# Vectors\n",
    "## Definition\n",
    "A vector is a quantity defined by a magnitude and a direction. For example, a rocket's velocity is a 3-dimensional vector: its magnitude is the speed of the rocket, and its direction is (hopefully) up. A vector can be represented by an array of numbers called *scalars*. Each scalar corresponds to the magnitude of the vector with regards to each dimension.\n",
    "\n",
    "For example, say the rocket is going up at a slight angle: it has a vertical speed of 5,000 m/s, and also a slight speed towards the East at 10 m/s, and a slight speed towards the North at 50 m/s. The rocket's velocity may be represented by the following vector:\n",
    "\n",
    "**velocity** $= \\begin{pmatrix}\n",
    "10 \\\\\n",
    "50 \\\\\n",
    "5000 \\\\\n",
    "\\end{pmatrix}$\n",
    "\n",
    "Note: by convention vectors are generally presented in the form of columns. Also, vector names are generally lowercase to distinguish them from matrices (which we will discuss below) and in bold (when possible) to distinguish them from simple scalar values such as ${meters\\_per\\_second} = 5026$.\n",
    "\n",
    "A list of N numbers may also represent the coordinates of a point in an N-dimensional space, so it is quite frequent to represent vectors as simple points instead of arrows. A vector with 1 element may be represented as an arrow or a point on an axis, a vector with 2 elements is an arrow or a point on a plane, a vector with 3 elements is an arrow or point in space, and a vector with N elements is an arrow or a point in an N-dimensional space… which most people find hard to imagine.\n",
    "\n",
    "\n",
    "##  Purpose\n",
    "Vectors have many purposes in Machine Learning, most notably to represent observations and predictions. For example, say we built a Machine Learning system to classify videos into 3 categories (good, spam, clickbait) based on what we know about them. For each video, we would have a vector representing what we know about it, such as:\n",
    "\n",
    "**video** $= \\begin{pmatrix}\n",
    "10.5 \\\\\n",
    "5.2 \\\\\n",
    "3.25 \\\\\n",
    "7.0\n",
    "\\end{pmatrix}$\n",
    "\n",
    "This vector could represent a video that lasts 10.5 minutes, but only 5.2% viewers watch for more than a minute, it gets 3.25 views per day on average, and it was flagged 7 times as spam. As you can see, each axis may have a different meaning.\n",
    "\n",
    "Based on this vector our Machine Learning system may predict that there is an 80% probability that it is a spam video, 18% that it is clickbait, and 2% that it is a good video. This could be represented as the following vector:\n",
    "\n",
    "**class_probabilities** $= \\begin{pmatrix}\n",
    "0.80 \\\\\n",
    "0.18 \\\\\n",
    "0.02\n",
    "\\end{pmatrix}$"
   ]
  },
  {
   "cell_type": "markdown",
   "metadata": {},
   "source": [
    "## Vectors in python\n",
    "In python, a vector can be represented in many ways, the simplest being a regular python list of numbers:"
   ]
  },
  {
   "cell_type": "code",
   "execution_count": 2,
   "metadata": {},
   "outputs": [
    {
     "data": {
      "text/plain": [
       "[10.5, 5.2, 3.25, 7.0]"
      ]
     },
     "execution_count": 2,
     "metadata": {},
     "output_type": "execute_result"
    }
   ],
   "source": [
    "[10.5, 5.2, 3.25, 7.0]"
   ]
  },
  {
   "cell_type": "markdown",
   "metadata": {},
   "source": [
    "Since we plan to do quite a lot of scientific calculations, it is much better to use NumPy's `ndarray`, which provides a lot of convenient and optimized implementations of essential mathematical operations on vectors (for more details about NumPy, check out the [NumPy tutorial](tools_numpy.ipynb)). For example:"
   ]
  },
  {
   "cell_type": "code",
   "execution_count": 3,
   "metadata": {},
   "outputs": [
    {
     "data": {
      "text/plain": [
       "array([ 10.5 ,   5.2 ,   3.25,   7.  ])"
      ]
     },
     "execution_count": 3,
     "metadata": {},
     "output_type": "execute_result"
    }
   ],
   "source": [
    "import numpy as np\n",
    "video = np.array([10.5, 5.2, 3.25, 7.0])\n",
    "video"
   ]
  },
  {
   "cell_type": "markdown",
   "metadata": {},
   "source": [
    "The size of a vector can be obtained using the `size` attribute:"
   ]
  },
  {
   "cell_type": "code",
   "execution_count": 4,
   "metadata": {},
   "outputs": [
    {
     "data": {
      "text/plain": [
       "4"
      ]
     },
     "execution_count": 4,
     "metadata": {},
     "output_type": "execute_result"
    }
   ],
   "source": [
    "video.size"
   ]
  },
  {
   "cell_type": "markdown",
   "metadata": {},
   "source": [
    "The $i^{th}$ element (also called *entry* or *item*) of a vector $\\textbf{v}$ is noted $\\textbf{v}_i$.\n",
    "\n",
    "Note that indices in mathematics generally start at 1, but in programming they usually start at 0. So to access $\\textbf{video}_3$ programmatically, we would write:"
   ]
  },
  {
   "cell_type": "code",
   "execution_count": 5,
   "metadata": {},
   "outputs": [
    {
     "data": {
      "text/plain": [
       "3.25"
      ]
     },
     "execution_count": 5,
     "metadata": {},
     "output_type": "execute_result"
    }
   ],
   "source": [
    "video[2]  # 3rd element"
   ]
  },
  {
   "cell_type": "markdown",
   "metadata": {},
   "source": [
    "## Plotting vectors\n",
    "To plot vectors we will use matplotlib, so let's start by importing it (for details about matplotlib, check the [matplotlib tutorial](tools_matplotlib.ipynb)):"
   ]
  },
  {
   "cell_type": "code",
   "execution_count": 6,
   "metadata": {},
   "outputs": [],
   "source": [
    "%matplotlib inline\n",
    "import matplotlib.pyplot as plt"
   ]
  },
  {
   "cell_type": "markdown",
   "metadata": {},
   "source": [
    "### 2D vectors\n",
    "Let's create a couple very simple 2D vectors to plot:"
   ]
  },
  {
   "cell_type": "code",
   "execution_count": 7,
   "metadata": {
    "collapsed": true
   },
   "outputs": [],
   "source": [
    "u = np.array([2, 5])\n",
    "v = np.array([3, 1])"
   ]
  },
  {
   "cell_type": "markdown",
   "metadata": {},
   "source": [
    "These vectors each have 2 elements, so they can easily be represented graphically on a 2D graph, for example as points:"
   ]
  },
  {
   "cell_type": "code",
   "execution_count": 8,
   "metadata": {},
   "outputs": [
    {
     "data": {
      "image/png": "iVBORw0KGgoAAAANSUhEUgAAAWoAAAEACAYAAACatzzfAAAABHNCSVQICAgIfAhkiAAAAAlwSFlz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\nAAAAAElFTkSuQmCC\n",
      "text/plain": [
       "<matplotlib.figure.Figure at 0x7f6e352e72e8>"
      ]
     },
     "metadata": {},
     "output_type": "display_data"
    }
   ],
   "source": [
    "x_coords, y_coords = zip(u, v)\n",
    "plt.scatter(x_coords, y_coords, color=[\"r\",\"b\"])\n",
    "plt.axis([0, 9, 0, 6])\n",
    "plt.grid()\n",
    "plt.show()"
   ]
  },
  {
   "cell_type": "markdown",
   "metadata": {},
   "source": [
    "Vectors can also be represented as arrows. Let's create a small convenience function to draw nice arrows:"
   ]
  },
  {
   "cell_type": "code",
   "execution_count": 9,
   "metadata": {
    "collapsed": true
   },
   "outputs": [],
   "source": [
    "def plot_vector2d(vector2d, origin=[0, 0], **options):\n",
    "    return plt.arrow(origin[0], origin[1], vector2d[0], vector2d[1],\n",
    "              head_width=0.2, head_length=0.3, length_includes_head=True,\n",
    "              **options)"
   ]
  },
  {
   "cell_type": "markdown",
   "metadata": {},
   "source": [
    "Now let's draw the vectors **u** and **v** as arrows:"
   ]
  },
  {
   "cell_type": "code",
   "execution_count": 10,
   "metadata": {},
   "outputs": [
    {
     "data": {
      "image/png": "iVBORw0KGgoAAAANSUhEUgAAAWoAAAEACAYAAACatzzfAAAABHNCSVQICAgIfAhkiAAAAAlwSFlz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\np0ItIpKcCrWISHIq1CIiyf0/qw4ATRntajAAAAAASUVORK5CYII=\n",
      "text/plain": [
       "<matplotlib.figure.Figure at 0x7f6e32fc3c50>"
      ]
     },
     "metadata": {},
     "output_type": "display_data"
    }
   ],
   "source": [
    "plot_vector2d(u, color=\"r\")\n",
    "plot_vector2d(v, color=\"b\")\n",
    "plt.axis([0, 9, 0, 6])\n",
    "plt.grid()\n",
    "plt.show()"
   ]
  },
  {
   "cell_type": "markdown",
   "metadata": {},
   "source": [
    "### 3D vectors\n",
    "Plotting 3D vectors is also relatively straightforward. First let's create two 3D vectors:"
   ]
  },
  {
   "cell_type": "code",
   "execution_count": 11,
   "metadata": {
    "collapsed": true
   },
   "outputs": [],
   "source": [
    "a = np.array([1, 2, 8])\n",
    "b = np.array([5, 6, 3])"
   ]
  },
  {
   "cell_type": "markdown",
   "metadata": {},
   "source": [
    "Now let's plot them using matplotlib's `Axes3D`:"
   ]
  },
  {
   "cell_type": "code",
   "execution_count": 12,
   "metadata": {},
   "outputs": [
    {
     "data": {
      "image/png": "iVBORw0KGgoAAAANSUhEUgAAAV0AAADtCAYAAAAcNaZ2AAAABHNCSVQICAgIfAhkiAAAAAlwSFlz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\n",
      "text/plain": [
       "<matplotlib.figure.Figure at 0x7f6e33054240>"
      ]
     },
     "metadata": {},
     "output_type": "display_data"
    }
   ],
   "source": [
    "from mpl_toolkits.mplot3d import Axes3D\n",
    "\n",
    "subplot3d = plt.subplot(111, projection='3d')\n",
    "x_coords, y_coords, z_coords = zip(a,b)\n",
    "subplot3d.scatter(x_coords, y_coords, z_coords)\n",
    "subplot3d.set_zlim3d([0, 9])\n",
    "plt.show()"
   ]
  },
  {
   "cell_type": "markdown",
   "metadata": {},
   "source": [
    "It is a bit hard to visualize exactly where in space these two points are, so let's add vertical lines. We'll create a small convenience function to plot a list of 3d vectors with vertical lines attached:"
   ]
  },
  {
   "cell_type": "code",
   "execution_count": 13,
   "metadata": {},
   "outputs": [
    {
     "data": {
      "image/png": "iVBORw0KGgoAAAANSUhEUgAAAV0AAADtCAYAAAAcNaZ2AAAABHNCSVQICAgIfAhkiAAAAAlwSFlz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\nJEk6COATQRCG/+uf/h3A9jJOyYOL8f8Bx+4YbfPZ9uIAAAAASUVORK5CYII=\n",
      "text/plain": [
       "<matplotlib.figure.Figure at 0x7f6e32f04e48>"
      ]
     },
     "metadata": {},
     "output_type": "display_data"
    }
   ],
   "source": [
    "def plot_vectors3d(ax, vectors3d, z0, **options):\n",
    "    for v in vectors3d:\n",
    "        x, y, z = v\n",
    "        ax.plot([x,x], [y,y], [z0, z], color=\"gray\", linestyle='dotted', marker=\".\")\n",
    "    x_coords, y_coords, z_coords = zip(*vectors3d)\n",
    "    ax.scatter(x_coords, y_coords, z_coords, **options)\n",
    "\n",
    "subplot3d = plt.subplot(111, projection='3d')\n",
    "subplot3d.set_zlim([0, 9])\n",
    "plot_vectors3d(subplot3d, [a,b], 0, color=(\"r\",\"b\"))\n",
    "plt.show()"
   ]
  },
  {
   "cell_type": "markdown",
   "metadata": {},
   "source": [
    "## Norm\n",
    "The norm of a vector $\\textbf{u}$, noted $\\left \\Vert \\textbf{u} \\right \\|$, is a measure of the length (a.k.a. the magnitude) of $\\textbf{u}$. There are multiple possible norms, but the most common one (and the only one we will discuss here) is the Euclidian norm, which is defined as:\n",
    "\n",
    "$\\left \\Vert \\textbf{u} \\right \\| = \\sqrt{\\sum_{i}{\\textbf{u}_i}^2}$\n",
    "\n",
    "We could implement this easily in pure python, recalling that $\\sqrt x = x^{\\frac{1}{2}}$"
   ]
  },
  {
   "cell_type": "code",
   "execution_count": 14,
   "metadata": {},
   "outputs": [
    {
     "name": "stdout",
     "output_type": "stream",
     "text": [
      "|| [2 5] || =\n"
     ]
    },
    {
     "data": {
      "text/plain": [
       "5.3851648071345037"
      ]
     },
     "execution_count": 14,
     "metadata": {},
     "output_type": "execute_result"
    }
   ],
   "source": [
    "def vector_norm(vector):\n",
    "    squares = [element**2 for element in vector]\n",
    "    return sum(squares)**0.5\n",
    "\n",
    "print(\"||\", u, \"|| =\")\n",
    "vector_norm(u)"
   ]
  },
  {
   "cell_type": "markdown",
   "metadata": {},
   "source": [
    "However, it is much more efficient to use NumPy's `norm` function, available in the `linalg` (**Lin**ear **Alg**ebra) module:"
   ]
  },
  {
   "cell_type": "code",
   "execution_count": 15,
   "metadata": {},
   "outputs": [
    {
     "data": {
      "text/plain": [
       "5.3851648071345037"
      ]
     },
     "execution_count": 15,
     "metadata": {},
     "output_type": "execute_result"
    }
   ],
   "source": [
    "import numpy.linalg as LA\n",
    "LA.norm(u)"
   ]
  },
  {
   "cell_type": "markdown",
   "metadata": {},
   "source": [
    "Let's plot a little diagram to confirm that the length of vector $\\textbf{v}$ is indeed $\\approx5.4$:"
   ]
  },
  {
   "cell_type": "code",
   "execution_count": 16,
   "metadata": {},
   "outputs": [
    {
     "data": {
      "image/png": "iVBORw0KGgoAAAANSUhEUgAAAWcAAAEACAYAAABvSbdvAAAABHNCSVQICAgIfAhkiAAAAAlwSFlz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\nzhn0/wHrBhfDSiWHRwAAAABJRU5ErkJggg==\n",
      "text/plain": [
       "<matplotlib.figure.Figure at 0x7f6e32e93400>"
      ]
     },
     "metadata": {},
     "output_type": "display_data"
    }
   ],
   "source": [
    "radius = LA.norm(u)\n",
    "plt.gca().add_artist(plt.Circle((0,0), radius, color=\"#DDDDDD\"))\n",
    "plot_vector2d(u, color=\"red\")\n",
    "plt.axis([0, 8.7, 0, 6])\n",
    "plt.grid()\n",
    "plt.show()"
   ]
  },
  {
   "cell_type": "markdown",
   "metadata": {},
   "source": [
    "Looks about right!"
   ]
  },
  {
   "cell_type": "markdown",
   "metadata": {},
   "source": [
    "## Addition\n",
    "Vectors of same size can be added together. Addition is performed *elementwise*:"
   ]
  },
  {
   "cell_type": "code",
   "execution_count": 17,
   "metadata": {},
   "outputs": [
    {
     "name": "stdout",
     "output_type": "stream",
     "text": [
      "  [2 5]\n",
      "+ [3 1]\n",
      "----------\n"
     ]
    },
    {
     "data": {
      "text/plain": [
       "array([5, 6])"
      ]
     },
     "execution_count": 17,
     "metadata": {},
     "output_type": "execute_result"
    }
   ],
   "source": [
    "print(\" \", u)\n",
    "print(\"+\", v)\n",
    "print(\"-\"*10)\n",
    "u + v"
   ]
  },
  {
   "cell_type": "markdown",
   "metadata": {},
   "source": [
    "Let's look at what vector addition looks like graphically:"
   ]
  },
  {
   "cell_type": "code",
   "execution_count": 18,
   "metadata": {
    "scrolled": true
   },
   "outputs": [
    {
     "data": {
      "image/png": "iVBORw0KGgoAAAANSUhEUgAAAWoAAAEACAYAAACatzzfAAAABHNCSVQICAgIfAhkiAAAAAlwSFlz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\nBksAAAAASUVORK5CYII=\n",
      "text/plain": [
       "<matplotlib.figure.Figure at 0x7f6e32e64c88>"
      ]
     },
     "metadata": {},
     "output_type": "display_data"
    }
   ],
   "source": [
    "plot_vector2d(u, color=\"r\")\n",
    "plot_vector2d(v, color=\"b\")\n",
    "plot_vector2d(v, origin=u, color=\"b\", linestyle=\"dotted\")\n",
    "plot_vector2d(u, origin=v, color=\"r\", linestyle=\"dotted\")\n",
    "plot_vector2d(u+v, color=\"g\")\n",
    "plt.axis([0, 9, 0, 7])\n",
    "plt.text(0.7, 3, \"u\", color=\"r\", fontsize=18)\n",
    "plt.text(4, 3, \"u\", color=\"r\", fontsize=18)\n",
    "plt.text(1.8, 0.2, \"v\", color=\"b\", fontsize=18)\n",
    "plt.text(3.1, 5.6, \"v\", color=\"b\", fontsize=18)\n",
    "plt.text(2.4, 2.5, \"u+v\", color=\"g\", fontsize=18)\n",
    "plt.grid()\n",
    "plt.show()"
   ]
  },
  {
   "cell_type": "markdown",
   "metadata": {},
   "source": [
    "Vector addition is **commutative**, meaning that $\\textbf{u} + \\textbf{v} = \\textbf{v} + \\textbf{u}$. You can see it on the previous image: following $\\textbf{u}$ *then* $\\textbf{v}$ leads to the same point as following $\\textbf{v}$ *then* $\\textbf{u}$.\n",
    "\n",
    "Vector addition is also **associative**, meaning that $\\textbf{u} + (\\textbf{v} + \\textbf{w}) = (\\textbf{u} + \\textbf{v}) + \\textbf{w}$."
   ]
  },
  {
   "cell_type": "markdown",
   "metadata": {},
   "source": [
    "If you have a shape defined by a number of points (vectors), and you add a vector $\\textbf{v}$ to all of these points, then the whole shape gets shifted by $\\textbf{v}$. This is called a [geometric translation](https://en.wikipedia.org/wiki/Translation_%28geometry%29):"
   ]
  },
  {
   "cell_type": "code",
   "execution_count": 19,
   "metadata": {},
   "outputs": [
    {
     "data": {
      "image/png": "iVBORw0KGgoAAAANSUhEUgAAAWoAAAEACAYAAACatzzfAAAABHNCSVQICAgIfAhkiAAAAAlwSFlz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\ni45/ywAAAABJRU5ErkJggg==\n",
      "text/plain": [
       "<matplotlib.figure.Figure at 0x7f6e32e17a58>"
      ]
     },
     "metadata": {},
     "output_type": "display_data"
    }
   ],
   "source": [
    "t1 = np.array([2, 0.25])\n",
    "t2 = np.array([2.5, 3.5])\n",
    "t3 = np.array([1, 2])\n",
    "\n",
    "x_coords, y_coords = zip(t1, t2, t3, t1)\n",
    "plt.plot(x_coords, y_coords, \"c--\", x_coords, y_coords, \"co\")\n",
    "\n",
    "plot_vector2d(v, t1, color=\"r\", linestyle=\":\")\n",
    "plot_vector2d(v, t2, color=\"r\", linestyle=\":\")\n",
    "plot_vector2d(v, t3, color=\"r\", linestyle=\":\")\n",
    "\n",
    "t1b = t1 + v\n",
    "t2b = t2 + v\n",
    "t3b = t3 + v\n",
    "\n",
    "x_coords_b, y_coords_b = zip(t1b, t2b, t3b, t1b)\n",
    "plt.plot(x_coords_b, y_coords_b, \"b-\", x_coords_b, y_coords_b, \"bo\")\n",
    "\n",
    "plt.text(4, 4.2, \"v\", color=\"r\", fontsize=18)\n",
    "plt.text(3, 2.3, \"v\", color=\"r\", fontsize=18)\n",
    "plt.text(3.5, 0.4, \"v\", color=\"r\", fontsize=18)\n",
    "\n",
    "plt.axis([0, 6, 0, 5])\n",
    "plt.grid()\n",
    "plt.show()"
   ]
  },
  {
   "cell_type": "markdown",
   "metadata": {},
   "source": [
    "Finally, substracting a vector is like adding the opposite vector."
   ]
  },
  {
   "cell_type": "markdown",
   "metadata": {},
   "source": [
    "## Multiplication by a scalar\n",
    "Vectors can be multiplied by scalars. All elements in the vector are multiplied by that number, for example:"
   ]
  },
  {
   "cell_type": "code",
   "execution_count": 20,
   "metadata": {},
   "outputs": [
    {
     "name": "stdout",
     "output_type": "stream",
     "text": [
      "1.5 * [2 5] =\n"
     ]
    },
    {
     "data": {
      "text/plain": [
       "array([ 3. ,  7.5])"
      ]
     },
     "execution_count": 20,
     "metadata": {},
     "output_type": "execute_result"
    }
   ],
   "source": [
    "print(\"1.5 *\", u, \"=\")\n",
    "\n",
    "1.5 * u"
   ]
  },
  {
   "cell_type": "markdown",
   "metadata": {},
   "source": [
    "Graphically, scalar multiplication results in changing the scale of a figure, hence the name *scalar*. The distance from the origin (the point at coordinates equal to zero) is also multiplied by the scalar. For example, let's scale up by a factor of `k = 2.5`:"
   ]
  },
  {
   "cell_type": "code",
   "execution_count": 21,
   "metadata": {},
   "outputs": [
    {
     "data": {
      "image/png": "iVBORw0KGgoAAAANSUhEUgAAAWoAAAEACAYAAACatzzfAAAABHNCSVQICAgIfAhkiAAAAAlwSFlz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\n40ihFgRB8DhSqAVBEDyOFGpBEASP8//J8JL42Q1Z3wAAAABJRU5ErkJggg==\n",
      "text/plain": [
       "<matplotlib.figure.Figure at 0x7f6e32d3f0f0>"
      ]
     },
     "metadata": {},
     "output_type": "display_data"
    }
   ],
   "source": [
    "k = 2.5\n",
    "t1c = k * t1\n",
    "t2c = k * t2\n",
    "t3c = k * t3\n",
    "\n",
    "plt.plot(x_coords, y_coords, \"c--\", x_coords, y_coords, \"co\")\n",
    "\n",
    "plot_vector2d(t1, color=\"r\")\n",
    "plot_vector2d(t2, color=\"r\")\n",
    "plot_vector2d(t3, color=\"r\")\n",
    "\n",
    "x_coords_c, y_coords_c = zip(t1c, t2c, t3c, t1c)\n",
    "plt.plot(x_coords_c, y_coords_c, \"b-\", x_coords_c, y_coords_c, \"bo\")\n",
    "\n",
    "plot_vector2d(k * t1, color=\"b\", linestyle=\":\")\n",
    "plot_vector2d(k * t2, color=\"b\", linestyle=\":\")\n",
    "plot_vector2d(k * t3, color=\"b\", linestyle=\":\")\n",
    "\n",
    "plt.axis([0, 9, 0, 9])\n",
    "plt.grid()\n",
    "plt.show()"
   ]
  },
  {
   "cell_type": "markdown",
   "metadata": {},
   "source": [
    "As you might guess, dividing a vector by a scalar is equivalent to multiplying by its inverse:\n",
    "\n",
    "$\\dfrac{\\textbf{u}}{\\lambda} = \\dfrac{1}{\\lambda} \\times \\textbf{u}$"
   ]
  },
  {
   "cell_type": "markdown",
   "metadata": {},
   "source": [
    "Scalar multiplication is **commutative**: $\\lambda \\times \\textbf{u} = \\textbf{u} \\times \\lambda$.\n",
    "\n",
    "It is also **associative**: $\\lambda_1 \\times (\\lambda_2 \\times \\textbf{u}) = (\\lambda_1 \\times \\lambda_2) \\times \\textbf{u}$.\n",
    "\n",
    "Finally, it is **distributive** over addition of vectors: $\\lambda \\times (\\textbf{u} + \\textbf{v}) = \\lambda \\times \\textbf{u} + \\lambda \\times \\textbf{v}$."
   ]
  },
  {
   "cell_type": "markdown",
   "metadata": {},
   "source": [
    "## Zero, unit and normalized vectors\n",
    "* A **zero-vector ** is a vector full of 0s.\n",
    "* A **unit vector** is a vector with a norm equal to 1.\n",
    "* The **normalized vector** of a non-null vector $\\textbf{u}$, noted $\\hat{\\textbf{u}}$, is the unit vector that points in the same direction as $\\textbf{u}$. It is equal to: $\\hat{\\textbf{u}} = \\dfrac{\\textbf{u}}{\\left \\Vert \\textbf{u} \\right \\|}$\n",
    "\n"
   ]
  },
  {
   "cell_type": "code",
   "execution_count": 22,
   "metadata": {},
   "outputs": [
    {
     "data": {
      "image/png": "iVBORw0KGgoAAAANSUhEUgAAAW8AAAD7CAYAAAClvBX1AAAABHNCSVQICAgIfAhkiAAAAAlwSFlz\nAAALEgAACxIB0t1+/AAAH31JREFUeJzt3Xt0VeWd//H39yQhkBAauUdu8YIgKAZRvLU21mlltJ3p\ntLqs1kssrdXR39hR27pax8tobe30Nq3tLDuDRem4dKq1Xla9oBLxhlhJAEUuWoPIxXINBEIgOc/v\njx0EYgInOSfnOc8+n9daLNiHwzmfk9pvdj5772ebcw4REQlLwncAERHpPg1vEZEAaXiLiARIw1tE\nJEAa3iIiAdLwFhEJUGG23sjMdE6iiEgPOOes42NZ3fN2zvXar5tvvrlXX7+3fym/sit/mL96O39X\nYlObNDQ0+I6QFuX3J+TsoPy++cofm+EtIpJPYjO8a2pqfEdIi/L7E3J2UH7ffOW3A3UqGX0jM5et\n9xIRiQszw/k+YNmbamtrfUdIi/L7E3J2UH7ffOWPzfAWEcknqk1ERHJY7GsTEZF8Epvhrd7Mr5Dz\nh5wdlN83dd4iIpIydd4iIjlMnbeISIzEZnirN/Mr5PwhZwfl902dt4iIpEydt4hIDlPnLSISI2kP\nbzMrNrPXzKzOzBab2c2ZCNZd6s38Cjl/yNlB+X3zlT/t26A551rM7Azn3A4zKwBeNrMnnXPzM5BP\nREQ6kdHO28xKgLnAlc651zv8nTpvEZFu6tXO28wSZlYHrANmdxzcIiKSWRm5e7xzLglMNrMBwJ/M\nbIJzbknH59XU1FBZWQlAeXk5VVVVVFdXA3t7o55u/+IXv8jo62V7W/n9be/bWeZCHuXPrXzZzl9b\nW8vMmTMBPpqXncn4qYJmdhPQ5Jz7WYfHe7U2qa2t/egLESLl9yfk7KD8vvV2/q5qk7SHt5kNBnY7\n5xrNrB/wNPAj59yfOzxPnbeISDd1NbwzUZtUAPeaWYKoQ3+w4+AWEZHMSvuApXNusXPueOdclXNu\nknPuB5kI1l379k4hUn5/Qs4Oyu+br/y6wlJEJEBa20REJIdpbRMRkRiJzfBWb+ZXyPlDzg7K75s6\nbxERSZk6bxGRHKbOW0QkRmIzvNWb+RVy/pCzg/L7ps5bRERSps5bRCSHqfMWEYmR2Axv9WZ+hZw/\n5Oyg/L6p8xYRkZSp8xYRyWHqvEVEYiQ2w1u9mV8h5w85Oyi/b+q8RUQkZeq8RURymDpvEZEYic3w\nVm/mV8j5Q84Oyu+bOm8REUmZOm8RkRymzltEJEZiM7zVm/kVcv6Qs4Py+6bOW0REUqbOW0Qkh6nz\nFhGJkdgMb/VmfoWcP+TsoPy+qfMWEZGUqfMWEclh6rxFRGIkNsNbvZlfIecPOTsov2/qvEVEJGXq\nvEVEcpg6bxGRGEl7eJvZSDN73syWmNliM/uXTATrLvVmfoWcP+TsoPy++cpfmIHXaAWudc7Vm1l/\n4A0ze8Y5tzQDry0iIp3IeOdtZn8CfuWce67D4+q8RUS6KSudt5lVAlXAa5l8XRER2V/Ghnd7ZfIQ\ncI1zrilTr5sq9WZ+hZw/5Oyg/L6F3HljZoVEg3uWc+7Rrp5XU1NDZWUlAOXl5VRVVVFdXQ3s/QL0\ndLu+vj6tf+97W/m1rW1tV1dXU1tby8yZMwE+mpedyUjnbWb3ARucc9ce4DnqvEVEuqmrzjvt4W1m\npwFzgcWAa//1PefcUx2ep+EtItJNvXbA0jn3snOuwDlX5Zyb7Jw7vuPgzoY9P3aESvn9CTk7KL9v\nvvLrCksRkQBpbRMRkRymtU1ERGIkNsNbvZlfIecPOTsov2/qvEVEJGXqvEVEcpg6bxGRGInN8FZv\n5lfI+UPODsrvmzpvERFJmTpvEZEcps5bRCRGYjO81Zv5FXL+kLOD8vumzltERFKmzltEJIep8xYR\niZHYDG/1Zn6FnD/k7KD8vqnzFhGRlKnzFhHJYeq8RURiJDbDW72ZXyHnDzk7KL9v6rxFRCRl6rxF\nRHKYOm8RkRiJzfBWb+ZXyPlDzg7K75s6bxERSZk6bxGRHKbOW0QkRmIzvNWb+RVy/pCzg/L7ps5b\nRERSps5bRCSHqfMWEYmR2Axv9WZ+hZw/5Oyg/L6p8xYRkZSp8xYRyWHqvEVEYiQ2w1u9mV8h5w85\nOyi/b0F33mY2w8w+NLNFmXg9ERE5sIx03mb2SaAJuM85N6mL56jzFhHppl7tvJ1zLwGbM/FaIiJy\ncOq8s6w1mWRNSwt127bx7KZNPLlxI49v2MCPHn2UZzZt4pXGRt5tbmZ7W5vvqN0Syte/M7mQ/dVX\nYf367m83NcGcObVZy9kbcuHrnw5f+Quz+WY1NTVUVlYCUF5eTlVVFdXV1cDeL0BPt+vr69P695ne\nfuzZZ3m3uRmqqnipsZFX585lc2sruyZNojiRwOrrMaBw8mQAWp59loKVKymcPJk259ixYAEJYNCJ\nJzK2pIRRS5YwrqSEr551Fof368fcF17Iqc+ba1//0LYvvLCWtjYYMiTafu+9Wvr3P/h2aWk1V1wB\nZrn1ebTd8+3a2lpmzpwJ8NG87EzGzvM2szHA4/naee9sa+OFxkYe3bCBRzdsYMPu3fRLJNiZTNKS\ngc+dAEoLCkg6RxI4/ROf4LyhQ5k2cCAjiovTfn3x6/bb4d/+LfXnl5XBL38J550HpaW9l0v866rz\nzuTwriQa3sd28fexG94tySSPbdjAr1evZt7WrRQnEjS1tZHM0vuXJhK0OkdFcTGXDR/O9IoKDfJA\nvfkmHNvp/3M+buBAePFFmDChdzNJbujVA5Zmdj/wCnCUmb1vZpdl4nW7Y8+PHdmwuKmJK5cvZ/DL\nLzN92TJeaGykxTm2pjO422uH7tjevlffsHMnP3z/fY6YN4/T6+p4eP16diWz9S0kks2vf6blQvb3\n34dDDz3wcwoL4Y474KGH4Oij9z6eC/nTofw9k5HO2zl3YSZeJ9e90tjI9e++S31TE7uTSVp9B9rH\nzvZh/WJjI/VNTRSZcWtlJV+vqKBvQYHndNKVZctg2zZ45BG4/nq49trOnzdyJDz6KBx/fHbzSe7S\n2iYpeLmxkW+/+y4Lm5rYkeU92nSUJhIUJxLcUlnJNzTEc0JbG2zdCr/5DVx9NfzHf0QDuaAATjsN\nKiqgtcNewcUXRxXJDTf4ySx+9XrnnUKA4Ib3qp07+fqyZbzU2BjU0O6oNJGgpKCAGePG8YXBg33H\n6bE//hHeegteeQXuvx8OOSR6/P/+D2bNgscf95vvQF56CcaOhZkzo+Hdty9861vRgcc9du6EE06I\nPiPAsGFw771w1lleIkuOiP3CVJnsnVqTSX7y/vuMnz+f57dsyc7g7kHnnartySTrd+/mK0uWMG3h\nQj7YuTPj79Hbvd+aNdDQEJ2R0dAA7WdKAtHw3ncIdldvZN+xAxob4bnn4EtfggcfhLVr4dvfhh/8\nIPocHTMXF8NRR0V/Hj8ebroptcGtztivoDvvOFnc1MS5b73F6paWoPe2O7MjmeS5zZsZN38+dx5+\nOFeNGIHZx76h56TZs6GmBhYtgnfegalT9/7diy9GB/J8cy66cObaa6OfCo47Di64ACZNgiFDDv7v\nzeD3v4eHH4YLL4yqFJGuqDbZx+/WruXqFStoTibJ7aTpK00kOKO8nPsnTKCsMJzv4f/6r7BkCTz9\ndLS9ZEl0it0778Bhh2U/j3PRnvTgwbBwIfz4x1BbC5//fDSMRdIV+9okHTvb2rh4yRKuXrGCHXkw\nuCGqUp7dsoUJr7/Om01NvuOk7KGH4Nxz927PnQujR2d3cL/8clSHfPOb0eXpRUXRsP75z6Mq5Atf\n0OCW3heb4d3T3mltSwtVf/kLD2/Y4Lcm6cXOuys7k0lWt7Rw0oIFPPS3v6X1Wtno/TZvhtWr969M\n5s6Fz3wm+nNPq5ODZd++HVatgu9/PxrWjz0GiQR87WvRsP7ud6NT+fr27dn7p0udsV/qvD1YvmMH\np9fVsbG1ldYcr3R6iyPqwi9ZupS1u3bx/0aO9B2pSyUl0UG9PXu1y5fDM8/AjTdGBzFT6ZVTlUxG\n3fOZZ8Kdd0Z79wMHRgP6zjsz9z4iPZW3nffipiZOr6ujsa0tL2qSVJQkEtwwejT/doDFcHy79154\n4gmYPBmGDo0G6j33RFcc/vCH0VWIPbV2bTSc//zn6ABp//7RudUjRqgGEX90nvc+FjU18am6OrYG\ntuxqNpQkElw3ahT/7uPonwe7d8OKFdHg79MHvvxlqK6OahFfNYjIvmJ/wDLV3umDnTs5o74+9wa3\nh867MzuSSX66ahX/vWZNt/5dSL1lc3N0vvWtt0ar+f31r7VcdRXMmAFnnx3VMyEN7pC+9p1R/p7J\nq867sbWV0+vraex4/bHsZ0cyyTXvvMOo4mKmDRrkO05GPPxwVH08/3y0lz1yZHTe+IAB0QU/J5/s\nO6FI9+RNbbIrmeTT9fXUbduWkfW1c96qVTBqVFovUZJI8NLkyUxO5/JFT9asic5Ouffe6ErFW2+N\nLpgpL4fDD/edTiR1sa9NDua6d99lUVNTfgzuJ56A226LjrylYUcyybRFi4L4ScW56JL0u++OVum7\n447oaswJE6IDj3sWgNLglriIzfA+UO80e9Mm7lm7Nrcvd89U5/3EE9GJyb/9LWzZAk8+mdbLNba2\nctnSpQd9nq/eb/Hi6GP++Mdwyy3w9ttRPXLXXdGedk3NwV9Dnatfyt8zse+8N+zaxflLluT24M6k\n447bW5dceGG0yn8aWpzj6U2bmLVuHRcPH56BgOlpbY3OEJk3L1pJcPfu6JL5a67Z/xxwkbiLfed9\n1sKF1G7Zwq58qEt6UWkiwVtTpzLG02kY69dHa4g0N0fLpn75y1GnfcQRXuKIZE1XnXes97yf3LiR\nlxobNbgzoMU5rlq+nCcmdXp/6YxLJuG//is6ZW/JkmgJ1aoquOiivRfiDByYlSgiOSm2nffuZJIr\nli8Ppy5Jt/OeOxfuuy9aaGPbtr2Pz5kD3/teeq8NtDrHnC1beHHLlk7/PhO93+LF0aJPN9wQHXxc\nuTK6YObGG6OzRGpq0ruCsivqXP1S/p6JzfDu6NerV7Nx927fMbJjwwZYtw4uuST6feHCvX9XWwv9\n+mXkbXYkk3x92TKSGfpJprUVPvwwWo2vqSk6yLh1a7TQVP/+0UHII47Ye8ccEdkrlp13Y2srI199\nlaZcu4qytzz1FJx6alQMf/Ob8MAD0QLTEN3GZfp0OOecjLxVaSLBr8eO5dKKih6/xnPPwUknRav0\nHXYY/O1v0ZmNuvmAyMflVef92zVrMrZ3GIRp06LfZ82KVmzaM7gbGqJ7cWXwluPbk0lubmjgkuHD\nU74Lz9atUd3xyCNRLbJlS3S7r5/9TANbpKdiU5vs6Z1ak0l+vGpVOF33Hpk4z/uFF+DTn967vWhR\ntPReGnvJndnY2srszZv3e6xj7+ccLFsW3WR3+vTosvSzz47OGLn//uhsxlwZ3Opc/VL+nondnvcj\nGzawM7TBnQnbtkXd9/jxex9buDDaE4fo5ogXXZSRt2pqa+O2lSv5XIfTPZqb4Ve/is69bmuDK66I\nBvZnP6vzr0UyLXad93Gvv86i7dt7/X1yzq5d0f23fvOb6CjfqlVw9dVw8cXwyU/CX/4S3asrQ/ol\nEiyYMoUPXi1l1y545RX4znfgJz+J3ra8PFpiVUTSkxfrea/cuZPx8+fn5543RAcu582DI4+MTtEo\nK4sujx8zBr7xjY/3FG+8Ab/8ZffeI9kf2gZC8zl8fdbJJB+pZvr0aBnVqqrMfRQRicT+gGVtbS0L\njjiCYH86r69Pf/pNm7b34OUep5/e9fObm6NTC3ftOsgLFwJfAJ4BbgOeg+GOp2w7q2ZEz4h6v+qe\n5fastraW6upq3zF6TPn98pU/NgcsAWauW0dzvu5198TUqdEtYzo1CigGrgP+HfhS9HCfy+HKUvjf\nk9hYVsayHTuyElVE9heb2mRtSwuHzZuXH0u+ZtIdd8Czz0anh1AAnAx8ERgP3AKsAJqhOBGdgnj7\n7dB+j8tiM24cM4Ybc/ielyKhi31t8sKWLfRJJGjJlwtzMqG5Gf7mwH0fGAEsAB4Hfg/sc5VmcXF0\nMPTyy6Go6KOHW5zj8Y0bNbxFPIhNbfLAM8+EfUVltu5h+eF6uLIWzvgfOPtlWPgGsA24HvhvYB0f\nDe6ioui0kTvvhKuu2m9w77F4+3aSzgV9rm7I2UH5fdPaJmmqb2pChUkXXlkNF/8czngSvnIZLB0J\nozfBD4+GOX+E89ZAwc79/01xcXTJ/axZ0RrhXUgAK5qbeze/iHxMLDrvXckk/V98kd3quyNJB7Pn\nw0+Xw+4Hgd8B/wsTJsEtx8KQIfs//7334MoroaUlOp2wT5/opO0UjqD3Lyjg12PHckkO3KhBJI5i\n3Xm/09xM30SC3SHXJuna3Qp3z4eHbwXuBDYAU+D8Zri0P/T7Vtf/9rDDosWxN2yIFh255Za966Mc\nRFNbGwu2bdPwFsmyWNQmq1taSNbV+Y6Rnp503pua4Ke/hDPugs+9Bg8fDwyDq9fC7GkwZwJccXlq\nS8Jedx388z9HF+2kOLj3eKe5OejeMuTsoPy+Bb22iZlNA35B9M1ghnPuzky8bqo+aGmhLV8qk9Wr\n4Ud/gDePA6YAu+CQ9+DKv4PP9gXu69nrTpkS/eqBVS0tPXtPEemxtDtvM0sAy4EzgTXA68BXnHNL\nOzyv1zrv2xoauKWhgdhenvOXt+AHf4UtBUAr8CCM+grcNAmOHOM7HUOLivjwtNN8xxCJpd7svKcC\nK5xzK9vf6AHgH4GlB/xXGfTezp3hDu61a2HGDNi4EQYNitZPHTYM7lsC9/6RaO/6buAO+PRrcPn5\ncOg/eA69v02trb4jiOSdTHTeI4BV+2x/0P5Y1mxva8veedKZtHYtXH99dGuZ+vro9wu/CWeeA/e2\nfwnPPgSefgjmHAO3TIdD+/vN3IlW55gzZ47vGD2mztUv5e+ZTOx5d7YWVFYL6GBPEZwxA9as6fDg\nNpg4EX5VDnaTl1jdZZBfdy4SyQGZGN4fAKP32R5J1H1/TE1NDZXtl1KXl5dTVVX10Wpce7579WT7\no+8e+67Mt2dPPJe3GxroVJ8+e28inEt5u9h2RL3cvqurpfO/Z7a3q6urcyqP8udWvmznr62tZebM\nmQAfzcvOZOKAZQGwjOiA5VpgPnCBc+7tDs/rtQOWF7z1Fg+sX98rr92rbr89qko6OvNMuPHG7Ofp\nIQOSAS/pKZLLujpgmXbn7ZxrA64mWuz5LeCBjoO7tw0qKgqz854+HQ49dP/HDj00ejwgfROJoHvL\nkLOD8vsWcueNc+4pYFwmXqsnDuvXjwIguOsrKyqi+4bNmAErV0Z3vJk+PeM3DO5tg4qKokvrRSRr\nYrG2yQMffsjly5ezLZ8vj/fopLIy5vXwAh8RObBeq01ywYji4nh8kECN6dvXdwSRvBOLmTemb1+a\nFyzwHSM9IXb2RP8BjevXL+jeMuTsoPy++cofi+E9qriYhAV76+Gg9S8oYOqAAb5jiOSdWHTeAKfX\n1fFiY2Ovvb50rtiM9085haF9+viOIhJLse68Ac485JB4LE4emAGFhRrcIh7EZniXLFpESUGB7xg9\nF2jnPbWsDAi7tww5Oyi/b+q80zSptJSWZLBrCwapf0EB5w0d6juGSF6KTecNcM6iRfx506ZefQ/Z\nq48Z6049lUM6uau8iGRG7DtvgEuHD6cs5OokMFPKyjS4RTyJzfCura3l7IED2RVqdRJY512aSHDZ\nPjcdDrm3DDk7KL9v6rwzoH9hIZ8fNCheHypHJYFzhwzxHUMkb8Wq8wao27aNT9bVsSPUPfAAFAE1\nFRX8dpy3tchE8kZedN4Ak8vKOLqkxHeMWCtIJPjOqFG+Y4jktdgM7317p5sqK+kf2oHLQDpvA04b\nMIAjO3yDDLm3DDk7KL9v6rwz6PODBlGhq/56Rd9Egh8dfrjvGCJ5L3ad9x5zt2zh7xctUvedQUVm\n/NPgwTw4caLvKCJ5I2867z1OLy/n0+XlFGq1wYwpMuPnRx7pO4aIEKPh3Vnv9OuxYykKZXjneOdd\n0n6Q8tDi4k7/PuTeMuTsoPy+qfPuBYf168eNY8ZQmoj1x+x1BlT06cN3R4/2HUVE2sW2894j6Ryn\nLljAG01NtHp4/zgoSSR4fcoUJpSW+o4iknfyrvPeI2HGw8ccQz/tffdIafvZJRrcIrklNhPtQL3T\niOJi7hs/npJcHuA52Hn3TSQ4ZcAArh4x4qDPDbm3DDk7KL9v6rx72ReHDOG7o0bl9gDPIYVmjCou\n5o/HHIOFctBXJI/EvvPel3OOmqVLeWj9ep3/fQAGDC4qov6EE7o8u0REsiNvO+99mRkzxo3jpAED\n6Ku9yS6VFhQwp6pKg1skh8VmeKfaOxUmEjx+7LFM6t+fvrlUoeRI512aSPDUpElM7OYBypB7y5Cz\ng/L7ps47i0oLCqitquLEsjKdhdLOgLL2Pe7TPvEJ33FE5CDyqvPuaFcyyQVLlvDUpk153YEXAIcU\nFTG3qoqjdUqgSE5R592JPokEf5g4katHjMjbs1BKEgnGl5RQN2WKBrdIQGIzsXraOyXMuPOII/jD\nxImUFRTgbRVwD513SSLBRcOGseCEExjZt29arxVybxlydlB+39R5e3b2oEEsPvFExpWUxH4vPEF0\nYHLGuHHcPW4cfWL+eUXiKK877860JJPc3tDATz/4gJZkkrg14aWJBMf278+s8eM/djccEck9XXXe\nGt5dWL5jB5e8/TZvbt/O9hgczCw2o28iwV1jx/LVYcN01aRIIGJ/wDLTvdNRJSW8evzx/OaooxhU\nWNj7y8r2UuddRLRGyYVDh/LXk0/mouHDe2Vwh9xbhpwdlN83X/kLvbxrIMyMS4YP5/yhQ7ln7Vpu\namigua0tiD3xIjMKzDh/yBBuPewwxqR5QFJEcktatYmZnQvcAhwNnOicW3CA5wZVm3RmVzLJPWvX\nctvKlWxta2N7Wxu59on6JxK0AecPGcItGtoiweuVztvMxgFJ4G7g+rgP7z2cc7zU2Mhdq1fz2MaN\nFIDXvfEiMwrNOLJfP741ciTnDRlCWaF+qBKJg17pvJ1zy5xzK4iurvYqm72TmfGp8nIenDiRD089\nlV+NHctZhxxCv0SCAT09V7ybnXdZQQF9zJhQUsINo0fzxpQpLDrxRL5WUeFlcIfcW4acHZTfN3Xe\ngRpQWMhlFRVcVlHB7mSSeVu38tjGjTy3eTPLduwAorWxt7e10dbD9yhNJEiY0ZxMMrK4mKllZXxx\n8GA+N3Agg4qKMvdhRCQYB61NzGw2MGzfhwAHfN8593j7c+YA1x2sNrn00kuprKwEoLy8nKqqKqqr\nq4G9373itO2c44hTTqG+qYk/Pfssa1pa2HXccazbtYs1r70WradSVUXSOVx9PQVAvylTGFRURN9F\nixhcVMTUT32KY0pL2V1Xx5i+ffncZz6TM59P29rWdua3a2trmTlzJgCVlZXceuutvXeed6rDOy6d\nt4hItmTjPG+vvfee71yhUn5/Qs4Oyu+br/xpDW8z+6KZrQJOBp4wsyczE0tERA5El8eLiOSw2F8e\nLyKST2IzvNWb+RVy/pCzg/L7FmTnLSIifqjzFhHJYeq8RURiJDbDW72ZXyHnDzk7KL9v6rxFRCRl\n6rxFRHKYOm8RkRiJzfBWb+ZXyPlDzg7K75s6bxERSZk6bxGRHKbOW0QkRmIzvNWb+RVy/pCzg/L7\nps47TfXdvIFvrlF+f0LODsrvm6/8sRneW7Zs8R0hLcrvT8jZQfl985U/NsNbRCSfxGZ4NzQ0+I6Q\nFuX3J+TsoPy++cqf1VMFs/JGIiIx09mpglkb3iIikjmxqU1ERPKJhreISIBiNbzN7Fwze9PM2szs\neN95UmFm08xsqZktN7Pv+s7THWY2w8w+NLNFvrP0hJmNNLPnzWyJmS02s3/xnak7zKzYzF4zs7r2\n/Df7ztRdZpYwswVm9pjvLN1lZg1mtrD96z8/2+8fq+ENLAb+CXjBd5BUmFkCuAs4C5gIXGBm4/2m\n6pbfEWUPVStwrXNuAnAKcFVIX3/nXAtwhnNuMlAF/L2ZTfUcq7uuAZb4DtFDSaDaOTfZOZf1r3us\nhrdzbplzbgXwsSOzOWoqsMI5t9I5txt4APhHz5lS5px7CdjsO0dPOefWOefq2//cBLwNjPCbqnuc\nczva/1gMFALBnIFgZiOBs4H/8Z2lhwyPMzRWwztAI4BV+2x/QGDDIy7MrJJo7/U1v0m6p712qAPW\nAbOdc6/7ztQNPwe+TUDfcDpwwNNm9rqZfSPbb16Y7TdMl5nNBobt+xDRF/H7zrnH/aTqsc5+Qgj1\nP+RgmVl/4CHgmvY98GA455LAZDMbAPzJzCY453K+hjCzc4APnXP1ZlZNOD8t7+tU59w6MxsCzDaz\nt9t/Gs2K4Ia3c+6zvjNk0AfA6H22RwJrPGXJS2ZWSDS4ZznnHvWdp6ecc1vNrBaYRhgd8mnAP5jZ\n2UA/oMzM7nPOXeI5V8qcc+vaf19vZo8Q1aBZG95xrk1C+E7+OnCkmY0xsz7AV4DQjrobYXytu3IP\nsMQ595++g3SXmQ02s0+0/7kf8HfAUr+pUuOc+55zbrRz7nCi/+6fD2lwm1lJ+09smFkp8DngzWxm\niNXwNrMvmtkq4GTgCTN70nemA3HOtQFXA88AbwEPOOfe9psqdWZ2P/AKcJSZvW9ml/nO1B1mdhrw\nVeAz7ad7LTCzab5zdUMFMMfM6om6+qedc3/2nClfDANeaj/eMA943Dn3TDYD6PJ4EZEAxWrPW0Qk\nX2h4i4gESMNbRCRAGt4iIgHS8BYRCZCGt4hIgDS8RUQCpOEtIhKg/w87gD6Ob6jZzwAAAABJRU5E\nrkJggg==\n",
      "text/plain": [
       "<matplotlib.figure.Figure at 0x7f6e32f73e80>"
      ]
     },
     "metadata": {},
     "output_type": "display_data"
    }
   ],
   "source": [
    "plt.gca().add_artist(plt.Circle((0,0),1,color='c'))\n",
    "plt.plot(0, 0, \"ko\")\n",
    "plot_vector2d(v / LA.norm(v), color=\"k\")\n",
    "plot_vector2d(v, color=\"b\", linestyle=\":\")\n",
    "plt.text(0.3, 0.3, \"$\\hat{u}$\", color=\"k\", fontsize=18)\n",
    "plt.text(1.5, 0.7, \"$u$\", color=\"b\", fontsize=18)\n",
    "plt.axis([-1.5, 5.5, -1.5, 3.5])\n",
    "plt.grid()\n",
    "plt.show()"
   ]
  },
  {
   "cell_type": "markdown",
   "metadata": {},
   "source": [
    "## Dot product\n",
    "### Definition\n",
    "The dot product (also called *scalar product* or *inner product* in the context of the Euclidian space) of two vectors $\\textbf{u}$ and $\\textbf{v}$ is a useful operation that comes up fairly often in linear algebra. It is noted $\\textbf{u} \\cdot \\textbf{v}$, or sometimes $⟨\\textbf{u}|\\textbf{v}⟩$ or $(\\textbf{u}|\\textbf{v})$, and it is defined as:\n",
    "\n",
    "$\\textbf{u} \\cdot \\textbf{v} = \\left \\Vert \\textbf{u} \\right \\| \\times \\left \\Vert \\textbf{v} \\right \\| \\times cos(\\theta)$\n",
    "\n",
    "where $\\theta$ is the angle between $\\textbf{u}$ and $\\textbf{v}$.\n",
    "\n",
    "Another way to calculate the dot product is:\n",
    "\n",
    "$\\textbf{u} \\cdot \\textbf{v} = \\sum_i{\\textbf{u}_i \\times \\textbf{v}_i}$\n",
    "\n",
    "### In python\n",
    "The dot product is pretty simple to implement:"
   ]
  },
  {
   "cell_type": "code",
   "execution_count": 23,
   "metadata": {},
   "outputs": [
    {
     "data": {
      "text/plain": [
       "11"
      ]
     },
     "execution_count": 23,
     "metadata": {},
     "output_type": "execute_result"
    }
   ],
   "source": [
    "def dot_product(v1, v2):\n",
    "    return sum(v1i * v2i for v1i, v2i in zip(v1, v2))\n",
    "\n",
    "dot_product(u, v)"
   ]
  },
  {
   "cell_type": "markdown",
   "metadata": {},
   "source": [
    "But a *much* more efficient implementation is provided by NumPy with the `dot` function:"
   ]
  },
  {
   "cell_type": "code",
   "execution_count": 24,
   "metadata": {},
   "outputs": [
    {
     "data": {
      "text/plain": [
       "11"
      ]
     },
     "execution_count": 24,
     "metadata": {},
     "output_type": "execute_result"
    }
   ],
   "source": [
    "np.dot(u,v)"
   ]
  },
  {
   "cell_type": "markdown",
   "metadata": {},
   "source": [
    "Equivalently, you can use the `dot` method of `ndarray`s:"
   ]
  },
  {
   "cell_type": "code",
   "execution_count": 25,
   "metadata": {},
   "outputs": [
    {
     "data": {
      "text/plain": [
       "11"
      ]
     },
     "execution_count": 25,
     "metadata": {},
     "output_type": "execute_result"
    }
   ],
   "source": [
    "u.dot(v)"
   ]
  },
  {
   "cell_type": "markdown",
   "metadata": {},
   "source": [
    "**Caution**: the `*` operator will perform an *elementwise* multiplication, *NOT* a dot product:"
   ]
  },
  {
   "cell_type": "code",
   "execution_count": 26,
   "metadata": {},
   "outputs": [
    {
     "name": "stdout",
     "output_type": "stream",
     "text": [
      "   [2 5]\n",
      "*  [3 1] (NOT a dot product)\n",
      "----------\n"
     ]
    },
    {
     "data": {
      "text/plain": [
       "array([6, 5])"
      ]
     },
     "execution_count": 26,
     "metadata": {},
     "output_type": "execute_result"
    }
   ],
   "source": [
    "print(\"  \",u)\n",
    "print(\"* \",v, \"(NOT a dot product)\")\n",
    "print(\"-\"*10)\n",
    "\n",
    "u * v"
   ]
  },
  {
   "cell_type": "markdown",
   "metadata": {},
   "source": [
    "### Main properties\n",
    "* The dot product is **commutative**: $\\textbf{u} \\cdot \\textbf{v} = \\textbf{v} \\cdot \\textbf{u}$.\n",
    "* The dot product is only defined between two vectors, not between a scalar and a vector. This means that we cannot chain dot products: for example, the expression $\\textbf{u} \\cdot \\textbf{v} \\cdot \\textbf{w}$ is not defined since $\\textbf{u} \\cdot \\textbf{v}$ is a scalar and $\\textbf{w}$ is a vector.\n",
    "* This also means that the dot product is **NOT associative**: $(\\textbf{u} \\cdot \\textbf{v}) \\cdot \\textbf{w} ≠ \\textbf{u} \\cdot (\\textbf{v} \\cdot \\textbf{w})$ since neither are defined.\n",
    "* However, the dot product is **associative with regards to scalar multiplication**: $\\lambda \\times (\\textbf{u} \\cdot \\textbf{v}) = (\\lambda \\times \\textbf{u}) \\cdot \\textbf{v} = \\textbf{u} \\cdot (\\lambda \\times \\textbf{v})$\n",
    "* Finally, the dot product is **distributive** over addition of vectors: $\\textbf{u} \\cdot (\\textbf{v} + \\textbf{w}) = \\textbf{u} \\cdot \\textbf{v} + \\textbf{u} \\cdot \\textbf{w}$."
   ]
  },
  {
   "cell_type": "markdown",
   "metadata": {},
   "source": [
    "### Calculating the angle between vectors\n",
    "One of the many uses of the dot product is to calculate the angle between two non-zero vectors. Looking at the dot product definition, we can deduce the following formula:\n",
    "\n",
    "$\\theta = \\arccos{\\left ( \\dfrac{\\textbf{u} \\cdot \\textbf{v}}{\\left \\Vert \\textbf{u} \\right \\| \\times \\left \\Vert \\textbf{v} \\right \\|} \\right ) }$\n",
    "\n",
    "Note that if $\\textbf{u} \\cdot \\textbf{v} = 0$, it follows that $\\theta = \\dfrac{π}{2}$. In other words, if the dot product of two non-null vectors is zero, it means that they are orthogonal.\n",
    "\n",
    "Let's use this formula to calculate the angle between $\\textbf{u}$ and $\\textbf{v}$ (in radians):"
   ]
  },
  {
   "cell_type": "code",
   "execution_count": 27,
   "metadata": {},
   "outputs": [
    {
     "name": "stdout",
     "output_type": "stream",
     "text": [
      "Angle = 0.868539395286 radians\n",
      "      = 49.7636416907 degrees\n"
     ]
    }
   ],
   "source": [
    "def vector_angle(u, v):\n",
    "    cos_theta = u.dot(v) / LA.norm(u) / LA.norm(v)\n",
    "    return np.arccos(np.clip(cos_theta, -1, 1))\n",
    "\n",
    "theta = vector_angle(u, v)\n",
    "print(\"Angle =\", theta, \"radians\")\n",
    "print(\"      =\", theta * 180 / np.pi, \"degrees\")"
   ]
  },
  {
   "cell_type": "markdown",
   "metadata": {},
   "source": [
    "Note: due to small floating point errors, `cos_theta` may be very slightly outside of the $[-1, 1]$ interval, which would make `arccos` fail. This is why we clipped the value within the range, using NumPy's `clip` function."
   ]
  },
  {
   "cell_type": "markdown",
   "metadata": {},
   "source": [
    "### Projecting a point onto an axis\n",
    "The dot product is also very useful to project points onto an axis. The projection of vector $\\textbf{v}$ onto $\\textbf{u}$'s axis is given by this formula:\n",
    "\n",
    "$\\textbf{proj}_{\\textbf{u}}{\\textbf{v}} = \\dfrac{\\textbf{u} \\cdot \\textbf{v}}{\\left \\Vert \\textbf{u} \\right \\| ^2} \\times \\textbf{u}$\n",
    "\n",
    "Which is equivalent to:\n",
    "\n",
    "$\\textbf{proj}_{\\textbf{u}}{\\textbf{v}} = (\\textbf{v} \\cdot \\hat{\\textbf{u}}) \\times \\hat{\\textbf{u}}$\n"
   ]
  },
  {
   "cell_type": "code",
   "execution_count": 28,
   "metadata": {},
   "outputs": [
    {
     "data": {
      "image/png": "iVBORw0KGgoAAAANSUhEUgAAAWoAAAD7CAYAAABDld6xAAAABHNCSVQICAgIfAhkiAAAAAlwSFlz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\nYII=\n",
      "text/plain": [
       "<matplotlib.figure.Figure at 0x7f6e32c344e0>"
      ]
     },
     "metadata": {},
     "output_type": "display_data"
    }
   ],
   "source": [
    "u_normalized = u / LA.norm(u)\n",
    "proj = v.dot(u_normalized) * u_normalized\n",
    "\n",
    "plot_vector2d(u, color=\"r\")\n",
    "plot_vector2d(v, color=\"b\")\n",
    "\n",
    "plot_vector2d(proj, color=\"k\", linestyle=\":\")\n",
    "plt.plot(proj[0], proj[1], \"ko\")\n",
    "\n",
    "plt.plot([proj[0], v[0]], [proj[1], v[1]], \"b:\")\n",
    "\n",
    "plt.text(1, 2, \"$proj_u v$\", color=\"k\", fontsize=18)\n",
    "plt.text(1.8, 0.2, \"$v$\", color=\"b\", fontsize=18)\n",
    "plt.text(0.8, 3, \"$u$\", color=\"r\", fontsize=18)\n",
    "\n",
    "plt.axis([0, 8, 0, 5.5])\n",
    "plt.grid()\n",
    "plt.show()"
   ]
  },
  {
   "cell_type": "markdown",
   "metadata": {},
   "source": [
    "# Matrices\n",
    "A matrix is a rectangular array of scalars (ie. any number: integer, real or complex) arranged in rows and columns, for example:\n",
    "\n",
    "\\begin{bmatrix} 10 & 20 & 30 \\\\ 40 & 50 & 60 \\end{bmatrix}\n",
    "\n",
    "You can also think of a matrix as a list of vectors: the previous matrix contains either 2 horizontal 3D vectors or 3 vertical 2D vectors.\n",
    "\n",
    "Matrices are convenient and very efficient to run operations on many vectors at a time. We will also see that they are great at representing and performing linear transformations such rotations, translations and scaling."
   ]
  },
  {
   "cell_type": "markdown",
   "metadata": {},
   "source": [
    "## Matrices in python\n",
    "In python, a matrix can be represented in various ways. The simplest is just a list of python lists:"
   ]
  },
  {
   "cell_type": "code",
   "execution_count": 29,
   "metadata": {},
   "outputs": [
    {
     "data": {
      "text/plain": [
       "[[10, 20, 30], [40, 50, 60]]"
      ]
     },
     "execution_count": 29,
     "metadata": {},
     "output_type": "execute_result"
    }
   ],
   "source": [
    "[\n",
    "    [10, 20, 30],\n",
    "    [40, 50, 60]\n",
    "]"
   ]
  },
  {
   "cell_type": "markdown",
   "metadata": {},
   "source": [
    "A much more efficient way is to use the NumPy library which provides optimized implementations of many matrix operations:"
   ]
  },
  {
   "cell_type": "code",
   "execution_count": 30,
   "metadata": {},
   "outputs": [
    {
     "data": {
      "text/plain": [
       "array([[10, 20, 30],\n",
       "       [40, 50, 60]])"
      ]
     },
     "execution_count": 30,
     "metadata": {},
     "output_type": "execute_result"
    }
   ],
   "source": [
    "A = np.array([\n",
    "    [10,20,30],\n",
    "    [40,50,60]\n",
    "])\n",
    "A"
   ]
  },
  {
   "cell_type": "markdown",
   "metadata": {},
   "source": [
    "By convention matrices generally have uppercase names, such as $A$.\n",
    "\n",
    "In the rest of this tutorial, we will assume that we are using NumPy arrays (type `ndarray`) to represent matrices."
   ]
  },
  {
   "cell_type": "markdown",
   "metadata": {},
   "source": [
    "## Size\n",
    "The size of a matrix is defined by its number of rows and number of columns. It is noted $rows \\times columns$. For example, the matrix $A$ above is an example of a $2 \\times 3$ matrix: 2 rows, 3 columns. Caution: a $3 \\times 2$ matrix would have 3 rows and 2 columns.\n",
    "\n",
    "To get a matrix's size in NumPy:"
   ]
  },
  {
   "cell_type": "code",
   "execution_count": 31,
   "metadata": {},
   "outputs": [
    {
     "data": {
      "text/plain": [
       "(2, 3)"
      ]
     },
     "execution_count": 31,
     "metadata": {},
     "output_type": "execute_result"
    }
   ],
   "source": [
    "A.shape"
   ]
  },
  {
   "cell_type": "markdown",
   "metadata": {},
   "source": [
    "**Caution**: the `size` attribute represents the number of elements in the `ndarray`, not the matrix's size:"
   ]
  },
  {
   "cell_type": "code",
   "execution_count": 32,
   "metadata": {},
   "outputs": [
    {
     "data": {
      "text/plain": [
       "6"
      ]
     },
     "execution_count": 32,
     "metadata": {},
     "output_type": "execute_result"
    }
   ],
   "source": [
    "A.size"
   ]
  },
  {
   "cell_type": "markdown",
   "metadata": {},
   "source": [
    "## Element indexing\n",
    "The number located in the $i^{th}$ row, and $j^{th}$ column of a matrix $X$ is sometimes noted $X_{i,j}$ or $X_{ij}$, but there is no standard notation, so people often prefer to explicitely name the elements, like this: \"*let $X = (x_{i,j})_{1 ≤ i ≤ m, 1 ≤ j ≤ n}$*\". This means that $X$ is equal to:\n",
    "\n",
    "$X = \\begin{bmatrix}\n",
    "  x_{1,1} & x_{1,2} & x_{1,3} & \\cdots & x_{1,n}\\\\\n",
    "  x_{2,1} & x_{2,2} & x_{2,3} & \\cdots & x_{2,n}\\\\\n",
    "  x_{3,1} & x_{3,2} & x_{3,3} & \\cdots & x_{3,n}\\\\\n",
    "  \\vdots & \\vdots & \\vdots & \\ddots & \\vdots \\\\\n",
    "  x_{m,1} & x_{m,2} & x_{m,3} & \\cdots & x_{m,n}\\\\\n",
    "\\end{bmatrix}$\n",
    "\n",
    "However in this notebook we will use the $X_{i,j}$ notation, as it matches fairly well NumPy's notation. Note that in math indices generally start at 1, but in programming they usually start at 0. So to access $A_{2,3}$ programmatically, we need to write this:"
   ]
  },
  {
   "cell_type": "code",
   "execution_count": 33,
   "metadata": {},
   "outputs": [
    {
     "data": {
      "text/plain": [
       "60"
      ]
     },
     "execution_count": 33,
     "metadata": {},
     "output_type": "execute_result"
    }
   ],
   "source": [
    "A[1,2]  # 2nd row, 3rd column"
   ]
  },
  {
   "cell_type": "markdown",
   "metadata": {},
   "source": [
    "The $i^{th}$ row vector is sometimes noted $M_i$ or $M_{i,*}$, but again there is no standard notation so people often prefer to explicitely define their own names, for example: \"*let **x**$_{i}$ be the $i^{th}$ row vector of matrix $X$*\". We will use the $M_{i,*}$, for the same reason as above. For example, to access $A_{2,*}$ (ie. $A$'s 2nd row vector):"
   ]
  },
  {
   "cell_type": "code",
   "execution_count": 34,
   "metadata": {},
   "outputs": [
    {
     "data": {
      "text/plain": [
       "array([40, 50, 60])"
      ]
     },
     "execution_count": 34,
     "metadata": {},
     "output_type": "execute_result"
    }
   ],
   "source": [
    "A[1, :]  # 2nd row vector (as a 1D array)"
   ]
  },
  {
   "cell_type": "markdown",
   "metadata": {},
   "source": [
    "Similarly, the $j^{th}$ column vector is sometimes noted $M^j$ or $M_{*,j}$, but there is no standard notation. We will use $M_{*,j}$. For example, to access $A_{*,3}$ (ie. $A$'s 3rd column vector):"
   ]
  },
  {
   "cell_type": "code",
   "execution_count": 35,
   "metadata": {},
   "outputs": [
    {
     "data": {
      "text/plain": [
       "array([30, 60])"
      ]
     },
     "execution_count": 35,
     "metadata": {},
     "output_type": "execute_result"
    }
   ],
   "source": [
    "A[:, 2]  # 3rd column vector (as a 1D array)"
   ]
  },
  {
   "cell_type": "markdown",
   "metadata": {},
   "source": [
    "Note that the result is actually a one-dimensional NumPy array: there is no such thing as a *vertical* or *horizontal* one-dimensional array. If you need to actually represent a row vector as a one-row matrix (ie. a 2D NumPy array), or a column vector as a one-column matrix, then you need to use a slice instead of an integer when accessing the row or column, for example:"
   ]
  },
  {
   "cell_type": "code",
   "execution_count": 36,
   "metadata": {},
   "outputs": [
    {
     "data": {
      "text/plain": [
       "array([[40, 50, 60]])"
      ]
     },
     "execution_count": 36,
     "metadata": {},
     "output_type": "execute_result"
    }
   ],
   "source": [
    "A[1:2, :]  # rows 2 to 3 (excluded): this returns row 2 as a one-row matrix"
   ]
  },
  {
   "cell_type": "code",
   "execution_count": 37,
   "metadata": {},
   "outputs": [
    {
     "data": {
      "text/plain": [
       "array([[30],\n",
       "       [60]])"
      ]
     },
     "execution_count": 37,
     "metadata": {},
     "output_type": "execute_result"
    }
   ],
   "source": [
    "A[:, 2:3]  # columns 3 to 4 (excluded): this returns column 3 as a one-column matrix"
   ]
  },
  {
   "cell_type": "markdown",
   "metadata": {},
   "source": [
    "## Square, triangular, diagonal and identity matrices\n",
    "A **square matrix** is a matrix that has the same number of rows and columns, for example a $3 \\times 3$ matrix:\n",
    "\n",
    "\\begin{bmatrix}\n",
    "  4 & 9 & 2 \\\\\n",
    "  3 & 5 & 7 \\\\\n",
    "  8 & 1 & 6\n",
    "\\end{bmatrix}"
   ]
  },
  {
   "cell_type": "markdown",
   "metadata": {},
   "source": [
    "An **upper triangular matrix** is a special kind of square matrix where all the elements *below* the main diagonal (top-left to bottom-right) are zero, for example:\n",
    "\n",
    "\\begin{bmatrix}\n",
    "  4 & 9 & 2 \\\\\n",
    "  0 & 5 & 7 \\\\\n",
    "  0 & 0 & 6\n",
    "\\end{bmatrix}"
   ]
  },
  {
   "cell_type": "markdown",
   "metadata": {},
   "source": [
    "Similarly, a **lower triangular matrix** is a square matrix where all elements *above* the main diagonal are zero, for example:\n",
    "\n",
    "\\begin{bmatrix}\n",
    "  4 & 0 & 0 \\\\\n",
    "  3 & 5 & 0 \\\\\n",
    "  8 & 1 & 6\n",
    "\\end{bmatrix}"
   ]
  },
  {
   "cell_type": "markdown",
   "metadata": {},
   "source": [
    "A **triangular matrix** is one that is either lower triangular or upper triangular."
   ]
  },
  {
   "cell_type": "markdown",
   "metadata": {},
   "source": [
    "A matrix that is both upper and lower triangular is called a **diagonal matrix**, for example:\n",
    "\n",
    "\\begin{bmatrix}\n",
    "  4 & 0 & 0 \\\\\n",
    "  0 & 5 & 0 \\\\\n",
    "  0 & 0 & 6\n",
    "\\end{bmatrix}\n",
    "\n",
    "You can construct a diagonal matrix using NumPy's `diag` function:"
   ]
  },
  {
   "cell_type": "code",
   "execution_count": 38,
   "metadata": {},
   "outputs": [
    {
     "data": {
      "text/plain": [
       "array([[4, 0, 0],\n",
       "       [0, 5, 0],\n",
       "       [0, 0, 6]])"
      ]
     },
     "execution_count": 38,
     "metadata": {},
     "output_type": "execute_result"
    }
   ],
   "source": [
    "np.diag([4, 5, 6])"
   ]
  },
  {
   "cell_type": "markdown",
   "metadata": {},
   "source": [
    "If you pass a matrix to the `diag` function, it will happily extract the diagonal values:"
   ]
  },
  {
   "cell_type": "code",
   "execution_count": 39,
   "metadata": {},
   "outputs": [
    {
     "data": {
      "text/plain": [
       "array([1, 5, 9])"
      ]
     },
     "execution_count": 39,
     "metadata": {},
     "output_type": "execute_result"
    }
   ],
   "source": [
    "D = np.array([\n",
    "        [1, 2, 3],\n",
    "        [4, 5, 6],\n",
    "        [7, 8, 9],\n",
    "    ])\n",
    "np.diag(D)"
   ]
  },
  {
   "cell_type": "markdown",
   "metadata": {},
   "source": [
    "Finally, the **identity matrix** of size $n$, noted $I_n$, is a diagonal matrix of size $n \\times n$ with $1$'s in the main diagonal, for example $I_3$:\n",
    "\n",
    "\\begin{bmatrix}\n",
    "  1 & 0 & 0 \\\\\n",
    "  0 & 1 & 0 \\\\\n",
    "  0 & 0 & 1\n",
    "\\end{bmatrix}\n",
    "\n",
    "Numpy's `eye` function returns the identity matrix of the desired size:"
   ]
  },
  {
   "cell_type": "code",
   "execution_count": 40,
   "metadata": {},
   "outputs": [
    {
     "data": {
      "text/plain": [
       "array([[ 1.,  0.,  0.],\n",
       "       [ 0.,  1.,  0.],\n",
       "       [ 0.,  0.,  1.]])"
      ]
     },
     "execution_count": 40,
     "metadata": {},
     "output_type": "execute_result"
    }
   ],
   "source": [
    "np.eye(3)"
   ]
  },
  {
   "cell_type": "markdown",
   "metadata": {},
   "source": [
    "The identity matrix is often noted simply $I$ (instead of $I_n$) when its size is clear given the context. It is called the *identity* matrix because multiplying a matrix with it leaves the matrix unchanged as we will see below."
   ]
  },
  {
   "cell_type": "markdown",
   "metadata": {},
   "source": [
    "## Adding matrices\n",
    "If two matrices $Q$ and $R$ have the same size $m \\times n$, they can be added together. Addition is performed *elementwise*: the result is also a $m \\times n$ matrix $S$ where each element is the sum of the elements at the corresponding position: $S_{i,j} = Q_{i,j} + R_{i,j}$\n",
    "\n",
    "$S =\n",
    "\\begin{bmatrix}\n",
    "  Q_{11} + R_{11} & Q_{12} + R_{12} & Q_{13} + R_{13} & \\cdots & Q_{1n} + R_{1n} \\\\\n",
    "  Q_{21} + R_{21} & Q_{22} + R_{22} & Q_{23} + R_{23} & \\cdots & Q_{2n} + R_{2n}  \\\\\n",
    "  Q_{31} + R_{31} & Q_{32} + R_{32} & Q_{33} + R_{33} & \\cdots & Q_{3n} + R_{3n}  \\\\\n",
    "  \\vdots & \\vdots & \\vdots & \\ddots & \\vdots \\\\\n",
    "  Q_{m1} + R_{m1} & Q_{m2} + R_{m2} & Q_{m3} + R_{m3} & \\cdots & Q_{mn} + R_{mn}  \\\\\n",
    "\\end{bmatrix}$\n",
    "\n",
    "For example, let's create a $2 \\times 3$ matric $B$ and compute $A + B$:"
   ]
  },
  {
   "cell_type": "code",
   "execution_count": 41,
   "metadata": {},
   "outputs": [
    {
     "data": {
      "text/plain": [
       "array([[1, 2, 3],\n",
       "       [4, 5, 6]])"
      ]
     },
     "execution_count": 41,
     "metadata": {},
     "output_type": "execute_result"
    }
   ],
   "source": [
    "B = np.array([[1,2,3], [4, 5, 6]])\n",
    "B"
   ]
  },
  {
   "cell_type": "code",
   "execution_count": 42,
   "metadata": {},
   "outputs": [
    {
     "data": {
      "text/plain": [
       "array([[10, 20, 30],\n",
       "       [40, 50, 60]])"
      ]
     },
     "execution_count": 42,
     "metadata": {},
     "output_type": "execute_result"
    }
   ],
   "source": [
    "A"
   ]
  },
  {
   "cell_type": "code",
   "execution_count": 43,
   "metadata": {},
   "outputs": [
    {
     "data": {
      "text/plain": [
       "array([[11, 22, 33],\n",
       "       [44, 55, 66]])"
      ]
     },
     "execution_count": 43,
     "metadata": {},
     "output_type": "execute_result"
    }
   ],
   "source": [
    "A + B"
   ]
  },
  {
   "cell_type": "markdown",
   "metadata": {},
   "source": [
    "**Addition is *commutative***, meaning that $A + B = B + A$:"
   ]
  },
  {
   "cell_type": "code",
   "execution_count": 44,
   "metadata": {},
   "outputs": [
    {
     "data": {
      "text/plain": [
       "array([[11, 22, 33],\n",
       "       [44, 55, 66]])"
      ]
     },
     "execution_count": 44,
     "metadata": {},
     "output_type": "execute_result"
    }
   ],
   "source": [
    "B + A"
   ]
  },
  {
   "cell_type": "markdown",
   "metadata": {},
   "source": [
    "**It is also *associative***, meaning that $A + (B + C) = (A + B) + C$:"
   ]
  },
  {
   "cell_type": "code",
   "execution_count": 45,
   "metadata": {},
   "outputs": [
    {
     "data": {
      "text/plain": [
       "array([[111, 222, 333],\n",
       "       [444, 555, 666]])"
      ]
     },
     "execution_count": 45,
     "metadata": {},
     "output_type": "execute_result"
    }
   ],
   "source": [
    "C = np.array([[100,200,300], [400, 500, 600]])\n",
    "\n",
    "A + (B + C)"
   ]
  },
  {
   "cell_type": "code",
   "execution_count": 46,
   "metadata": {},
   "outputs": [
    {
     "data": {
      "text/plain": [
       "array([[111, 222, 333],\n",
       "       [444, 555, 666]])"
      ]
     },
     "execution_count": 46,
     "metadata": {},
     "output_type": "execute_result"
    }
   ],
   "source": [
    "(A + B) + C"
   ]
  },
  {
   "cell_type": "markdown",
   "metadata": {},
   "source": [
    "## Scalar multiplication\n",
    "A matrix $M$ can be multiplied by a scalar $\\lambda$. The result is noted $\\lambda M$, and it is a matrix of the same size as $M$ with all elements multiplied by $\\lambda$:\n",
    "\n",
    "$\\lambda M =\n",
    "\\begin{bmatrix}\n",
    "  \\lambda \\times M_{11} & \\lambda \\times M_{12} & \\lambda \\times M_{13} & \\cdots & \\lambda \\times M_{1n} \\\\\n",
    "  \\lambda \\times M_{21} & \\lambda \\times M_{22} & \\lambda \\times M_{23} & \\cdots & \\lambda \\times M_{2n} \\\\\n",
    "  \\lambda \\times M_{31} & \\lambda \\times M_{32} & \\lambda \\times M_{33} & \\cdots & \\lambda \\times M_{3n} \\\\\n",
    "  \\vdots & \\vdots & \\vdots & \\ddots & \\vdots \\\\\n",
    "  \\lambda \\times M_{m1} & \\lambda \\times M_{m2} & \\lambda \\times M_{m3} & \\cdots & \\lambda \\times M_{mn} \\\\\n",
    "\\end{bmatrix}$\n",
    "\n",
    "A more concise way of writing this is:\n",
    "\n",
    "$(\\lambda M)_{i,j} = \\lambda (M)_{i,j}$\n",
    "\n",
    "In NumPy, simply use the `*` operator to multiply a matrix by a scalar. For example:"
   ]
  },
  {
   "cell_type": "code",
   "execution_count": 47,
   "metadata": {},
   "outputs": [
    {
     "data": {
      "text/plain": [
       "array([[ 20,  40,  60],\n",
       "       [ 80, 100, 120]])"
      ]
     },
     "execution_count": 47,
     "metadata": {},
     "output_type": "execute_result"
    }
   ],
   "source": [
    "2 * A"
   ]
  },
  {
   "cell_type": "markdown",
   "metadata": {},
   "source": [
    "Scalar multiplication is also defined on the right hand side, and gives the same result: $M \\lambda = \\lambda M$. For example:"
   ]
  },
  {
   "cell_type": "code",
   "execution_count": 48,
   "metadata": {},
   "outputs": [
    {
     "data": {
      "text/plain": [
       "array([[ 20,  40,  60],\n",
       "       [ 80, 100, 120]])"
      ]
     },
     "execution_count": 48,
     "metadata": {},
     "output_type": "execute_result"
    }
   ],
   "source": [
    "A * 2"
   ]
  },
  {
   "cell_type": "markdown",
   "metadata": {},
   "source": [
    "This makes scalar multiplication **commutative**.\n",
    "\n",
    "It is also **associative**, meaning that $\\alpha (\\beta M) = (\\alpha \\times \\beta) M$, where $\\alpha$ and $\\beta$ are scalars. For example:"
   ]
  },
  {
   "cell_type": "code",
   "execution_count": 49,
   "metadata": {},
   "outputs": [
    {
     "data": {
      "text/plain": [
       "array([[ 60, 120, 180],\n",
       "       [240, 300, 360]])"
      ]
     },
     "execution_count": 49,
     "metadata": {},
     "output_type": "execute_result"
    }
   ],
   "source": [
    "2 * (3 * A)"
   ]
  },
  {
   "cell_type": "code",
   "execution_count": 50,
   "metadata": {},
   "outputs": [
    {
     "data": {
      "text/plain": [
       "array([[ 60, 120, 180],\n",
       "       [240, 300, 360]])"
      ]
     },
     "execution_count": 50,
     "metadata": {},
     "output_type": "execute_result"
    }
   ],
   "source": [
    "(2 * 3) * A"
   ]
  },
  {
   "cell_type": "markdown",
   "metadata": {},
   "source": [
    "Finally, it is **distributive over addition** of matrices, meaning that $\\lambda (Q + R) = \\lambda Q + \\lambda R$:"
   ]
  },
  {
   "cell_type": "code",
   "execution_count": 51,
   "metadata": {},
   "outputs": [
    {
     "data": {
      "text/plain": [
       "array([[ 22,  44,  66],\n",
       "       [ 88, 110, 132]])"
      ]
     },
     "execution_count": 51,
     "metadata": {},
     "output_type": "execute_result"
    }
   ],
   "source": [
    "2 * (A + B)"
   ]
  },
  {
   "cell_type": "code",
   "execution_count": 52,
   "metadata": {},
   "outputs": [
    {
     "data": {
      "text/plain": [
       "array([[ 22,  44,  66],\n",
       "       [ 88, 110, 132]])"
      ]
     },
     "execution_count": 52,
     "metadata": {},
     "output_type": "execute_result"
    }
   ],
   "source": [
    "2 * A + 2 * B"
   ]
  },
  {
   "cell_type": "markdown",
   "metadata": {},
   "source": [
    "## Matrix multiplication\n",
    "So far, matrix operations have been rather intuitive. But multiplying matrices is a bit more involved.\n",
    "\n",
    "A matrix $Q$ of size $m \\times n$ can be multiplied by a matrix $R$ of size $n \\times q$. It is noted simply $QR$ without multiplication sign or dot. The result $P$ is an $m \\times q$ matrix where each element is computed as a sum of products:\n",
    "\n",
    "$P_{i,j} = \\sum_{k=1}^n{Q_{i,k} \\times R_{k,j}}$\n",
    "\n",
    "The element at position $i,j$ in the resulting matrix is the sum of the products of elements in row $i$ of matrix $Q$ by the elements in column $j$ of matrix $R$.\n",
    "\n",
    "$P =\n",
    "\\begin{bmatrix}\n",
    "Q_{11} R_{11} + Q_{12} R_{21} + \\cdots + Q_{1n} R_{n1} &\n",
    "  Q_{11} R_{12} + Q_{12} R_{22} + \\cdots + Q_{1n} R_{n2} &\n",
    "    \\cdots &\n",
    "      Q_{11} R_{1q} + Q_{12} R_{2q} + \\cdots + Q_{1n} R_{nq} \\\\\n",
    "Q_{21} R_{11} + Q_{22} R_{21} + \\cdots + Q_{2n} R_{n1} &\n",
    "  Q_{21} R_{12} + Q_{22} R_{22} + \\cdots + Q_{2n} R_{n2} &\n",
    "    \\cdots &\n",
    "      Q_{21} R_{1q} + Q_{22} R_{2q} + \\cdots + Q_{2n} R_{nq} \\\\\n",
    "  \\vdots & \\vdots & \\ddots & \\vdots \\\\\n",
    "Q_{m1} R_{11} + Q_{m2} R_{21} + \\cdots + Q_{mn} R_{n1} &\n",
    "  Q_{m1} R_{12} + Q_{m2} R_{22} + \\cdots + Q_{mn} R_{n2} &\n",
    "    \\cdots &\n",
    "      Q_{m1} R_{1q} + Q_{m2} R_{2q} + \\cdots + Q_{mn} R_{nq}\n",
    "\\end{bmatrix}$\n",
    "\n",
    "You may notice that each element $P_{i,j}$ is the dot product of the row vector $Q_{i,*}$ and the column vector $R_{*,j}$:\n",
    "\n",
    "$P_{i,j} = Q_{i,*} \\cdot R_{*,j}$\n",
    "\n",
    "So we can rewrite $P$ more concisely as:\n",
    "\n",
    "$P =\n",
    "\\begin{bmatrix}\n",
    "Q_{1,*} \\cdot R_{*,1} & Q_{1,*} \\cdot R_{*,2} & \\cdots & Q_{1,*} \\cdot R_{*,q} \\\\\n",
    "Q_{2,*} \\cdot R_{*,1} & Q_{2,*} \\cdot R_{*,2} & \\cdots & Q_{2,*} \\cdot R_{*,q} \\\\\n",
    "\\vdots & \\vdots & \\ddots & \\vdots \\\\\n",
    "Q_{m,*} \\cdot R_{*,1} & Q_{m,*} \\cdot R_{*,2} & \\cdots & Q_{m,*} \\cdot R_{*,q}\n",
    "\\end{bmatrix}$\n"
   ]
  },
  {
   "cell_type": "markdown",
   "metadata": {},
   "source": [
    "Let's multiply two matrices in NumPy, using `ndarray`'s `dot` method:\n",
    "\n",
    "$E = AD = \\begin{bmatrix}\n",
    "  10 & 20 & 30 \\\\\n",
    "  40 & 50 & 60\n",
    "\\end{bmatrix} \n",
    "\\begin{bmatrix}\n",
    "  2 & 3 & 5 & 7 \\\\\n",
    "  11 & 13 & 17 & 19 \\\\\n",
    "  23 & 29 & 31 & 37\n",
    "\\end{bmatrix} = \n",
    "\\begin{bmatrix}\n",
    "  930 & 1160 & 1320 & 1560 \\\\\n",
    "  2010 & 2510 & 2910 & 3450\n",
    "\\end{bmatrix}$"
   ]
  },
  {
   "cell_type": "code",
   "execution_count": 53,
   "metadata": {},
   "outputs": [
    {
     "data": {
      "text/plain": [
       "array([[ 930, 1160, 1320, 1560],\n",
       "       [2010, 2510, 2910, 3450]])"
      ]
     },
     "execution_count": 53,
     "metadata": {},
     "output_type": "execute_result"
    }
   ],
   "source": [
    "D = np.array([\n",
    "        [ 2,  3,  5,  7],\n",
    "        [11, 13, 17, 19],\n",
    "        [23, 29, 31, 37]\n",
    "    ])\n",
    "E = A.dot(D)\n",
    "E"
   ]
  },
  {
   "cell_type": "markdown",
   "metadata": {},
   "source": [
    "Let's check this result by looking at one element, just to be sure: looking at $E_{2,3}$ for example, we need to multiply elements in $A$'s $2^{nd}$ row by elements in $D$'s $3^{rd}$ column, and sum up these products:"
   ]
  },
  {
   "cell_type": "code",
   "execution_count": 54,
   "metadata": {},
   "outputs": [
    {
     "data": {
      "text/plain": [
       "2910"
      ]
     },
     "execution_count": 54,
     "metadata": {},
     "output_type": "execute_result"
    }
   ],
   "source": [
    "40*5 + 50*17 + 60*31"
   ]
  },
  {
   "cell_type": "code",
   "execution_count": 55,
   "metadata": {},
   "outputs": [
    {
     "data": {
      "text/plain": [
       "2910"
      ]
     },
     "execution_count": 55,
     "metadata": {},
     "output_type": "execute_result"
    }
   ],
   "source": [
    "E[1,2]  # row 2, column 3"
   ]
  },
  {
   "cell_type": "markdown",
   "metadata": {},
   "source": [
    "Looks good! You can check the other elements until you get used to the algorithm.\n",
    "\n",
    "We multiplied a $2 \\times 3$ matrix by a $3 \\times 4$ matrix, so the result is a $2 \\times 4$ matrix. The first matrix's number of columns has to be equal to the second matrix's number of rows. If we try to multiple $D$ by $A$, we get an error because D has 4 columns while A has 2 rows:"
   ]
  },
  {
   "cell_type": "code",
   "execution_count": 56,
   "metadata": {},
   "outputs": [
    {
     "name": "stdout",
     "output_type": "stream",
     "text": [
      "ValueError: shapes (3,4) and (2,3) not aligned: 4 (dim 1) != 2 (dim 0)\n"
     ]
    }
   ],
   "source": [
    "try:\n",
    "    D.dot(A)\n",
    "except ValueError as e:\n",
    "    print(\"ValueError:\", e)"
   ]
  },
  {
   "cell_type": "markdown",
   "metadata": {},
   "source": [
    "This illustrates the fact that **matrix multiplication is *NOT* commutative**: in general $QR ≠ RQ$\n",
    "\n",
    "In fact, $QR$ and $RQ$ are only *both* defined if $Q$ has size $m \\times n$ and $R$ has size $n \\times m$. Let's look at an example where both *are* defined and show that they are (in general) *NOT* equal:"
   ]
  },
  {
   "cell_type": "code",
   "execution_count": 57,
   "metadata": {},
   "outputs": [
    {
     "data": {
      "text/plain": [
       "array([[400, 130],\n",
       "       [940, 310]])"
      ]
     },
     "execution_count": 57,
     "metadata": {},
     "output_type": "execute_result"
    }
   ],
   "source": [
    "F = np.array([\n",
    "        [5,2],\n",
    "        [4,1],\n",
    "        [9,3]\n",
    "    ])\n",
    "A.dot(F)"
   ]
  },
  {
   "cell_type": "code",
   "execution_count": 58,
   "metadata": {},
   "outputs": [
    {
     "data": {
      "text/plain": [
       "array([[130, 200, 270],\n",
       "       [ 80, 130, 180],\n",
       "       [210, 330, 450]])"
      ]
     },
     "execution_count": 58,
     "metadata": {},
     "output_type": "execute_result"
    }
   ],
   "source": [
    "F.dot(A)"
   ]
  },
  {
   "cell_type": "markdown",
   "metadata": {},
   "source": [
    "On the other hand, **matrix multiplication *is* associative**, meaning that $Q(RS) = (QR)S$. Let's create a $4 \\times 5$ matrix $G$ to illustrate this:"
   ]
  },
  {
   "cell_type": "code",
   "execution_count": 59,
   "metadata": {},
   "outputs": [
    {
     "data": {
      "text/plain": [
       "array([[21640, 28390, 27320, 31140, 13570],\n",
       "       [47290, 62080, 60020, 68580, 29500]])"
      ]
     },
     "execution_count": 59,
     "metadata": {},
     "output_type": "execute_result"
    }
   ],
   "source": [
    "G = np.array([\n",
    "        [8,  7,  4,  2,  5],\n",
    "        [2,  5,  1,  0,  5],\n",
    "        [9, 11, 17, 21,  0],\n",
    "        [0,  1,  0,  1,  2]])\n",
    "A.dot(D).dot(G)     # (AB)G"
   ]
  },
  {
   "cell_type": "code",
   "execution_count": 60,
   "metadata": {},
   "outputs": [
    {
     "data": {
      "text/plain": [
       "array([[21640, 28390, 27320, 31140, 13570],\n",
       "       [47290, 62080, 60020, 68580, 29500]])"
      ]
     },
     "execution_count": 60,
     "metadata": {},
     "output_type": "execute_result"
    }
   ],
   "source": [
    "A.dot(D.dot(G))     # A(BG)"
   ]
  },
  {
   "cell_type": "markdown",
   "metadata": {},
   "source": [
    "It is also ***distributive* over addition** of matrices, meaning that $(Q + R)S = QS + RS$. For example:"
   ]
  },
  {
   "cell_type": "code",
   "execution_count": 61,
   "metadata": {},
   "outputs": [
    {
     "data": {
      "text/plain": [
       "array([[1023, 1276, 1452, 1716],\n",
       "       [2211, 2761, 3201, 3795]])"
      ]
     },
     "execution_count": 61,
     "metadata": {},
     "output_type": "execute_result"
    }
   ],
   "source": [
    "(A + B).dot(D)"
   ]
  },
  {
   "cell_type": "code",
   "execution_count": 62,
   "metadata": {},
   "outputs": [
    {
     "data": {
      "text/plain": [
       "array([[1023, 1276, 1452, 1716],\n",
       "       [2211, 2761, 3201, 3795]])"
      ]
     },
     "execution_count": 62,
     "metadata": {},
     "output_type": "execute_result"
    }
   ],
   "source": [
    "A.dot(D) + B.dot(D)"
   ]
  },
  {
   "cell_type": "markdown",
   "metadata": {},
   "source": [
    "The product of a matrix $M$ by the identity matrix (of matching size) results in the same matrix $M$. More formally, if $M$ is an $m \\times n$ matrix, then:\n",
    "\n",
    "$M I_n = I_m M = M$\n",
    "\n",
    "This is generally written more concisely (since the size of the identity matrices is unambiguous given the context):\n",
    "\n",
    "$MI = IM = M$\n",
    "\n",
    "For example:"
   ]
  },
  {
   "cell_type": "code",
   "execution_count": 63,
   "metadata": {},
   "outputs": [
    {
     "data": {
      "text/plain": [
       "array([[ 10.,  20.,  30.],\n",
       "       [ 40.,  50.,  60.]])"
      ]
     },
     "execution_count": 63,
     "metadata": {},
     "output_type": "execute_result"
    }
   ],
   "source": [
    "A.dot(np.eye(3))"
   ]
  },
  {
   "cell_type": "code",
   "execution_count": 64,
   "metadata": {},
   "outputs": [
    {
     "data": {
      "text/plain": [
       "array([[ 10.,  20.,  30.],\n",
       "       [ 40.,  50.,  60.]])"
      ]
     },
     "execution_count": 64,
     "metadata": {},
     "output_type": "execute_result"
    }
   ],
   "source": [
    "np.eye(2).dot(A)"
   ]
  },
  {
   "cell_type": "markdown",
   "metadata": {},
   "source": [
    "**Caution**: NumPy's `*` operator performs elementwise multiplication, *NOT* a matrix multiplication:"
   ]
  },
  {
   "cell_type": "code",
   "execution_count": 65,
   "metadata": {
    "scrolled": true
   },
   "outputs": [
    {
     "data": {
      "text/plain": [
       "array([[ 10,  40,  90],\n",
       "       [160, 250, 360]])"
      ]
     },
     "execution_count": 65,
     "metadata": {},
     "output_type": "execute_result"
    }
   ],
   "source": [
    "A * B   # NOT a matrix multiplication"
   ]
  },
  {
   "cell_type": "markdown",
   "metadata": {},
   "source": [
    "**The @ infix operator**\n",
    "\n",
    "Python 3.5 [introduced](https://docs.python.org/3/whatsnew/3.5.html#pep-465-a-dedicated-infix-operator-for-matrix-multiplication) the `@` infix operator for matrix multiplication, and NumPy 1.10 added support for it. If you are using Python 3.5+ and NumPy 1.10+, you can simply write `A @ D` instead of `A.dot(D)`, making your code much more readable (but less portable). This operator also works for vector dot products."
   ]
  },
  {
   "cell_type": "code",
   "execution_count": 66,
   "metadata": {},
   "outputs": [
    {
     "name": "stdout",
     "output_type": "stream",
     "text": [
      "Python version: 3.5.3\n",
      "Numpy version: 1.12.1\n"
     ]
    }
   ],
   "source": [
    "import sys\n",
    "print(\"Python version: {}.{}.{}\".format(*sys.version_info))\n",
    "print(\"Numpy version:\", np.version.version)\n",
    "\n",
    "# Uncomment the following line if your Python version is ≥3.5\n",
    "# and your NumPy version is ≥1.10:\n",
    "\n",
    "#A @ D"
   ]
  },
  {
   "cell_type": "markdown",
   "metadata": {},
   "source": [
    "Note: `Q @ R` is actually equivalent to `Q.__matmul__(R)` which is implemented by NumPy as `np.matmul(Q, R)`, not as `Q.dot(R)`. The main difference is that `matmul` does not support scalar multiplication, while `dot` does, so you can write `Q.dot(3)`, which is equivalent to `Q * 3`, but you cannot write `Q @ 3` ([more details](http://stackoverflow.com/a/34142617/38626))."
   ]
  },
  {
   "cell_type": "markdown",
   "metadata": {},
   "source": [
    "## Matrix transpose\n",
    "The transpose of a matrix $M$ is a matrix noted $M^T$ such that the $i^{th}$ row in $M^T$ is equal to the $i^{th}$ column in $M$:\n",
    "\n",
    "$ A^T =\n",
    "\\begin{bmatrix}\n",
    "  10 & 20 & 30 \\\\\n",
    "  40 & 50 & 60\n",
    "\\end{bmatrix}^T =\n",
    "\\begin{bmatrix}\n",
    "  10 & 40 \\\\\n",
    "  20 & 50 \\\\\n",
    "  30 & 60\n",
    "\\end{bmatrix}$\n",
    "\n",
    "In other words, ($A^T)_{i,j}$ = $A_{j,i}$\n",
    "\n",
    "Obviously, if $M$ is an $m \\times n$ matrix, then $M^T$ is an $n \\times m$ matrix.\n",
    "\n",
    "Note: there are a few other notations, such as $M^t$, $M′$, or ${^t}M$.\n",
    "\n",
    "In NumPy, a matrix's transpose can be obtained simply using the `T` attribute:"
   ]
  },
  {
   "cell_type": "code",
   "execution_count": 67,
   "metadata": {},
   "outputs": [
    {
     "data": {
      "text/plain": [
       "array([[10, 20, 30],\n",
       "       [40, 50, 60]])"
      ]
     },
     "execution_count": 67,
     "metadata": {},
     "output_type": "execute_result"
    }
   ],
   "source": [
    "A"
   ]
  },
  {
   "cell_type": "code",
   "execution_count": 68,
   "metadata": {},
   "outputs": [
    {
     "data": {
      "text/plain": [
       "array([[10, 40],\n",
       "       [20, 50],\n",
       "       [30, 60]])"
      ]
     },
     "execution_count": 68,
     "metadata": {},
     "output_type": "execute_result"
    }
   ],
   "source": [
    "A.T"
   ]
  },
  {
   "cell_type": "markdown",
   "metadata": {},
   "source": [
    "As you might expect, transposing a matrix twice returns the original matrix:"
   ]
  },
  {
   "cell_type": "code",
   "execution_count": 69,
   "metadata": {},
   "outputs": [
    {
     "data": {
      "text/plain": [
       "array([[10, 20, 30],\n",
       "       [40, 50, 60]])"
      ]
     },
     "execution_count": 69,
     "metadata": {},
     "output_type": "execute_result"
    }
   ],
   "source": [
    "A.T.T"
   ]
  },
  {
   "cell_type": "markdown",
   "metadata": {},
   "source": [
    "Transposition is distributive over addition of matrices, meaning that $(Q + R)^T = Q^T + R^T$. For example:"
   ]
  },
  {
   "cell_type": "code",
   "execution_count": 70,
   "metadata": {},
   "outputs": [
    {
     "data": {
      "text/plain": [
       "array([[11, 44],\n",
       "       [22, 55],\n",
       "       [33, 66]])"
      ]
     },
     "execution_count": 70,
     "metadata": {},
     "output_type": "execute_result"
    }
   ],
   "source": [
    "(A + B).T"
   ]
  },
  {
   "cell_type": "code",
   "execution_count": 71,
   "metadata": {},
   "outputs": [
    {
     "data": {
      "text/plain": [
       "array([[11, 44],\n",
       "       [22, 55],\n",
       "       [33, 66]])"
      ]
     },
     "execution_count": 71,
     "metadata": {},
     "output_type": "execute_result"
    }
   ],
   "source": [
    "A.T + B.T"
   ]
  },
  {
   "cell_type": "markdown",
   "metadata": {},
   "source": [
    "Moreover, $(Q \\cdot R)^T = R^T \\cdot Q^T$. Note that the order is reversed. For example:"
   ]
  },
  {
   "cell_type": "code",
   "execution_count": 72,
   "metadata": {},
   "outputs": [
    {
     "data": {
      "text/plain": [
       "array([[ 930, 2010],\n",
       "       [1160, 2510],\n",
       "       [1320, 2910],\n",
       "       [1560, 3450]])"
      ]
     },
     "execution_count": 72,
     "metadata": {},
     "output_type": "execute_result"
    }
   ],
   "source": [
    "(A.dot(D)).T"
   ]
  },
  {
   "cell_type": "code",
   "execution_count": 73,
   "metadata": {},
   "outputs": [
    {
     "data": {
      "text/plain": [
       "array([[ 930, 2010],\n",
       "       [1160, 2510],\n",
       "       [1320, 2910],\n",
       "       [1560, 3450]])"
      ]
     },
     "execution_count": 73,
     "metadata": {},
     "output_type": "execute_result"
    }
   ],
   "source": [
    "D.T.dot(A.T)"
   ]
  },
  {
   "cell_type": "markdown",
   "metadata": {},
   "source": [
    "A **symmetric matrix** $M$ is defined as a matrix that is equal to its transpose: $M^T = M$. This definition implies that it must be a square matrix whose elements are symmetric relative to the main diagonal, for example:\n",
    "\n",
    "\\begin{bmatrix}\n",
    "  17 & 22 & 27 & 49 \\\\\n",
    "  22 & 29 & 36 & 0 \\\\\n",
    "  27 & 36 & 45 & 2 \\\\\n",
    "  49 & 0 & 2 & 99\n",
    "\\end{bmatrix}\n",
    "\n",
    "The product of a matrix by its transpose is always a symmetric matrix, for example:"
   ]
  },
  {
   "cell_type": "code",
   "execution_count": 74,
   "metadata": {},
   "outputs": [
    {
     "data": {
      "text/plain": [
       "array([[  87,  279,  547],\n",
       "       [ 279,  940, 1860],\n",
       "       [ 547, 1860, 3700]])"
      ]
     },
     "execution_count": 74,
     "metadata": {},
     "output_type": "execute_result"
    }
   ],
   "source": [
    "D.dot(D.T)"
   ]
  },
  {
   "cell_type": "markdown",
   "metadata": {
    "collapsed": true
   },
   "source": [
    "## Converting 1D arrays to 2D arrays in NumPy\n",
    "As we mentionned earlier, in NumPy (as opposed to Matlab, for example), 1D really means 1D: there is no such thing as a vertical 1D-array or a horizontal 1D-array. So you should not be surprised to see that transposing a 1D array does not do anything:"
   ]
  },
  {
   "cell_type": "code",
   "execution_count": 75,
   "metadata": {},
   "outputs": [
    {
     "data": {
      "text/plain": [
       "array([2, 5])"
      ]
     },
     "execution_count": 75,
     "metadata": {},
     "output_type": "execute_result"
    }
   ],
   "source": [
    "u"
   ]
  },
  {
   "cell_type": "code",
   "execution_count": 76,
   "metadata": {},
   "outputs": [
    {
     "data": {
      "text/plain": [
       "array([2, 5])"
      ]
     },
     "execution_count": 76,
     "metadata": {},
     "output_type": "execute_result"
    }
   ],
   "source": [
    "u.T"
   ]
  },
  {
   "cell_type": "markdown",
   "metadata": {},
   "source": [
    "We want to convert $\\textbf{u}$ into a row vector before transposing it. There are a few ways to do this:"
   ]
  },
  {
   "cell_type": "code",
   "execution_count": 77,
   "metadata": {},
   "outputs": [
    {
     "data": {
      "text/plain": [
       "array([[2, 5]])"
      ]
     },
     "execution_count": 77,
     "metadata": {},
     "output_type": "execute_result"
    }
   ],
   "source": [
    "u_row = np.array([u])\n",
    "u_row"
   ]
  },
  {
   "cell_type": "markdown",
   "metadata": {},
   "source": [
    "Notice the extra square brackets: this is a 2D array with just one row (ie. a 1x2 matrix). In other words it really is a **row vector**."
   ]
  },
  {
   "cell_type": "code",
   "execution_count": 78,
   "metadata": {},
   "outputs": [
    {
     "data": {
      "text/plain": [
       "array([[2, 5]])"
      ]
     },
     "execution_count": 78,
     "metadata": {},
     "output_type": "execute_result"
    }
   ],
   "source": [
    "u[np.newaxis, :]"
   ]
  },
  {
   "cell_type": "markdown",
   "metadata": {},
   "source": [
    "This quite explicit: we are asking for a new vertical axis, keeping the existing data as the horizontal axis."
   ]
  },
  {
   "cell_type": "code",
   "execution_count": 79,
   "metadata": {},
   "outputs": [
    {
     "data": {
      "text/plain": [
       "array([[2, 5]])"
      ]
     },
     "execution_count": 79,
     "metadata": {},
     "output_type": "execute_result"
    }
   ],
   "source": [
    "u[np.newaxis]"
   ]
  },
  {
   "cell_type": "markdown",
   "metadata": {},
   "source": [
    "This is equivalent, but a little less explicit."
   ]
  },
  {
   "cell_type": "code",
   "execution_count": 80,
   "metadata": {},
   "outputs": [
    {
     "data": {
      "text/plain": [
       "array([[2, 5]])"
      ]
     },
     "execution_count": 80,
     "metadata": {},
     "output_type": "execute_result"
    }
   ],
   "source": [
    "u[None]"
   ]
  },
  {
   "cell_type": "markdown",
   "metadata": {},
   "source": [
    "This is the shortest version, but you probably want to avoid it because it is unclear. The reason it works is that `np.newaxis` is actually equal to `None`, so this is equivalent to the previous version.\n",
    "\n",
    "Ok, now let's transpose our row vector:"
   ]
  },
  {
   "cell_type": "code",
   "execution_count": 81,
   "metadata": {},
   "outputs": [
    {
     "data": {
      "text/plain": [
       "array([[2],\n",
       "       [5]])"
      ]
     },
     "execution_count": 81,
     "metadata": {},
     "output_type": "execute_result"
    }
   ],
   "source": [
    "u_row.T"
   ]
  },
  {
   "cell_type": "markdown",
   "metadata": {},
   "source": [
    "Great! We now have a nice **column vector**.\n",
    "\n",
    "Rather than creating a row vector then transposing it, it is also possible to convert a 1D array directly into a column vector:"
   ]
  },
  {
   "cell_type": "code",
   "execution_count": 82,
   "metadata": {},
   "outputs": [
    {
     "data": {
      "text/plain": [
       "array([[2],\n",
       "       [5]])"
      ]
     },
     "execution_count": 82,
     "metadata": {},
     "output_type": "execute_result"
    }
   ],
   "source": [
    "u[:, np.newaxis]"
   ]
  },
  {
   "cell_type": "markdown",
   "metadata": {},
   "source": [
    "## Plotting a matrix\n",
    "We have already seen that vectors can been represented as points or arrows in N-dimensional space. Is there a good graphical representation of matrices? Well you can simply see a matrix as a list of vectors, so plotting a matrix results in many points or arrows. For example, let's create a $2 \\times 4$ matrix `P` and plot it as points:"
   ]
  },
  {
   "cell_type": "code",
   "execution_count": 83,
   "metadata": {},
   "outputs": [
    {
     "data": {
      "image/png": "iVBORw0KGgoAAAANSUhEUgAAAXQAAAEACAYAAACj0I2EAAAABHNCSVQICAgIfAhkiAAAAAlwSFlz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\n",
      "text/plain": [
       "<matplotlib.figure.Figure at 0x7f6e32d8af60>"
      ]
     },
     "metadata": {},
     "output_type": "display_data"
    }
   ],
   "source": [
    "P = np.array([\n",
    "        [3.0, 4.0, 1.0, 4.6],\n",
    "        [0.2, 3.5, 2.0, 0.5]\n",
    "    ])\n",
    "x_coords_P, y_coords_P = P\n",
    "plt.scatter(x_coords_P, y_coords_P)\n",
    "plt.axis([0, 5, 0, 4])\n",
    "plt.show()"
   ]
  },
  {
   "cell_type": "markdown",
   "metadata": {},
   "source": [
    "Of course we could also have stored the same 4 vectors as row vectors instead of column vectors, resulting in a $4 \\times 2$ matrix (the transpose of $P$, in fact). It is really an arbitrary choice.\n",
    "\n",
    "Since the vectors are ordered, you can see the matrix as a path and represent it with connected dots:"
   ]
  },
  {
   "cell_type": "code",
   "execution_count": 84,
   "metadata": {},
   "outputs": [
    {
     "data": {
      "image/png": "iVBORw0KGgoAAAANSUhEUgAAAXQAAAEACAYAAACj0I2EAAAABHNCSVQICAgIfAhkiAAAAAlwSFlz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\n4TjnLfdIPwAAAABJRU5ErkJggg==\n",
      "text/plain": [
       "<matplotlib.figure.Figure at 0x7f6e32d74d30>"
      ]
     },
     "metadata": {},
     "output_type": "display_data"
    }
   ],
   "source": [
    "plt.plot(x_coords_P, y_coords_P, \"bo\")\n",
    "plt.plot(x_coords_P, y_coords_P, \"b--\")\n",
    "plt.axis([0, 5, 0, 4])\n",
    "plt.grid()\n",
    "plt.show()"
   ]
  },
  {
   "cell_type": "markdown",
   "metadata": {},
   "source": [
    "Or you can represent it as a polygon: matplotlib's `Polygon` class expects an $n \\times 2$ NumPy array, not a $2 \\times n$ array, so we just need to give it $P^T$:"
   ]
  },
  {
   "cell_type": "code",
   "execution_count": 85,
   "metadata": {},
   "outputs": [
    {
     "data": {
      "image/png": "iVBORw0KGgoAAAANSUhEUgAAAXQAAAEACAYAAACj0I2EAAAABHNCSVQICAgIfAhkiAAAAAlwSFlz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\nAAAAAElFTkSuQmCC\n",
      "text/plain": [
       "<matplotlib.figure.Figure at 0x7f6e330592b0>"
      ]
     },
     "metadata": {},
     "output_type": "display_data"
    }
   ],
   "source": [
    "from matplotlib.patches import Polygon\n",
    "plt.gca().add_artist(Polygon(P.T))\n",
    "plt.axis([0, 5, 0, 4])\n",
    "plt.grid()\n",
    "plt.show()"
   ]
  },
  {
   "cell_type": "markdown",
   "metadata": {},
   "source": [
    "## Geometric applications of matrix operations\n",
    "We saw earlier that vector addition results in a geometric translation, vector multiplication by a scalar results in rescaling (zooming in or out, centered on the origin), and vector dot product results in projecting a vector onto another vector, rescaling and measuring the resulting coordinate.\n",
    "\n",
    "Similarly, matrix operations have very useful geometric applications."
   ]
  },
  {
   "cell_type": "markdown",
   "metadata": {},
   "source": [
    "### Addition = multiple geometric translations\n",
    "First, adding two matrices together is equivalent to adding all their vectors together. For example, let's create a $2 \\times 4$ matrix $H$ and add it to $P$, and look at the result:"
   ]
  },
  {
   "cell_type": "code",
   "execution_count": 86,
   "metadata": {},
   "outputs": [
    {
     "data": {
      "image/png": "iVBORw0KGgoAAAANSUhEUgAAAXQAAAEACAYAAACj0I2EAAAABHNCSVQICAgIfAhkiAAAAAlwSFlz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\nQjfGmATxf0KNOgvBmMdIAAAAAElFTkSuQmCC\n",
      "text/plain": [
       "<matplotlib.figure.Figure at 0x7f6e3302d4a8>"
      ]
     },
     "metadata": {},
     "output_type": "display_data"
    }
   ],
   "source": [
    "H = np.array([\n",
    "        [ 0.5, -0.2, 0.2, -0.1],\n",
    "        [ 0.4,  0.4, 1.5, 0.6]\n",
    "    ])\n",
    "P_moved = P + H\n",
    "\n",
    "plt.gca().add_artist(Polygon(P.T, alpha=0.2))\n",
    "plt.gca().add_artist(Polygon(P_moved.T, alpha=0.3, color=\"r\"))\n",
    "for vector, origin in zip(H.T, P.T):\n",
    "    plot_vector2d(vector, origin=origin)\n",
    "\n",
    "plt.text(2.2, 1.8, \"$P$\", color=\"b\", fontsize=18)\n",
    "plt.text(2.0, 3.2, \"$P+H$\", color=\"r\", fontsize=18)\n",
    "plt.text(2.5, 0.5, \"$H_{*,1}$\", color=\"k\", fontsize=18)\n",
    "plt.text(4.1, 3.5, \"$H_{*,2}$\", color=\"k\", fontsize=18)\n",
    "plt.text(0.4, 2.6, \"$H_{*,3}$\", color=\"k\", fontsize=18)\n",
    "plt.text(4.4, 0.2, \"$H_{*,4}$\", color=\"k\", fontsize=18)\n",
    "\n",
    "plt.axis([0, 5, 0, 4])\n",
    "plt.grid()\n",
    "plt.show()"
   ]
  },
  {
   "cell_type": "markdown",
   "metadata": {},
   "source": [
    "If we add a matrix full of identical vectors, we get a simple geometric translation:"
   ]
  },
  {
   "cell_type": "code",
   "execution_count": 87,
   "metadata": {},
   "outputs": [
    {
     "data": {
      "image/png": "iVBORw0KGgoAAAANSUhEUgAAAXQAAAEACAYAAACj0I2EAAAABHNCSVQICAgIfAhkiAAAAAlwSFlz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\nAAAAAElFTkSuQmCC\n",
      "text/plain": [
       "<matplotlib.figure.Figure at 0x7f6e32faaba8>"
      ]
     },
     "metadata": {},
     "output_type": "display_data"
    }
   ],
   "source": [
    "H2 = np.array([\n",
    "        [-0.5, -0.5, -0.5, -0.5],\n",
    "        [ 0.4,  0.4,  0.4,  0.4]\n",
    "    ])\n",
    "P_translated = P + H2\n",
    "\n",
    "plt.gca().add_artist(Polygon(P.T, alpha=0.2))\n",
    "plt.gca().add_artist(Polygon(P_translated.T, alpha=0.3, color=\"r\"))\n",
    "for vector, origin in zip(H2.T, P.T):\n",
    "    plot_vector2d(vector, origin=origin)\n",
    "\n",
    "plt.axis([0, 5, 0, 4])\n",
    "plt.grid()\n",
    "plt.show()"
   ]
  },
  {
   "cell_type": "markdown",
   "metadata": {},
   "source": [
    "Although matrices can only be added together if they have the same size, NumPy allows adding a row vector or a column vector to a matrix: this is called *broadcasting* and is explained in further details in the [NumPy tutorial](tools_numpy.ipynb). We could have obtained the same result as above with:"
   ]
  },
  {
   "cell_type": "code",
   "execution_count": 88,
   "metadata": {},
   "outputs": [
    {
     "data": {
      "text/plain": [
       "array([[ 2.5,  3.5,  0.5,  4.1],\n",
       "       [ 0.6,  3.9,  2.4,  0.9]])"
      ]
     },
     "execution_count": 88,
     "metadata": {},
     "output_type": "execute_result"
    }
   ],
   "source": [
    "P + [[-0.5], [0.4]]  # same as P + H2, thanks to NumPy broadcasting"
   ]
  },
  {
   "cell_type": "markdown",
   "metadata": {},
   "source": [
    "### Scalar multiplication\n",
    "Multiplying a matrix by a scalar results in all its vectors being multiplied by that scalar, so unsurprisingly, the geometric result is a rescaling of the entire figure. For example, let's rescale our polygon by a factor of 60% (zooming out, centered on the origin):"
   ]
  },
  {
   "cell_type": "code",
   "execution_count": 89,
   "metadata": {},
   "outputs": [
    {
     "data": {
      "image/png": "iVBORw0KGgoAAAANSUhEUgAAAXQAAAEACAYAAACj0I2EAAAABHNCSVQICAgIfAhkiAAAAAlwSFlz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\n",
      "text/plain": [
       "<matplotlib.figure.Figure at 0x7f6e32cdd5c0>"
      ]
     },
     "metadata": {},
     "output_type": "display_data"
    }
   ],
   "source": [
    "def plot_transformation(P_before, P_after, text_before, text_after, axis = [0, 5, 0, 4], arrows=False):\n",
    "    if arrows:\n",
    "        for vector_before, vector_after in zip(P_before.T, P_after.T):\n",
    "            plot_vector2d(vector_before, color=\"blue\", linestyle=\"--\")\n",
    "            plot_vector2d(vector_after, color=\"red\", linestyle=\"-\")\n",
    "    plt.gca().add_artist(Polygon(P_before.T, alpha=0.2))\n",
    "    plt.gca().add_artist(Polygon(P_after.T, alpha=0.3, color=\"r\"))\n",
    "    plt.text(P_before[0].mean(), P_before[1].mean(), text_before, fontsize=18, color=\"blue\")\n",
    "    plt.text(P_after[0].mean(), P_after[1].mean(), text_after, fontsize=18, color=\"red\")\n",
    "    plt.axis(axis)\n",
    "    plt.grid()\n",
    "\n",
    "P_rescaled = 0.60 * P\n",
    "plot_transformation(P, P_rescaled, \"$P$\", \"$0.6 P$\", arrows=True)\n",
    "plt.show()"
   ]
  },
  {
   "cell_type": "markdown",
   "metadata": {},
   "source": [
    "### Matrix multiplication – Projection onto an axis\n",
    "Matrix multiplication is more complex to visualize, but it is also the most powerful tool in the box.\n",
    "\n",
    "Let's start simple, by defining a $1 \\times 2$ matrix $U = \\begin{bmatrix} 1 & 0 \\end{bmatrix}$. This row vector is just the horizontal unit vector."
   ]
  },
  {
   "cell_type": "code",
   "execution_count": 90,
   "metadata": {
    "collapsed": true
   },
   "outputs": [],
   "source": [
    "U = np.array([[1, 0]])"
   ]
  },
  {
   "cell_type": "markdown",
   "metadata": {},
   "source": [
    "Now let's look at the dot product $U \\cdot P$:"
   ]
  },
  {
   "cell_type": "code",
   "execution_count": 91,
   "metadata": {},
   "outputs": [
    {
     "data": {
      "text/plain": [
       "array([[ 3. ,  4. ,  1. ,  4.6]])"
      ]
     },
     "execution_count": 91,
     "metadata": {},
     "output_type": "execute_result"
    }
   ],
   "source": [
    "U.dot(P)"
   ]
  },
  {
   "cell_type": "markdown",
   "metadata": {},
   "source": [
    "These are the horizontal coordinates of the vectors in $P$. In other words, we just projected $P$ onto the horizontal axis:"
   ]
  },
  {
   "cell_type": "code",
   "execution_count": 92,
   "metadata": {},
   "outputs": [
    {
     "data": {
      "image/png": "iVBORw0KGgoAAAANSUhEUgAAAXQAAAEACAYAAACj0I2EAAAABHNCSVQICAgIfAhkiAAAAAlwSFlz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\n69CNMaZEWIdujDEl4v8D0e6TQPIUTz4AAAAASUVORK5CYII=\n",
      "text/plain": [
       "<matplotlib.figure.Figure at 0x7f6e32cc1be0>"
      ]
     },
     "metadata": {},
     "output_type": "display_data"
    }
   ],
   "source": [
    "def plot_projection(U, P):\n",
    "    U_P = U.dot(P)\n",
    "    \n",
    "    axis_end = 100 * U\n",
    "    plot_vector2d(axis_end[0], color=\"black\")\n",
    "\n",
    "    plt.gca().add_artist(Polygon(P.T, alpha=0.2))\n",
    "    for vector, proj_coordinate in zip(P.T, U_P.T):\n",
    "        proj_point = proj_coordinate * U\n",
    "        plt.plot(proj_point[0][0], proj_point[0][1], \"ro\")\n",
    "        plt.plot([vector[0], proj_point[0][0]], [vector[1], proj_point[0][1]], \"r--\")\n",
    "\n",
    "    plt.axis([0, 5, 0, 4])\n",
    "    plt.grid()\n",
    "    plt.show()\n",
    "\n",
    "plot_projection(U, P)"
   ]
  },
  {
   "cell_type": "markdown",
   "metadata": {},
   "source": [
    "We can actually project on any other axis by just replacing $U$ with any other unit vector. For example, let's project on the axis that is at a 30° angle above the horizontal axis:"
   ]
  },
  {
   "cell_type": "code",
   "execution_count": 93,
   "metadata": {},
   "outputs": [
    {
     "data": {
      "image/png": "iVBORw0KGgoAAAANSUhEUgAAAXQAAAEACAYAAACj0I2EAAAABHNCSVQICAgIfAhkiAAAAAlwSFlz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\n1VcH9P/LbrdTXb2WSZOGBcYnp6oqZ